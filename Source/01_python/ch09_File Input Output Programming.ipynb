{
 "cells": [
  {
   "cell_type": "code",
   "execution_count": 1,
   "id": "9db6eef2",
   "metadata": {},
   "outputs": [
    {
     "data": {
      "text/html": [
       "\n",
       "<style>\n",
       "div.container{width:90% !important;}\n",
       "div.cell.code_cell.rendered{width:100%;}\n",
       "div.input_prompt{padding:0px;}\n",
       "div.CodeMirror {font-family:Consolas; font-size:12pt;}\n",
       "div.text_cell_render.rendered_html{font-size:12pt;}\n",
       "div.output {font-size:12pt; font-weight:bold;}\n",
       "div.input {font-family:Consolas; font-size:12pt;}\n",
       "div.prompt {min-width:100px;}\n",
       "div#toc-wrapper{padding-top:120px;}\n",
       "div.text_cell_render ul li{font-size:12pt;padding:5px;}\n",
       "table.dataframe{font-size:12px;}\n",
       "</style>\n"
      ],
      "text/plain": [
       "<IPython.core.display.HTML object>"
      ]
     },
     "metadata": {},
     "output_type": "display_data"
    }
   ],
   "source": [
    "from IPython.display import display, HTML\n",
    "display(HTML(\"\"\"\n",
    "<style>\n",
    "div.container{width:90% !important;}\n",
    "div.cell.code_cell.rendered{width:100%;}\n",
    "div.input_prompt{padding:0px;}\n",
    "div.CodeMirror {font-family:Consolas; font-size:12pt;}\n",
    "div.text_cell_render.rendered_html{font-size:12pt;}\n",
    "div.output {font-size:12pt; font-weight:bold;}\n",
    "div.input {font-family:Consolas; font-size:12pt;}\n",
    "div.prompt {min-width:100px;}\n",
    "div#toc-wrapper{padding-top:120px;}\n",
    "div.text_cell_render ul li{font-size:12pt;padding:5px;}\n",
    "table.dataframe{font-size:12px;}\n",
    "</style>\n",
    "\"\"\"))"
   ]
  },
  {
   "cell_type": "markdown",
   "id": "439cd8bb",
   "metadata": {},
   "source": [
    "<b><font size=\"6\" Color=\"red\">ch09. \"File Input/Output Programming\"</font></b>\n",
    "\n",
    "- 파일 : txt, pickle (머신러닝 모델 저장, 배열 저장), csv, json, h5(딥러닝 모델 저장)\n",
    "- *.pickle처럼 확장자를 내 맘대로 저장할 수 있음.\n",
    "- h5보다 pickle이 더 쉽다?? pickle은 파이썬 전용이다\n",
    "\n",
    "    >    - pickle과 h5는 메모장에서 열리지 않음. 나머지는 열림\n",
    "    >    - 클래스만들고 저장한 객체를 저장하는 용도인 게 pickle\n",
    "    >    - *.h5 *.hdf5 *.pickle *.pkl *.data = 객체list, dictlist\n",
    "    >    - *.csv *.json 다수의 데이터 저장용도 > 실무에서 이 두 확장자를 제일 많이 씀 = 이 확장자로 제공하는 데이터가 많다는 뜻\n",
    "    >    - 가끔 *.h5 확장자를 대신해 *.hdf5를 쓰기도 함\n",
    "    >    - csv 파일 포맷은 띄어쓰기가 없다?\n",
    "    \n",
    "# 1절. txt파일에 데이터 저장하고 불러오기"
   ]
  },
  {
   "cell_type": "code",
   "execution_count": 65,
   "id": "c69b6653",
   "metadata": {},
   "outputs": [
    {
     "name": "stdout",
     "output_type": "stream",
     "text": [
      "쓰기 가능한지 : True\n"
     ]
    }
   ],
   "source": [
    "# mode = 'r' 또는 'rt' : 텍스트 읽기모드로 열기. 파일이 없을 경우 예외 발생\n",
    "# mode = 'w' 또는 'wt' : 텍스트 쓰기모드로 열기. 파일이 없어도 예외발생 안 하지만 폴더가 없을 경우 예외 발생 > 폴더가 있으면 만들어짐\n",
    "                        # 파일이 없으면 생성, but 이미 있으면 덮어씀\n",
    "# mode - 'a' 또는 'at' : 텍스트 추가모드로 열기. 폴더가 없을 경우 예외 발생\n",
    "                        # 파일이 없으면 생성. 파일이 있으면 뒤에 추가(\"append=뒤에 추가\"이니까)\n",
    "f = open('data/ch09.txt', mode='w') #encoding='cp949'(win에 기본이라 안 써도됨), 근데 utf8으로 만들고 싶으면 무조건 인코딩 써줘야 함.\n",
    "print('쓰기 가능한지 :', f.writable ())\n",
    "f.write('Hello\\nWorld\\n') #아무리 해봤자 close 안 하면 저장이 안되서 내용이 없다.\n",
    "f.close()"
   ]
  },
  {
   "cell_type": "code",
   "execution_count": 17,
   "id": "eb02232a",
   "metadata": {},
   "outputs": [
    {
     "name": "stdout",
     "output_type": "stream",
     "text": [
      "쓰기 가능한지 : True\n"
     ]
    }
   ],
   "source": [
    "# with 절을 사용하면 매번 close()코드를 쓸 필요없음\n",
    "with open('data/ch09.txt', 'wt') as f:\n",
    "    print('쓰기 가능한지 :', f.writable())\n",
    "    f.write('Python is easy. \\nPython is smart.\\n') #자동으로 닫혀진 거임."
   ]
  },
  {
   "cell_type": "code",
   "execution_count": 22,
   "id": "ae038994",
   "metadata": {},
   "outputs": [
    {
     "name": "stdout",
     "output_type": "stream",
     "text": [
      "프린트 함수로 파일 쓰기가 가능합니다-콘솔출력\n"
     ]
    }
   ],
   "source": [
    "with open('data/ch09.txt', 'a') as f:\n",
    "    print('프린트 함수로 파일 쓰기가 가능합니다-파일출력', file=f)\n",
    "    print('프린트 함수로 파일 쓰기가 가능합니다-콘솔출력')"
   ]
  },
  {
   "cell_type": "markdown",
   "id": "ebde26a9",
   "metadata": {},
   "source": [
    "- 한글 읽기/쓰기\n",
    "    > * cp949(한글완성형확장형) : open함수의 기본 인코딩(win)\n",
    "    > * utf-8(한글조합형) : 주피터노트북에서 열기\n",
    "- 사용함수? : read readline readlines write writeline writelines"
   ]
  },
  {
   "cell_type": "code",
   "execution_count": 6,
   "id": "98d205bc",
   "metadata": {},
   "outputs": [],
   "source": [
    "with open('data/ch09.txt', 'w', encoding='UTF-8') as f:\n",
    "    # 쓰기 방법1\n",
    "    f.write('박지성, 30, 서울\\n')\n",
    "    f.write('손흥민, 20, 서울\\n')\n",
    "    # 쓰기 방법2 제일 비추천. 왜 알려줌?\n",
    "    textlist = ['루니, 24, 런던\\n', '테베스, 22, 히혼\\n']\n",
    "    for line in textlist:\n",
    "        f.write(line)\n",
    "    # 쓰기 방법3 제일 추천 !!\n",
    "    f.writelines(textlist) # 리스트를 한꺼번에 write > 이 함수 쓰면 7열처럼 for문 돌릴 필요가 없음. > 히스토리 저장 시 가장 많이 쓰임\n"
   ]
  },
  {
   "cell_type": "code",
   "execution_count": 8,
   "id": "593331f1",
   "metadata": {},
   "outputs": [
    {
     "data": {
      "text/plain": [
       "'박지성, 30, 서울\\n손흥민, 20, 서울\\n루니, 24, 런던\\n테베스, 22, 히혼\\n루니, 24, 런던\\n테베스, 22, 히혼\\n'"
      ]
     },
     "execution_count": 8,
     "metadata": {},
     "output_type": "execute_result"
    }
   ],
   "source": [
    "#파일을 한꺼번에 읽어오기\n",
    "with open('data/ch09.txt', 'rt', encoding='utf-8') as f: #변수 이름은 내마음\n",
    "    filecontent = f.read()\n",
    "filecontent"
   ]
  },
  {
   "cell_type": "code",
   "execution_count": 1,
   "id": "1218ac24",
   "metadata": {},
   "outputs": [
    {
     "name": "stdout",
     "output_type": "stream",
     "text": [
      "박지성, 30, 서울\n",
      "손흥민, 20, 서울\n",
      "루니, 24, 런던\n",
      "테베스, 22, 히혼\n",
      "루니, 24, 런던\n",
      "테베스, 22, 히혼\n"
     ]
    }
   ],
   "source": [
    "# 파일을 한 줄 읽고 출력하고, 한 줄 읽고 출력, ...\n",
    "with open('data/ch09.txt', 'r', encoding='utf-8') as txtfile: #변수 이름은 내마음 #while 절을 벗어나면 txtfile이란 건 존재하지 않게 됨!?\n",
    "    line = txtfile.readline()\n",
    "    while line != '': #while이 빈스트링 아니니가 끝내버림\n",
    "        print(line, end='') #line에 \\n이 포함되어 있어 출력 시 개행은 제거\n",
    "        line = txtfile.readline() #while문으로 인해 line뿌리고 또 읽고 반복"
   ]
  },
  {
   "cell_type": "code",
   "execution_count": 2,
   "id": "c8e8cedc",
   "metadata": {},
   "outputs": [
    {
     "name": "stdout",
     "output_type": "stream",
     "text": [
      "['박지성, 30, 서울\\n', '손흥민, 20, 서울\\n', '루니, 24, 런던\\n', '테베스, 22, 히혼\\n', '루니, 24, 런던\\n', '테베스, 22, 히혼\\n']\n"
     ]
    }
   ],
   "source": [
    "# 파일을 한꺼번에 여러줄 읽어, 한줄씩 list에 담아 return\n",
    "with open('data/ch09.txt', 'r', encoding='utf-8') as txtfile: \n",
    "    lines = txtfile.readlines()\n",
    "print(lines)"
   ]
  },
  {
   "cell_type": "code",
   "execution_count": 3,
   "id": "670b0222",
   "metadata": {},
   "outputs": [
    {
     "name": "stdout",
     "output_type": "stream",
     "text": [
      "박지성, 30, 서울\n",
      "손흥민, 20, 서울\n",
      "루니, 24, 런던\n",
      "테베스, 22, 히혼\n",
      "루니, 24, 런던\n",
      "테베스, 22, 히혼\n"
     ]
    }
   ],
   "source": [
    "for line in lines:\n",
    "    print(line, end='')"
   ]
  },
  {
   "cell_type": "markdown",
   "id": "a0e6e3b2",
   "metadata": {},
   "source": [
    "# 2절. 피클을 이용한 객체 저장 및 불러오기\n",
    "- 머신러닝 모델저장, 배열저장, 객체저장\n",
    "\n",
    "## 2.1 형식이 있는 '텍스트 데이터' 불러오기\n",
    "- 텍스트 데이터를 특별한 형식을 갖는 객체로 불러올 것이다."
   ]
  },
  {
   "cell_type": "code",
   "execution_count": 9,
   "id": "622401b7",
   "metadata": {},
   "outputs": [
    {
     "name": "stdout",
     "output_type": "stream",
     "text": [
      "{'name': '홍길동', 'age': 20, 'email': 'kildong@hong.com', 'address': '서울시 관악구'}\n",
      "{'name': '홍길숙', 'age': 25, 'email': 'kilsuk1@hong.com', 'address': '서울시 영등포구'}\n",
      "{'name': '신길동', 'age': 30, 'email': 'shinkil@hong.com', 'address': '서울시 동작구'}\n"
     ]
    }
   ],
   "source": [
    "with open('data/ch09_member.txt', 'r', encoding='utf-8') as f:\n",
    "    lines = f.readlines()\n",
    "# print(lines)\n",
    "for line in lines:\n",
    "    # print(line)\n",
    "    data = line.split(', ')\n",
    "    # print(data)\n",
    "    name = data[0]\n",
    "    age = int(data[1])\n",
    "    email = data[2]\n",
    "    address = data[3].strip()\n",
    "    print({'name':name,\n",
    "          'age':age,\n",
    "          'email':email,\n",
    "          'address':address})"
   ]
  },
  {
   "cell_type": "code",
   "execution_count": 35,
   "id": "6a75f552",
   "metadata": {},
   "outputs": [],
   "source": [
    "# 멤버클래스로 멤버형객체를\n",
    "class Member:\n",
    "    def __init__(self, name, age, email, address):\n",
    "        self.name = name\n",
    "        self.age = age\n",
    "        self.email = email\n",
    "        self.address = address\n",
    "    def __str__(self): # __str__ 안 만들면 print(member1) 이런 걸 못함\n",
    "        return \"{}, {}, {}, {}\".format(self.name, self.age, self.email, self.address)\n",
    "#     def __eq__(self, other): #두개를 비교할거니까 무조건 매개변수가 있겠지? 라는 가정\n",
    "#         return self.name == other.name and \\\n",
    "#                 self.age == other.age and \\\n",
    "#                 self.email == other.email and \\\n",
    "#                 self.address == other.address\n",
    "    def __eq__(self, other): #이게 최고의 방법이네 !\n",
    "        return self.__str__() == other.__str__()\n",
    "    def as_dict(self):\n",
    "        '객체를 딕셔너리로 변환해 return' #json파일 저장 시 필요.\n",
    "        return self.__dict__\n",
    "#         return {'name':self.name,\n",
    "#                 'age':self.age,\n",
    "#                 'email':self.email,\n",
    "#                 'address':self.address}"
   ]
  },
  {
   "cell_type": "code",
   "execution_count": 36,
   "id": "b2fa1bbc",
   "metadata": {},
   "outputs": [
    {
     "name": "stdout",
     "output_type": "stream",
     "text": [
      "신길동, 30, shinkil@hong.com, 서울시 동작구\n",
      "신길동, 30, shinkil@hong.com, 서울시 동작구\n",
      "True\n",
      "True\n",
      "{'name': '신길동', 'age': 30, 'email': 'shinkil@hong.com', 'address': '서울시 동작구'}\n",
      "{'name': '신길동', 'age': 30, 'email': 'shinkil@hong.com', 'address': '서울시 동작구'}\n"
     ]
    }
   ],
   "source": [
    "member1 = Member(\"신길동\", 30, 'shinkil@hong.com', '서울시 동작구')\n",
    "member2 = Member(\"신길동\", 30, 'shinkil@hong.com', '서울시 동작구')\n",
    "print(member1.__str__())\n",
    "print(member2)\n",
    "print(member2==member1)  #기본적으로 주소가 같은지를 리턴함. 그래서 각기 다른 주소라 False\n",
    "print(member2.__eq__(member1))\n",
    "print(member1.__dict__)\n",
    "print(member1.as_dict())"
   ]
  },
  {
   "cell_type": "markdown",
   "id": "2f363cac",
   "metadata": {},
   "source": [
    "## 2.2 피클링\n",
    "\n",
    "- 객체리스트 -> 피클파일로 쓰기\n",
    "- 피클파일 -> 객체리스트로 읽기\n"
   ]
  },
  {
   "cell_type": "code",
   "execution_count": 40,
   "id": "d6300c0c",
   "metadata": {},
   "outputs": [
    {
     "name": "stdout",
     "output_type": "stream",
     "text": [
      "['홍길동', '20', 'kildong@hong.com', '서울시 관악구']\n",
      "['홍길숙', '25', 'kilsuk1@hong.com', '서울시 영등포구']\n",
      "['신길동', '30', 'shinkil@hong.com', '서울시 동작구']\n"
     ]
    }
   ],
   "source": [
    "# ch09_member.txt파일 -> 객체list, 딕셔너리 list로 읽어오기\n",
    "member_list = [] # Member 객체 list\n",
    "dict_list   = [] # 딕셔너리 list\n",
    "with open('data/ch09_member.txt', 'r', encoding='utf-8') as f:\n",
    "    lines = f.readlines()\n",
    "for line in lines:\n",
    "    data = line.strip().split(',') #.strip 해서 \\n을 날린 거임.\n",
    "    data = [item.strip() for item in data]\n",
    "    print(data)"
   ]
  },
  {
   "cell_type": "code",
   "execution_count": 49,
   "id": "10c328ad",
   "metadata": {},
   "outputs": [
    {
     "name": "stdout",
     "output_type": "stream",
     "text": [
      "홍길동, 20, kildong@hong.com, 서울시 관악구\n",
      "홍길숙, 25, kilsuk1@hong.com, 서울시 영등포구\n",
      "신길동, 30, shinkil@hong.com, 서울시 동작구\n"
     ]
    }
   ],
   "source": [
    "member_list = [] # Member 객체 list\n",
    "dict_list   = [] # 딕셔너리 list\n",
    "with open('data/ch09_member.txt', 'r', encoding='utf-8') as f:\n",
    "    lines = f.readlines()\n",
    "for line in lines:\n",
    "    data = line.strip().split(',') #.strip 해서 \\n을 날린 거임.\n",
    "    data = [item.strip() for item in data]\n",
    "    name = data[0]\n",
    "    age = int(data[1])\n",
    "    email = data[2]\n",
    "    address = data[3]\n",
    "    member = Member(name, age, email, address)\n",
    "    member_list.append(member)\n",
    "    dict_list.append(member.__dict__)\n",
    "for member in member_list: # 객체 lsit\n",
    "    print(member)"
   ]
  },
  {
   "cell_type": "code",
   "execution_count": 50,
   "id": "b28e1570",
   "metadata": {},
   "outputs": [],
   "source": [
    "# 피클링(확장자 : pkl, pickle, data)을 이용한 객체를 파일에 저장하기\n",
    "#               왼쪽순부터 많이 쓰긴함\n",
    "import pickle\n",
    "with open('data/ch09_member.pkl', 'wb') as f: # wb : 바이너리로 저장하여 인코딩 필요없음  #w모드는 텍스트 모드도 있고 바이너리모드도 있다.\n",
    "    pickle.dump(member_list, f)"
   ]
  },
  {
   "cell_type": "code",
   "execution_count": 52,
   "id": "d5e08b34",
   "metadata": {},
   "outputs": [
    {
     "data": {
      "text/plain": [
       "(2020725930304, 2020725960320)"
      ]
     },
     "execution_count": 52,
     "metadata": {},
     "output_type": "execute_result"
    }
   ],
   "source": [
    "# 피클링을 이용한 파일을 객체리스트로 읽기\n",
    "with open('data/ch09_member.pkl', 'rb') as p:\n",
    "    load_member_list = pickle.load(p) #주소는 다르지만 내용이 같음\n",
    "id(member_list), id(load_member_list)"
   ]
  },
  {
   "cell_type": "code",
   "execution_count": 53,
   "id": "005477f7",
   "metadata": {},
   "outputs": [
    {
     "name": "stdout",
     "output_type": "stream",
     "text": [
      "0\n",
      "1\n",
      "2\n"
     ]
    }
   ],
   "source": [
    "for idx in range(len(member_list)):\n",
    "    print(idx, '번째 비교 :', ())"
   ]
  },
  {
   "cell_type": "code",
   "execution_count": 56,
   "id": "0e828cf4",
   "metadata": {},
   "outputs": [
    {
     "name": "stdout",
     "output_type": "stream",
     "text": [
      "member: 홍길동, 20, kildong@hong.com, 서울시 관악구\n",
      "load_member : 홍길동, 20, kildong@hong.com, 서울시 관악구\n",
      "member: 홍길숙, 25, kilsuk1@hong.com, 서울시 영등포구\n",
      "load_member : 홍길숙, 25, kilsuk1@hong.com, 서울시 영등포구\n",
      "member: 신길동, 30, shinkil@hong.com, 서울시 동작구\n",
      "load_member : 신길동, 30, shinkil@hong.com, 서울시 동작구\n"
     ]
    }
   ],
   "source": [
    "for member, load_member in zip(member_list, load_member_list):\n",
    "    print('member:', member)\n",
    "    print('load_member :', load_member)"
   ]
  },
  {
   "cell_type": "code",
   "execution_count": 59,
   "id": "bd64bcf9",
   "metadata": {},
   "outputs": [
    {
     "name": "stdout",
     "output_type": "stream",
     "text": [
      "0 번째 비교: True\n",
      "1 번째 비교: True\n",
      "2 번째 비교: True\n"
     ]
    }
   ],
   "source": [
    "#인덱스까지 조작하고 싶으면 이뉴머레이트 활용\n",
    "for idx, (member, load_member) in enumerate(zip(member_list, load_member_list)):\n",
    "    print(idx, '번째 비교:', member==load_member)"
   ]
  },
  {
   "cell_type": "code",
   "execution_count": 60,
   "id": "404dca11",
   "metadata": {},
   "outputs": [
    {
     "data": {
      "text/plain": [
       "[True, True, True]"
      ]
     },
     "execution_count": 60,
     "metadata": {},
     "output_type": "execute_result"
    }
   ],
   "source": [
    "result = [] #비교결과(True/False)를  append\n",
    "for member, load_member in zip(member_list, load_member_list):\n",
    "    result.append(member==load_member)\n",
    "result"
   ]
  },
  {
   "cell_type": "code",
   "execution_count": 61,
   "id": "8d3597fb",
   "metadata": {},
   "outputs": [
    {
     "data": {
      "text/plain": [
       "True"
      ]
     },
     "execution_count": 61,
     "metadata": {},
     "output_type": "execute_result"
    }
   ],
   "source": [
    "all(result) #모든 요소들이 True인지 여부를 반환함"
   ]
  },
  {
   "cell_type": "code",
   "execution_count": 64,
   "id": "5981175a",
   "metadata": {},
   "outputs": [
    {
     "data": {
      "text/plain": [
       "False"
      ]
     },
     "execution_count": 64,
     "metadata": {},
     "output_type": "execute_result"
    }
   ],
   "source": [
    "all([True, True, 0]) #하나라도 False면 False임"
   ]
  },
  {
   "cell_type": "markdown",
   "id": "ad0c757b",
   "metadata": {},
   "source": [
    "# 3절. CSV 파일 읽기/쓰기\n",
    "- CSV파일의 자료를 리스트 데이터로 읽기/쓰기 (3.1과 3.2)\n",
    "- CSV파일의 자료를 딕셔너리 데이터로 읽기/쓰기 (3.3과 3.4)\n",
    "- CSV : comma separated version !!! \n",
    "- 사실상 csv파일은 데이터프레임 방식으로 읽는 걸 제일 많이 씀. 강의방식은 그냥 알아두기만\n",
    "\n",
    "## 3.1 reader"
   ]
  },
  {
   "cell_type": "code",
   "execution_count": 71,
   "id": "94ba6857",
   "metadata": {},
   "outputs": [
    {
     "data": {
      "text/plain": [
       "[['홍길동', '20', 'kildong@hong.com', '서울시 관악구'],\n",
       " ['김길동', '40', 'kimdong@hong.com', '서울시 영등포구'],\n",
       " ['신길동', '30', 'sindong@hong.com', '서울시 동작구']]"
      ]
     },
     "execution_count": 71,
     "metadata": {},
     "output_type": "execute_result"
    }
   ],
   "source": [
    "import csv\n",
    "with open('data/ch09_member1.csv', 'r', encoding='utf-8') as f:\n",
    "    reader = csv.reader(f) #reader라는 변수에 읽는 행동을 줌\n",
    "    result = list(reader)\n",
    "result"
   ]
  },
  {
   "cell_type": "code",
   "execution_count": 72,
   "id": "14ad2751",
   "metadata": {},
   "outputs": [
    {
     "name": "stdout",
     "output_type": "stream",
     "text": [
      "['홍길동', '20', 'kildong@hong.com', '서울시 관악구', '']\n",
      "['김길동', '40', 'kimdong@hong.com', '서울시 영등포구', '팀장']\n",
      "['신길동', '30', 'sindong@hong.com', '서울시 동작구', '']\n"
     ]
    }
   ],
   "source": [
    "#위와 인코딩 방법이다른 것\n",
    "with open('data/ch09_member1-cp.csv', 'r') as p:\n",
    "    reader = csv.reader(p)\n",
    "    for row in reader:\n",
    "        print(row)"
   ]
  },
  {
   "cell_type": "code",
   "execution_count": 77,
   "id": "bc8f3b60",
   "metadata": {},
   "outputs": [
    {
     "name": "stdout",
     "output_type": "stream",
     "text": [
      "['홍길동', 20.0, 'kildong@hong.com', '서울시 관악구']\n",
      "['김길동', 40.0, 'kimdong@hong.com', '서울시 영등포구']\n",
      "['신길동', 30.0, 'sindong@hong.com', '서울시 동작구']\n"
     ]
    }
   ],
   "source": [
    "#쿼트있는건 문자로 없으면 숫자로 받아라 = 쿼트 없는 데이터를 numeric으로\n",
    "with open('data/ch09_member1.csv', 'r', encoding='utf-8') as p:\n",
    "    reader = csv.reader(p,\n",
    "                        quoting=csv.QUOTE_NONNUMERIC)\n",
    "    for row in reader:\n",
    "        print(row)"
   ]
  },
  {
   "cell_type": "markdown",
   "id": "aeec94e7",
   "metadata": {},
   "source": [
    "##  3.2 writer\n",
    "- list -> csv로 저장"
   ]
  },
  {
   "cell_type": "code",
   "execution_count": 79,
   "id": "b053f7bb",
   "metadata": {},
   "outputs": [],
   "source": [
    "user_list = [['Di maria', 27, 'kildong@hong.com', 'Buenos Aires, Argentina'],\n",
    "            ['Michael Carrick', 32, 'kimdong@hong.com', 'London, England'],\n",
    "            ['Van persie', 33, 'sindong@hong.com', 'Einthowen, Netherlands']]"
   ]
  },
  {
   "cell_type": "code",
   "execution_count": 82,
   "id": "779d4493",
   "metadata": {},
   "outputs": [],
   "source": [
    "# newline='' 이 옵션 빼면 개행이 2번 이뤄짐\n",
    "try:\n",
    "    with open('data/ch09_member2-write.csv', 'w', newline='') as f:\n",
    "        writer = csv.writer(f)\n",
    "#         for user in user_list:       비추방법\n",
    "#             writer.writerow(user)\n",
    "        writer.writerows(user_list) #writerows 함수!?\n",
    "except FileNotFoundError as e:\n",
    "    print(e)"
   ]
  },
  {
   "cell_type": "markdown",
   "id": "60a79b4e",
   "metadata": {},
   "source": [
    "## 3.3 DictReader\n",
    "- CSV파일을 딕셔너리 데이터로 읽기"
   ]
  },
  {
   "cell_type": "code",
   "execution_count": 86,
   "id": "e664d4f0",
   "metadata": {},
   "outputs": [
    {
     "data": {
      "text/plain": [
       "[{'name': '홍길동',\n",
       "  'age': '20',\n",
       "  'email': 'h@h.com',\n",
       "  'address': '서울시 관악구',\n",
       "  'job': None},\n",
       " {'name': '신길동',\n",
       "  'age': '40',\n",
       "  'email': 's@h.com',\n",
       "  'address': '서울시 영등포구',\n",
       "  'job': '팀장'},\n",
       " {'name': '김길동',\n",
       "  'age': '30',\n",
       "  'email': 'k@h.com',\n",
       "  'address': '서울시 동작구',\n",
       "  'job': None}]"
      ]
     },
     "execution_count": 86,
     "metadata": {},
     "output_type": "execute_result"
    }
   ],
   "source": [
    "import csv\n",
    "#header가 있는 csv파일을 딕셔너리로 읽기(ch09_member3.csv파일에 헤더가 있다)\n",
    "with open('data/ch09_member3.csv', 'r', encoding='UTF-8') as k:\n",
    "    dict_reader = csv.DictReader(k)\n",
    "    result = list(dict_reader)\n",
    "result"
   ]
  },
  {
   "cell_type": "code",
   "execution_count": 87,
   "id": "bb651fc3",
   "metadata": {},
   "outputs": [
    {
     "name": "stdout",
     "output_type": "stream",
     "text": [
      "{'name': '홍길동', 'age': '20', 'email': 'h@h.com', 'address': '서울시 관악구', 'job': '없음'}\n",
      "{'name': '신길동', 'age': '40', 'email': 's@h.com', 'address': '서울시 영등포구', 'job': '팀장'}\n",
      "{'name': '김길동', 'age': '30', 'email': 'k@h.com', 'address': '서울시 동작구', 'job': '없음'}\n"
     ]
    }
   ],
   "source": [
    "with open('data/ch09_member3.csv', 'r', encoding='UTF-8') as k: #open함수는 기본적으로 cp949를 받아들임\n",
    "    dict_reader = csv.DictReader(k, restval='없음') #restval = 결측치\n",
    "    for row in dict_reader: \n",
    "        print(row)"
   ]
  },
  {
   "cell_type": "code",
   "execution_count": 88,
   "id": "c5902fec",
   "metadata": {},
   "outputs": [
    {
     "data": {
      "text/html": [
       "<div>\n",
       "<style scoped>\n",
       "    .dataframe tbody tr th:only-of-type {\n",
       "        vertical-align: middle;\n",
       "    }\n",
       "\n",
       "    .dataframe tbody tr th {\n",
       "        vertical-align: top;\n",
       "    }\n",
       "\n",
       "    .dataframe thead th {\n",
       "        text-align: right;\n",
       "    }\n",
       "</style>\n",
       "<table border=\"1\" class=\"dataframe\">\n",
       "  <thead>\n",
       "    <tr style=\"text-align: right;\">\n",
       "      <th></th>\n",
       "      <th>name</th>\n",
       "      <th>age</th>\n",
       "      <th>email</th>\n",
       "      <th>address</th>\n",
       "      <th>job</th>\n",
       "    </tr>\n",
       "  </thead>\n",
       "  <tbody>\n",
       "    <tr>\n",
       "      <th>0</th>\n",
       "      <td>홍길동</td>\n",
       "      <td>20</td>\n",
       "      <td>h@h.com</td>\n",
       "      <td>서울시 관악구</td>\n",
       "      <td>NaN</td>\n",
       "    </tr>\n",
       "    <tr>\n",
       "      <th>1</th>\n",
       "      <td>신길동</td>\n",
       "      <td>40</td>\n",
       "      <td>s@h.com</td>\n",
       "      <td>서울시 영등포구</td>\n",
       "      <td>팀장</td>\n",
       "    </tr>\n",
       "    <tr>\n",
       "      <th>2</th>\n",
       "      <td>김길동</td>\n",
       "      <td>30</td>\n",
       "      <td>k@h.com</td>\n",
       "      <td>서울시 동작구</td>\n",
       "      <td>NaN</td>\n",
       "    </tr>\n",
       "  </tbody>\n",
       "</table>\n",
       "</div>"
      ],
      "text/plain": [
       "  name  age    email   address  job\n",
       "0  홍길동   20  h@h.com   서울시 관악구  NaN\n",
       "1  신길동   40  s@h.com  서울시 영등포구   팀장\n",
       "2  김길동   30  k@h.com   서울시 동작구  NaN"
      ]
     },
     "execution_count": 88,
     "metadata": {},
     "output_type": "execute_result"
    }
   ],
   "source": [
    "# csv파일을 데이터프레임 데이터로 읽기\n",
    "import pandas as pd\n",
    "members = pd.read_csv('data/ch09_member3.csv') #판다스 이용시 기본인코딩 방식이 UTF8\n",
    "members"
   ]
  },
  {
   "cell_type": "code",
   "execution_count": 89,
   "id": "c197a1cb",
   "metadata": {},
   "outputs": [
    {
     "data": {
      "text/plain": [
       "pandas.core.frame.DataFrame"
      ]
     },
     "execution_count": 89,
     "metadata": {},
     "output_type": "execute_result"
    }
   ],
   "source": [
    "type(members)"
   ]
  },
  {
   "cell_type": "code",
   "execution_count": 90,
   "id": "47b39275",
   "metadata": {},
   "outputs": [
    {
     "data": {
      "text/html": [
       "<div>\n",
       "<style scoped>\n",
       "    .dataframe tbody tr th:only-of-type {\n",
       "        vertical-align: middle;\n",
       "    }\n",
       "\n",
       "    .dataframe tbody tr th {\n",
       "        vertical-align: top;\n",
       "    }\n",
       "\n",
       "    .dataframe thead th {\n",
       "        text-align: right;\n",
       "    }\n",
       "</style>\n",
       "<table border=\"1\" class=\"dataframe\">\n",
       "  <thead>\n",
       "    <tr style=\"text-align: right;\">\n",
       "      <th></th>\n",
       "      <th>name</th>\n",
       "      <th>age</th>\n",
       "      <th>email</th>\n",
       "      <th>address</th>\n",
       "      <th>job</th>\n",
       "    </tr>\n",
       "  </thead>\n",
       "  <tbody>\n",
       "    <tr>\n",
       "      <th>0</th>\n",
       "      <td>홍길동</td>\n",
       "      <td>20</td>\n",
       "      <td>h@h.com</td>\n",
       "      <td>서울시 관악구</td>\n",
       "      <td>None</td>\n",
       "    </tr>\n",
       "    <tr>\n",
       "      <th>1</th>\n",
       "      <td>신길동</td>\n",
       "      <td>40</td>\n",
       "      <td>s@h.com</td>\n",
       "      <td>서울시 영등포구</td>\n",
       "      <td>팀장</td>\n",
       "    </tr>\n",
       "    <tr>\n",
       "      <th>2</th>\n",
       "      <td>김길동</td>\n",
       "      <td>30</td>\n",
       "      <td>k@h.com</td>\n",
       "      <td>서울시 동작구</td>\n",
       "      <td>None</td>\n",
       "    </tr>\n",
       "  </tbody>\n",
       "</table>\n",
       "</div>"
      ],
      "text/plain": [
       "  name age    email   address   job\n",
       "0  홍길동  20  h@h.com   서울시 관악구  None\n",
       "1  신길동  40  s@h.com  서울시 영등포구    팀장\n",
       "2  김길동  30  k@h.com   서울시 동작구  None"
      ]
     },
     "execution_count": 90,
     "metadata": {},
     "output_type": "execute_result"
    }
   ],
   "source": [
    "pd.DataFrame(data=result)"
   ]
  },
  {
   "cell_type": "code",
   "execution_count": 92,
   "id": "4f41629c",
   "metadata": {},
   "outputs": [
    {
     "name": "stdout",
     "output_type": "stream",
     "text": [
      "{'Name': '홍길동', 'Age': '20', 'Email': 'kildong@hong.com', 'Address': '서울시 관악구', 'Job': ''}\n",
      "{'Name': '김길동', 'Age': '40', 'Email': 'kimdong@hong.com', 'Address': '서울시 영등포구', 'Job': '팀장'}\n",
      "{'Name': '신길동', 'Age': '30', 'Email': 'sindong@hong.com', 'Address': '서울시 동작구', 'Job': ''}\n"
     ]
    }
   ],
   "source": [
    "# header 가 없는 CSV 파일을 딕셔너리 데이터로 읽기(ch09_member1-cp.csv)\n",
    "with open('data/ch09_member1-cp.csv', 'r') as j:#cp949기 때문에 인코딩안함\n",
    "    dict_reader = csv.DictReader(j, fieldnames=['Name', 'Age', 'Email', 'Address', 'Job'])\n",
    "    for row in dict_reader:\n",
    "        print(row) #결측치가 빈스트링으로 들어감. 왜지?"
   ]
  },
  {
   "cell_type": "code",
   "execution_count": 95,
   "id": "1f87d3d9",
   "metadata": {},
   "outputs": [
    {
     "name": "stdout",
     "output_type": "stream",
     "text": [
      "{'Name': '홍길동', 'Age': '20', 'Email': 'kildong@hong.com', 'Address': '서울시 관악구', 'Poop': ['']}\n",
      "{'Name': '김길동', 'Age': '40', 'Email': 'kimdong@hong.com', 'Address': '서울시 영등포구', 'Poop': ['팀장']}\n",
      "{'Name': '신길동', 'Age': '30', 'Email': 'sindong@hong.com', 'Address': '서울시 동작구', 'Poop': ['']}\n"
     ]
    }
   ],
   "source": [
    "# header 가 없는 CSV 파일을 딕셔너리 데이터로 읽기(ch09_member1-cp.csv)\n",
    "with open('data/ch09_member1-cp.csv', 'r') as j:#cp949기 때문에 인코딩안함\n",
    "    dict_reader = csv.DictReader(j, fieldnames=['Name', 'Age', 'Email', 'Address'], restkey='Poop') #restkey = 나머지는 (~)로 한다 ~ 키값은 내맘\n",
    "    for row in dict_reader:\n",
    "        print(row)"
   ]
  },
  {
   "cell_type": "markdown",
   "id": "79d83b54",
   "metadata": {},
   "source": [
    "## 3.4 DictWriter\n",
    "- 딕셔너리 데이터(딕셔너리 list)를 csv파일로 쓰기"
   ]
  },
  {
   "cell_type": "code",
   "execution_count": 98,
   "id": "d9cbc6e3",
   "metadata": {},
   "outputs": [
    {
     "data": {
      "text/plain": [
       "[{'Name': 'Rooney', 'Age': '42', 'Email': 'wr@mu.com', 'Address': 'England'},\n",
       " {'Name': 'Evra', 'Age': '41', 'Email': 'pe@mu.com', 'Address': 'France'},\n",
       " {'Name': 'Vidic', 'Age': '43', 'Email': 'nv@mu.com', 'Address': 'Serbia'}]"
      ]
     },
     "execution_count": 98,
     "metadata": {},
     "output_type": "execute_result"
    }
   ],
   "source": [
    "user1 = {'Name': 'Rooney', 'Age': '42', 'Email': 'wr@mu.com', 'Address': 'England'}\n",
    "user2 = {'Name': 'Evra', 'Age': '41', 'Email': 'pe@mu.com', 'Address': 'France'}\n",
    "user3 = {'Name': 'Vidic', 'Age': '43', 'Email': 'nv@mu.com', 'Address': 'Serbia'}\n",
    "user_list = [user1, user2, user3]\n",
    "user_list"
   ]
  },
  {
   "cell_type": "code",
   "execution_count": 101,
   "id": "d4a158c6",
   "metadata": {},
   "outputs": [
    {
     "data": {
      "text/plain": [
       "dict_keys(['Name', 'Age', 'Email', 'Address'])"
      ]
     },
     "execution_count": 101,
     "metadata": {},
     "output_type": "execute_result"
    }
   ],
   "source": [
    "user1.keys()"
   ]
  },
  {
   "cell_type": "code",
   "execution_count": 108,
   "id": "b95e8030",
   "metadata": {},
   "outputs": [
    {
     "data": {
      "text/plain": [
       "['Name', 'Age', 'Email', 'Address']"
      ]
     },
     "execution_count": 108,
     "metadata": {},
     "output_type": "execute_result"
    }
   ],
   "source": [
    "fieldnames = list(user1.keys())\n",
    "fieldnames"
   ]
  },
  {
   "cell_type": "code",
   "execution_count": 112,
   "id": "f9ca5b7f",
   "metadata": {},
   "outputs": [],
   "source": [
    "with open('data/ch09_member4.csv', 'w', encoding='UTF-8', newline='') as y:\n",
    "    dict_writer = csv.DictWriter(y, fieldnames=fieldnames)\n",
    "    dict_writer.writeheader() # header 한 줄 쓰기 #여기까지 하면 헤더만 들어가있음. 헤더 쓰기 싫으면 빼셈\n",
    "#     for user in user_list:\n",
    "#         dict_writer.writerow(user) 개비추\n",
    "    dict_writer.writerows(user_list)"
   ]
  },
  {
   "cell_type": "markdown",
   "id": "b34d93e9",
   "metadata": {},
   "source": [
    "# 4절. JSON 파일에 저장하고 불러오기\n",
    "- pickle 파일처럼 저장할 땐 dump, 불러올 땐 load\n",
    "```\n",
    "[{'title':'국가정보원 화재', 'url':'http://~', 'content':'무시기무시기~'},\n",
    "{'title':'국가정보원 화재', 'url':'http://~', 'content':'무시기무시기~'},\n",
    "{'title':'국가정보원 화재', 'url':'http://~', 'content':'무시기무시기~'}]\n",
    "````\n",
    "\n",
    "## 4.1 JSON dump (파일에 저장)\n",
    "1. 딕셔너리 list를 json파일로 저장\n",
    "2. 객체 list를 json파일로 저장"
   ]
  },
  {
   "cell_type": "markdown",
   "id": "82397fbd",
   "metadata": {},
   "source": [
    "### (1) 딕셔너리 list를 json파일로 저장"
   ]
  },
  {
   "cell_type": "code",
   "execution_count": 129,
   "id": "8405cd98",
   "metadata": {},
   "outputs": [
    {
     "data": {
      "text/plain": [
       "[{'Name': '네이마르',\n",
       "  'Age': 32,\n",
       "  'Email': 'nm10@brazil.com',\n",
       "  'Address': 'Sao paolo'},\n",
       " {'Name': '호나우지뉴', 'Age': 48, 'Email': 'rd11@brazil.com', 'Address': 'Santos'},\n",
       " {'Name': '호비뉴', 'Age': 43, 'Email': 'rb9@brazil.com', 'Address': 'Rio'}]"
      ]
     },
     "execution_count": 129,
     "metadata": {},
     "output_type": "execute_result"
    }
   ],
   "source": [
    "data = [{'Name': '네이마르', 'Age': 32, 'Email': 'nm10@brazil.com', 'Address': 'Sao paolo'},\n",
    "       {'Name': '호나우지뉴', 'Age': 48, 'Email': 'rd11@brazil.com', 'Address': 'Santos'},\n",
    "       {'Name': '호비뉴', 'Age': 43, 'Email': 'rb9@brazil.com', 'Address': 'Rio'}]\n",
    "data"
   ]
  },
  {
   "cell_type": "code",
   "execution_count": 130,
   "id": "c6fd9d4f",
   "metadata": {},
   "outputs": [],
   "source": [
    "# ensure_ascii 옵션의 역할 : ASCII 코드를 넘어선 문자를 어떻게 처리할지\n",
    "# 기본값(True) : ASCII 코드 범위를 넘어선 글자는 유니코드로 저장\n",
    "# False : 비ASCII 문자는 원래 형태 그대로 저장.\n",
    "# 인슈어아스키 처리 없이 메모장으로 파일 열면 이상한 코드로 나옴\n",
    "import json\n",
    "with open('data/ch09_member1.json', 'w') as jsonfile:\n",
    "    json.dump(data, #딕셔너리 리스트\n",
    "             jsonfile, #파일 스트림\n",
    "             ensure_ascii=False, #False를 넣어줬기에 한글 그대로 노출됨.\n",
    "             indent='\\t') #들여쓰기 여부"
   ]
  },
  {
   "cell_type": "markdown",
   "id": "7ba7fe44",
   "metadata": {},
   "source": [
    "### (2) 객체 list를 json파일로 저장 (객체를 딕셔너리로 바꾸는 함수 필요)"
   ]
  },
  {
   "cell_type": "code",
   "execution_count": 139,
   "id": "b15882d4",
   "metadata": {},
   "outputs": [],
   "source": [
    "class Member:\n",
    "    def __init__(self, name, age, email, address):\n",
    "        self.name = name\n",
    "        self.age = age\n",
    "        self.email = email\n",
    "        self.address = address\n",
    "    def __str__(self): # __str__ 안 만들면 print(member1) 이런 걸 못함\n",
    "        return \"{}, {}, {}, {}\".format(self.name, self.age, self.email, self.address)\n",
    "    def __eq__(self, other): #이게 최고의 방법이네 !\n",
    "        return self.__str__() == other.__str__()\n",
    "    def as_dict(self):\n",
    "        '객체를 딕셔너리로 변환해 return' #json파일 저장 시 필요.\n",
    "        return self.__dict__"
   ]
  },
  {
   "cell_type": "code",
   "execution_count": 140,
   "id": "f93a9b0c",
   "metadata": {},
   "outputs": [
    {
     "data": {
      "text/plain": [
       "['Kane, 30, hk10@munich.com, Munchen',\n",
       " 'Reus, 32, mr7@dortmund.com, Dortmund',\n",
       " 'Eriksen, 34, ce10@hotspur.com, Tottenham']"
      ]
     },
     "execution_count": 140,
     "metadata": {},
     "output_type": "execute_result"
    }
   ],
   "source": [
    "member_list = [Member('Kane', 30, 'hk10@munich.com', 'Munchen'),\n",
    "              Member('Reus', 32, 'mr7@dortmund.com', 'Dortmund'),\n",
    "              Member('Eriksen', 34, 'ce10@hotspur.com', 'Tottenham')]\n",
    "[member.__str__() for member in member_list]"
   ]
  },
  {
   "cell_type": "code",
   "execution_count": 141,
   "id": "19d15531",
   "metadata": {},
   "outputs": [],
   "source": [
    "with open('data/ch09_member2.json', 'w', encoding='utf-8') as jsonfile:\n",
    "    json.dump(member_list, #첫번째 매개변수에 저장할 리스트(객체 리스트)\n",
    "             jsonfile,\n",
    "             ensure_ascii=False,\n",
    "             indent='\\t',\n",
    "             default=Member.as_dict) #객체를 딕셔너리 형태로 return하는 함수"
   ]
  },
  {
   "cell_type": "markdown",
   "id": "9c99ba55",
   "metadata": {},
   "source": [
    "## 4.2 JSON 파일 load(파일 읽기)\n",
    "\n",
    "### (1)  json파일을 딕셔너리 리스트로 읽기\n",
    "\n"
   ]
  },
  {
   "cell_type": "code",
   "execution_count": 142,
   "id": "d887358d",
   "metadata": {},
   "outputs": [
    {
     "data": {
      "text/plain": [
       "[{'Name': '네이마르',\n",
       "  'Age': 32,\n",
       "  'Email': 'nm10@brazil.com',\n",
       "  'Address': 'Sao paolo'},\n",
       " {'Name': '호나우지뉴', 'Age': 48, 'Email': 'rd11@brazil.com', 'Address': 'Santos'},\n",
       " {'Name': '호비뉴', 'Age': 43, 'Email': 'rb9@brazil.com', 'Address': 'Rio'}]"
      ]
     },
     "execution_count": 142,
     "metadata": {},
     "output_type": "execute_result"
    }
   ],
   "source": [
    "with open('data/ch09_member1.json', 'r') as jsonfile:\n",
    "    load_data = json.load(jsonfile)\n",
    "load_data"
   ]
  },
  {
   "cell_type": "code",
   "execution_count": 143,
   "id": "ca5d7bc2",
   "metadata": {},
   "outputs": [
    {
     "data": {
      "text/plain": [
       "(list, dict)"
      ]
     },
     "execution_count": 143,
     "metadata": {},
     "output_type": "execute_result"
    }
   ],
   "source": [
    "type(load_data), type(load_data[0])"
   ]
  },
  {
   "cell_type": "code",
   "execution_count": null,
   "id": "336f4df1",
   "metadata": {},
   "outputs": [],
   "source": []
  },
  {
   "cell_type": "markdown",
   "id": "0ad0a0e4",
   "metadata": {},
   "source": [
    "### (2) json파일을 객체 리스트로 읽기(딕셔너리를 객체로 return하는 함수가 필요)"
   ]
  },
  {
   "cell_type": "code",
   "execution_count": 150,
   "id": "dcca86a2",
   "metadata": {},
   "outputs": [],
   "source": [
    "# {'name':'홍', 'Age':3, 'Email':'h@h.com', 'Address':'설'} => Member('홍', 3, 'h@h', '설')\n",
    "def as_member(dic):\n",
    "    return Member(dic.get('name'), dic.get('age'), dic.get('email'), dic.get('address'))"
   ]
  },
  {
   "cell_type": "code",
   "execution_count": 151,
   "id": "bd247ac4",
   "metadata": {},
   "outputs": [
    {
     "name": "stdout",
     "output_type": "stream",
     "text": [
      "Kane, 30, hk10@munich.com, Munchen\n",
      "Reus, 32, mr7@dortmund.com, Dortmund\n",
      "Eriksen, 34, ce10@hotspur.com, Tottenham\n"
     ]
    }
   ],
   "source": [
    "with open('data/ch09_member2.json', 'r', encoding='utf-8') as jsonfile:\n",
    "    load_member_list = json.load(jsonfile,\n",
    "                                object_hook=as_member) #딕셔너리를 객체로 return하는 함수\n",
    "for load_member in load_member_list:\n",
    "    print(load_member)"
   ]
  },
  {
   "cell_type": "markdown",
   "id": "d87e6457",
   "metadata": {},
   "source": [
    "# 5절. 연습해보기"
   ]
  },
  {
   "cell_type": "code",
   "execution_count": 152,
   "id": "ab62c1d0",
   "metadata": {},
   "outputs": [],
   "source": [
    "# member_list => pkl 파일 => load_member_list:두 객체 리스트가 같은지 여부 검사(all함수)\n",
    "# member_list => json파일 => load_member_list : 두 객체 리스트가 같은지 여부 검사 (zip, all함수)"
   ]
  },
  {
   "cell_type": "code",
   "execution_count": null,
   "id": "410e9252",
   "metadata": {},
   "outputs": [],
   "source": [
    "# member_list => ch09_member2.json => load_member_list\n",
    "# member_list 와 load_member_list가 같은 내용인지 검사"
   ]
  },
  {
   "cell_type": "code",
   "execution_count": 176,
   "id": "f16b86f4",
   "metadata": {},
   "outputs": [
    {
     "data": {
      "text/plain": [
       "[{'Name': '명량', 'viewers': 17615000, 'Released': 2014, 'Revenue': '1357억'},\n",
       " {'Name': '극한직업', 'viewers': 12180000, 'Released': 2019, 'Revenue': '1396억'},\n",
       " {'Name': '국제시장', 'viewers': 14257115, 'Released': 2014, 'Revenue': '1109억'}]"
      ]
     },
     "execution_count": 176,
     "metadata": {},
     "output_type": "execute_result"
    }
   ],
   "source": [
    "data = [{'Name':'명량', 'viewers':17615000, 'Released':2014, 'Revenue':'1357억'},\n",
    "         {'Name':'극한직업', 'viewers':12180000, 'Released':2019, 'Revenue':'1396억'},\n",
    "         {'Name':'국제시장', 'viewers':14257115, 'Released':2014, 'Revenue':'1109억'}]\n",
    "data"
   ]
  },
  {
   "cell_type": "code",
   "execution_count": 177,
   "id": "5e38355e",
   "metadata": {},
   "outputs": [],
   "source": [
    "import json\n",
    "with open('data/ch09_movie1.json', 'w', encoding='utf-8') as jsonfile:\n",
    "    json.dump(data,\n",
    "               jsonfile,\n",
    "              ensure_ascii=False,\n",
    "              indent='\\t')"
   ]
  },
  {
   "cell_type": "code",
   "execution_count": 178,
   "id": "38655b08",
   "metadata": {},
   "outputs": [
    {
     "data": {
      "text/plain": [
       "[{'Name': '명량', 'viewers': 17615000, 'Released': 2014, 'Revenue': '1357억'},\n",
       " {'Name': '극한직업', 'viewers': 12180000, 'Released': 2019, 'Revenue': '1396억'},\n",
       " {'Name': '국제시장', 'viewers': 14257115, 'Released': 2014, 'Revenue': '1109억'}]"
      ]
     },
     "execution_count": 178,
     "metadata": {},
     "output_type": "execute_result"
    }
   ],
   "source": [
    "with open('data/ch09_movie1.json', 'r', encoding='utf-8') as jsonfile:\n",
    "    load_data = json.load(jsonfile)\n",
    "load_data"
   ]
  },
  {
   "cell_type": "code",
   "execution_count": 179,
   "id": "2ada9049",
   "metadata": {},
   "outputs": [
    {
     "name": "stdout",
     "output_type": "stream",
     "text": [
      "두 객체 리스트의 모든 데이터가 일치하는지 여부 : True\n"
     ]
    }
   ],
   "source": [
    "result = [] #list내 객체들끼리 비교 결과\n",
    "for member, load_member in zip(member_list, load_member_list):\n",
    "    result.append(member == load_member)\n",
    "print('두 객체 리스트의 모든 데이터가 일치하는지 여부 :', all(result))"
   ]
  },
  {
   "cell_type": "code",
   "execution_count": 186,
   "id": "23979846",
   "metadata": {},
   "outputs": [
    {
     "data": {
      "text/plain": [
       "(array([3, 5], dtype=int64),)"
      ]
     },
     "execution_count": 186,
     "metadata": {},
     "output_type": "execute_result"
    }
   ],
   "source": [
    "#False인 곳의 index가 궁금할 때?\n",
    "import numpy as np\n",
    "result = np.array([True, True, True, False, True, 0])\n",
    "np.where(result == False)"
   ]
  },
  {
   "cell_type": "code",
   "execution_count": 187,
   "id": "63dc2e9a",
   "metadata": {},
   "outputs": [
    {
     "data": {
      "text/plain": [
       "{True}"
      ]
     },
     "execution_count": 187,
     "metadata": {},
     "output_type": "execute_result"
    }
   ],
   "source": [
    "result = set()\n",
    "for member, load_member in zip(member_list, load_member_list):\n",
    "    result.add(member == load_member)\n",
    "result"
   ]
  },
  {
   "cell_type": "code",
   "execution_count": null,
   "id": "6d8e2f13",
   "metadata": {},
   "outputs": [],
   "source": []
  },
  {
   "cell_type": "code",
   "execution_count": null,
   "id": "ffffffd6",
   "metadata": {},
   "outputs": [],
   "source": []
  },
  {
   "cell_type": "code",
   "execution_count": null,
   "id": "ac98d166",
   "metadata": {},
   "outputs": [],
   "source": []
  },
  {
   "cell_type": "code",
   "execution_count": null,
   "id": "e65fa5bb",
   "metadata": {},
   "outputs": [],
   "source": []
  }
 ],
 "metadata": {
  "kernelspec": {
   "display_name": "Python 3 (ipykernel)",
   "language": "python",
   "name": "python3"
  },
  "language_info": {
   "codemirror_mode": {
    "name": "ipython",
    "version": 3
   },
   "file_extension": ".py",
   "mimetype": "text/x-python",
   "name": "python",
   "nbconvert_exporter": "python",
   "pygments_lexer": "ipython3",
   "version": "3.10.9"
  },
  "toc": {
   "base_numbering": 1,
   "nav_menu": {},
   "number_sections": false,
   "sideBar": true,
   "skip_h1_title": false,
   "title_cell": "Table of Contents",
   "title_sidebar": "Contents",
   "toc_cell": false,
   "toc_position": {
    "height": "calc(100% - 180px)",
    "left": "10px",
    "top": "150px",
    "width": "278.6px"
   },
   "toc_section_display": true,
   "toc_window_display": true
  }
 },
 "nbformat": 4,
 "nbformat_minor": 5
}
