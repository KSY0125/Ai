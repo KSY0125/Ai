{
 "cells": [
  {
   "cell_type": "code",
   "execution_count": 3,
   "id": "9db6eef2",
   "metadata": {},
   "outputs": [
    {
     "data": {
      "text/html": [
       "\n",
       "<style>\n",
       "div.container{width:90% !important;}\n",
       "div.cell.code_cell.rendered{width:100%;}\n",
       "div.input_prompt{padding:0px;}\n",
       "div.CodeMirror {font-family:Consolas; font-size:12pt;}\n",
       "div.text_cell_render.rendered_html{font-size:12pt;}\n",
       "div.output {font-size:12pt; font-weight:bold;}\n",
       "div.input {font-family:Consolas; font-size:12pt;}\n",
       "div.prompt {min-width:100px;}\n",
       "div#toc-wrapper{padding-top:120px;}\n",
       "div.text_cell_render ul li{font-size:12pt;padding:5px;}\n",
       "table.dataframe{font-size:12px;}\n",
       "</style>\n"
      ],
      "text/plain": [
       "<IPython.core.display.HTML object>"
      ]
     },
     "metadata": {},
     "output_type": "display_data"
    }
   ],
   "source": [
    "from IPython.display import display, HTML\n",
    "display(HTML(\"\"\"\n",
    "<style>\n",
    "div.container{width:90% !important;}\n",
    "div.cell.code_cell.rendered{width:100%;}\n",
    "div.input_prompt{padding:0px;}\n",
    "div.CodeMirror {font-family:Consolas; font-size:12pt;}\n",
    "div.text_cell_render.rendered_html{font-size:12pt;}\n",
    "div.output {font-size:12pt; font-weight:bold;}\n",
    "div.input {font-family:Consolas; font-size:12pt;}\n",
    "div.prompt {min-width:100px;}\n",
    "div#toc-wrapper{padding-top:120px;}\n",
    "div.text_cell_render ul li{font-size:12pt;padding:5px;}\n",
    "table.dataframe{font-size:12px;}\n",
    "</style>\n",
    "\"\"\"))"
   ]
  },
  {
   "cell_type": "markdown",
   "id": "439cd8bb",
   "metadata": {},
   "source": [
    "<b><font size=\"6\" Color=\"red\">ch09. \"File Input/Output Programming\"</font></b>\n",
    "- 파일 : txt, pickle (머신러닝 모델 저장, 배열 저장), csv, json, h5(딥러닝 모델 저장)\n",
    "    >    - pickle과 h5는 메모장에서 열리지 않음.\n",
    "# 1절. txt파일에 데이터 저장하고 불러오기"
   ]
  },
  {
   "cell_type": "code",
   "execution_count": 16,
   "id": "c69b6653",
   "metadata": {},
   "outputs": [
    {
     "name": "stdout",
     "output_type": "stream",
     "text": [
      "쓰기 가능한지 : True\n"
     ]
    }
   ],
   "source": [
    "# mode = 'r' 또는 'rt' : 텍스트 읽기모드로 열기. 파일이 없을 경우 예외 발생\n",
    "# mode = 'w' 또는 'wt' : 텍스트 쓰기모드로 열기. 파일이 없어도 예외발생 안 하지만 폴더가 없을 경우 예외 발생 > 폴더가 있으면 만들어짐\n",
    "                        # 파일이 없으면 생성, but 이미 있으면 덮어씀\n",
    "# mode - 'a' 또는 'at' : 텍스트 추가모드로 열기. 폴더가 없을 경우 예외 발생\n",
    "                        # 파일이 없으면 생성. 파일이 있으면 뒤에 추가(\"append=뒤에 추가\"이니까)\n",
    "f = open('data/ch09.txt', mode='w') #encoding='cp949'(win에 기본이라 안 써도됨), 근데 utf8으로 만들고 싶으면 무조건 인코딩 써줘야 함.\n",
    "print('쓰기 가능한지 :', f.writable ())\n",
    "f.write('Hello\\nWorld\\n') #아무리 해봤자 close 안 하면 저장이 안되서 내용이 없다.\n",
    "f.close()"
   ]
  },
  {
   "cell_type": "code",
   "execution_count": 17,
   "id": "eb02232a",
   "metadata": {},
   "outputs": [
    {
     "name": "stdout",
     "output_type": "stream",
     "text": [
      "쓰기 가능한지 : True\n"
     ]
    }
   ],
   "source": [
    "# with 절을 사용하면 매번 close()코드를 쓸 필요없음\n",
    "with open('data/ch09.txt', 'wt') as f:\n",
    "    print('쓰기 가능한지 :', f.writable())\n",
    "    f.write('Python is easy. \\nPython is smart.\\n') #자동으로 닫혀진 거임."
   ]
  },
  {
   "cell_type": "code",
   "execution_count": 22,
   "id": "ae038994",
   "metadata": {},
   "outputs": [
    {
     "name": "stdout",
     "output_type": "stream",
     "text": [
      "프린트 함수로 파일 쓰기가 가능합니다-콘솔출력\n"
     ]
    }
   ],
   "source": [
    "with open('data/ch09.txt', 'a') as f:\n",
    "    print('프린트 함수로 파일 쓰기가 가능합니다-파일출력', file=f)\n",
    "    print('프린트 함수로 파일 쓰기가 가능합니다-콘솔출력')"
   ]
  },
  {
   "cell_type": "markdown",
   "id": "ebde26a9",
   "metadata": {},
   "source": [
    "- 한글 읽기/쓰기\n",
    "    > * cp949(한글완성형확장형) : open함수의 기본 인코딩(win)\n",
    "    > * utf-8(한글조합형) : 주피터노트북에서 열기\n"
   ]
  },
  {
   "cell_type": "code",
   "execution_count": null,
   "id": "98d205bc",
   "metadata": {},
   "outputs": [],
   "source": []
  }
 ],
 "metadata": {
  "kernelspec": {
   "display_name": "Python 3 (ipykernel)",
   "language": "python",
   "name": "python3"
  },
  "language_info": {
   "codemirror_mode": {
    "name": "ipython",
    "version": 3
   },
   "file_extension": ".py",
   "mimetype": "text/x-python",
   "name": "python",
   "nbconvert_exporter": "python",
   "pygments_lexer": "ipython3",
   "version": "3.10.9"
  },
  "toc": {
   "base_numbering": 1,
   "nav_menu": {},
   "number_sections": false,
   "sideBar": true,
   "skip_h1_title": false,
   "title_cell": "Table of Contents",
   "title_sidebar": "Contents",
   "toc_cell": false,
   "toc_position": {},
   "toc_section_display": true,
   "toc_window_display": false
  }
 },
 "nbformat": 4,
 "nbformat_minor": 5
}
