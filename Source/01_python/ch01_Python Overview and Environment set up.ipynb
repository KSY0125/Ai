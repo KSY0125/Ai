{
 "cells": [
  {
   "cell_type": "code",
   "execution_count": 1,
   "id": "cf1a684b",
   "metadata": {},
   "outputs": [
    {
     "name": "stdout",
     "output_type": "stream",
     "text": [
      "Hello Python\n"
     ]
    }
   ],
   "source": [
    "print('Hello Python')"
   ]
  },
  {
   "cell_type": "code",
   "execution_count": 1,
   "id": "6c136cd1",
   "metadata": {},
   "outputs": [
    {
     "data": {
      "text/html": [
       "\n",
       "<style>\n",
       "div.container{width:90% !important;}\n",
       "div.cell.code_cell.rendered{width:100%;}\n",
       "div.input_prompt{padding:0px;}\n",
       "div.CodeMirror {font-family:Consolas; font-size:12pt;}\n",
       "div.text_cell_render.rendered_html{font-size:12pt;}\n",
       "div.output {font-size:12pt; font-weight:bold;}\n",
       "div.input {font-family:Consolas; font-size:12pt;}\n",
       "div.prompt {min-width:100px;}\n",
       "div#toc-wrapper{padding-top:120px;}\n",
       "div.text_cell_render ul li{font-size:12pt;padding:5px;}\n",
       "table.dataframe{font-size:12px;}\n",
       "</style>\n"
      ],
      "text/plain": [
       "<IPython.core.display.HTML object>"
      ]
     },
     "metadata": {},
     "output_type": "display_data"
    }
   ],
   "source": [
    "from IPython.display import display, HTML\n",
    "display(HTML(\"\"\"\n",
    "<style>\n",
    "div.container{width:90% !important;}\n",
    "div.cell.code_cell.rendered{width:100%;}\n",
    "div.input_prompt{padding:0px;}\n",
    "div.CodeMirror {font-family:Consolas; font-size:12pt;}\n",
    "div.text_cell_render.rendered_html{font-size:12pt;}\n",
    "div.output {font-size:12pt; font-weight:bold;}\n",
    "div.input {font-family:Consolas; font-size:12pt;}\n",
    "div.prompt {min-width:100px;}\n",
    "div#toc-wrapper{padding-top:120px;}\n",
    "div.text_cell_render ul li{font-size:12pt;padding:5px;}\n",
    "table.dataframe{font-size:12px;}\n",
    "</style>\n",
    "\"\"\"))"
   ]
  },
  {
   "cell_type": "markdown",
   "id": "bd2e93cd",
   "metadata": {},
   "source": [
    "# 첫 날 커밋정리\n",
    "\n",
    "정형데이터와 비정형데이터 등 데이터 유형에 맞춰서 크롤링 하게끔 개발. 영화 후기 같은 건 형탵가 없는 데이터이기에 자연어 처리가 필요\n",
    "\n",
    "큰 데이터를 기반으로 할 때는 분산처리 기술 (sqoop)을 사용함.\n",
    "\n",
    "남들이 짜놓은 걸 기반으로 만드는 게 머신러닝\n",
    "머신러닝이 잘 돌아가질 않아서 내가 직접 짜는 게 딥러닝\n",
    "\n",
    "이용자가 쉽게 UX/UI를 다듬은 웹버전도 동시개발 필요 - 이 과정에서 주로 사용되는 건 플라스크랑 장고\n",
    "\n",
    "회사데이터는 RDBMS 데이터베이스매니지먼트시스템 으로 주로 관리함 대한민국 내 85%이상의 회사가 그럼.\n",
    "주로 오라클이나 MySQL \n",
    "\n",
    "컴퓨터 전원이 들어오면 1 안들어오면 0 - 컴퓨터는 이것밖에 모른다 = 2진수\n",
    "사람은 10진수를 쓴다 0123456789\n",
    "\n",
    "컴파일러/인터프리터 = 통역가\n",
    "\n",
    "C언어와 자바는 컴파일러 결과를 미리 만들어놓은 방식 - 컴파일링 방식 > 추후에 다시 초안에 대한 초기해석을 할 필요 없음\n",
    "파이썬은 실행때마다 해석함. - 인터프리팅 방식 \n",
    "그래서 파이썬을 실행할때마다 번역할 프로그램이 필요함\n",
    "\n",
    "요즘은 어셈블리 언어 잘 안씀(속도는 빠름) - CPU에 따라 종속적인 언어(C언어와C++) > OS변동에 리스크 있음 \n",
    "> 그래서 독립적인 언어를 활용해야만 함.  > 그게 딱 자바와 파이썬 뿐\n",
    "C언어와C++ = 운영체제 만드는 데에만 주로 쓰임 \n",
    "\n",
    "데이터가 크면 리눅스 체제의 슈퍼컴퓨터 활용 필수\n",
    "\n",
    "흔히 발생되는 일들은 함수로 미리 정리해둠 > 함수를 모아놓은 걸 패키지라 함 > 자바는 3000개의 패키지 폴더 무료제공\n",
    "\n",
    "https://pypi.org/ <<< 파이썬은 패키지 734만 개 배포중\n",
    "\n",
    "https://git-scm.com/\n",
    "\n",
    "https://www.whatismyip.com/\n",
    "\n",
    "소스랑 노트폴더만 깃에 올리는 걸 데일리 루틴으로\n",
    "\n",
    "깃허브 올릴 때에는 개당 25메가 이하로 올리는 게 안전빵 > 무료체험 기준이기 때문\n",
    "\n",
    "메모장값 #앞에 붙히면 큰 글씨 **이거붙히면 진한 글씨\n",
    "**진한 글씨로나온다**\n",
    "#내가뭐를했을까요\n",
    "\n",
    "소스값 입력시 칸띄움있다면 양옆으로 쌍따옴표 필수, 아니라면 무필요\n",
    "\n",
    "-M 이건 생성한다는 의미\n",
    "명령값 넣을 때 복사한값을 넣을 때 마우스 우클릭해도 들어감\n",
    "-u 업로드한다는 의미\n",
    "\n",
    ".git 투명폴더가 있어야 집에서도 커밋을 올릴 수 있음\n",
    "\n",
    "새로운 데이터를 서버에 push했을 경우 다른 장소에서 접속할 때 동기화를 위해 pull 해야함\n",
    "\n",
    "공식사이트에서 파이썬 인터프리터 다운받도록\n",
    "\n",
    "함수를 모아놓은게 모듈/모듈을 모아놓은 게 패키지\n",
    "\n",
    "파이썬인터프리터와 아나콘다는 필수로 같이 구동해야함\n",
    "\n",
    "브이에스코드로 짠다\n",
    "\n",
    "GPU 쓰려면 1,2스텝(GPU사용을 위한 파이썬환경 메모 중)하고 3번, 아니면 그냥 3번(아나콘다 다운) 설치\n",
    "-2번은 긍정적으로 설치 (근데 NVIDIA 프레임뷰가 있으면 안 깔림)\n",
    "-쿠다 안 깔고 아나콘다 바로가면 GPU인식 못 함\n",
    "-지피티한테 GPU모델과 OS모델 말해주면 최적의 설치법 알려줌\n",
    "-쿠다 설치후 알집파일 풀어서 안에 있는 내용물 지정폴더에 그대고 복붙\n",
    "\n",
    "프로그램 짤 때 주피터노트북에서 뉴 누르고 파이썬클릭\n",
    "\n",
    "깃허브다운->주피터노트북 경로설정->아나콘다 설치->프롬프트열어서 차례에 있는 값 넣어서 업데이트"
   ]
  },
  {
   "cell_type": "markdown",
   "id": "0f23a58a",
   "metadata": {},
   "source": [
    "<b><font size=\"6\" Color=\"red\">ch01. Python Overview and Environment set up</font></b>\n",
    "\n",
    "# 1.마크다운이란?\n",
    "- 코드와 함께 문서화할 수 있음\n",
    "- 다양한 문서화 문법 ex. README.md\n",
    "- 개발관련 내용을 인입시키는데에 쓰이는가?\n",
    "\n",
    "# 2.주피터 노트북 사용법(큰제목)\n",
    "- 셀 맨 앞에 # : 실행하지마라 (*주석이라 부름) 다른 셀에서는 #넣고 띄운 후 타이핑하면큰 글씨 됨\n",
    "- ESC+A 상단셀추가\n",
    "- ESC+B 하단셀 추가\n",
    "- ESC+DD 셀 삭제\n",
    "- ESC+Y 코드셀로 변경\n",
    "- ESC+h 핫키(단축키) 안내\n",
    "- ESC+o 해당 셀의 실행결과 접기펴기 ON/OFF 토글\n",
    "- shift+Enter : 포커스된 셀이 실행되고, 커서가 다음셀로 이동\n",
    "- Alt+Enter : 포커스된 셀이 실행되고, 다음 셀이 생성된 후 다음셀로 이동됨. (셀 신규 생성 여부가 차이)\n",
    "- Ctrl+Enter : 포커스된 셀이 실행되고, 포커스 이동이 없음.\n",
    "- Enter : 셀렉된 셀이 편집 상태로 돌아감 (더블클릭도 가능)\n",
    "- ESC+M 마크다운 셀로 변경\n",
    "- Ctrl+/ : 블럭처리 부분을 주석화 ON/OFF (온오프형식의 값을 '토글'이라 함)\n",
    "- 파이썬에서는 ''작은따옴표와 큰따옴표 차이가 없이 다 텍스트용임\n",
    "- 파이썬의 수의 제한이 없고, 자바와 C언어는 수의 제한이 있다. (그래서 천문학과에서는 파이썬을 사용함)\n",
    "- In옆 숫자 괄호 안에 * 로 표기되어 있으면 값이 실행 중인것임\n",
    "- 셀 내에서 ! < 로 시작하면 cmd 명령어를 수행함. (ex: !dir < 윈도우 내 드라이브볼륭 확인)\n",
    "- '#'은 매직 명령어로써, 주피터 노트북 자체의 명령어다\n",
    "- "
   ]
  },
  {
   "cell_type": "code",
   "execution_count": 4,
   "id": "dbefad22",
   "metadata": {},
   "outputs": [
    {
     "name": "stdout",
     "output_type": "stream",
     "text": [
      "Hello Python\n",
      "홍길동\n",
      "Hello, Python\n",
      "홍길동\n"
     ]
    }
   ],
   "source": [
    "# print() 함수를 이용해서 출력. 괄호 안의 내용을 출력시킴\n",
    "print('Hello Python')\n",
    "print('홍길동')\n",
    "print(\"Hello, Python\\n홍길동\")"
   ]
  },
  {
   "cell_type": "code",
   "execution_count": 28,
   "id": "e226fc46",
   "metadata": {},
   "outputs": [
    {
     "name": "stdout",
     "output_type": "stream",
     "text": [
      "27\n",
      "252\n"
     ]
    },
    {
     "data": {
      "text/plain": [
       "'KIMSANGYOON'"
      ]
     },
     "execution_count": 28,
     "metadata": {},
     "output_type": "execute_result"
    }
   ],
   "source": [
    "age = 25 # 숫자\n",
    "duration = '2' # 문자\n",
    "print(age + int(duration) )\n",
    "print(str(age) + duration)\n",
    "# View > Menu > Toggle Line Number 선택하면\n",
    "# Int는 정수 기반 숫자 데이터를 다루는 용도 (정수란 소수점 없는 수를 의미)\n",
    "# str(*스트링) 은 문자들의 집합(문자열)을 저장하는 자료형\n",
    "int (10+20)\n",
    "str ('Hi'*3)\n",
    "str ('KIM'+'SANGYOON')"
   ]
  },
  {
   "cell_type": "code",
   "execution_count": 37,
   "id": "35b0eaf4",
   "metadata": {},
   "outputs": [
    {
     "name": "stdout",
     "output_type": "stream",
     "text": [
      "0\n",
      "1\n",
      "2\n",
      "3\n",
      "4\n",
      "5\n",
      "6\n",
      "7\n",
      "8\n",
      "9\n"
     ]
    }
   ],
   "source": [
    "#무한계산법과 중지\n",
    "for i in range(10):\n",
    "    print(i)\n",
    "    #무한 수 검색에 대한 수행 중지 방법\n",
    "    #for는 예약어다\n",
    "    # 1) Stop 아이콘 클릭 > 값 계산 중지됨.\n",
    "    # 2) Kernel 메뉴의 Restart를 누르면 메모리에 있었던 게 사라지면서 수행중인 게 멈춰짐"
   ]
  },
  {
   "cell_type": "code",
   "execution_count": 8,
   "id": "a30bc688",
   "metadata": {},
   "outputs": [
    {
     "name": "stdout",
     "output_type": "stream",
     "text": [
      "1\n",
      "2\n",
      "3\n"
     ]
    }
   ],
   "source": [
    "for i in range(1, 4):\n",
    "    print(i)"
   ]
  },
  {
   "cell_type": "code",
   "execution_count": 6,
   "id": "79d3b3f5",
   "metadata": {},
   "outputs": [
    {
     "name": "stdout",
     "output_type": "stream",
     "text": [
      "14\n",
      "17\n"
     ]
    }
   ],
   "source": [
    "for i in range(14, 20, 3):\n",
    "    print(i)"
   ]
  },
  {
   "cell_type": "code",
   "execution_count": 18,
   "id": "9b905531",
   "metadata": {},
   "outputs": [
    {
     "data": {
      "text/plain": [
       "5"
      ]
     },
     "execution_count": 18,
     "metadata": {},
     "output_type": "execute_result"
    }
   ],
   "source": [
    "print = 5\n",
    "print\n",
    "#위 처럼 할 경우, print는 원래 함수역할이지만 숫자로 치부되는 변수가 발생. 이후 모든 셀 값에 모두반영됨."
   ]
  },
  {
   "cell_type": "code",
   "execution_count": 24,
   "id": "734bc7e4",
   "metadata": {},
   "outputs": [
    {
     "name": "stdout",
     "output_type": "stream",
     "text": [
      "Hello\n"
     ]
    }
   ],
   "source": [
    "print ('Hello')"
   ]
  },
  {
   "cell_type": "code",
   "execution_count": 22,
   "id": "0c489dd4",
   "metadata": {},
   "outputs": [
    {
     "ename": "NameError",
     "evalue": "name 'print' is not defined",
     "output_type": "error",
     "traceback": [
      "\u001b[1;31m---------------------------------------------------------------------------\u001b[0m",
      "\u001b[1;31mNameError\u001b[0m                                 Traceback (most recent call last)",
      "Cell \u001b[1;32mIn[22], line 2\u001b[0m\n\u001b[0;32m      1\u001b[0m \u001b[38;5;66;03m# 이에 따라 실수로 할당된 print 변수를 삭제 방법1\u001b[39;00m\n\u001b[1;32m----> 2\u001b[0m \u001b[38;5;28;01mdel\u001b[39;00m \u001b[38;5;28mprint\u001b[39m\n",
      "\u001b[1;31mNameError\u001b[0m: name 'print' is not defined"
     ]
    }
   ],
   "source": [
    "# 이에 따라 실수로 할당된 print 변수를 삭제 방법1\n",
    "del print\n",
    "# 삭제 방법 2 : Kernel > 재시작\n",
    "# 지운 상태에서 또 지우라하면 에러가 남."
   ]
  },
  {
   "cell_type": "code",
   "execution_count": 60,
   "id": "76d075b5",
   "metadata": {},
   "outputs": [
    {
     "name": "stdout",
     "output_type": "stream",
     "text": [
      " C 드라이브의 볼륨에는 이름이 없습니다.\n",
      " 볼륨 일련 번호: A014-DCD6\n",
      "\n",
      " C:\\Ai\\Source\\01_python 디렉터리\n",
      "\n",
      "2025-09-12  오전 10:50    <DIR>          .\n",
      "2025-09-12  오전 10:50    <DIR>          ..\n",
      "2025-09-11  오후 05:30    <DIR>          .ipynb_checkpoints\n",
      "2025-09-12  오전 10:50             9,665 ch01_Python Overview and Environment set up.ipynb\n",
      "               1개 파일               9,665 바이트\n",
      "               3개 디렉터리  168,178,581,504 바이트 남음\n"
     ]
    }
   ],
   "source": [
    "!dir"
   ]
  },
  {
   "cell_type": "code",
   "execution_count": 26,
   "id": "3e942a39",
   "metadata": {},
   "outputs": [],
   "source": [
    "# %1s에 대해서 \n",
    "# %s는 문자열(string)을 삽입하겠다는 뜻입니다.\n",
    "# 1은 **최소 너비(width)**를 의미합니다.\n",
    "# 즉, %1s는 **\"최소 너비 1칸을 확보해서 문자열을 출력하라\"**는 의미예요.\n",
    "# %1s\t최소 1칸 너비로 문자열 출력\n",
    "# %5s\t최소 5칸 너비로 오른쪽 정렬 출력"
   ]
  },
  {
   "cell_type": "code",
   "execution_count": 25,
   "id": "45d5ccfe",
   "metadata": {},
   "outputs": [
    {
     "name": "stdout",
     "output_type": "stream",
     "text": [
      "A\n",
      "Python\n",
      "Hello\n"
     ]
    }
   ],
   "source": [
    "print(\"%1s\" % \"A\")\n",
    "print(\"%5s\" % \"Python\")\n",
    "print(\"%5s\" % \"Hello\")"
   ]
  },
  {
   "cell_type": "code",
   "execution_count": null,
   "id": "a3a77a8b",
   "metadata": {},
   "outputs": [],
   "source": []
  },
  {
   "cell_type": "code",
   "execution_count": null,
   "id": "34338bff",
   "metadata": {},
   "outputs": [],
   "source": []
  },
  {
   "cell_type": "code",
   "execution_count": null,
   "id": "924783ad",
   "metadata": {},
   "outputs": [],
   "source": []
  },
  {
   "cell_type": "code",
   "execution_count": null,
   "id": "80f99112",
   "metadata": {},
   "outputs": [],
   "source": [
    "# 셀하나하나에 파이썬 소스 입력 -> 실행"
   ]
  },
  {
   "cell_type": "code",
   "execution_count": null,
   "id": "3b330810",
   "metadata": {},
   "outputs": [],
   "source": []
  },
  {
   "cell_type": "code",
   "execution_count": null,
   "id": "5da40b10",
   "metadata": {},
   "outputs": [],
   "source": []
  },
  {
   "cell_type": "code",
   "execution_count": null,
   "id": "0e7f1b3e",
   "metadata": {},
   "outputs": [],
   "source": []
  }
 ],
 "metadata": {
  "kernelspec": {
   "display_name": "Python 3 (ipykernel)",
   "language": "python",
   "name": "python3"
  },
  "language_info": {
   "codemirror_mode": {
    "name": "ipython",
    "version": 3
   },
   "file_extension": ".py",
   "mimetype": "text/x-python",
   "name": "python",
   "nbconvert_exporter": "python",
   "pygments_lexer": "ipython3",
   "version": "3.10.9"
  },
  "toc": {
   "base_numbering": 1,
   "nav_menu": {},
   "number_sections": false,
   "sideBar": true,
   "skip_h1_title": false,
   "title_cell": "Table of Contents",
   "title_sidebar": "Contents",
   "toc_cell": false,
   "toc_position": {
    "height": "calc(100% - 180px)",
    "left": "10px",
    "top": "150px",
    "width": "384px"
   },
   "toc_section_display": true,
   "toc_window_display": true
  }
 },
 "nbformat": 4,
 "nbformat_minor": 5
}
