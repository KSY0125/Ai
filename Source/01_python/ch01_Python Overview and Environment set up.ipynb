{
 "cells": [
  {
   "cell_type": "code",
   "execution_count": 2,
   "id": "6c136cd1",
   "metadata": {},
   "outputs": [
    {
     "data": {
      "text/html": [
       "\n",
       "<style>\n",
       "div.container{width:90% !important;}\n",
       "div.cell.code_cell.rendered{width:100%;}\n",
       "div.input_prompt{padding:0px;}\n",
       "div.CodeMirror {font-family:Consolas; font-size:12pt;}\n",
       "div.text_cell_render.rendered_html{font-size:12pt;}\n",
       "div.output {font-size:12pt; font-weight:bold;}\n",
       "div.input {font-family:Consolas; font-size:12pt;}\n",
       "div.prompt {min-width:100px;}\n",
       "div#toc-wrapper{padding-top:120px;}\n",
       "div.text_cell_render ul li{font-size:12pt;padding:5px;}\n",
       "table.dataframe{font-size:12px;}\n",
       "</style>\n"
      ],
      "text/plain": [
       "<IPython.core.display.HTML object>"
      ]
     },
     "metadata": {},
     "output_type": "display_data"
    }
   ],
   "source": [
    "from IPython.display import display, HTML\n",
    "display(HTML(\"\"\"\n",
    "<style>\n",
    "div.container{width:90% !important;}\n",
    "div.cell.code_cell.rendered{width:100%;}\n",
    "div.input_prompt{padding:0px;}\n",
    "div.CodeMirror {font-family:Consolas; font-size:12pt;}\n",
    "div.text_cell_render.rendered_html{font-size:12pt;}\n",
    "div.output {font-size:12pt; font-weight:bold;}\n",
    "div.input {font-family:Consolas; font-size:12pt;}\n",
    "div.prompt {min-width:100px;}\n",
    "div#toc-wrapper{padding-top:120px;}\n",
    "div.text_cell_render ul li{font-size:12pt;padding:5px;}\n",
    "table.dataframe{font-size:12px;}\n",
    "</style>\n",
    "\"\"\"))"
   ]
  },
  {
   "cell_type": "markdown",
   "id": "bd2e93cd",
   "metadata": {},
   "source": [
    "<b><font size=\"6\" Color=\"red\">ch01. Python Overview and Environment set up</font></b>\n",
    "\n",
    "# 업무 상식\n",
    "- '영화후기'처럼 일정한 형태가 없는 데이터는 **'자연어 처리'** 가 필수\n",
    "- 큰 데이터 기반 작업 시, **분산처리 기술(sqoop)** 을 사용함.\n",
    "- 데이터가 정말 크면 **리눅스 체제**의 슈퍼컴퓨터 활용\n",
    "- 프로젝트 작업 시, 모든 디벨로퍼 프로그램의 버전을 맞추는 게 좋다.\n",
    "- **머신러닝** : 남들이 짜놓은 걸 기반으로 만듦\n",
    "- **딥러닝** : 머신러닝이 구려서 내가 직접 만듦\n",
    "- 웹버전 동시개발 필요 시, **플라스크** or **장고** 를 활용\n",
    "- 대한민국 내 85% 이상 회사가 **데이터를 RDBMS으로 주로 관리함** (Relational Database Management System(관계형 데이터베이스 관리 시스템))\n",
    "  > 대표적인 RDBMS : Oracle Database, MySQL \n",
    "- **컴퓨터는 0과 1로 구성된 2진수**로 만들어졌다 (전원이 들어오면 1 안들어오면 0)\n",
    "  > 사람은 10진수를 쓴다 **0123456789**\n",
    "\n",
    "<b><h2 style=\"color: yellow; font-size: 36px; text-shadow: 1px 1px 2px gray;\">\n",
    "    New Environment Setup Process\n",
    "</h2></b>\n",
    "\n",
    "# 1절. 새로운 환경 설치 프로세스\n",
    "\n",
    "- (1) Git 설치 및 로그인\n",
    "- (2) 4에서 아나콘다 깔기 때문에 Python 설치할 필요 없음.\n",
    "- (3) CUDA 설치 : GPU 사용을 위해 \n",
    "- (4) Anaconda3\n",
    "    - 주피터노트북 바로가기 만들기 > 속성 경로설정을 ipynb 파일 있는 곳\n",
    "- (5) vsCode(User.ver/설치)\n",
    "    - 익스텐션스에서 파이썬과 주피터노트북 확장설치)\n",
    "    - 익스플로러 > 폴더 열기 > C:\\Ai\\Source\\01_python #주피터 소스 있는 곳\n",
    "\n",
    "\n",
    "## 특이사항\n",
    "- GPU 쓰려면 쿠다 필수 설치. 아니면 그냥 3번(아나콘다 다운) 설치\n",
    "- 2번은 긍정적으로 설치 (근데 NVIDIA 프레임뷰가 있으면 안 깔림)\n",
    "- 쿠다 안 깔고 아나콘다 바로가면 GPU인식 못 함\n",
    "- 지피티한테 GPU모델과 OS모델 말해주면 최적의 설치법 알려줌\n",
    "- 쿠다 설치후 알집파일 풀어서 안에 있는 내용물 지정폴더에 그대로 복붙\n",
    "\n",
    "\n",
    "## Git hub commit 프롬프트\n",
    "\n",
    "- (1) git add . \n",
    "- (2) git commit -m \"버전명\"\n",
    "- (3) git push origin main\n",
    "- (3-2) git pull origina main << 집에서 불러올 때. 작업 후 푸쉬 꼭 필수\n",
    "- (3-3) 그 후 다른 환경에서 다시 pull 필수\n",
    "    - -m : 이건 생성한다는 의미\n",
    "    - -u 업로드한다는 의미\n",
    "    - 깃허브에 올릴 때에는 안전빵으로 25메가 이하 파일만\n",
    "    - .git 투명폴더가 있어야 집에서도 커밋을 올릴 수 있음"
   ]
  },
  {
   "cell_type": "markdown",
   "id": "23a7df7c",
   "metadata": {},
   "source": [
    "<b><h2 style=\"color: yellow; font-size: 36px; text-shadow: 1px 1px 2px gray;\">\n",
    "    Official Symbol Descriptions\n",
    "</h2></b>\n",
    "\n",
    "# 2절. 공식 기호 설명\n",
    "<img src=\"https://github.com/KSY0125/imagecloud/blob/main/python04.png?raw=true\">\n",
    "\n",
    " - 흔히 쓰이는 **튜플, 딕셔너리, 리스트는 괄호 안의 자료 구조를 지칭하는 말.**"
   ]
  },
  {
   "cell_type": "markdown",
   "id": "d6e8c214",
   "metadata": {},
   "source": [
    "<b><h2 style=\"color: yellow; font-size: 36px; text-shadow: 1px 1px 2px gray;\">\n",
    "    How to Use Jupyter Notebook\n",
    "</h2></b>\n",
    "\n",
    "# 3절. 주피터 노트북 사용법(큰제목)\n",
    "\n",
    "## 단축키\n",
    "<img src=\"https://github.com/KSY0125/imagecloud/blob/main/python02.png?raw=true\">\n",
    "\n",
    " - 주석처리하는 Ctrl + / 키 처럼 ON/OFF할 수 있는 키를 토글이라 함.\n",
    " - ESC + H 하면 모든 키 다 나옴.\n",
    "\n",
    "## 마크다운 셀\n",
    "\n",
    "- 마크다운셀이란? 코드와 함께 문서화할 수 있는 '문서화 문법 ex. README.md\n",
    "\n",
    "    > **마크다운 셀 내 컨트롤**\n",
    "    >    - 셀 내에서 # 붙히고 띄우면 : 큰 글씨\n",
    "    >    - #이 늘어날수록 소주제화 됨.\n",
    "    >    - 셀 내에서 글씨 양 옆에 ** 붙힘 : **볼드체**\n",
    "    >    - (``)백틱으로 글자를 감싸면 블락이 형성됨. `감싸진 글씨`\n",
    "    >    - (```)백틱 3개나 (''')싱글쿼트 3개를 쓰면 독스트링용 `코드블록`\n",
    "   \n",
    "\n",
    "    \n",
    "## 주피터노트북 작성 주의사항\n",
    "\n",
    "- `''작은따옴표`와 `\"\"큰따옴표`차이가 없이 다 텍스트용\n",
    "- 셀 좌측 대괄호 내의 값이 `* > 계산 실행 중`\n",
    "- 필수세팅 : View > Menu > Toggle Line Number 선택하기\n",
    "- cmd 명령어 수행법 : 셀 내에서 ! < 로 시작 \n",
    "    > ex: !dir (윈도우 내 드라이브볼륨 확인)\n",
    "    <img src=\"https://github.com/KSY0125/imagecloud/blob/main/!dir%20%EC%82%AC%EC%9A%A9%EC%9D%98%20%EC%98%88.png?raw=true\" width=\"1200\"/>\n",
    "    \n",
    "## 자주 보이는 오류\n",
    "\n",
    "(1) 역슬래시가 원화로 표기될 때\n",
    " > 크롬 기준 : 설정 > 모양 > 글꼴 맞춤설정 > 고정폭 글꼴을 'Courier New'로 변경\n",
    " "
   ]
  },
  {
   "cell_type": "markdown",
   "id": "0f23a58a",
   "metadata": {},
   "source": [
    "<b><h2 style=\"color: yellow; font-size: 36px; text-shadow: 1px 1px 2px gray;\">\n",
    "    Basic Principles of Coding\n",
    "</h2></b>\n",
    "\n",
    "# 4절. 코딩 기본 원리 (대부분의 언어에서)\n",
    "\n",
    "(1) 인덱스는 0번째부터 \n",
    "- 인덱스 index = `순서`를 의미 ▶▶▶ 인덱싱 = **순서를 매기는 행위**\n",
    "> ex:) **바나나의 순서는 0번째**\n",
    "<img src=\"https://github.com/KSY0125/imagecloud/blob/main/1%EC%9E%A5_%EC%9D%B8%EB%8D%B1%EC%8B%B1%EC%9D%98%20%EC%98%88.png?raw=true\" height=\"600\"/>\n",
    " >    - 우리가 흔히 말하는 첫 번째는, 코딩에서 0번째다.\n",
    "\n",
    "(2) 슬라이싱의 원리\n",
    "- start와 stop = **start부터 stop 전까지**\n",
    "> ex:) 0부터 3직전까지 반환하라.\n",
    "<img src=\"https://github.com/KSY0125/imagecloud/blob/main/1%EC%9E%A5_%EC%8A%AC%EB%9D%BC%EC%9D%B4%EC%8B%B1%EC%9D%98%20%EC%98%88.png?raw=true\" height=\"600\"/>\n",
    " >    - 그래서 0-b 1-a 2-n 만 반환됨.\n",
    " \n",
    "(3) True와 False의 숫자 원리\n",
    "- 조건이 참이면 True, 거짓이면 False\n",
    "- 숫자형 내 **정수 기준, 0만 False, 나머지는 True**\n",
    "- 숫자형 전체 기준, 0, 0.0(실수), 0j(복소수)가 False\n",
    "- **빈 컬렉션(리스트, 튜플, 딕셔너리, 집합)과 빈 문자열 → False**\n",
    "- None → False\n",
    "- 불리언 자체 → 그대로 True/False\n",
    "> **파이썬 Truthiness 전체표**\n",
    "<img src=\"https://github.com/KSY0125/imagecloud/blob/main/python03.png?raw=true\" width=\"1200\"/>\n",
    "\n",
    " \n",
    "(4) 가변(mutable) vs 불변(immutable)\n",
    "- 리스트(list), 딕셔너리(dict), 집합(set)은 가변 객체 → 값 변경 가능.\n",
    "- 문자열(str), 튜플(tuple), 정수(int), 실수(float)는 불변 객체 → 한 번 만들면 내용 변경 불가.\n",
    "> ex:) <img src=\"https://github.com/KSY0125/imagecloud/blob/main/1%EC%9E%A5_%EB%B6%88%EB%B3%80%EC%9D%98%EC%98%88.png?raw=true\" width=\"1200\"/>\n",
    " >    - 결과해석 : 문자열은 불변이기에 변경할 수 없음.\n",
    "\n",
    "(5) 값이 아닌 참조(reference)가 전달됨.\n",
    "- 리스트 같은 가변 객체를 함수에 넘기면, 원본이 바뀔 수 있음.\n",
    "> ex:) <img src=\"https://github.com/KSY0125/imagecloud/blob/main/1%EC%9E%A5_%EC%B0%B8%EC%A1%B0%EA%B0%80%EC%A0%84%EB%8B%AC%EB%90%A8%EC%9D%98%20%EC%98%88.png?raw=true\" width=\"1200\"/>\n",
    " >    - 결과해석 : a라고 정한 리스트의 원본이 바뀜.\n",
    "\n",
    " \n",
    "\n",
    "## 코딩 언어 비교 및 파이썬의 장점\n",
    "<img src=\"https://github.com/KSY0125/imagecloud/blob/main/python01.png?raw=true\">\n",
    "\n",
    "### 파이썬 특화 원리\n",
    "\n",
    "- 이건 Python만의 특징이고, 다른 언어에서는 다르게 구현됨.\n",
    "\n",
    " > **들여쓰기가 문법**\n",
    " >  - Python은 {} 대신 공백으로 블록 구분. (C/Java/JS는 중괄호 씀)\n",
    "\n",
    " > **동적 타이핑**\n",
    " >  - Python은 x = 3 했다가 x = \"문자열\"로 바꿔도 에러 없음.\n",
    " >  - Java/C는 변수 타입을 선언해야 함 (int x = 3;)\n",
    "\n",
    " > **무한 정수 지원**\n",
    " >  - C/Java에서는 정수 한계를 넘으면 wrap-around 발생\n",
    " >  - 파이썬은 int 크기가 메모리만 허용하면 무제한 > 오버플로우 발생 X\n",
    " >  - 필요하다면 `sys.maxsize`로 플랫폼의 메모리 한계 확인 가능.\n",
    "<img     src=\"https://github.com/KSY0125/imagecloud/blob/main/1%EC%9E%A5_%EC%98%A4%EB%B2%84%ED%94%8C%EB%A1%9C%EC%9A%B0%EC%9D%98%20%EC%98%88.png?raw=true\" height=\"600\"/>\n",
    "     >    - 조, 경, 해를 넘어간 값도 계산됨.\n",
    "     >    - x = x+1이 이후 할당이기에, 더해진 값이 출력되는 것."
   ]
  },
  {
   "cell_type": "code",
   "execution_count": null,
   "id": "07ba79be",
   "metadata": {},
   "outputs": [],
   "source": [
    "객체 레퍼런스 등 기본용어 영어버전과 의미\n",
    "값과 함수가 같이 있는 파이썬의 모든 데이터 (리스트, 숫자, 문자열 등)"
   ]
  },
  {
   "cell_type": "markdown",
   "id": "1946a5de",
   "metadata": {},
   "source": [
    "id type 같은 기본함수\n"
   ]
  },
  {
   "cell_type": "markdown",
   "id": "1f430e6c",
   "metadata": {},
   "source": [
    "# 5절. 기본상식"
   ]
  },
  {
   "cell_type": "markdown",
   "id": "9dda9255",
   "metadata": {},
   "source": [
    "## 스칼라데이터\n",
    "- 벡터나 행렬처럼 여러 개의 값을 갖는 구조가 아닌, **하나의 값만을 가지는 데이터**\n",
    "- `프로그래밍`이나 수학, 특히 `데이터 과학과 배열 연산`에서 자주 등장하는 개념\n",
    "- 계산의 기본 단위로 자주 등장하며, 배열 내의 요소 하나하나가 결국 스칼라입니다.\n",
    "> `5`, `3.14`, `'A'`, `True` \n",
    ">    - 위의 값들은 모두 스칼라 데이터입니다."
   ]
  },
  {
   "cell_type": "markdown",
   "id": "be8f9114",
   "metadata": {},
   "source": [
    "**스칼라 vs 벡터/배열**\n",
    "\n",
    "- 스칼라 (Scalar) = 하나의 값 (= 0차원)\n",
    "> 7, True\n",
    "- 벡터 (Vector) = 1차원 배열\n",
    "> [1, 2, 3]\n",
    "- 행렬 (Matrix) = 2차원 배열\n",
    "> [[1, 2], [3, 4]]\n",
    "- 텐서 (Tensor) = 3차원 이상 배열\n",
    "> [[[1,2],[3,4]], [[5,6],[7,8]]]"
   ]
  },
  {
   "cell_type": "code",
   "execution_count": 4,
   "id": "1735cbc0",
   "metadata": {},
   "outputs": [
    {
     "name": "stdout",
     "output_type": "stream",
     "text": [
      "True\n",
      "False\n"
     ]
    }
   ],
   "source": [
    "#넘파이를 사용한 예시\n",
    "import numpy as np\n",
    "a = 5            # 스칼라\n",
    "b = np.array([5])  # 배열 (벡터)\n",
    "print(np.isscalar(a))  # True\n",
    "print(np.isscalar(b))  # False"
   ]
  },
  {
   "cell_type": "markdown",
   "id": "77c14b94",
   "metadata": {},
   "source": [
    "## 수학적 상식"
   ]
  },
  {
   "cell_type": "markdown",
   "id": "a1a64dc4",
   "metadata": {},
   "source": [
    "**정수 (Integer)** `int`\n",
    "- 음수, 0, 양수를 포함한 소수점 없는 수\n",
    "> 예시 : -10, 0, 42\n",
    "\n",
    "**실수 (Real Number)** `float`\n",
    "- 소수점을 가지는 수. 정수도 포함됨\n",
    "> 예시 : 3.14, 2.0, -1.5\n",
    "\n",
    "**소수 (Decimal / Fraction)**\n",
    "- 1보다 크고 1보다 작은 정확한 비율의 수\n",
    "> 예시 : 0.5, 0.25, 3/4\n",
    "\n",
    "**복소수 (Complex Number)** `complex`\n",
    "- 실수부 + 허수부로 구성된 수 (허수 단위 i = √-1)\n",
    "- 실수로는 √(-1) 같은 음수의 제곱근을 다룰 수 없습니다.\n",
    "- 수학자들은 이 문제를 해결하려고 \"허수(i)\"라는 개념을 도입했어요.\n",
    "> 예시 : a + bj\n",
    "> - a: 실수 부분 (예: 2, 3.5, -1 등)\n",
    "> - b: 허수 부분의 계수\n",
    "> - j: 허수 단위 (i² = -1)\n",
    "\n",
    "**난수 (Random Number)**\n",
    "- 규칙 없이 임의로 생성된 숫자\n",
    "- 난수를 위한 파이썬 도구 : random, secrets, numpy.random\n",
    "- 프로그래밍에서는 대부분 의사 난수를 사용합니다. 충분히 무작위처럼 보이고 속도가 빠르기 때문입니다\n",
    "- 컴퓨터는 실제로는 완전히 \"무작위\"를 만들 수 없기 때문에, 보통은 **의사 난수(pseudo-random number)** 를 사용\n",
    "    > - `진짜 난수 (True Random)` \"실제 무작위 현상에서 나옴 (예: 방사능 붕괴, 마우스 움직임 등)\"\n",
    "    > - `의사 난수 (Pseudo-random)` \"알고리즘으로 만든 예측 불가능해 보이는 수열 = 컴퓨터가 만든 가짜 무작위 (하지만 결정적인 규칙 있음)\"\n",
    "    \n",
    "    **시드(Seed)**\n",
    "    - 난수 생성의 시작값.\n",
    "    - 같은 시드를 주면 항상 같은 난수 시퀀스를 얻을 수 있습니다."
   ]
  },
  {
   "cell_type": "code",
   "execution_count": 6,
   "id": "f34bb0b1",
   "metadata": {},
   "outputs": [
    {
     "data": {
      "text/plain": [
       "2"
      ]
     },
     "execution_count": 6,
     "metadata": {},
     "output_type": "execute_result"
    }
   ],
   "source": [
    "#랜덤 모듈 사용한 난수 생성\n",
    "\n",
    "import random\n",
    "\n",
    "random.random()        # 0.0 이상 1.0 미만의 실수\n",
    "random.randint(1, 10)   # 1 이상 10 이하의 정수 (정수 난수)\n",
    "random.uniform(1.5, 3.5) # 1.5 ~ 3.5 사이 실수 난수\n",
    "random.choice([1, 2, 3]) # 리스트에서 랜덤 선택"
   ]
  },
  {
   "cell_type": "code",
   "execution_count": 8,
   "id": "fb56b7a1",
   "metadata": {},
   "outputs": [
    {
     "data": {
      "text/plain": [
       "'a'"
      ]
     },
     "execution_count": 8,
     "metadata": {},
     "output_type": "execute_result"
    }
   ],
   "source": [
    "#보안용 난수\n",
    "# - secrets는 진짜 무작위에 가까운 난수를 만들어 암호화에 적합합니다.\n",
    "\n",
    "import secrets\n",
    "\n",
    "secrets.randbelow(100)  # 0 이상 100 미만의 정수 난수\n",
    "secrets.choice(['a', 'b', 'c'])  # 안전하게 무작위 선택"
   ]
  },
  {
   "cell_type": "code",
   "execution_count": 10,
   "id": "d7c39b1b",
   "metadata": {},
   "outputs": [
    {
     "name": "stdout",
     "output_type": "stream",
     "text": [
      "82\n"
     ]
    }
   ],
   "source": [
    "#시드 이용 예시\n",
    "# 시드를 설정하면 재현 가능한(random but reproducible) 결과를 만들 수 있어 실험, 테스트 등에 유용합니다.\n",
    "random.seed(42)\n",
    "print(random.randint(1, 100))  # 항상 같은 값 출력\n"
   ]
  },
  {
   "cell_type": "code",
   "execution_count": 2,
   "id": "b3ea2a72",
   "metadata": {},
   "outputs": [
    {
     "name": "stdout",
     "output_type": "stream",
     "text": [
      "214748364715643241235425\n"
     ]
    }
   ],
   "source": [
    "x = 214748364715643241235424\n",
    "x = x + 1\n",
    "print(x)"
   ]
  },
  {
   "cell_type": "code",
   "execution_count": 2,
   "id": "dbefad22",
   "metadata": {},
   "outputs": [
    {
     "name": "stdout",
     "output_type": "stream",
     "text": [
      "Hello Python\n",
      "홍길동\n",
      "Hello, Python\n",
      "홍길동\n",
      "He said \"Hello Python\"\n"
     ]
    }
   ],
   "source": [
    "# print() 함수를 이용해서 출력. 괄호 안의 내용을 출력시킴\n",
    "print('Hello Python') \\\n",
    "print('홍길동') \\\\\\\\\\ \\\\\\\\\n",
    "print(\"Hello, Python\\n홍길동\")\n",
    "\n",
    "sentence = 'He said \"Hello Python\"' #홑따옴표와 쌍따옴표는 누가 더 크다가 없다.\n",
    "print(sentence)\n",
    "\n",
    "# 문자열은"
   ]
  },
  {
   "cell_type": "code",
   "execution_count": 5,
   "id": "e226fc46",
   "metadata": {},
   "outputs": [
    {
     "name": "stdout",
     "output_type": "stream",
     "text": [
      "27\n",
      "252\n"
     ]
    },
    {
     "data": {
      "text/plain": [
       "'KIMSANGYOON'"
      ]
     },
     "execution_count": 5,
     "metadata": {},
     "output_type": "execute_result"
    }
   ],
   "source": [
    "age = 25 # 숫자\n",
    "duration = '2' # 문자\n",
    "print(age + int(duration) )\n",
    "print(str(age) + duration)\n",
    "# View > Menu > Toggle Line Number 선택하면\n",
    "# Int는 정수 기반 숫자 데이터를 다루는 용도 (정수란 소수점 없는 수를 의미)\n",
    "# str(*스트링) 은 문자들의 집합(문자열)을 저장하는 자료형\n",
    "int (10+20)\n",
    "str ('Hi'*3)\n",
    "str ('KIM'+'SANGYOON')"
   ]
  },
  {
   "cell_type": "code",
   "execution_count": null,
   "id": "b4c428f4",
   "metadata": {},
   "outputs": [],
   "source": [
    " for → 반복문을 시작하겠다는 키워드\n",
    " i → 반복할 때마다 바뀌는 변수 (보통 인덱스로 사용)\n",
    "range(7) → 0부터 6까지 정수 7개를 만들어주는 함수\n",
    "\n",
    "0, 1, 2, 3, 4, 5, 6"
   ]
  },
  {
   "cell_type": "code",
   "execution_count": 37,
   "id": "35b0eaf4",
   "metadata": {},
   "outputs": [
    {
     "name": "stdout",
     "output_type": "stream",
     "text": [
      "0\n",
      "1\n",
      "2\n",
      "3\n",
      "4\n",
      "5\n",
      "6\n",
      "7\n",
      "8\n",
      "9\n"
     ]
    }
   ],
   "source": [
    "#무한계산법과 중지\n",
    "for i in range(10):\n",
    "    print(i)\n",
    "    #무한 수 검색에 대한 수행 중지 방법\n",
    "    #for는 예약어다\n",
    "    # 1) Stop 아이콘 클릭 > 값 계산 중지됨.\n",
    "    # 2) Kernel 메뉴의 Restart를 누르면 메모리에 있었던 게 사라지면서 수행중인 게 멈춰짐"
   ]
  },
  {
   "cell_type": "code",
   "execution_count": 8,
   "id": "a30bc688",
   "metadata": {},
   "outputs": [
    {
     "name": "stdout",
     "output_type": "stream",
     "text": [
      "1\n",
      "2\n",
      "3\n"
     ]
    }
   ],
   "source": [
    "for i in range(1, 4):\n",
    "    print(i)"
   ]
  },
  {
   "cell_type": "code",
   "execution_count": 6,
   "id": "79d3b3f5",
   "metadata": {},
   "outputs": [
    {
     "name": "stdout",
     "output_type": "stream",
     "text": [
      "14\n",
      "17\n"
     ]
    }
   ],
   "source": [
    "for i in range(14, 20, 3):\n",
    "    print(i)"
   ]
  },
  {
   "cell_type": "code",
   "execution_count": 18,
   "id": "9b905531",
   "metadata": {},
   "outputs": [
    {
     "data": {
      "text/plain": [
       "5"
      ]
     },
     "execution_count": 18,
     "metadata": {},
     "output_type": "execute_result"
    }
   ],
   "source": [
    "print = 5\n",
    "print\n",
    "#위 처럼 할 경우, print는 원래 함수역할이지만 숫자로 치부되는 변수가 발생. 이후 모든 셀 값에 모두반영됨."
   ]
  },
  {
   "cell_type": "code",
   "execution_count": 24,
   "id": "734bc7e4",
   "metadata": {},
   "outputs": [
    {
     "name": "stdout",
     "output_type": "stream",
     "text": [
      "Hello\n"
     ]
    }
   ],
   "source": [
    "print ('Hello')"
   ]
  },
  {
   "cell_type": "code",
   "execution_count": 22,
   "id": "0c489dd4",
   "metadata": {},
   "outputs": [
    {
     "ename": "NameError",
     "evalue": "name 'print' is not defined",
     "output_type": "error",
     "traceback": [
      "\u001b[1;31m---------------------------------------------------------------------------\u001b[0m",
      "\u001b[1;31mNameError\u001b[0m                                 Traceback (most recent call last)",
      "Cell \u001b[1;32mIn[22], line 2\u001b[0m\n\u001b[0;32m      1\u001b[0m \u001b[38;5;66;03m# 이에 따라 실수로 할당된 print 변수를 삭제 방법1\u001b[39;00m\n\u001b[1;32m----> 2\u001b[0m \u001b[38;5;28;01mdel\u001b[39;00m \u001b[38;5;28mprint\u001b[39m\n",
      "\u001b[1;31mNameError\u001b[0m: name 'print' is not defined"
     ]
    }
   ],
   "source": [
    "# 이에 따라 실수로 할당된 print 변수를 삭제 방법1\n",
    "del print\n",
    "# 삭제 방법 2 : Kernel > 재시작\n",
    "# 지운 상태에서 또 지우라하면 에러가 남."
   ]
  },
  {
   "cell_type": "code",
   "execution_count": 26,
   "id": "3e942a39",
   "metadata": {},
   "outputs": [],
   "source": [
    "# %1s에 대해서 \n",
    "# %s는 문자열(string)을 삽입하겠다는 뜻입니다.\n",
    "# 1은 **최소 너비(width)**를 의미합니다.\n",
    "# 즉, %1s는 **\"최소 너비 1칸을 확보해서 문자열을 출력하라\"**는 의미예요.\n",
    "# %1s\t최소 1칸 너비로 문자열 출력\n",
    "# %5s\t최소 5칸 너비로 오른쪽 정렬 출력"
   ]
  },
  {
   "cell_type": "code",
   "execution_count": 7,
   "id": "45d5ccfe",
   "metadata": {},
   "outputs": [
    {
     "name": "stdout",
     "output_type": "stream",
     "text": [
      "ABC\n",
      "Python\n",
      "     Hello\n"
     ]
    }
   ],
   "source": [
    "print(\"%1s\" % \"ABC\")\n",
    "print(\"%5s\" % \"Python\")\n",
    "print(\"%10s\" % \"Hello\")"
   ]
  },
  {
   "cell_type": "code",
   "execution_count": 2,
   "id": "a3a77a8b",
   "metadata": {},
   "outputs": [],
   "source": [
    "# 스칼라 데이터? 아스키코드? 공부 ㄱㄱ"
   ]
  },
  {
   "cell_type": "code",
   "execution_count": null,
   "id": "34338bff",
   "metadata": {},
   "outputs": [],
   "source": []
  },
  {
   "cell_type": "code",
   "execution_count": null,
   "id": "924783ad",
   "metadata": {},
   "outputs": [],
   "source": []
  },
  {
   "cell_type": "code",
   "execution_count": null,
   "id": "80f99112",
   "metadata": {},
   "outputs": [],
   "source": [
    "# 셀하나하나에 파이썬 소스 입력 -> 실행"
   ]
  },
  {
   "cell_type": "code",
   "execution_count": null,
   "id": "3b330810",
   "metadata": {},
   "outputs": [],
   "source": []
  },
  {
   "cell_type": "code",
   "execution_count": null,
   "id": "5da40b10",
   "metadata": {},
   "outputs": [],
   "source": []
  },
  {
   "cell_type": "code",
   "execution_count": null,
   "id": "0e7f1b3e",
   "metadata": {},
   "outputs": [],
   "source": []
  }
 ],
 "metadata": {
  "kernelspec": {
   "display_name": "Python 3 (ipykernel)",
   "language": "python",
   "name": "python3"
  },
  "language_info": {
   "codemirror_mode": {
    "name": "ipython",
    "version": 3
   },
   "file_extension": ".py",
   "mimetype": "text/x-python",
   "name": "python",
   "nbconvert_exporter": "python",
   "pygments_lexer": "ipython3",
   "version": "3.10.9"
  },
  "toc": {
   "base_numbering": 1,
   "nav_menu": {},
   "number_sections": false,
   "sideBar": true,
   "skip_h1_title": false,
   "title_cell": "Table of Contents",
   "title_sidebar": "Contents",
   "toc_cell": false,
   "toc_position": {
    "height": "calc(100% - 180px)",
    "left": "10px",
    "top": "150px",
    "width": "241.4px"
   },
   "toc_section_display": true,
   "toc_window_display": true
  }
 },
 "nbformat": 4,
 "nbformat_minor": 5
}
