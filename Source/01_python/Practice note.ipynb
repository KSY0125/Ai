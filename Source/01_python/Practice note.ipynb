{
 "cells": [
  {
   "cell_type": "code",
   "execution_count": 10,
   "id": "a50a4bf5",
   "metadata": {},
   "outputs": [
    {
     "data": {
      "text/html": [
       "\n",
       "<style>\n",
       "div.container{width:90% !important;}\n",
       "div.cell.code_cell.rendered{width:100%;}\n",
       "div.input_prompt{padding:0px;}\n",
       "div.CodeMirror {font-family:Consolas; font-size:12pt;}\n",
       "div.text_cell_render.rendered_html{font-size:12pt;}\n",
       "div.output {font-size:12pt; font-weight:bold;}\n",
       "div.input {font-family:Consolas; font-size:12pt;}\n",
       "div.prompt {min-width:100px;}\n",
       "div#toc-wrapper{padding-top:120px;}\n",
       "div.text_cell_render ul li{font-size:12pt;padding:5px;}\n",
       "table.dataframe{font-size:12px;}\n",
       "</style>\n"
      ],
      "text/plain": [
       "<IPython.core.display.HTML object>"
      ]
     },
     "metadata": {},
     "output_type": "display_data"
    }
   ],
   "source": [
    "from IPython.display import display, HTML\n",
    "display(HTML(\"\"\"\n",
    "<style>\n",
    "div.container{width:90% !important;}\n",
    "div.cell.code_cell.rendered{width:100%;}\n",
    "div.input_prompt{padding:0px;}\n",
    "div.CodeMirror {font-family:Consolas; font-size:12pt;}\n",
    "div.text_cell_render.rendered_html{font-size:12pt;}\n",
    "div.output {font-size:12pt; font-weight:bold;}\n",
    "div.input {font-family:Consolas; font-size:12pt;}\n",
    "div.prompt {min-width:100px;}\n",
    "div#toc-wrapper{padding-top:120px;}\n",
    "div.text_cell_render ul li{font-size:12pt;padding:5px;}\n",
    "table.dataframe{font-size:12px;}\n",
    "</style>\n",
    "\"\"\"))"
   ]
  },
  {
   "cell_type": "markdown",
   "id": "74261f10",
   "metadata": {},
   "source": [
    "#### Q1. 반지름이 r인 원의 넓이를 구하는 함수 만들어보기 (정수/실수 가능)\n",
    "- float는 정수 실수 모두를 받음"
   ]
  },
  {
   "cell_type": "code",
   "execution_count": 29,
   "id": "e1635468",
   "metadata": {},
   "outputs": [
    {
     "name": "stdout",
     "output_type": "stream",
     "text": [
      "원의 반지름을 입력하세요 :5\n",
      "넓이: 78.50\n"
     ]
    }
   ],
   "source": [
    "def circlearea():\n",
    "    while True:\n",
    "        try:\n",
    "            r = float(input('원의 반지름을 입력하세요 :'))\n",
    "            if r > 0:\n",
    "                break\n",
    "            else:\n",
    "                print('반지름은 0보다 커야 합니다.')\n",
    "        except ValueError:\n",
    "            print('숫자를 입력해주세요.')\n",
    "    area = 3.14 * r * r\n",
    "    return area\n",
    "print(f'넓이: {circlearea():.2f}')"
   ]
  },
  {
   "cell_type": "markdown",
   "id": "8bf5b6e5",
   "metadata": {},
   "source": [
    "#### Q1변형. 반지름이 r인 원의 넓이를 구하는 함수 만들어보기(numpy라이브러리 활용해서 정확한 값 받기)"
   ]
  },
  {
   "cell_type": "code",
   "execution_count": 26,
   "id": "609a3a3c",
   "metadata": {},
   "outputs": [
    {
     "name": "stdout",
     "output_type": "stream",
     "text": [
      "원의 반지름을 입력하세요  :4.1\n",
      "넓이: 52.81017250684441\n"
     ]
    }
   ],
   "source": [
    "def exactcirclearea():\n",
    "    import numpy as np\n",
    "    while True:\n",
    "        try:\n",
    "            r = float(input('원의 반지름을 입력하세요  :'))\n",
    "            if r > 0:\n",
    "                break\n",
    "            else:\n",
    "                print('반지름이 0보다 작을 순 없죠.')\n",
    "        except ValueError:\n",
    "            print('숫자를 입력해주세요.')\n",
    "    area = np.pi * r * r\n",
    "    return area\n",
    "print(f'넓이: {exactcirclearea()}')"
   ]
  },
  {
   "cell_type": "code",
   "execution_count": null,
   "id": "0403c65b",
   "metadata": {},
   "outputs": [],
   "source": []
  }
 ],
 "metadata": {
  "kernelspec": {
   "display_name": "Python 3 (ipykernel)",
   "language": "python",
   "name": "python3"
  },
  "language_info": {
   "codemirror_mode": {
    "name": "ipython",
    "version": 3
   },
   "file_extension": ".py",
   "mimetype": "text/x-python",
   "name": "python",
   "nbconvert_exporter": "python",
   "pygments_lexer": "ipython3",
   "version": "3.10.9"
  },
  "toc": {
   "base_numbering": 1,
   "nav_menu": {},
   "number_sections": false,
   "sideBar": true,
   "skip_h1_title": false,
   "title_cell": "Table of Contents",
   "title_sidebar": "Contents",
   "toc_cell": false,
   "toc_position": {},
   "toc_section_display": true,
   "toc_window_display": false
  }
 },
 "nbformat": 4,
 "nbformat_minor": 5
}
