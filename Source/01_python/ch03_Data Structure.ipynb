{
 "cells": [
  {
   "cell_type": "code",
   "execution_count": 376,
   "id": "aa99cdb4",
   "metadata": {},
   "outputs": [
    {
     "data": {
      "text/html": [
       "\n",
       "<style>\n",
       "div.container{width:90% !important;}\n",
       "div.cell.code_cell.rendered{width:100%;}\n",
       "div.input_prompt{padding:0px;}\n",
       "div.CodeMirror {font-family:Consolas; font-size:12pt;}\n",
       "div.text_cell_render.rendered_html{font-size:12pt;}\n",
       "div.output {font-size:12pt; font-weight:bold;}\n",
       "div.input {font-family:Consolas; font-size:12pt;}\n",
       "div.prompt {min-width:100px;}\n",
       "div#toc-wrapper{padding-top:120px;}\n",
       "div.text_cell_render ul li{font-size:12pt;padding:5px;}\n",
       "table.dataframe{font-size:12px;}\n",
       "</style>\n"
      ],
      "text/plain": [
       "<IPython.core.display.HTML object>"
      ]
     },
     "metadata": {},
     "output_type": "display_data"
    }
   ],
   "source": [
    "from IPython.display import display, HTML\n",
    "display(HTML(\"\"\"\n",
    "<style>\n",
    "div.container{width:90% !important;}\n",
    "div.cell.code_cell.rendered{width:100%;}\n",
    "div.input_prompt{padding:0px;}\n",
    "div.CodeMirror {font-family:Consolas; font-size:12pt;}\n",
    "div.text_cell_render.rendered_html{font-size:12pt;}\n",
    "div.output {font-size:12pt; font-weight:bold;}\n",
    "div.input {font-family:Consolas; font-size:12pt;}\n",
    "div.prompt {min-width:100px;}\n",
    "div#toc-wrapper{padding-top:120px;}\n",
    "div.text_cell_render ul li{font-size:12pt;padding:5px;}\n",
    "table.dataframe{font-size:12px;}\n",
    "</style>\n",
    "\"\"\"))"
   ]
  },
  {
   "cell_type": "markdown",
   "id": "ec7d185f",
   "metadata": {},
   "source": [
    "<b><font size=\"6\" Color=\"red\">ch03. Data Structure </font></b>\n",
    "- 리스트[80,20], 튜플(90,20), 딕셔너리{\"name\":\"홍\",\"score\":99}, 셋{10,20} \n",
    "\n",
    "# 1절 리스트\n",
    "## 1.1 리스트 만들기\n",
    "- []를 이용해서 만들며, 여러개 값(여러 타입)을 하나의 변수에 저장/관리할 수 있음 ex: 리스트[\"80\",20]\n",
    "- list()함수 이용도 가능\n",
    "- 인덱스 : 각 요소의 위치. 인덱스는 0부터 시작. 맨마지막 인덱스는 -1\n",
    "- 슬라이싱([from:to:step]) : 부분 데이터셋 추출\n",
    "- 인덱스와 슬라이싱을 이용해서 쓰기와 읽기 지원"
   ]
  },
  {
   "cell_type": "code",
   "execution_count": 4,
   "id": "a25ff0de",
   "metadata": {},
   "outputs": [
    {
     "data": {
      "text/plain": [
       "['apple', 'apple', 'orange', 'grape']"
      ]
     },
     "execution_count": 4,
     "metadata": {},
     "output_type": "execute_result"
    }
   ],
   "source": [
    "fruit = 'banana'\n",
    "fruits = ['banana', 'apple', 'orange', 'grape']\n",
    "fruits[0] = 'apple'\n",
    "fruits"
   ]
  },
  {
   "cell_type": "code",
   "execution_count": 1,
   "id": "da8af358",
   "metadata": {},
   "outputs": [
    {
     "data": {
      "text/plain": [
       "list"
      ]
     },
     "execution_count": 1,
     "metadata": {},
     "output_type": "execute_result"
    }
   ],
   "source": [
    "fruit = 'banana'\n",
    "fruits = ['banana', 'apple', 'orange', 'grape']\n",
    "type(fruits)"
   ]
  },
  {
   "cell_type": "code",
   "execution_count": 5,
   "id": "b84bd585",
   "metadata": {},
   "outputs": [
    {
     "name": "stdout",
     "output_type": "stream",
     "text": [
      "['banana', 'apple', 'orange', 'grape']\n",
      "banana\n",
      "grape\n"
     ]
    }
   ],
   "source": [
    "print(fruits)\n",
    "print(fruits[0]) #인덱싱을 이용한 읽기1 \n",
    "print(fruits[3]) #인덱싱을 이용한 읽기2 0방부터 3방까지가 최대이기 때문에\n",
    "# print(fruits[4])- 인덱싱은 없는 걸 가져오라 하면 에러가 난다"
   ]
  },
  {
   "cell_type": "code",
   "execution_count": 6,
   "id": "e26df4cf",
   "metadata": {},
   "outputs": [
    {
     "name": "stdout",
     "output_type": "stream",
     "text": [
      "['mango', 'apple', 'orange', 'grape']\n"
     ]
    }
   ],
   "source": [
    "fruits[0] = 'mango'\n",
    "print(fruits)"
   ]
  },
  {
   "cell_type": "code",
   "execution_count": 14,
   "id": "02f6f445",
   "metadata": {},
   "outputs": [
    {
     "name": "stdout",
     "output_type": "stream",
     "text": [
      "x=mango\n",
      "y=apple\n",
      "z=orange\n"
     ]
    }
   ],
   "source": [
    "fruits = ['mango', 'apple', 'orange']\n",
    "x, y, z = ['mango', 'apple', 'orange']\n",
    "print(\"x={}\".format(x))\n",
    "print(f\"y={y}\")\n",
    "print(f\"z={z}\")"
   ]
  },
  {
   "cell_type": "code",
   "execution_count": 18,
   "id": "35dbda10",
   "metadata": {},
   "outputs": [
    {
     "data": {
      "text/plain": [
       "range(0, 10)"
      ]
     },
     "execution_count": 18,
     "metadata": {},
     "output_type": "execute_result"
    }
   ],
   "source": [
    "# range(from, to, by) : from부터 to앞까지 by씩 증가하는 나열 가능한 자료를 만들어 줌.\n",
    "        # 숫자를 순차적으로 사용할 수 있게\n",
    "        # from 생략시 0, by생략시 1\n",
    "range(10) # 내부적으로 [0,1,2,3,4,5,6,7,8,9]를 안고 있다."
   ]
  },
  {
   "cell_type": "code",
   "execution_count": 20,
   "id": "5ee5c565",
   "metadata": {},
   "outputs": [
    {
     "data": {
      "text/plain": [
       "[0, 1, 2, 3, 4, 5, 6, 7, 8, 9]"
      ]
     },
     "execution_count": 20,
     "metadata": {},
     "output_type": "execute_result"
    }
   ],
   "source": [
    "list(range(10)) #range 함수도 생각보다 많이 쓰인다"
   ]
  },
  {
   "cell_type": "code",
   "execution_count": 23,
   "id": "651b1223",
   "metadata": {},
   "outputs": [
    {
     "data": {
      "text/plain": [
       "[10, 8, 6, 4, 2, 0]"
      ]
     },
     "execution_count": 23,
     "metadata": {},
     "output_type": "execute_result"
    }
   ],
   "source": [
    "list(range(10, -1, -2)) #10부터 -1까지 -2씩 단위로 반환해"
   ]
  },
  {
   "cell_type": "code",
   "execution_count": 46,
   "id": "3ebecf2d",
   "metadata": {},
   "outputs": [
    {
     "name": "stdout",
     "output_type": "stream",
     "text": [
      "0\n",
      "1\n",
      "2\n",
      "3\n",
      "4\n",
      "5\n",
      "6\n",
      "7\n",
      "8\n",
      "9\n"
     ]
    }
   ],
   "source": [
    "for i in [0,1,2,3,4,5,6,7,8,9]: # i 라는 변수에, 0,1,2,3,4,5,6,7,8,9를 각각 넣어서 실행 # 콜론(:)을무조건 넣어준다\n",
    "    print(i) #꼭 탭 들여쓰기 # 이건 range 함수와 가장 많이 쓰이는 'for 반복문'이다"
   ]
  },
  {
   "cell_type": "code",
   "execution_count": 44,
   "id": "9e18e43b",
   "metadata": {},
   "outputs": [
    {
     "name": "stdout",
     "output_type": "stream",
     "text": [
      "-5\n",
      "-3\n",
      "-1\n",
      "1\n"
     ]
    }
   ],
   "source": [
    "for i in range (-5, 2, 2): #까지가 2지만, 부터~까지이기 때문에 -5부터 1까지를 의미함\n",
    "    print(i)"
   ]
  },
  {
   "cell_type": "code",
   "execution_count": 56,
   "id": "f2ee960a",
   "metadata": {},
   "outputs": [
    {
     "name": "stdout",
     "output_type": "stream",
     "text": [
      "0번째 과일은 mango\n",
      "1번째 과일은 mango\n",
      "1번째 과일은 orange\n"
     ]
    }
   ],
   "source": [
    "#잘 안쓰는 방식\n",
    "fruits = ['mango', 'apple', 'orange']\n",
    "print(\"{}번째 과일은 {}\".format(0, fruits[0])) #함수식으로 correct\n",
    "print(\"{}번째 과일은 {}\".format(1, fruits[0])) #일반인의 시선으로 correct\n",
    "print(\"{}번째 과일은 {}\".format(1, fruits[2])) #이렇게 지정하기 나름\n",
    "#블럭처리하고 Ctrl + / 하면 주석처리 빠르게 가능"
   ]
  },
  {
   "cell_type": "code",
   "execution_count": 61,
   "id": "13750342",
   "metadata": {},
   "outputs": [
    {
     "name": "stdout",
     "output_type": "stream",
     "text": [
      "0번째 과일은 mango\n",
      "1번째 과일은 apple\n",
      "2번째 과일은 orange\n"
     ]
    }
   ],
   "source": [
    "#range를 활용한 방식 (변수 갯수 직접 입력) ****하드코딩이라 개발자들이 싫어하는 방식\n",
    "fruits = ['mango', 'apple', 'orange']\n",
    "for idx in range(3):\n",
    "    print(\"{}번째 과일은 {}\".format(idx, fruits[idx]))"
   ]
  },
  {
   "cell_type": "code",
   "execution_count": 78,
   "id": "2fbcdb74",
   "metadata": {},
   "outputs": [
    {
     "name": "stdout",
     "output_type": "stream",
     "text": [
      "0번째 과일은 mango\n",
      "1번째 과일은 apple\n",
      "2번째 과일은 orange\n"
     ]
    }
   ],
   "source": [
    "#range를 활용한 쉬운 방식 + len함수 활용 = 최종 제일 많이 씀\n",
    "fruits = ['mango', 'apple', 'orange']\n",
    "for idx in range(len(fruits)): #idx는 index의 약자다\n",
    "    print(\"{}번째 과일은 {}\".format(idx, fruits[idx]))"
   ]
  },
  {
   "cell_type": "code",
   "execution_count": 79,
   "id": "96b61fd3",
   "metadata": {},
   "outputs": [
    {
     "data": {
      "text/plain": [
       "[(0, 'mango'), (1, 'apple'), (2, 'orange')]"
      ]
     },
     "execution_count": 79,
     "metadata": {},
     "output_type": "execute_result"
    }
   ],
   "source": [
    "list(enumerate(fruits)) #보기쉽게 정렬시켜줌 대박이다"
   ]
  },
  {
   "cell_type": "code",
   "execution_count": 82,
   "id": "7a33cfa6",
   "metadata": {},
   "outputs": [
    {
     "name": "stdout",
     "output_type": "stream",
     "text": [
      "0번째 과일은 mango\n",
      "1번째 과일은 apple\n",
      "2번째 과일은 orange\n",
      "0번째 과일은 mango\n",
      "1번째 과일은 apple\n",
      "2번째 과일은 orange\n"
     ]
    }
   ],
   "source": [
    "for i, fruit in [(0, 'mango'), (1, 'apple'), (2, 'orange')]: #하드코딩방식\n",
    "    print(f\"{i}번째 과일은 {fruit}\") #포맷팅 \n",
    "\n",
    "#개선방식\n",
    "for i, fruit in enumerate(fruits): #Easy방식\n",
    "    print(f\"{i}번째 과일은 {fruit}\") #포맷팅 "
   ]
  },
  {
   "cell_type": "code",
   "execution_count": 87,
   "id": "7450a4b7",
   "metadata": {},
   "outputs": [
    {
     "name": "stdout",
     "output_type": "stream",
     "text": [
      "mango 획득\n",
      "apple 획득\n",
      "orange 획득\n"
     ]
    }
   ],
   "source": [
    "for item in fruits: #['mango','apple','orange'] 변수이름은 내 마음대로, item ~ x ~ whatever\n",
    "    print(f\"{item} 획득\")"
   ]
  },
  {
   "cell_type": "code",
   "execution_count": 103,
   "id": "69e92e12",
   "metadata": {},
   "outputs": [
    {
     "data": {
      "text/plain": [
       "('2', 5)"
      ]
     },
     "execution_count": 103,
     "metadata": {},
     "output_type": "execute_result"
    }
   ],
   "source": [
    "# 리스트는 여러 타입의 데이터를 담을 수 있음\n",
    "numbers = [0, True, \"2\", [2,3], [6,5], (4,2), {2,5}] #숫자, 논리, 문자, 리스트, 튜플, 딕셔너리까지 다 들어감 **리스트 안에 리스트까지 가능!!!\n",
    "numbers\n",
    "numbers[2], numbers[4][1] #인덱스는 0부터 시작하기에 0방부터해서 2번째 순서를 출력 #4와 1은 논리값이 더해져서 출력이 되는데 4와 5는 안됨. 이유확인 필요"
   ]
  },
  {
   "cell_type": "code",
   "execution_count": 107,
   "id": "5d5f24ae",
   "metadata": {},
   "outputs": [
    {
     "name": "stdout",
     "output_type": "stream",
     "text": [
      "[[1, 2, 3, 4, 5], [10, 20, 30, 40, 50], [1, 3, 5, 7, 9], [2, 4, 6, 8, 10]]\n"
     ]
    }
   ],
   "source": [
    "# 2차원 리스트\n",
    "numbers = [1,2,3,4,5]\n",
    "             # 0열/1열/2열/3열/4열               #가상의 엑셀을 만들어보면 쉽다\n",
    "numbers_2d = [[1,2,3,4,5],        #0행\n",
    "              [10,20,30,40,50],   #1행\n",
    "              [1,3,5,7,9],        #2행\n",
    "              [2,4,6,8,10]]       #3행\n",
    "print(numbers_2d)                            "
   ]
  },
  {
   "cell_type": "code",
   "execution_count": 109,
   "id": "b8c649a2",
   "metadata": {},
   "outputs": [
    {
     "data": {
      "text/plain": [
       "50"
      ]
     },
     "execution_count": 109,
     "metadata": {},
     "output_type": "execute_result"
    }
   ],
   "source": [
    "#특정행, 특정열 데이터 인덱싱\n",
    "numbers_2d[1][4] #그래서 1행(두번째 줄)의 4열 것(5번째 칸). "
   ]
  },
  {
   "cell_type": "code",
   "execution_count": 112,
   "id": "86e5b4f6",
   "metadata": {},
   "outputs": [
    {
     "name": "stdout",
     "output_type": "stream",
     "text": [
      "4\n"
     ]
    }
   ],
   "source": [
    "print(len(numbers_2d)) #numbers2d에는 데이터가 20개가 있는 게 아니라, 리스트로 묶어진 4개가 있는 것이다."
   ]
  },
  {
   "cell_type": "code",
   "execution_count": 115,
   "id": "21847945",
   "metadata": {},
   "outputs": [
    {
     "name": "stdout",
     "output_type": "stream",
     "text": [
      "5\n"
     ]
    }
   ],
   "source": [
    "print(len(numbers_2d[0])) #이게 왜 나온건지 이유확인 필수"
   ]
  },
  {
   "cell_type": "code",
   "execution_count": 123,
   "id": "4e435de7",
   "metadata": {},
   "outputs": [
    {
     "name": "stdout",
     "output_type": "stream",
     "text": [
      "1\t2\t3\t4\t5\t\n",
      "10\t20\t30\t40\t50\t\n",
      "1\t3\t5\t7\t9\t\n",
      "2\t4\t6\t8\t10\t\n"
     ]
    }
   ],
   "source": [
    "#중첩 for문\n",
    "for row in numbers_2d:\n",
    "    for item in row:\n",
    "        print(item, end='\\t') #end함수를 추가해 탭구분하여 하나씩 출력\n",
    "    print() #아무것도 안 넣어도 이렇게 되는 이유확인 필수"
   ]
  },
  {
   "cell_type": "code",
   "execution_count": 140,
   "id": "faf3bac6",
   "metadata": {},
   "outputs": [
    {
     "name": "stdout",
     "output_type": "stream",
     "text": [
      "0행0열:1\t0행1열:2\t0행2열:3\t0행3열:4\t0행4열:5\t\n",
      "1행0열:10\t1행1열:20\t1행2열:30\t1행3열:40\t1행4열:50\t\n",
      "2행0열:1\t2행1열:3\t2행2열:5\t2행3열:7\t2행4열:9\t\n",
      "3행0열:2\t3행1열:4\t3행2열:6\t3행3열:8\t3행4열:10\t\n"
     ]
    }
   ],
   "source": [
    "for i in range(len(numbers_2d)):    # i:행\n",
    "    for j in range(len(numbers_2d[i])):    # j:열\n",
    "        print(f\"{i}행{j}열:{numbers_2d[i][j]}\", end=\"\\t\")\n",
    "    print() #개행"
   ]
  },
  {
   "cell_type": "code",
   "execution_count": 139,
   "id": "dc302ffd",
   "metadata": {},
   "outputs": [
    {
     "data": {
      "text/plain": [
       "(4, 5, 5, 5)"
      ]
     },
     "execution_count": 139,
     "metadata": {},
     "output_type": "execute_result"
    }
   ],
   "source": [
    "len(numbers_2d), len(numbers_2d[0]), len(numbers_2d[1]), len(numbers_2d[2])"
   ]
  },
  {
   "cell_type": "code",
   "execution_count": 142,
   "id": "3ee56dc6",
   "metadata": {},
   "outputs": [
    {
     "data": {
      "text/plain": [
       "([(0, [1, 2, 3, 4, 5]),\n",
       "  (1, [10, 20, 30, 40, 50]),\n",
       "  (2, [1, 3, 5, 7, 9]),\n",
       "  (3, [2, 4, 6, 8, 10])],\n",
       " [(0, 1), (1, 2), (2, 3), (3, 4), (4, 5)])"
      ]
     },
     "execution_count": 142,
     "metadata": {},
     "output_type": "execute_result"
    }
   ],
   "source": [
    "list(enumerate(numbers_2d)), list(enumerate(numbers_2d[0]))"
   ]
  },
  {
   "cell_type": "code",
   "execution_count": 147,
   "id": "02d35b66",
   "metadata": {},
   "outputs": [
    {
     "name": "stdout",
     "output_type": "stream",
     "text": [
      "0행0열 : 1\t0행1열 : 2\t0행2열 : 3\t0행3열 : 4\t0행4열 : 5\t\n",
      "1행0열 : 10\t1행1열 : 20\t1행2열 : 30\t1행3열 : 40\t1행4열 : 50\t\n",
      "2행0열 : 1\t2행1열 : 3\t2행2열 : 5\t2행3열 : 7\t2행4열 : 9\t\n",
      "3행0열 : 2\t3행1열 : 4\t3행2열 : 6\t3행3열 : 8\t3행4열 : 10\t\n"
     ]
    }
   ],
   "source": [
    "for i, row in enumerate(numbers_2d):\n",
    "    for j, item in enumerate(numbers_2d[i]):\n",
    "        print(\"{}행{}열 : {}\".format(i, j, numbers_2d[i][j]), end=\"\\t\")\n",
    "    print() #개행"
   ]
  },
  {
   "cell_type": "markdown",
   "id": "94d340a1",
   "metadata": {},
   "source": [
    "## 1.2 기본정보 조회"
   ]
  },
  {
   "cell_type": "code",
   "execution_count": 156,
   "id": "3dd9a468",
   "metadata": {},
   "outputs": [],
   "source": [
    "numbers = [1,12,3,4,5]\n",
    "numbers_2d = [[100,0,1],\n",
    "              [9,100,100],\n",
    "              [59,100,130]]"
   ]
  },
  {
   "cell_type": "code",
   "execution_count": 157,
   "id": "fe4c9985",
   "metadata": {},
   "outputs": [
    {
     "data": {
      "text/plain": [
       "(5, 3)"
      ]
     },
     "execution_count": 157,
     "metadata": {},
     "output_type": "execute_result"
    }
   ],
   "source": [
    "# item 수\n",
    "len(numbers), len(numbers_2d)"
   ]
  },
  {
   "cell_type": "code",
   "execution_count": 160,
   "id": "70c0e445",
   "metadata": {},
   "outputs": [
    {
     "data": {
      "text/plain": [
       "(1, [9, 100, 100], 12, [100, 0, 1])"
      ]
     },
     "execution_count": 160,
     "metadata": {},
     "output_type": "execute_result"
    }
   ],
   "source": [
    "# 최소값과 최대값\n",
    "#numbers에서는 수들 중에서 최소값을 구함.\n",
    "#무조건 0번째 수만 보고 계산해서 2행을 최소값으로 구한 것.\n",
    "#2차원 list의 최소/최대값 : 부분리스트 중 첫 요소가 가장 작은 값/큰 값이 됨.\n",
    "min(numbers), min(numbers_2d), max(numbers), max(numbers_2d)   "
   ]
  },
  {
   "cell_type": "code",
   "execution_count": 161,
   "id": "0da4be4a",
   "metadata": {},
   "outputs": [
    {
     "data": {
      "text/plain": [
       "('apple', 'orange')"
      ]
     },
     "execution_count": 161,
     "metadata": {},
     "output_type": "execute_result"
    }
   ],
   "source": [
    "# list의 데이터가 문자일 경우, ASCII코드값으로 min과 max값 적용\n",
    "fruits = ['mango', 'apple', 'orange']\n",
    "min(fruits), max(fruits)"
   ]
  },
  {
   "cell_type": "code",
   "execution_count": 168,
   "id": "bd0023eb",
   "metadata": {},
   "outputs": [
    {
     "name": "stdout",
     "output_type": "stream",
     "text": [
      "오름차 순 정렬 : [1, 3, 4, 5, 12]\n",
      "내림차 순 정렬 : [12, 5, 4, 3, 1]\n",
      "합 : 25\n",
      "평균 : 5.0\n",
      "sorted 함수 사용 시 리스트의 내용이 바뀌지 않음 : [1, 12, 3, 4, 5]\n"
     ]
    }
   ],
   "source": [
    "# 정렬하기\n",
    "numbers = [1,12,3,4,5] #이 안에 문자값인 \"12\" 넣을 경우, sorted 당연히 적용불가\n",
    "print(\"오름차 순 정렬 :\", sorted(numbers))\n",
    "print(\"내림차 순 정렬 :\", sorted(numbers, reverse=True))\n",
    "print(\"합 :\", sum(numbers))\n",
    "print(\"평균 :\", sum(numbers)/len(numbers))\n",
    "print(\"sorted 함수 사용 시 리스트의 내용이 바뀌지 않음 :\", numbers)"
   ]
  },
  {
   "cell_type": "markdown",
   "id": "95bbf9e3",
   "metadata": {},
   "source": [
    "## 1.3 요소 추가\n",
    "- `+` : 두 리스트 연결\n",
    "- `*` : 리스트를 곱한 수만큼 반복\n",
    "- `append()` : 요소 맨 뒤에 추가\n",
    "- `extend(리스트)` : 리스트를 요소별로 맨 뒤에 추가\n",
    "- `insert(idx, 값)` : idx번째 인덱스 위치에 값 추가"
   ]
  },
  {
   "cell_type": "code",
   "execution_count": 172,
   "id": "7f900d9d",
   "metadata": {},
   "outputs": [
    {
     "data": {
      "text/plain": [
       "[1, 2, 3, 1, 2, 3]"
      ]
     },
     "execution_count": 172,
     "metadata": {},
     "output_type": "execute_result"
    }
   ],
   "source": [
    "numbers = [1, 2, 3]\n",
    "numbers = numbers + numbers # 리스트 연결\n",
    "numbers"
   ]
  },
  {
   "cell_type": "code",
   "execution_count": 173,
   "id": "9da996d7",
   "metadata": {},
   "outputs": [
    {
     "name": "stdout",
     "output_type": "stream",
     "text": [
      "[1, 2, 3, 1, 2, 3, 1, 2, 3]\n",
      "[1, 2, 3, 1, 2, 3, 1, 2, 3]\n"
     ]
    }
   ],
   "source": [
    "numbers = [1, 2, 3]\n",
    "print(numbers*3) # 곱한 수만큼 반복\n",
    "print(3*numbers)"
   ]
  },
  {
   "cell_type": "code",
   "execution_count": 174,
   "id": "c039bf8a",
   "metadata": {},
   "outputs": [
    {
     "data": {
      "text/plain": [
       "[1, 2, 3, 4]"
      ]
     },
     "execution_count": 174,
     "metadata": {},
     "output_type": "execute_result"
    }
   ],
   "source": [
    "numbers.append(4) # 맨 뒤에 4 추가\n",
    "numbers"
   ]
  },
  {
   "cell_type": "code",
   "execution_count": 179,
   "id": "58483c42",
   "metadata": {},
   "outputs": [
    {
     "data": {
      "text/plain": [
       "[1, 2, 3, 4, [5, 6, 7], [5, 6, 7], [5, 6, 7], [5, 6, 7]]"
      ]
     },
     "execution_count": 179,
     "metadata": {},
     "output_type": "execute_result"
    }
   ],
   "source": [
    "numbers.append([5,6,7]) # 리스트 안 내용 그대로 추가 #계속 입력하면 계속 추가됨.\n",
    "numbers"
   ]
  },
  {
   "cell_type": "code",
   "execution_count": 181,
   "id": "c4866484",
   "metadata": {},
   "outputs": [
    {
     "data": {
      "text/plain": [
       "[1, 2, 3, 5, 6, 7]"
      ]
     },
     "execution_count": 181,
     "metadata": {},
     "output_type": "execute_result"
    }
   ],
   "source": [
    "numbers = [1, 2, 3]\n",
    "numbers.extend([5,6,7]) #내용만 그대로 들어감\n",
    "numbers"
   ]
  },
  {
   "cell_type": "code",
   "execution_count": 182,
   "id": "02d76e51",
   "metadata": {},
   "outputs": [
    {
     "data": {
      "text/plain": [
       "['a', 'b', 'c', 'd']"
      ]
     },
     "execution_count": 182,
     "metadata": {},
     "output_type": "execute_result"
    }
   ],
   "source": [
    "lst = ['a','b','c']\n",
    "lst.append('d')\n",
    "lst"
   ]
  },
  {
   "cell_type": "code",
   "execution_count": 186,
   "id": "f4e6a8ba",
   "metadata": {},
   "outputs": [
    {
     "data": {
      "text/plain": [
       "['a', 'b', 'c', 'hello']"
      ]
     },
     "execution_count": 186,
     "metadata": {},
     "output_type": "execute_result"
    }
   ],
   "source": [
    "lst = ['a','b','c']\n",
    "lst.append('hello')\n",
    "lst"
   ]
  },
  {
   "cell_type": "code",
   "execution_count": 185,
   "id": "494c26fd",
   "metadata": {},
   "outputs": [
    {
     "data": {
      "text/plain": [
       "['a', 'b', 'c', 'h', 'e', 'l', 'l', 'o']"
      ]
     },
     "execution_count": 185,
     "metadata": {},
     "output_type": "execute_result"
    }
   ],
   "source": [
    "lst = ['a','b','c']\n",
    "lst.extend('hello') # extend는 리스트가 풀어져서 요소별로 들어감\n",
    "lst"
   ]
  },
  {
   "cell_type": "code",
   "execution_count": 193,
   "id": "701c7ea9",
   "metadata": {},
   "outputs": [
    {
     "data": {
      "text/plain": [
       "[1, 2, 'poop', 3, 4, 5]"
      ]
     },
     "execution_count": 193,
     "metadata": {},
     "output_type": "execute_result"
    }
   ],
   "source": [
    "numbers = [1,2,3,4,5]\n",
    "numbers.insert(2, 'poop') # (2)번째 인덱스에 'xx' 추가 # 기존 데이터 사이를 삐집고 들어가서 추가 > 차순 데이터가 밀림\n",
    "numbers"
   ]
  },
  {
   "cell_type": "markdown",
   "id": "e201c1f3",
   "metadata": {},
   "source": [
    "## 1.4 인덱싱과 요소 갯수\n",
    "- list변수[index] : 인덱스를 이용한 접근 \n",
    "- index(찾을데이터) : 해당 찾을 데이터가 있는 요소의 index를 반환 **없으면 에러 남.\n",
    "- 찾을데이터 in list변수 : 찾을데이터가 리스트변수의 요소인지 여부\n",
    "- count(찾을데이터) : 리스트에서 해당 찾을데이터의 갯수를 반환"
   ]
  },
  {
   "cell_type": "code",
   "execution_count": 199,
   "id": "2e7ae5a6",
   "metadata": {},
   "outputs": [
    {
     "name": "stdout",
     "output_type": "stream",
     "text": [
      "1\n",
      "2\n"
     ]
    }
   ],
   "source": [
    "numbers = [1, 2, 3, [1,2,3], 1, 2, 3] #데이터는 7개다.\n",
    "print(numbers.count([1,2,3]))\n",
    "print(numbers.count(2)) # 이렇게 쳐도 되지만, 콤마형식으로 여러개 물어도 된다. 아래처럼"
   ]
  },
  {
   "cell_type": "code",
   "execution_count": 202,
   "id": "b1f6ef93",
   "metadata": {},
   "outputs": [
    {
     "data": {
      "text/plain": [
       "(1, 0, 2)"
      ]
     },
     "execution_count": 202,
     "metadata": {},
     "output_type": "execute_result"
    }
   ],
   "source": [
    "numbers = [1, 2, 3, [1,2,3], 1, 2, 3] #데이터는 7개다.\n",
    "numbers.count([1,2,3]), numbers.count(6), numbers.count(2) #없는 걸 물어보면 0이라 대답함"
   ]
  },
  {
   "cell_type": "code",
   "execution_count": 204,
   "id": "d6f135b4",
   "metadata": {},
   "outputs": [
    {
     "name": "stdout",
     "output_type": "stream",
     "text": [
      "True\n",
      "False\n"
     ]
    }
   ],
   "source": [
    "print(2 in numbers) #numbers 안에 변수값이 존재하는지만 체크\n",
    "print(5 in numbers) #없으니 False"
   ]
  },
  {
   "cell_type": "code",
   "execution_count": 216,
   "id": "fe7388fb",
   "metadata": {},
   "outputs": [
    {
     "data": {
      "text/plain": [
       "0"
      ]
     },
     "execution_count": 216,
     "metadata": {},
     "output_type": "execute_result"
    }
   ],
   "source": [
    "numbers.index(2)\n",
    "numbers.index(1) #없으면 에러 남. 그래서 함부로 썼다간 셧다운됨."
   ]
  },
  {
   "cell_type": "code",
   "execution_count": 215,
   "id": "412c9bc5",
   "metadata": {
    "scrolled": true
   },
   "outputs": [
    {
     "name": "stdout",
     "output_type": "stream",
     "text": [
      "5가 요소에 포함되지 않습니다\n"
     ]
    }
   ],
   "source": [
    "if 5 in numbers:  #이렇게 많이 씀. 가독성 좋아서\n",
    "    print(numbers.index(5))\n",
    "else:\n",
    "    print('5가 요소에 포함되지 않습니다')"
   ]
  },
  {
   "cell_type": "code",
   "execution_count": 214,
   "id": "4cb54848",
   "metadata": {},
   "outputs": [
    {
     "name": "stdout",
     "output_type": "stream",
     "text": [
      "5가 요소에 포함되지 않습니다\n"
     ]
    }
   ],
   "source": [
    "if numbers.count(5):  #이렇게 쳐도 됨.\n",
    "    print(numbers.index(5))\n",
    "else:\n",
    "    print('5가 요소에 포함되지 않습니다')"
   ]
  },
  {
   "cell_type": "code",
   "execution_count": 360,
   "id": "6cc723a9",
   "metadata": {},
   "outputs": [],
   "source": [
    "def safe_index(lst, item): #여러줄일 경우 큰 따옴표 #def는 파이썬에서 함수를 만들기 위해 선언하는 단어다.\n",
    "    \"\"\"첫번째 매개변수 lst에서 item 요소가 있는 index를 반환. \n",
    "    item 요소가 없으면 -1 반환\"\"\"\n",
    "    if item in lst:\n",
    "        return lst.index(item) #있으면 인덱스를 리턴해라\n",
    "    return -1 #없으면 -1로 반환"
   ]
  },
  {
   "cell_type": "code",
   "execution_count": 1,
   "id": "cab01b3e",
   "metadata": {},
   "outputs": [
    {
     "data": {
      "text/plain": [
       "(1, -1)"
      ]
     },
     "execution_count": 1,
     "metadata": {},
     "output_type": "execute_result"
    }
   ],
   "source": [
    "from flist import safe_index # lst.py(모듈)안의 safe_index를 메모리에 load\n",
    "numbers = [1, 2, 3]\n",
    "safe_index(numbers, 2), safe_index(numbers, 5)"
   ]
  },
  {
   "cell_type": "code",
   "execution_count": 9,
   "id": "9645ef4a",
   "metadata": {
    "collapsed": true
   },
   "outputs": [
    {
     "ename": "IndexError",
     "evalue": "list index out of range",
     "output_type": "error",
     "traceback": [
      "\u001b[1;31m---------------------------------------------------------------------------\u001b[0m",
      "\u001b[1;31mIndexError\u001b[0m                                Traceback (most recent call last)",
      "Cell \u001b[1;32mIn[9], line 1\u001b[0m\n\u001b[1;32m----> 1\u001b[0m \u001b[43mnumbers\u001b[49m\u001b[43m[\u001b[49m\u001b[38;5;241;43m5\u001b[39;49m\u001b[43m]\u001b[49m\n",
      "\u001b[1;31mIndexError\u001b[0m: list index out of range"
     ]
    }
   ],
   "source": [
    "numbers[5] # 벗어난 인덱스로 인덱싱 시 에러"
   ]
  },
  {
   "cell_type": "code",
   "execution_count": 11,
   "id": "5736ec9e",
   "metadata": {},
   "outputs": [
    {
     "data": {
      "text/plain": [
       "[3]"
      ]
     },
     "execution_count": 11,
     "metadata": {},
     "output_type": "execute_result"
    }
   ],
   "source": [
    "numbers[2:5] # 벗어난 인덱스로 슬라이싱 시 에러가 안 남"
   ]
  },
  {
   "cell_type": "markdown",
   "id": "73d12213",
   "metadata": {},
   "source": [
    "## 1.5 원하는 요소 추출\n",
    "1. 리스트 슬라이싱\n",
    "    - [from:to:step] from번째부터 to앞까지 step씩 증가하는 index값을 추출\n",
    "      * from 생략 시 처음, to 생략 시 끝, step 생략 시 1\n",
    "    - 인덱스의 범위를 벗어난 값도 에러나지 않음\n",
    "    - 인덱스는 음수도 가능\n",
    "\n",
    "2. <font color=\"red\">**리스트컴프리헨션**</font> : 원하는 조건의 데이터 추출"
   ]
  },
  {
   "cell_type": "code",
   "execution_count": 9,
   "id": "0435d7d6",
   "metadata": {},
   "outputs": [
    {
     "name": "stdout",
     "output_type": "stream",
     "text": [
      "[20, 19, 18, 13, 12, 10, 9, 5, 3, 1]\n",
      "[1, 5, 10, 13, 19]\n",
      "[5, 9, 10, 12, 13, 18, 19, 20]\n",
      "[1, 5, 10]\n"
     ]
    }
   ],
   "source": [
    "numbers = [1, 3, 5, 9, 10, 12, 13, 18, 19, 20]\n",
    "print(numbers[::-1]) #거꾸로 출력\n",
    "print(numbers[0::2]) #짝수 순서의 인덱스 출력. to생략\n",
    "print(numbers[2:100]) #인덱스를 벗어난 슬라이싱 가능\n",
    "print(numbers[:5:2]) #from을 생략한 것"
   ]
  },
  {
   "cell_type": "code",
   "execution_count": 11,
   "id": "27d408da",
   "metadata": {},
   "outputs": [
    {
     "name": "stdout",
     "output_type": "stream",
     "text": [
      "1\t3\t5\t9\t10\t12\t13\t18\t19\t20\t"
     ]
    }
   ],
   "source": [
    "# 모든 데이터 추출\n",
    "numbers = [1, 3, 5, 9, 10, 12, 13, 18, 19, 20]\n",
    "for data in numbers:\n",
    "    print(data, end='\\t')\n"
   ]
  },
  {
   "cell_type": "code",
   "execution_count": 12,
   "id": "3c0beba1",
   "metadata": {},
   "outputs": [
    {
     "data": {
      "text/plain": [
       "[1, 3, 5, 9, 10, 12, 13, 18, 19, 20]"
      ]
     },
     "execution_count": 12,
     "metadata": {},
     "output_type": "execute_result"
    }
   ],
   "source": [
    "# 모든 데이터 추출2\n",
    "numbers = [1, 3, 5, 9, 10, 12, 13, 18, 19, 20]\n",
    "[data for data in numbers]"
   ]
  },
  {
   "cell_type": "code",
   "execution_count": 19,
   "id": "50bcde5d",
   "metadata": {},
   "outputs": [
    {
     "name": "stdout",
     "output_type": "stream",
     "text": [
      "10 12 18 20 "
     ]
    }
   ],
   "source": [
    "# 짝수 데이터 추출\n",
    "for data in numbers:\n",
    "    if data%2==0:\n",
    "        print(data, end=\" \") #데이터 출력하고 데이터마다끝에는 스페이스 하나 쳐라"
   ]
  },
  {
   "cell_type": "code",
   "execution_count": 17,
   "id": "7af3168e",
   "metadata": {},
   "outputs": [
    {
     "data": {
      "text/plain": [
       "[10, 12, 18, 20]"
      ]
     },
     "execution_count": 17,
     "metadata": {},
     "output_type": "execute_result"
    }
   ],
   "source": [
    "# 짝수 데이터 추출2\n",
    "[data for data in numbers if data%2==0]"
   ]
  },
  {
   "cell_type": "code",
   "execution_count": 20,
   "id": "69146a63",
   "metadata": {},
   "outputs": [
    {
     "data": {
      "text/plain": [
       "[10, 12, 13, 18, 19, 20]"
      ]
     },
     "execution_count": 20,
     "metadata": {},
     "output_type": "execute_result"
    }
   ],
   "source": [
    "#Quiz.1 numbers에서 10이상인 요소만 추출\n",
    "[data for data in numbers if data>=10]"
   ]
  },
  {
   "cell_type": "code",
   "execution_count": 47,
   "id": "a669f53d",
   "metadata": {},
   "outputs": [
    {
     "data": {
      "text/plain": [
       "['orange', 'apple', 'mango']"
      ]
     },
     "execution_count": 47,
     "metadata": {},
     "output_type": "execute_result"
    }
   ],
   "source": [
    "#Quiz.2 fruits에서 과일의 글자가 5글자 이상이 과일만 추출\n",
    "fruits = ['orange', 'apple', 'mango', 'kiwi']\n",
    "[fruit for fruit in fruits if len(fruit)>=5]"
   ]
  },
  {
   "cell_type": "code",
   "execution_count": 49,
   "id": "a710f3c5",
   "metadata": {},
   "outputs": [
    {
     "data": {
      "text/plain": [
       "[6, 5, 5, 4]"
      ]
     },
     "execution_count": 49,
     "metadata": {},
     "output_type": "execute_result"
    }
   ],
   "source": [
    "#Quiz.2-1 fruits 리스트의 과일 글자수\n",
    "fruits = ['orange', 'apple', 'mango', 'kiwi']\n",
    "[len(data) for data in fruits]"
   ]
  },
  {
   "cell_type": "code",
   "execution_count": 50,
   "id": "1534e31e",
   "metadata": {},
   "outputs": [
    {
     "data": {
      "text/plain": [
       "[9, 16, 25]"
      ]
     },
     "execution_count": 50,
     "metadata": {},
     "output_type": "execute_result"
    }
   ],
   "source": [
    "#Quiz.3 3이상인 요소들의 제곱을 추출 . A. 9 16 25\n",
    "L = [1,2,3,4,5]\n",
    "[data**2 for data in L if data>=3]"
   ]
  },
  {
   "cell_type": "code",
   "execution_count": 32,
   "id": "f0f6418e",
   "metadata": {},
   "outputs": [
    {
     "data": {
      "text/plain": [
       "[2, 4, 6, 8, 10]"
      ]
     },
     "execution_count": 32,
     "metadata": {},
     "output_type": "execute_result"
    }
   ],
   "source": [
    "#Quiz.4 리스트 요소의 값의 2배를 추출. 2, 4, 6, 8, 10\n",
    "[data*2 for data in L]"
   ]
  },
  {
   "cell_type": "markdown",
   "id": "5fb9cfbe",
   "metadata": {},
   "source": [
    "## 1.6 요소 수정하기\n",
    "- 인덱스, 슬라이싱을 이용해서 수정"
   ]
  },
  {
   "cell_type": "code",
   "execution_count": 66,
   "id": "4b3a178a",
   "metadata": {},
   "outputs": [
    {
     "data": {
      "text/plain": [
       "[0, 1, 222, 3, 4, 5, 6, 7, 8, 9]"
      ]
     },
     "execution_count": 66,
     "metadata": {},
     "output_type": "execute_result"
    }
   ],
   "source": [
    "numbers = [0,1,2,3,4,5,6,7,8,9]\n",
    "numbers[2] = 222\n",
    "numbers"
   ]
  },
  {
   "cell_type": "code",
   "execution_count": 67,
   "id": "b8e2797f",
   "metadata": {},
   "outputs": [
    {
     "name": "stdout",
     "output_type": "stream",
     "text": [
      "['xx', 'xx', 'xx', 'xx', 'xx', 'xx', 'xx', 222, 3, 4, 5, 6, 7, 8, 9] "
     ]
    }
   ],
   "source": [
    "# 슬라이싱(step 부분 미포함) - 슬라이싱을 이용해 부분 리스트를 통째로 수정\n",
    "numbers[0:2] = ['xx', 'xx', 'xx', 'xx', 'xx', 'xx', 'xx']\n",
    "print(numbers, end=\" \")"
   ]
  },
  {
   "cell_type": "code",
   "execution_count": 68,
   "id": "ebde6ee3",
   "metadata": {},
   "outputs": [
    {
     "name": "stdout",
     "output_type": "stream",
     "text": [
      "수정 전 : [1, 1, 1, 1, 1, 1, 1, 1, 1, 1]\n",
      "수정 후 : [9, 1, 9, 1, 9, 1, 9, 1, 9, 1]\n"
     ]
    }
   ],
   "source": [
    "# 슬라이싱(step 부분 포함)\n",
    "numbers = [1]*10\n",
    "print('수정 전 :', numbers)\n",
    "numbers[0::2] = [9, 9, 9, 9, 9]\n",
    "print('수정 후 :', numbers)"
   ]
  },
  {
   "cell_type": "code",
   "execution_count": 70,
   "id": "a138f446",
   "metadata": {},
   "outputs": [
    {
     "ename": "ValueError",
     "evalue": "attempt to assign sequence of size 2 to extended slice of size 5",
     "output_type": "error",
     "traceback": [
      "\u001b[1;31m---------------------------------------------------------------------------\u001b[0m",
      "\u001b[1;31mValueError\u001b[0m                                Traceback (most recent call last)",
      "Cell \u001b[1;32mIn[70], line 1\u001b[0m\n\u001b[1;32m----> 1\u001b[0m numbers[::\u001b[38;5;241m2\u001b[39m] \u001b[38;5;241m=\u001b[39m [\u001b[38;5;241m1\u001b[39m,\u001b[38;5;241m1\u001b[39m]\n",
      "\u001b[1;31mValueError\u001b[0m: attempt to assign sequence of size 2 to extended slice of size 5"
     ]
    }
   ],
   "source": [
    "numbers[::2] = [1,1]"
   ]
  },
  {
   "cell_type": "markdown",
   "id": "e4db3d01",
   "metadata": {},
   "source": [
    "## 1.7 요소삭제\n",
    "- pop() : 가장 마지막 인덱스의 요소가 반환되고 삭제됨.\n",
    "- pop(idx) : idx번째 요소가 반환되고 삭제됨.\n",
    "- remove(data) : list안의 data가 삭제됨.\n",
    "- del 리스트변수[idx] : idx번째 요소가 삭제됨."
   ]
  },
  {
   "cell_type": "code",
   "execution_count": 72,
   "id": "7196ee37",
   "metadata": {},
   "outputs": [
    {
     "name": "stdout",
     "output_type": "stream",
     "text": [
      "삭제한 데이터 : 5\n",
      "삭제 후 numbers : [1, 2, 3, 4]\n"
     ]
    }
   ],
   "source": [
    "numbers = [1,2,3,4,5]\n",
    "print(\"삭제한 데이터 :\", numbers.pop())\n",
    "print(\"삭제 후 numbers :\", numbers)"
   ]
  },
  {
   "cell_type": "code",
   "execution_count": 74,
   "id": "42ea5e5f",
   "metadata": {},
   "outputs": [
    {
     "name": "stdout",
     "output_type": "stream",
     "text": [
      "삭제한 n번째 데이터 : 2\n",
      "삭제 후 numbers : [1, 3, 4, 5]\n"
     ]
    }
   ],
   "source": [
    "numbers = [1,2,3,4,5]\n",
    "print(\"삭제한 n번째 데이터 :\", numbers.pop(1))\n",
    "print(\"삭제 후 numbers :\", numbers)"
   ]
  },
  {
   "cell_type": "code",
   "execution_count": 88,
   "id": "57525829",
   "metadata": {},
   "outputs": [
    {
     "name": "stdout",
     "output_type": "stream",
     "text": [
      "데이터 중 1을 삭제\n",
      "1 삭제 후 numbers : [2, 3, 4, 5]\n"
     ]
    }
   ],
   "source": [
    "numbers = [1,2,3,4,5]\n",
    "print(\"데이터 중 1을 삭제\")\n",
    "numbers.remove(1) #데이터 안에 없는 값 넣으면 에러 남.\n",
    "print(\"1 삭제 후 numbers :\", numbers)"
   ]
  },
  {
   "cell_type": "code",
   "execution_count": 89,
   "id": "d696186e",
   "metadata": {},
   "outputs": [
    {
     "name": "stdout",
     "output_type": "stream",
     "text": [
      "del numbers[1]\n",
      "[1, 3, 4, 5]\n"
     ]
    }
   ],
   "source": [
    "numbers = [1,2,3,4,5]\n",
    "print(\"del numbers[1]\")\n",
    "del numbers[1] #1번째 데이터를 삭제하라\n",
    "print(numbers)"
   ]
  },
  {
   "cell_type": "code",
   "execution_count": 91,
   "id": "542c119e",
   "metadata": {},
   "outputs": [
    {
     "name": "stdout",
     "output_type": "stream",
     "text": [
      "해당 데이터는 존재하지 않습니다.\n"
     ]
    }
   ],
   "source": [
    "numbers = [1,2,3,4,5]\n",
    "if 9 in numbers:\n",
    "    numbers.remove(9) #있으면 지워 없으면 아래알럿 띄워\n",
    "else:\n",
    "    print(\"해당 데이터는 존재하지 않습니다.\")"
   ]
  },
  {
   "cell_type": "code",
   "execution_count": 94,
   "id": "c8c7e34c",
   "metadata": {},
   "outputs": [
    {
     "data": {
      "text/plain": [
       "[]"
      ]
     },
     "execution_count": 94,
     "metadata": {},
     "output_type": "execute_result"
    }
   ],
   "source": [
    "numbers.clear() #리스트 내의 모든 데이터를 삭제\n",
    "numbers"
   ]
  },
  {
   "cell_type": "markdown",
   "id": "72605f02",
   "metadata": {},
   "source": [
    "## 1.8 정렬하기"
   ]
  },
  {
   "cell_type": "code",
   "execution_count": 101,
   "id": "3a304771",
   "metadata": {},
   "outputs": [
    {
     "name": "stdout",
     "output_type": "stream",
     "text": [
      "numbers는 변경하지 않고, 정렬 결과만 : [0, 5, 6, 8, 9]\n",
      "numbers : [9, 5, 0, 8, 6]\n"
     ]
    }
   ],
   "source": [
    "numbers = [9, 5, 0, 8, 6]\n",
    "print(\"numbers는 변경하지 않고, 정렬 결과만 :\", sorted(numbers))\n",
    "print(\"numbers :\", numbers)"
   ]
  },
  {
   "cell_type": "code",
   "execution_count": 103,
   "id": "7aa18456",
   "metadata": {},
   "outputs": [
    {
     "data": {
      "text/plain": [
       "[0, 5, 6, 8, 9]"
      ]
     },
     "execution_count": 103,
     "metadata": {},
     "output_type": "execute_result"
    }
   ],
   "source": [
    "numbers.sort() # Empty시, 기본은 오름차순으로 정렬됨. \n",
    "numbers"
   ]
  },
  {
   "cell_type": "code",
   "execution_count": 105,
   "id": "91aa1bb1",
   "metadata": {},
   "outputs": [
    {
     "data": {
      "text/plain": [
       "[9, 8, 6, 5, 0]"
      ]
     },
     "execution_count": 105,
     "metadata": {},
     "output_type": "execute_result"
    }
   ],
   "source": [
    "numbers.sort(reverse=True) #내림차순으로 정렬\n",
    "numbers"
   ]
  },
  {
   "cell_type": "code",
   "execution_count": 106,
   "id": "c99357f0",
   "metadata": {},
   "outputs": [
    {
     "data": {
      "text/plain": [
       "[0, 5, 6, 8, 9]"
      ]
     },
     "execution_count": 106,
     "metadata": {},
     "output_type": "execute_result"
    }
   ],
   "source": [
    "numbers.reverse() #리스트를 역순으로 변경\n",
    "# numbers = numbers[::-1] #위와 똑같은 지시임\n",
    "numbers"
   ]
  },
  {
   "cell_type": "markdown",
   "id": "717b3634",
   "metadata": {},
   "source": [
    "## 1.9 리스트 복제"
   ]
  },
  {
   "cell_type": "code",
   "execution_count": 1,
   "id": "16989ab0",
   "metadata": {},
   "outputs": [],
   "source": [
    "# 스칼라 데이터의 복제\n",
    "# 예시\n",
    "# i = 10\n",
    "# i = 'a' #이렇게 하면 새롭게 할당되고 이전 값인 10은 없어진다."
   ]
  },
  {
   "cell_type": "code",
   "execution_count": 3,
   "id": "cfe1e2ba",
   "metadata": {},
   "outputs": [
    {
     "name": "stdout",
     "output_type": "stream",
     "text": [
      "원본i = 10, 복사본cp_i=10 / 원본주소=1505275281936, 복사본주소=1505275281936\n",
      "원본i = 10, 복사본cp_i=99 / 원본주소=1505275281936, 복사본주소=1505275284784\n"
     ]
    }
   ],
   "source": [
    "i = 10\n",
    "cp_i = i\n",
    "print(f\"원본i = {i}, 복사본cp_i={cp_i} / 원본주소={id(i)}, 복사본주소={id(cp_i)}\")\n",
    "cp_i = 99\n",
    "print(f\"원본i = {i}, 복사본cp_i={cp_i} / 원본주소={id(i)}, 복사본주소={id(cp_i)}\")\n",
    "#이렇게 할당을 해 버리면, 원본데이터가 바뀌지 않는다."
   ]
  },
  {
   "cell_type": "code",
   "execution_count": 12,
   "id": "16f79e81",
   "metadata": {},
   "outputs": [
    {
     "name": "stdout",
     "output_type": "stream",
     "text": [
      "원본 주소 : 1505355832128\n",
      "복제본 주소 : 1505355832128\n",
      "원본 내용 : [99, 6, 1, 9]\n",
      "복제본 내용 : [99, 6, 1, 9]\n",
      "원본 주소 : 1505355832128\n",
      "복제본 주소 : 1505355832128\n"
     ]
    }
   ],
   "source": [
    "# 데이터 구조의 복제같지만 '할당'이다\n",
    "numbers = [5, 6, 1, 9]\n",
    "new_numbers = numbers \n",
    "print('원본 주소 :', id(numbers))\n",
    "print('복제본 주소 :', id(new_numbers))\n",
    "new_numbers[0] = 99\n",
    "print(\"원본 내용 :\", numbers)\n",
    "print(\"복제본 내용 :\", new_numbers)\n",
    "print('원본 주소 :', id(numbers))\n",
    "print('복제본 주소 :', id(new_numbers))\n",
    "# 결국 '할당'의 개념이다."
   ]
  },
  {
   "cell_type": "code",
   "execution_count": 26,
   "id": "4410dc4e",
   "metadata": {},
   "outputs": [
    {
     "name": "stdout",
     "output_type": "stream",
     "text": [
      "원본 : [1, 5, 6, 9]\n",
      "복제본 : [1, 5, 6, 9]\n",
      "원본 주소 : 1505355833472\n",
      "복제본 주소 : 1505355833472\n"
     ]
    }
   ],
   "source": [
    "# 할당되어버린 케이스2\n",
    "numbers = [5, 6, 1, 9]\n",
    "new_numbers = numbers\n",
    "new_numbers.sort()\n",
    "print(\"원본 :\", numbers)\n",
    "print(\"복제본 :\", new_numbers)\n",
    "print(\"원본 주소 :\", id(numbers))\n",
    "print(\"복제본 주소 :\", id(new_numbers))"
   ]
  },
  {
   "cell_type": "code",
   "execution_count": 27,
   "id": "5a33bc2c",
   "metadata": {},
   "outputs": [
    {
     "name": "stdout",
     "output_type": "stream",
     "text": [
      "원본 : [5, 6, 1, 9]\n",
      "복제본 : [9, 6, 5, 1]\n",
      "원본 주소 : 1505355399424\n",
      "복제본 주소 : 1505355826432\n"
     ]
    }
   ],
   "source": [
    "# 리스트 복제(깊은 복사) **찐짜뽂쪠**\n",
    "numbers = [5, 6, 1, 9]\n",
    "new_numbers = numbers.copy() #numbers를 복제(깊은 복사) #여기서 선변환을 했기에 이후 계산이 가능\n",
    "new_numbers.sort(reverse=True) #내림차순 정렬\n",
    "print(\"원본 :\", numbers)\n",
    "print(\"복제본 :\", new_numbers)\n",
    "print(\"원본 주소 :\", id(numbers))\n",
    "print(\"복제본 주소 :\", id(new_numbers))"
   ]
  },
  {
   "cell_type": "code",
   "execution_count": 28,
   "id": "0fe4c4ee",
   "metadata": {},
   "outputs": [
    {
     "name": "stdout",
     "output_type": "stream",
     "text": [
      "원본 : [5, 6, 1, 9]\n",
      "정렬본 : [1, 5, 6, 9]\n"
     ]
    }
   ],
   "source": [
    "numbers = [5, 6, 1, 9]\n",
    "new_numbers = sorted(numbers) #sorted함수는 속도가 느리다\n",
    "print(\"원본 :\", numbers)\n",
    "print(\"정렬본 :\", new_numbers)"
   ]
  },
  {
   "cell_type": "code",
   "execution_count": 29,
   "id": "0802204e",
   "metadata": {},
   "outputs": [
    {
     "name": "stdout",
     "output_type": "stream",
     "text": [
      "정렬 전 : ['서울', '대전', '대구', '부산', '하남', '수원', '제주']\n",
      "정렬 후 : ['대구', '대전', '부산', '서울', '수원', '제주', '하남']\n"
     ]
    }
   ],
   "source": [
    "city = ['서울', '대전', '대구', '부산', '하남', '수원', '제주']\n",
    "temp = city.copy()  #여기서 추가로 append pop remove등 적용가능\n",
    "temp.sort()\n",
    "print(\"정렬 전 :\", city)\n",
    "print(\"정렬 후 :\", temp)"
   ]
  },
  {
   "cell_type": "code",
   "execution_count": 31,
   "id": "da3ffe2e",
   "metadata": {},
   "outputs": [
    {
     "name": "stdout",
     "output_type": "stream",
     "text": [
      "정렬 전 : ['서울', '대전', '대구', '부산', '하남', '수원', '제주']\n",
      "정렬 후 : []\n"
     ]
    }
   ],
   "source": [
    "temp.clear()\n",
    "print(\"정렬 전 :\", city)\n",
    "print(\"정렬 후 :\", temp)"
   ]
  },
  {
   "cell_type": "markdown",
   "id": "631ecdd7",
   "metadata": {},
   "source": [
    "# 2절 튜플\n",
    "- 리스트([])와 유사하지만 읽기전용이라는 게 차이점. >> 수정이 필요없는 데이터에서 사용함. (리스트나 다른 것보다 속도가 빨라서 씀, 그래봤자 0.0001초 차)\n",
    "- 수정이 불가하므로, 튜플에서는 데이터 수정/추가/삭제 불가. 복제는 되지만 수정할 수 없기에 무의미함.\n",
    "- 제공되는 함수도 많지 않음\n",
    "- ()이용해서 생성\n",
    "- a, b = 10, 20 <<< 이렇게 해도 자동적으로 튜플생성됨."
   ]
  },
  {
   "cell_type": "code",
   "execution_count": 39,
   "id": "ce38eab1",
   "metadata": {},
   "outputs": [
    {
     "name": "stdout",
     "output_type": "stream",
     "text": [
      "<class 'tuple'>\n",
      "('서울', '대전', '대구', '부산', '하남')\n"
     ]
    }
   ],
   "source": [
    "# city = ('서울', '대전', '대구', '부산', '하남', '수원', '제주')\n",
    "# 파이썬은 여러개의 값이 전달될 때 튜플 타입으로 전달됨.\n",
    "city = '서울', '대전', '대구', '부산', '하남'\n",
    "print(type(city))\n",
    "print(city)"
   ]
  },
  {
   "cell_type": "code",
   "execution_count": 40,
   "id": "ae2648e3",
   "metadata": {},
   "outputs": [
    {
     "data": {
      "text/plain": [
       "'서울, 대전, 대구, 부산, 하남'"
      ]
     },
     "execution_count": 40,
     "metadata": {},
     "output_type": "execute_result"
    }
   ],
   "source": [
    "\", \".join(city) #매개변수로 list가 오는 함수는 tuple 매개변수로 함수 사용 가능."
   ]
  },
  {
   "cell_type": "code",
   "execution_count": 42,
   "id": "ad89e280",
   "metadata": {},
   "outputs": [
    {
     "data": {
      "text/plain": [
       "1"
      ]
     },
     "execution_count": 42,
     "metadata": {},
     "output_type": "execute_result"
    }
   ],
   "source": [
    "from flist import safe_index\n",
    "safe_index(city, '대전')"
   ]
  },
  {
   "cell_type": "code",
   "execution_count": 46,
   "id": "20304532",
   "metadata": {},
   "outputs": [
    {
     "name": "stdout",
     "output_type": "stream",
     "text": [
      "<class 'list'>\n",
      "['서울']\n",
      "1\n"
     ]
    }
   ],
   "source": [
    "l = ['서울'] #요소가 하나 있는 리스트의 경우\n",
    "print(type(l))\n",
    "print(l)\n",
    "print(len(l))"
   ]
  },
  {
   "cell_type": "code",
   "execution_count": 54,
   "id": "a3944f91",
   "metadata": {},
   "outputs": [
    {
     "name": "stdout",
     "output_type": "stream",
     "text": [
      "<class 'str'>\n",
      "서울\n",
      "2\n"
     ]
    }
   ],
   "source": [
    "city = ('서울') #요소가 1개인 튜플이라 하지 않음 -> 괄호가 자연적으로 사라지며 str로 인식되는 것.\n",
    "print(type(city)) #스트링으로 잡히는 이유?\n",
    "print(city)\n",
    "print(len(city)) #문자이기 때문에 문자의 개수가 나옴"
   ]
  },
  {
   "cell_type": "code",
   "execution_count": 57,
   "id": "7489fb76",
   "metadata": {},
   "outputs": [
    {
     "name": "stdout",
     "output_type": "stream",
     "text": [
      "<class 'tuple'>\n",
      "('서울',)\n",
      "1\n"
     ]
    }
   ],
   "source": [
    "city = ('서울',) #요소가 1개인 튜플 < 콤마(,)를 꼭 넣어야 함.\n",
    "print(type(city)) \n",
    "print(city)\n",
    "print(len(city))"
   ]
  },
  {
   "cell_type": "code",
   "execution_count": 59,
   "id": "b81ea0b4",
   "metadata": {},
   "outputs": [
    {
     "name": "stdout",
     "output_type": "stream",
     "text": [
      "<class 'tuple'>\n",
      "('서울', '하남')\n",
      "2\n"
     ]
    }
   ],
   "source": [
    "city = ('서울', '하남') #요소가 2개인 튜플의 경우\n",
    "print(type(city))\n",
    "print(city)\n",
    "print(len(city)) "
   ]
  },
  {
   "cell_type": "code",
   "execution_count": 5,
   "id": "3a26922b",
   "metadata": {},
   "outputs": [],
   "source": [
    "numbers = (1, 2, 3)\n",
    "# numbers.append(4) 수정하기 위한 함수는 제공되지 않음"
   ]
  },
  {
   "cell_type": "code",
   "execution_count": 6,
   "id": "edbe3094",
   "metadata": {},
   "outputs": [
    {
     "data": {
      "text/plain": [
       "(1, 3, 6)"
      ]
     },
     "execution_count": 6,
     "metadata": {},
     "output_type": "execute_result"
    }
   ],
   "source": [
    "min(numbers), max(numbers), sum(numbers)"
   ]
  },
  {
   "cell_type": "code",
   "execution_count": 7,
   "id": "0af2eb47",
   "metadata": {},
   "outputs": [
    {
     "data": {
      "text/plain": [
       "[1, 2, 3]"
      ]
     },
     "execution_count": 7,
     "metadata": {},
     "output_type": "execute_result"
    }
   ],
   "source": [
    "sorted(numbers)"
   ]
  },
  {
   "cell_type": "code",
   "execution_count": 8,
   "id": "ad386cb5",
   "metadata": {},
   "outputs": [
    {
     "data": {
      "text/plain": [
       "1"
      ]
     },
     "execution_count": 8,
     "metadata": {},
     "output_type": "execute_result"
    }
   ],
   "source": [
    "numbers.count(2)"
   ]
  },
  {
   "cell_type": "code",
   "execution_count": 10,
   "id": "c9c8e792",
   "metadata": {},
   "outputs": [
    {
     "data": {
      "text/plain": [
       "2"
      ]
     },
     "execution_count": 10,
     "metadata": {},
     "output_type": "execute_result"
    }
   ],
   "source": [
    "numbers.index(3)"
   ]
  },
  {
   "cell_type": "code",
   "execution_count": 11,
   "id": "b3839b91",
   "metadata": {},
   "outputs": [
    {
     "name": "stdout",
     "output_type": "stream",
     "text": [
      "해당 데이터 없당께\n"
     ]
    }
   ],
   "source": [
    "# numbers.index(4) >> 값 없으니 바로 에러\n",
    "if 4 in numbers:\n",
    "    numbers.index(4)\n",
    "else:\n",
    "    print('해당 데이터 없당께')"
   ]
  },
  {
   "cell_type": "code",
   "execution_count": 18,
   "id": "cc92829c",
   "metadata": {},
   "outputs": [
    {
     "data": {
      "text/plain": [
       "-1"
      ]
     },
     "execution_count": 18,
     "metadata": {},
     "output_type": "execute_result"
    }
   ],
   "source": [
    "from flist import safe_index\n",
    "safe_index(numbers,4)"
   ]
  },
  {
   "cell_type": "code",
   "execution_count": 13,
   "id": "31a7194b",
   "metadata": {},
   "outputs": [],
   "source": [
    "# score = 99 (스칼라 데이터)\n",
    "# lst = [99,88,77,100,89] <<< 리스트는 내부 데이터 수정 가능\n",
    "# tup = (90,80,70,70) <<< 튜플은 한 번 선언한 걸 절대 수정할 수 없다.\n",
    "# dic = {'name':'홍길동', 'score':100,  #딕셔너리에서는 인덱스가 없기 때문에, 데이터는 주어진 값이다. ex:) 100,서울,3 등. \n",
    "#       'add':'서울','학년':3}\n",
    "# set_ = {90,80,70} #중복된 데이터 안 들어간 걸 'set'이라 칭함. "
   ]
  },
  {
   "cell_type": "code",
   "execution_count": 28,
   "id": "56b8f666",
   "metadata": {},
   "outputs": [
    {
     "data": {
      "text/plain": [
       "1"
      ]
     },
     "execution_count": 28,
     "metadata": {},
     "output_type": "execute_result"
    }
   ],
   "source": [
    "numbers = (1, 2, 3, 2) #2가 두개 있다면\n",
    "numbers.index(2) #2가 몇 번째에 있어? 1번째에 ! #index(찾을데이터, 찾기 시작할 index=0)"
   ]
  },
  {
   "cell_type": "code",
   "execution_count": 34,
   "id": "da0c182c",
   "metadata": {},
   "outputs": [
    {
     "data": {
      "text/plain": [
       "3"
      ]
     },
     "execution_count": 34,
     "metadata": {},
     "output_type": "execute_result"
    }
   ],
   "source": [
    "numbers.index(2, 2)  #2번째부터 2가 있니? "
   ]
  },
  {
   "cell_type": "code",
   "execution_count": 35,
   "id": "87ed4374",
   "metadata": {},
   "outputs": [
    {
     "name": "stdout",
     "output_type": "stream",
     "text": [
      "없음\n"
     ]
    }
   ],
   "source": [
    "numbers = (1, 4, 3, 2) \n",
    "if 4 in numbers[2:]:  #[2:]는 2번째부터 끝까지\n",
    "    numbers.index(4,2) #2번째부터 4가 있니\n",
    "else:\n",
    "    print(\"없음\")"
   ]
  },
  {
   "cell_type": "code",
   "execution_count": 38,
   "id": "9a6f7921",
   "metadata": {},
   "outputs": [],
   "source": [
    "def safe_index(lst, item, start=0):\n",
    "    \"\"\"\n",
    "    첫번째 매개변수 lst : 리스트, 튜플\n",
    "    두번째 매개변수 item : 리스트나 튜플에서 찾을 데이터\n",
    "    세번째 매개변수 start : 몇번째 index부터 찾을지 index 수(기본값:0) #3번째 변수가 추가업데이트 됨. 25.09.19\n",
    "    \"\"\"\n",
    "    return lst.index(item, start) if item in lst[start:] else -1\n",
    "#     if item in lst[start:]: \n",
    "#         return lst.index(item, start) # start번째부터 item이 있는 index를 반환\n",
    "#     return -1 #없으면 -1을 반환. "
   ]
  },
  {
   "cell_type": "code",
   "execution_count": 50,
   "id": "03b00a79",
   "metadata": {},
   "outputs": [
    {
     "data": {
      "text/plain": [
       "1"
      ]
     },
     "execution_count": 50,
     "metadata": {},
     "output_type": "execute_result"
    }
   ],
   "source": [
    "safe_index(numbers, 4)"
   ]
  },
  {
   "cell_type": "code",
   "execution_count": 49,
   "id": "8c4903ce",
   "metadata": {},
   "outputs": [
    {
     "data": {
      "text/plain": [
       "30"
      ]
     },
     "execution_count": 49,
     "metadata": {},
     "output_type": "execute_result"
    }
   ],
   "source": [
    "# 위의 if문을 '조건식'을 이용하여 한줄 코드로 변환\n",
    "def diff(x, y):\n",
    "    return x-y if x>y else y-x #if : if문이 참일 때 값, else : if문이 거짓일 때 값\n",
    "#     if x>y:\n",
    "#         return x-y\n",
    "#     else:\n",
    "#         return y-x\n",
    "diff(-10,20)    "
   ]
  },
  {
   "cell_type": "code",
   "execution_count": 53,
   "id": "981cd53d",
   "metadata": {},
   "outputs": [
    {
     "name": "stdout",
     "output_type": "stream",
     "text": [
      "(1, 2, 3, 1, 2, 3)\n",
      "(1, 2, 3, 1, 2, 3, 1, 2, 3)\n",
      "(1, 2, 3, 1, 2, 3, 1, 2, 3)\n"
     ]
    }
   ],
   "source": [
    "numbers = (1, 2, 3)\n",
    "print(numbers + numbers) #연결. 리스트 연결하듯 튜플도 연결 가능\n",
    "print(3 * numbers) # 반복\n",
    "print(numbers * 3) # 곱셈연산 위치 상관없음"
   ]
  },
  {
   "cell_type": "code",
   "execution_count": 57,
   "id": "901463e1",
   "metadata": {},
   "outputs": [
    {
     "data": {
      "text/plain": [
       "(4, 16, 36)"
      ]
     },
     "execution_count": 57,
     "metadata": {},
     "output_type": "execute_result"
    }
   ],
   "source": [
    "# ex. 짝수 요소들을 추출하여 제곱한 데이터를 튜플로 출력하시오\n",
    "numbers = (11, 2, 3, 4, 5, 6)\n",
    "tuple(num**2 for num in numbers if num%2==0) #if문 결과 짝수일때만 2로 거듭제곱"
   ]
  },
  {
   "cell_type": "markdown",
   "id": "817ef264",
   "metadata": {},
   "source": [
    "# 3절 딕셔너리\n",
    "- {}를 이용해서 키(key)-값(value)의 쌍으로 구성된 자료구조\n",
    "- 키는 유일무이한 값만 가질 수 있다. 키에 list는 사용 불가. 키에 tuple은 사용 가능\n",
    "- 값은 다수 값과 중복 가능. 모든 데이터 타입 또한 가능\n",
    "- 인덱스를 이용한 참조는 지원하지 않음."
   ]
  },
  {
   "cell_type": "code",
   "execution_count": 61,
   "id": "af7c7328",
   "metadata": {},
   "outputs": [
    {
     "data": {
      "text/plain": [
       "{'name': '홍길동', 'score': 100, '학년': 3, '학과': '컴공'}"
      ]
     },
     "execution_count": 61,
     "metadata": {},
     "output_type": "execute_result"
    }
   ],
   "source": [
    "{'name':'홍길동',\n",
    " 'score':100,\n",
    " '학년':3,\n",
    " '학과':'컴공'} #딕셔너리 내, 키(좌측)는 수정불가, 값(우측)은 수정가능"
   ]
  },
  {
   "cell_type": "code",
   "execution_count": 62,
   "id": "f41b375e",
   "metadata": {},
   "outputs": [
    {
     "name": "stdout",
     "output_type": "stream",
     "text": [
      "<class 'dict'>\n",
      "{'name': '홍길동', 1: 22, (1, 2): [1, 2]}\n"
     ]
    }
   ],
   "source": [
    "dic = {'name':'홍길동', 1:22, (1, 2):[1,2]} \n",
    "print(type(dic))\n",
    "print(dic)"
   ]
  },
  {
   "cell_type": "code",
   "execution_count": 63,
   "id": "38db2f24",
   "metadata": {},
   "outputs": [
    {
     "data": {
      "text/plain": [
       "3"
      ]
     },
     "execution_count": 63,
     "metadata": {},
     "output_type": "execute_result"
    }
   ],
   "source": [
    "len(dic) #데이터 요소의 갯수 ***데이터는 3개 들어있다. 콤마로 기준되기 때문"
   ]
  },
  {
   "cell_type": "code",
   "execution_count": 65,
   "id": "eff4a208",
   "metadata": {},
   "outputs": [
    {
     "data": {
      "text/plain": [
       "{'fruit': 'apple', 'number': 12, 'sport': 'yoga'}"
      ]
     },
     "execution_count": 65,
     "metadata": {},
     "output_type": "execute_result"
    }
   ],
   "source": [
    "my_favorite = {'fruit':'apple', 'number':12, 'sport':'yoga'}\n",
    "my_favorite"
   ]
  },
  {
   "cell_type": "code",
   "execution_count": 77,
   "id": "c45802aa",
   "metadata": {},
   "outputs": [
    {
     "name": "stdout",
     "output_type": "stream",
     "text": [
      "apple\n"
     ]
    }
   ],
   "source": [
    "print(my_favorite['fruit']) #리스트 활용해서 찾음"
   ]
  },
  {
   "cell_type": "code",
   "execution_count": 71,
   "id": "1d630878",
   "metadata": {},
   "outputs": [
    {
     "name": "stdout",
     "output_type": "stream",
     "text": [
      "12\n",
      "12\n"
     ]
    }
   ],
   "source": [
    "# 변수[키] / 변수.get(키)\n",
    "print(my_favorite['number'])\n",
    "print(my_favorite.get('number'))"
   ]
  },
  {
   "cell_type": "code",
   "execution_count": 79,
   "id": "8f232bb4",
   "metadata": {},
   "outputs": [
    {
     "name": "stdout",
     "output_type": "stream",
     "text": [
      "None\n",
      "-\n"
     ]
    }
   ],
   "source": [
    "# print(my_favorite['people']) # 키 목록에 없는 데이터를 참조 시 에러 #이렇게 찾으면 다른 개발자들이 욕함\n",
    "print(my_favorite.get('people')) # 없는 키를 get함수로 참조 시 None 반환이 디폴트값임. \n",
    "print(my_favorite.get('people', '-')) #None반환 값을 -로 변환"
   ]
  },
  {
   "cell_type": "code",
   "execution_count": 81,
   "id": "f642af08",
   "metadata": {},
   "outputs": [
    {
     "name": "stdout",
     "output_type": "stream",
     "text": [
      "없당께\n"
     ]
    }
   ],
   "source": [
    "if my_favorite.get('people'):\n",
    "    pass   #pass는 아무짓도 하지말라는 명령\n",
    "else:\n",
    "    print('없당께')\n"
   ]
  },
  {
   "cell_type": "markdown",
   "id": "e1a34242",
   "metadata": {},
   "source": [
    "## 3.1 딕셔너리 item 수정, 추가, 삭제\n",
    "- 자주 할 일이 없다."
   ]
  },
  {
   "cell_type": "code",
   "execution_count": 102,
   "id": "12ef8f5d",
   "metadata": {},
   "outputs": [
    {
     "name": "stdout",
     "output_type": "stream",
     "text": [
      "people과 subject 추가 후 : {'fruit': 'apple', 'number': 12, 'sport': 'yoga', 'people': '홍길동', 'subject': 'society'}\n",
      "여러가지 추가 후 : {'fruit': 'apple', 'number': 12, 'sport': 'yoga', 'people': '홍길동', 'subject': 'Math', 'major': 'Ai'}\n"
     ]
    }
   ],
   "source": [
    "my_favorite = {'fruit':'apple', 'number':12, 'sport':'yoga'}\n",
    "\n",
    "# 한 item씩 추가    #수정 및 추가는 개념과 원리가 같은데?\n",
    "my_favorite['people'] = '홍길동'\n",
    "my_favorite['subject'] = 'society'\n",
    "print('people과 subject 추가 후 :', my_favorite)\n",
    "# 여러 item을 한 번에 추가 (update함수) #있으면 수정 없으면 추가\n",
    "my_favorite.update({'subject':'Math', 'major':'Ai'})\n",
    "print('여러가지 추가 후 :', my_favorite) #그래서 subject 기존값인 'society'가 'Math'로 대체됨."
   ]
  },
  {
   "cell_type": "code",
   "execution_count": 108,
   "id": "1ec11bbc",
   "metadata": {},
   "outputs": [
    {
     "name": "stdout",
     "output_type": "stream",
     "text": [
      "cherry로 수정 후 : {'fruit': 'cherry', 'number': 12, 'sport': 'yoga'}\n",
      "최애 숫자 수정 후 : {'fruit': 'cherry', 'number': '7', 'sport': 'yoga'}\n",
      "과일과 스포츠 수정 후 : {'fruit': 'kiwi', 'number': '7', 'sport': 'football'}\n"
     ]
    }
   ],
   "source": [
    "my_favorite = {'fruit':'apple', 'number':12, 'sport':'yoga'}\n",
    "\n",
    "# 한 item씩 수정\n",
    "my_favorite['fruit'] = 'cherry'\n",
    "print('cherry로 수정 후 :', my_favorite)\n",
    "my_favorite['number'] = '7'\n",
    "print('최애 숫자 수정 후 :', my_favorite)\n",
    "# 여러 item을 한 번에 수정 (update함수)\n",
    "# my_favorite.update({'fruit':'kiwi', 'sport':'football'}) #딕셔너리 활용한 올드한 방식\n",
    "my_favorite.update(fruit='kiwi', sport='football') #이지하고 간략한 수정\n",
    "print('과일과 스포츠 수정 후 :',my_favorite)"
   ]
  },
  {
   "cell_type": "code",
   "execution_count": 123,
   "id": "d34b06e2",
   "metadata": {},
   "outputs": [
    {
     "name": "stdout",
     "output_type": "stream",
     "text": [
      "subject 키 없당께\n",
      "del이용한 제거 후 : {'fruit': 'apple', 'number': 12, 'sport': 'yoga', 'major': 'Ai'}\n",
      "제거한 데이터 : Ai\n",
      "major 키가 존재하지 않습니다\n",
      "{'fruit': 'apple', 'number': 12, 'sport': 'yoga'}\n"
     ]
    }
   ],
   "source": [
    "my_favorite = {'fruit':'apple', 'subject':'Math', 'number':12, 'sport':'yoga', 'major':'Ai'}\n",
    "\n",
    "#item 제거\n",
    "# del my_favorite['fruit']  #키값 자체를 제거 #제거한 걸 또 제거하라 하면 에러가 남.**올드하고 에러셧다운 위험\n",
    "del my_favorite['subject'] \n",
    "if 'subject' in my_favorite:\n",
    "    del my_favorite['subject']\n",
    "else:\n",
    "    print('subject 키 없당께')\n",
    "    \n",
    "    print('del이용한 제거 후 :', my_favorite) #subject가 삭제됨\n",
    "\n",
    "#item 제거2\n",
    "print('제거한 데이터 :', my_favorite.pop('major')) #major키 값을 반환하고 제거\n",
    "if 'major' in my_favorite:\n",
    "    print('제거한 데이터 :', my_favorite.pop('major'))\n",
    "else:\n",
    "    print('major 키가 존재하지 않습니다')\n",
    "print(my_favorite)"
   ]
  },
  {
   "cell_type": "markdown",
   "id": "4f0a19ed",
   "metadata": {},
   "source": [
    "## 3.2 출력하기"
   ]
  },
  {
   "cell_type": "code",
   "execution_count": 128,
   "id": "f2b945b4",
   "metadata": {},
   "outputs": [],
   "source": [
    "# for문을 이용한 튜플 출력\n",
    "my_tuple = ('홍길동', 30, '010-9999-9999')"
   ]
  },
  {
   "cell_type": "code",
   "execution_count": 139,
   "id": "e07f8a6d",
   "metadata": {},
   "outputs": [
    {
     "name": "stdout",
     "output_type": "stream",
     "text": [
      "홍길동\t30\t010-9999-9999\t\n",
      "0번째 : 홍길동\t1번째 : 30\t2번째 : 010-9999-9999\t\n",
      "0번째 : 홍길동\t1번째 : 30\t2번째 : 010-9999-9999\t"
     ]
    }
   ],
   "source": [
    "for data in my_tuple:\n",
    "    print(data, end='\\t')\n",
    "print() # 개행\n",
    "for idx in range(len(my_tuple)):\n",
    "    print(f\"{idx}번째 : {my_tuple[idx]}\", end='\\t') #역슬탭을 주는데 큰따옴표도 된다???\n",
    "    # print(\"{}번째 : {}\".format(idx, my_tuple[idx]), end=\"\\t\") #f스트링 싫으면 포맷팅\n",
    "    # print(idx,\"번째 :\", my_tuple[idx], sep='', end='\\t') #f치환 포맷팅 둘다 싫으면 이렇게, 근데 개거지같음\n",
    "print() # 개행\n",
    "for idx, data in enumerate(my_tuple):\n",
    "    print(f\"{idx}번째 : {data}\", end=\"\\t\")"
   ]
  },
  {
   "cell_type": "code",
   "execution_count": 347,
   "id": "209451b4",
   "metadata": {},
   "outputs": [
    {
     "name": "stdout",
     "output_type": "stream",
     "text": [
      "30\n"
     ]
    }
   ],
   "source": [
    "my_dic = {'name':'홍길동', 'age':30, 'tel':'010-9999-9999'}\n",
    "print(my_dic[\"age\"])"
   ]
  },
  {
   "cell_type": "code",
   "execution_count": 143,
   "id": "a0290c54",
   "metadata": {},
   "outputs": [
    {
     "name": "stdout",
     "output_type": "stream",
     "text": [
      "name : 홍길동\n",
      "age : 30\n",
      "tel : 010-9999-9999\n"
     ]
    }
   ],
   "source": [
    "for key in my_dic: #없어보이는 코딩 개비추\n",
    "    print(\"{} : {}\".format(key, my_dic.get(key)))"
   ]
  },
  {
   "cell_type": "code",
   "execution_count": 144,
   "id": "369fa6c1",
   "metadata": {},
   "outputs": [
    {
     "name": "stdout",
     "output_type": "stream",
     "text": [
      "name : 홍길동\tage : 30\ttel : 010-9999-9999\t"
     ]
    }
   ],
   "source": [
    "for key in my_dic: #없어보이는 코딩 개비추2\n",
    "    print(\"{} : {}\".format(key, my_dic[key]), end=\"\\t\")"
   ]
  },
  {
   "cell_type": "code",
   "execution_count": 145,
   "id": "64345704",
   "metadata": {},
   "outputs": [
    {
     "data": {
      "text/plain": [
       "dict_keys(['name', 'age', 'tel'])"
      ]
     },
     "execution_count": 145,
     "metadata": {},
     "output_type": "execute_result"
    }
   ],
   "source": [
    "my_dic.keys() #키 목록만 뽑아줌 # 쓸일 없음"
   ]
  },
  {
   "cell_type": "code",
   "execution_count": 146,
   "id": "c3bd0d95",
   "metadata": {},
   "outputs": [
    {
     "data": {
      "text/plain": [
       "dict_values(['홍길동', 30, '010-9999-9999'])"
      ]
     },
     "execution_count": 146,
     "metadata": {},
     "output_type": "execute_result"
    }
   ],
   "source": [
    "my_dic.values() #값 목록만 뽑아줌 # 쓸일 없음"
   ]
  },
  {
   "cell_type": "code",
   "execution_count": 147,
   "id": "44455f35",
   "metadata": {},
   "outputs": [
    {
     "data": {
      "text/plain": [
       "dict_items([('name', '홍길동'), ('age', 30), ('tel', '010-9999-9999')])"
      ]
     },
     "execution_count": 147,
     "metadata": {},
     "output_type": "execute_result"
    }
   ],
   "source": [
    "my_dic.items() #키-값 쌍 목록"
   ]
  },
  {
   "cell_type": "code",
   "execution_count": 148,
   "id": "034594af",
   "metadata": {},
   "outputs": [
    {
     "name": "stdout",
     "output_type": "stream",
     "text": [
      "name:홍길동\tage:30\ttel:010-9999-9999\t"
     ]
    }
   ],
   "source": [
    "for key, value in my_dic.items():\n",
    "    print(\"{}:{}\".format(key, value), end='\\t')"
   ]
  },
  {
   "cell_type": "code",
   "execution_count": 151,
   "id": "1155f4bf",
   "metadata": {},
   "outputs": [
    {
     "name": "stdout",
     "output_type": "stream",
     "text": [
      "홍길동\t30\t010-9999-9999\t"
     ]
    }
   ],
   "source": [
    "for value in my_dic.values():\n",
    "    print(value, end='\\t')"
   ]
  },
  {
   "cell_type": "code",
   "execution_count": 157,
   "id": "69814633",
   "metadata": {},
   "outputs": [
    {
     "data": {
      "text/plain": [
       "[(0, ('name', '홍길동')), (1, ('age', 30)), (2, ('tel', '010-9999-9999'))]"
      ]
     },
     "execution_count": 157,
     "metadata": {},
     "output_type": "execute_result"
    }
   ],
   "source": [
    "list(enumerate(my_dic.items())) #list로 감싸고 이뉴머레이트로 또 감쌌음. 임의로 순번이 매겨짐. 0방엔 순번 1방엔 키와밸류 이런 순으로 됨."
   ]
  },
  {
   "cell_type": "code",
   "execution_count": 160,
   "id": "247c99eb",
   "metadata": {},
   "outputs": [
    {
     "name": "stdout",
     "output_type": "stream",
     "text": [
      "1.name : 홍길동\n",
      "2.age : 30\n",
      "3.tel : 010-9999-9999\n"
     ]
    }
   ],
   "source": [
    "for no, (key, value) in enumerate(my_dic.items()): #no는 number를 의미함\n",
    "    print(\"{}.{} : {}\".format(no+1, key, value)) #0번 순번이 보기 힘드니 1을 더함"
   ]
  },
  {
   "cell_type": "markdown",
   "id": "c155f1a6",
   "metadata": {},
   "source": [
    "## 3.3 in 연산자"
   ]
  },
  {
   "cell_type": "code",
   "execution_count": 161,
   "id": "8121b4a3",
   "metadata": {},
   "outputs": [
    {
     "data": {
      "text/plain": [
       "True"
      ]
     },
     "execution_count": 161,
     "metadata": {},
     "output_type": "execute_result"
    }
   ],
   "source": [
    "# tuple, list\n",
    "t = (10, 20, 30)\n",
    "30 in t #list, tuple, set에서의 in연산자 : 요소(데이터, item)가 있는 여부를 반환"
   ]
  },
  {
   "cell_type": "code",
   "execution_count": 162,
   "id": "fd031322",
   "metadata": {},
   "outputs": [
    {
     "data": {
      "text/plain": [
       "False"
      ]
     },
     "execution_count": 162,
     "metadata": {},
     "output_type": "execute_result"
    }
   ],
   "source": [
    "# dictionary\n",
    "dic = {'name':'홍길동', 'age':30}\n",
    "'홍길동' in dic #dictionary에서의 in연산자 : key가 있는지 여부를 반환"
   ]
  },
  {
   "cell_type": "code",
   "execution_count": 163,
   "id": "e4134889",
   "metadata": {},
   "outputs": [
    {
     "data": {
      "text/plain": [
       "True"
      ]
     },
     "execution_count": 163,
     "metadata": {},
     "output_type": "execute_result"
    }
   ],
   "source": [
    "'홍길동'in dic.values() #'홍길동'이란 값이 '값 데이터 목록'안에 있는지 물어봐서 True임."
   ]
  },
  {
   "cell_type": "markdown",
   "id": "8489b5b5",
   "metadata": {},
   "source": [
    "## 3.4 복제하기"
   ]
  },
  {
   "cell_type": "code",
   "execution_count": 179,
   "id": "7bc576dd",
   "metadata": {},
   "outputs": [
    {
     "name": "stdout",
     "output_type": "stream",
     "text": [
      "my_favorite 주소 : 2528645144128\n",
      "new_favorite 주소 : 2528649843200\n"
     ]
    }
   ],
   "source": [
    "# 복제(깊은 복사)\n",
    "my_favorite = {'fruit' : 'apple', 'number':12}\n",
    "new_favorite = my_favorite.copy()\n",
    "print('my_favorite 주소 :', id(my_favorite))\n",
    "print('new_favorite 주소 :', id(new_favorite))"
   ]
  },
  {
   "cell_type": "code",
   "execution_count": 180,
   "id": "58da2200",
   "metadata": {},
   "outputs": [
    {
     "name": "stdout",
     "output_type": "stream",
     "text": [
      "원본 : {'fruit': 'apple', 'number': 12}\n",
      "복제본 : {'fruit': '과일은 다 좋아', 'number': 12, 'people': '홍길동'}\n"
     ]
    }
   ],
   "source": [
    "new_favorite['fruit'] = '과일은 다 좋아'\n",
    "new_favorite['people'] = \"홍길동\"\n",
    "print('원본 :', my_favorite)\n",
    "print('복제본 :', new_favorite)"
   ]
  },
  {
   "cell_type": "markdown",
   "id": "46c0b320",
   "metadata": {},
   "source": [
    "# 4절 셋\n",
    "- 기본적인 set은 '집합'을 의미하고 파이썬에서 'set'은 \"중복을 허용하지 않는 집합\"이다 (순서X) #인덱스를 순서라고도 함.\n",
    "- {}나 set()함수를 이용해서 셋 생성 ex. set([1, 2, 1]), set({'name':'홍길동'})\n",
    "- 나열 데이터를 셋 안에 넣으면 알아서 바뀐다.\n",
    "- 추가 시 사용가능 함수 : add(), update()\n",
    "- 삭제 시 사용가능 함수 : remove()\n",
    "- 자연어 처리 할 때에 쓰이고, 평상시 잘 쓰진 않음. ex:) 워드클라우드 제작 시 특정단어 뺄 때 사용. \n",
    "- 집합연산자 : &교집합, |합집합, -차집합  **교집합과 합집합이 우선순위가 제일 높다"
   ]
  },
  {
   "cell_type": "code",
   "execution_count": 183,
   "id": "f66a64f2",
   "metadata": {},
   "outputs": [],
   "source": [
    "st = {'name':'홍길동', 'age':30} #키와 값이 다 있어서 셋이 아님\n",
    "se = {'홍길동', 30} #값만 있기에 이게 셋임"
   ]
  },
  {
   "cell_type": "code",
   "execution_count": 184,
   "id": "a5aeb8d6",
   "metadata": {},
   "outputs": [
    {
     "data": {
      "text/plain": [
       "['babnana', 'orange', 'apple', 'apple']"
      ]
     },
     "execution_count": 184,
     "metadata": {},
     "output_type": "execute_result"
    }
   ],
   "source": [
    "fruits = ['babnana', 'orange', 'apple', 'apple']\n",
    "fruits #일반적으로 리스트로 처리하니 데이터를 다 출력함."
   ]
  },
  {
   "cell_type": "code",
   "execution_count": 185,
   "id": "5c5a9384",
   "metadata": {},
   "outputs": [
    {
     "data": {
      "text/plain": [
       "{'apple', 'babnana', 'orange'}"
      ]
     },
     "execution_count": 185,
     "metadata": {},
     "output_type": "execute_result"
    }
   ],
   "source": [
    "fruits = {'babnana', 'orange', 'apple', 'apple'}\n",
    "fruits #셋으로 처리하니 중복인 apple을 1개만 반환."
   ]
  },
  {
   "cell_type": "code",
   "execution_count": 187,
   "id": "425edc25",
   "metadata": {},
   "outputs": [
    {
     "data": {
      "text/plain": [
       "{'address', 'age', 'name'}"
      ]
     },
     "execution_count": 187,
     "metadata": {},
     "output_type": "execute_result"
    }
   ],
   "source": [
    "# set함수를 이용해서 딕셔너리를 셋으로 전환할 때는 key만 적용.\n",
    "s2 = set({'name':'홍길동', 'age':30, 'address':'서울'})\n",
    "s2"
   ]
  },
  {
   "cell_type": "markdown",
   "id": "52cbcf15",
   "metadata": {},
   "source": [
    "## 4.1 추가하기\n",
    "- add() : 기본자료형 데이터, 튜플 데이터 하나 추가. ** lst, dic 안됨. set유형은 add()함수 사용불가\n",
    "- update() : 리스트, 튜플, 딕셔너리, 셋 요소를 하나씩 따로 추가."
   ]
  },
  {
   "cell_type": "code",
   "execution_count": 193,
   "id": "29df57f6",
   "metadata": {},
   "outputs": [
    {
     "name": "stdout",
     "output_type": "stream",
     "text": [
      "add() 후 : {False, 1, 2, 3, 4, (6, 7), 'b', '똥'}\n"
     ]
    }
   ],
   "source": [
    "s = {1, 2, 3}\n",
    "\n",
    "#add 예시\n",
    "s.add(4)\n",
    "s.add('b')\n",
    "s.add(False) #True는 이미 결과값들이 True이기에 안들어가고 False만 들어감.\n",
    "s.add('똥')\n",
    "s.add((6,7))\n",
    "print(\"add() 후 :\", s) #순서없이 막 들어간다. >> 셋에는 인덱스(순서)가 없다"
   ]
  },
  {
   "cell_type": "code",
   "execution_count": 201,
   "id": "9f243f2c",
   "metadata": {},
   "outputs": [
    {
     "name": "stdout",
     "output_type": "stream",
     "text": [
      "add() 후 : {1, 2, 3}\n"
     ]
    }
   ],
   "source": [
    "# 1이 set에 있는 상태에서 참 결과값 추가\n",
    "s = {1, 2, 3, 1, 1}\n",
    "s.add(1) #1이 이미 있기에 안들어감.\n",
    "print(\"add() 후 :\", s)"
   ]
  },
  {
   "cell_type": "code",
   "execution_count": 204,
   "id": "e44aab78",
   "metadata": {},
   "outputs": [
    {
     "name": "stdout",
     "output_type": "stream",
     "text": [
      "add() 후 : {1, 2, 3}\n"
     ]
    }
   ],
   "source": [
    "# 1이 set에 있는 상태에서 True 추가\n",
    "s = {1, 2, 3, 1, 1}\n",
    "s.add(True) #이 안에 True를 넣어도, 비트를 보기에 True를 출력하지 않음.\n",
    "print(\"add() 후 :\", s)"
   ]
  },
  {
   "cell_type": "code",
   "execution_count": 206,
   "id": "3b46e7e8",
   "metadata": {},
   "outputs": [
    {
     "name": "stdout",
     "output_type": "stream",
     "text": [
      "1 add 후 : {False, 1, 2}\n"
     ]
    }
   ],
   "source": [
    "# 0이 set에 있는 상태에서 False 추가\n",
    "s = {False, 1, 2}\n",
    "s.add(0)\n",
    "print(\"1 add 후 :\", s) #False는 비트값으로 곧 0이기에 변화 없는 것."
   ]
  },
  {
   "cell_type": "code",
   "execution_count": 196,
   "id": "59d780ec",
   "metadata": {},
   "outputs": [
    {
     "name": "stdout",
     "output_type": "stream",
     "text": [
      "update() 후 : {1, 2, 3, 4, 5, 6}\n"
     ]
    }
   ],
   "source": [
    "s = {1, 2, 3}\n",
    "\n",
    "#update 예시\n",
    "s.update([4,5,6]) \n",
    "s.update( (4,5,6) ) \n",
    "s.update({4,5,6}) #결과값 참조. 리스트,튜플,딕셔너리 써도 데이터가 하나씩 들어감.\n",
    "print(\"update() 후 :\", s) "
   ]
  },
  {
   "cell_type": "code",
   "execution_count": 197,
   "id": "c06a62d0",
   "metadata": {},
   "outputs": [
    {
     "name": "stdout",
     "output_type": "stream",
     "text": [
      "update() 후 : {1, 2, 3, 'name', 'age'}\n"
     ]
    }
   ],
   "source": [
    "s = {1, 2, 3}\n",
    "s.update({'name':'홍', 'age':20})\n",
    "print(\"update() 후 :\", s) #value 안들어가고 key만 들어감"
   ]
  },
  {
   "cell_type": "markdown",
   "id": "7eeedfa9",
   "metadata": {},
   "source": [
    "## 4.2 제거하기"
   ]
  },
  {
   "cell_type": "code",
   "execution_count": 207,
   "id": "1da25b4a",
   "metadata": {},
   "outputs": [
    {
     "data": {
      "text/plain": [
       "{1, 3}"
      ]
     },
     "execution_count": 207,
     "metadata": {},
     "output_type": "execute_result"
    }
   ],
   "source": [
    "s = {1, 2, 3, 1, 1}\n",
    "s.remove(2)\n",
    "s"
   ]
  },
  {
   "cell_type": "code",
   "execution_count": 211,
   "id": "00bdd2c1",
   "metadata": {},
   "outputs": [
    {
     "name": "stdout",
     "output_type": "stream",
     "text": [
      "없당께\n"
     ]
    }
   ],
   "source": [
    "#s.remove(5) 없는 요소를 삭제할 경우 에러. 에러 위험 있는 건 무조건 if문\n",
    "if 5 in s:\n",
    "    s.remove(5)\n",
    "else:\n",
    "    print(\"없당께\")"
   ]
  },
  {
   "cell_type": "markdown",
   "id": "d9562c70",
   "metadata": {},
   "source": [
    "## 4.3 집합연산자\n",
    "    &(교집합), |(합집합), -(차집합)"
   ]
  },
  {
   "cell_type": "code",
   "execution_count": 213,
   "id": "73eea648",
   "metadata": {},
   "outputs": [
    {
     "name": "stdout",
     "output_type": "stream",
     "text": [
      "s1 = {1, 2, 3, 4, 5}\n",
      "s2 = {3, 4, 5, 6, 7}\n",
      "s1&s2 = {3, 4, 5}\n",
      "s1|s2 = {1, 2, 3, 4, 5, 6, 7}\n",
      "s1-s2 = {1, 2}\n",
      "s2-s1 = {6, 7}\n"
     ]
    }
   ],
   "source": [
    "s1 = {1, 2, 3, 4, 5}\n",
    "s2 = {3, 4, 5, 6, 7}\n",
    "print(\"s1 = {}\".format(s1))\n",
    "print(\"s2 = {}\".format(s2))\n",
    "print(\"s1&s2 =\", s1&s2)\n",
    "print(\"s1|s2 =\", s1|s2)\n",
    "print(\"s1-s2 =\", s1-s2)\n",
    "print(\"s2-s1 =\", s2-s1)"
   ]
  },
  {
   "cell_type": "code",
   "execution_count": 216,
   "id": "9e380b33",
   "metadata": {},
   "outputs": [
    {
     "name": "stdout",
     "output_type": "stream",
     "text": [
      "길숙\n",
      "길자\n",
      "길동\n"
     ]
    }
   ],
   "source": [
    "names = {\"길동\", \"길숙\", \"길자\"} #입력 순서대로 나오지 않네!? 사람들 다 다르게 나옴. 코드값에 대한 크기차이도 아님. 진짜 순서랜덤\n",
    "for name in names:\n",
    "    print(name)"
   ]
  },
  {
   "cell_type": "markdown",
   "id": "e21efabf",
   "metadata": {},
   "source": [
    "# 5절 Enumerate 이뉴머레이트 '열거'\n",
    "- 반복자. 반복문을 처리할 때 사용할 순서객체를 강제로 생성하는 함수. 순서가 없어도 만들어줌\n",
    "- 리스트, 튜플, 딕셔너리, 셋을 for문에 사용시 "
   ]
  },
  {
   "cell_type": "code",
   "execution_count": 218,
   "id": "8c42c5c5",
   "metadata": {},
   "outputs": [
    {
     "data": {
      "text/plain": [
       "[(0, '길숙'), (1, '길자'), (2, '길동')]"
      ]
     },
     "execution_count": 218,
     "metadata": {},
     "output_type": "execute_result"
    }
   ],
   "source": [
    "list(enumerate(names))"
   ]
  },
  {
   "cell_type": "code",
   "execution_count": 219,
   "id": "3c72ad6b",
   "metadata": {},
   "outputs": [
    {
     "name": "stdout",
     "output_type": "stream",
     "text": [
      "1. 길숙\n",
      "2. 길자\n",
      "3. 길동\n"
     ]
    }
   ],
   "source": [
    "for no, name in enumerate(names):\n",
    "    print(\"{}. {}\".format(no+1, name)) #밸류값에 넘버링"
   ]
  },
  {
   "cell_type": "code",
   "execution_count": 220,
   "id": "9b7fc173",
   "metadata": {},
   "outputs": [],
   "source": [
    "names = ['길동', '길자', '길숙']\n",
    "tels = ['02-999-9999', '02-888-8888', '02-777-7777']\n",
    "adds = ['서울', '판교', '하남']"
   ]
  },
  {
   "cell_type": "code",
   "execution_count": 229,
   "id": "d911b115",
   "metadata": {},
   "outputs": [
    {
     "name": "stdout",
     "output_type": "stream",
     "text": [
      "1. 길동님의 연락처는 02-999-9999이고, 서울 살아요\n",
      "2. 길자님의 연락처는 02-888-8888이고, 판교 살아요\n",
      "3. 길숙님의 연락처는 02-777-7777이고, 하남 살아요\n"
     ]
    }
   ],
   "source": [
    "#예시1 잘 안씀11\n",
    "for idx in range(len(names)):\n",
    "    print(\"{}. {}님의 연락처는 {}이고, {} 살아요\". format(idx+1,\n",
    "                                              names[idx],\n",
    "                                              tels[idx],\n",
    "                                              adds[idx])) #콤마만 다음 줄에 올 수 있음"
   ]
  },
  {
   "cell_type": "code",
   "execution_count": 230,
   "id": "01fe5250",
   "metadata": {},
   "outputs": [
    {
     "name": "stdout",
     "output_type": "stream",
     "text": [
      "1. 길동님의 연락처는 02-999-9999이고,     서울 살아요\n",
      "2. 길자님의 연락처는 02-888-8888이고,     판교 살아요\n",
      "3. 길숙님의 연락처는 02-777-7777이고,     하남 살아요\n"
     ]
    }
   ],
   "source": [
    "#역슬래시 추가 예시(잡다한 방법) 잘 안씀22\n",
    "for idx in range(len(names)):\n",
    "    print(\"{}. {}님의 연락처는 {}이고, \\\n",
    "    {} 살아요\". format(idx+1,\n",
    "                                              names[idx],\n",
    "                                              tels[idx],\n",
    "                                              adds[idx])) #콤마들을 그대로 우측으로 열거해도 됨. #위처럼 역슬래시 치고 다음줄에 기입해도 가능"
   ]
  },
  {
   "cell_type": "code",
   "execution_count": 232,
   "id": "37ce5d6a",
   "metadata": {},
   "outputs": [
    {
     "data": {
      "text/plain": [
       "[('길동', '02-999-9999', '서울'),\n",
       " ('길자', '02-888-8888', '판교'),\n",
       " ('길숙', '02-777-7777', '하남')]"
      ]
     },
     "execution_count": 232,
     "metadata": {},
     "output_type": "execute_result"
    }
   ],
   "source": [
    "list(zip(names, tels, adds))    #쥑인다 zip코드 ㄷㄷㄷㄷㄷㄷㄷㄷㄷㄷㄷㄷㄷㄷㄷ"
   ]
  },
  {
   "cell_type": "code",
   "execution_count": 239,
   "id": "c3a1a4fb",
   "metadata": {},
   "outputs": [
    {
     "name": "stdout",
     "output_type": "stream",
     "text": [
      "길동님의 연락처는 02-999-9999이고, 서울 살아요\n",
      "길자님의 연락처는 02-888-8888이고, 판교 살아요\n",
      "길숙님의 연락처는 02-777-7777이고, 하남 살아요\n"
     ]
    }
   ],
   "source": [
    "for name, tel, add in zip(names, tels, adds):\n",
    "    print(\"{}님의 연락처는 {}이고, {} 살아요\".format(name, tel, add)) #제일 많이 씀"
   ]
  },
  {
   "cell_type": "code",
   "execution_count": 240,
   "id": "28e0a40f",
   "metadata": {},
   "outputs": [
    {
     "name": "stdout",
     "output_type": "stream",
     "text": [
      "길동님의 연락처는 02-999-9999이고, 서울 살아요\n",
      "길자님의 연락처는 02-888-8888이고, 판교 살아요\n",
      "길숙님의 연락처는 02-777-7777이고, 하남 살아요\n"
     ]
    }
   ],
   "source": [
    "for name, tel, add in zip(names, tels, adds):\n",
    "    print(f\"{name}님의 연락처는 {tel}이고, {add} 살아요\")"
   ]
  },
  {
   "cell_type": "code",
   "execution_count": 242,
   "id": "8cc23611",
   "metadata": {},
   "outputs": [
    {
     "data": {
      "text/plain": [
       "[(0, ('길동', '02-999-9999', '서울')),\n",
       " (1, ('길자', '02-888-8888', '판교')),\n",
       " (2, ('길숙', '02-777-7777', '하남'))]"
      ]
     },
     "execution_count": 242,
     "metadata": {},
     "output_type": "execute_result"
    }
   ],
   "source": [
    "list(enumerate(zip(names, tels, adds)))"
   ]
  },
  {
   "cell_type": "code",
   "execution_count": 245,
   "id": "993024e0",
   "metadata": {},
   "outputs": [
    {
     "name": "stdout",
     "output_type": "stream",
     "text": [
      "0. 길동님의 연락처는 02-999-9999이고, 서울 살아요\n",
      "1. 길자님의 연락처는 02-888-8888이고, 판교 살아요\n",
      "2. 길숙님의 연락처는 02-777-7777이고, 하남 살아요\n"
     ]
    }
   ],
   "source": [
    "for idx, (name, tel, add) in enumerate(zip(names, tels, adds)):\n",
    "    print(f\"{idx}. {name}님의 연락처는 {tel}이고, {add} 살아요\")"
   ]
  },
  {
   "cell_type": "code",
   "execution_count": 247,
   "id": "89c15ce8",
   "metadata": {},
   "outputs": [
    {
     "name": "stdout",
     "output_type": "stream",
     "text": [
      "0. 길동님의 연락처는 02-999-9999이고, 서울 살아요\n",
      "1. 길자님의 연락처는 02-888-8888이고, 판교 살아요\n",
      "2. 길숙님의 연락처는 02-777-7777이고, 하남 살아요\n"
     ]
    }
   ],
   "source": [
    "for idx, (name, tel, add) in enumerate(zip(names, tels, adds)):\n",
    "    print(\"{}. {}님의 연락처는 {}이고, {} 살아요\".format(idx, name, tel, add)) #실무에서는 데이터 길이 때문에 f치환 많이 씀"
   ]
  },
  {
   "cell_type": "code",
   "execution_count": 260,
   "id": "4d123cfb",
   "metadata": {},
   "outputs": [
    {
     "data": {
      "text/plain": [
       "[{'name': '길동', 'tel': '02-999-9999', 'add': '서울'},\n",
       " {'name': '길자', 'tel': '02-888-8888', 'add': '판교'},\n",
       " {'name': '길숙', 'tel': '02-777-7777', 'add': '하남'}]"
      ]
     },
     "execution_count": 260,
     "metadata": {},
     "output_type": "execute_result"
    }
   ],
   "source": [
    "names = ['길동', '길자', '길숙']\n",
    "tels = ['02-999-9999', '02-888-8888', '02-777-7777']\n",
    "adds = ['서울', '판교', '하남']\n",
    "\n",
    "#예시\n",
    "members = [] # 딕셔너리 리스트\n",
    "for name, tel, add in zip(names, tels, adds):\n",
    "    member = {'name': name, 'tel':tel, 'add':add}\n",
    "    members.append(member)\n",
    "members #프린트 넣은 들여쓰기와 없이 그냥 친 것의 결과값이 다르다 왜인가!? 프린트 없이 변수값만 쓰는 게 이쁘게 써짐(?)"
   ]
  },
  {
   "cell_type": "code",
   "execution_count": 276,
   "id": "9c9131aa",
   "metadata": {},
   "outputs": [
    {
     "data": {
      "text/plain": [
       "[{'rank': 1, 'name': '길동', 'tel': '02-999-9999', 'add': '서울'},\n",
       " {'rank': 2, 'name': '길자', 'tel': '02-888-8888', 'add': '판교'},\n",
       " {'rank': 3, 'name': '길숙', 'tel': '02-777-7777', 'add': '하남'}]"
      ]
     },
     "execution_count": 276,
     "metadata": {},
     "output_type": "execute_result"
    }
   ],
   "source": [
    "members = [] #랭크값 주기\n",
    "for idx, (name, tel, add) in enumerate(zip(names, tels, adds)):\n",
    "    member = {'rank':idx+1,'name': name, 'tel':tel, 'add':add}\n",
    "    members.append(member)\n",
    "members"
   ]
  },
  {
   "cell_type": "markdown",
   "id": "5cf13988",
   "metadata": {},
   "source": [
    "# 6절 연습문제\n",
    "## 실습형 연습문제"
   ]
  },
  {
   "cell_type": "code",
   "execution_count": 297,
   "id": "a2847255",
   "metadata": {},
   "outputs": [],
   "source": [
    "numbers = [1,2,3,4,5,6,7,8,9,10]"
   ]
  },
  {
   "cell_type": "code",
   "execution_count": 298,
   "id": "efd8fe17",
   "metadata": {},
   "outputs": [
    {
     "name": "stdout",
     "output_type": "stream",
     "text": [
      "숫자 100을 맨 뒤에 추가하시오 : [1, 2, 3, 4, 5, 6, 7, 8, 9, 10, 100]\n"
     ]
    }
   ],
   "source": [
    "#quiz.1 숫자 100을 맨 뒤에 추가하세요\n",
    "numbers.append(100)\n",
    "print(\"숫자 100을 맨 뒤에 추가하시오 :\", numbers)"
   ]
  },
  {
   "cell_type": "code",
   "execution_count": 354,
   "id": "cbb0f1b7",
   "metadata": {},
   "outputs": [
    {
     "name": "stdout",
     "output_type": "stream",
     "text": [
      "리스트 추가 : [10, 9, 8, 7, 6, 5, 4, 3, 2, 1, 200, 300, 400, 500]\n"
     ]
    }
   ],
   "source": [
    "#quiz.2다음 리스트를 numbers 리스트 맨 뒤에 추가하세요 data = [200, 300, 400, 500]\n",
    "data = [200, 300, 400, 500]\n",
    "numbers.extend(data) #numbers +=data 이것도 된다!?\n",
    "print(\"리스트 추가 :\", numbers)"
   ]
  },
  {
   "cell_type": "code",
   "execution_count": 306,
   "id": "f1268a45",
   "metadata": {},
   "outputs": [
    {
     "name": "stdout",
     "output_type": "stream",
     "text": [
      "[1, 2, 3, 4, 5]\n"
     ]
    }
   ],
   "source": [
    "#quiz.3 처음 다섯 개 숫자만 출력하세요\n",
    "numbers = [1,2,3,4,5,6,7,8,9,10]\n",
    "print(numbers[:5])"
   ]
  },
  {
   "cell_type": "code",
   "execution_count": 307,
   "id": "041a242e",
   "metadata": {},
   "outputs": [
    {
     "name": "stdout",
     "output_type": "stream",
     "text": [
      "[1, 3, 5, 7, 9]\n"
     ]
    }
   ],
   "source": [
    "#quiz.4 리스트에서 짝수 번째 데이터만 출력하세요\n",
    "numbers = [1,2,3,4,5,6,7,8,9,10]\n",
    "print(numbers[::2])"
   ]
  },
  {
   "cell_type": "code",
   "execution_count": 361,
   "id": "e3e8a2d8",
   "metadata": {},
   "outputs": [
    {
     "name": "stdout",
     "output_type": "stream",
     "text": [
      "[0, 2, 0, 4, 0, 6, 0, 8, 0, 10]\n"
     ]
    }
   ],
   "source": [
    "#quiz.5 짝수번째 데이터를 모두 0 으로 바꾸세요\n",
    "numbers = [1,2,3,4,5,6,7,8,9,10]\n",
    "numbers[::2] = [0] * len(numbers[::2])  #이게 최고의 답이다. 오 대박 ! 곱하기로만 알았다...\n",
    "print(numbers)"
   ]
  },
  {
   "cell_type": "code",
   "execution_count": 366,
   "id": "20047173",
   "metadata": {},
   "outputs": [
    {
     "name": "stdout",
     "output_type": "stream",
     "text": [
      "5번 출력만 : [0, 2, 0, 4, 0, 6, 0, 8, 0, 10]\n"
     ]
    }
   ],
   "source": [
    "#quiz.5변형\n",
    "numbers = [1,2,3,4,5,6,7,8,9,10]\n",
    "print('5번 출력만 :',\n",
    "      [numbers[idx] if idx%2!=0 else 0 for idx in range(len(numbers))])"
   ]
  },
  {
   "cell_type": "code",
   "execution_count": 314,
   "id": "46fa9e15",
   "metadata": {},
   "outputs": [
    {
     "data": {
      "text/plain": [
       "[10, 9, 8, 7, 6, 5, 4, 3, 2, 1]"
      ]
     },
     "execution_count": 314,
     "metadata": {},
     "output_type": "execute_result"
    }
   ],
   "source": [
    "#quiz.6 데이터를 역순으로 나열하세요 내림차순 정렬이 아닙니다\n",
    "numbers = [1,2,3,4,5,6,7,8,9,10]\n",
    "numbers.reverse()\n",
    "numbers"
   ]
  },
  {
   "cell_type": "code",
   "execution_count": 372,
   "id": "185fd8d4",
   "metadata": {},
   "outputs": [
    {
     "name": "stdout",
     "output_type": "stream",
     "text": [
      "서울시 마포구\n"
     ]
    }
   ],
   "source": [
    "#quiz.7 address 값을 출력하세요\n",
    "member_info = {\"name\":\"홍길동\", \"age\":20, \"add\":\"서울시 마포구\", \"score\":90}\n",
    "print(member_info.get(\"add\"))"
   ]
  },
  {
   "cell_type": "code",
   "execution_count": 348,
   "id": "3b96b2f9",
   "metadata": {},
   "outputs": [
    {
     "name": "stdout",
     "output_type": "stream",
     "text": [
      "90\n",
      "제거 후 : {'name': '홍길동', 'age': 20, 'add': '서울시 마포구'}\n"
     ]
    }
   ],
   "source": [
    "#quiz.8 score 를 출력하고 member_info 딕셔너리에서 삭제하세요\n",
    "member_info = {\"name\":\"홍길동\", \"age\":20, \"add\":\"서울시 마포구\", \"score\":90}\n",
    "print(member_info[\"score\"])\n",
    "del member_info['score'] \n",
    "print('제거 후 :', member_info)"
   ]
  },
  {
   "cell_type": "code",
   "execution_count": 352,
   "id": "a4d9ff5a",
   "metadata": {},
   "outputs": [
    {
     "name": "stdout",
     "output_type": "stream",
     "text": [
      "주소 수정 후 : {'name': '홍길동', 'age': 20, 'add': '서울시 서대문구', 'score': 90}\n"
     ]
    }
   ],
   "source": [
    "#quiz.9 address 를 서울시 서대문구 로 변경하세요\n",
    "member_info = {\"name\":\"홍길동\", \"age\":20, \"add\":\"서울시 마포구\", \"score\":90}\n",
    "member_info['add'] = '서울시 서대문구'\n",
    "print('주소 수정 후 :', member_info)"
   ]
  },
  {
   "cell_type": "code",
   "execution_count": 373,
   "id": "cf71ee3a",
   "metadata": {},
   "outputs": [
    {
     "data": {
      "text/plain": [
       "dict_values(['홍길동', 20, '서울시 마포구', 90])"
      ]
     },
     "execution_count": 373,
     "metadata": {},
     "output_type": "execute_result"
    }
   ],
   "source": [
    "#quiz.10 member_info 딕셔너리 데이터의 값을 리스트로 출력하세요 '값'은 답이다. 키가 항목이고 !!! 그걸 까먹다니 !\n",
    "member_info = {\"name\":\"홍길동\", \"age\":20, \"add\":\"서울시 마포구\", \"score\":90}\n",
    "member_info.values()"
   ]
  },
  {
   "cell_type": "markdown",
   "id": "4e3bc9e2",
   "metadata": {},
   "source": [
    "## 서술형 연습문제"
   ]
  },
  {
   "cell_type": "code",
   "execution_count": 374,
   "id": "6e77da3d",
   "metadata": {},
   "outputs": [],
   "source": [
    "#ch3 29페이지 참조\n",
    "#서술형 Quiz.1 다음 코드를 실행했을 때 출력되는 것은 ? Banana Orange >>> 5자 이상인 데이터 출력 (O)\n",
    "#서술형 Quiz.2 다음 코드와 실행결과가 잘못 짝지어진 것은? **4번!!!!\n",
    "#서술형 Quiz.3 다음 구문에 의해 출력되는 것은? 1개 >>> 3번째 데이터의 렌함수로 인한 글자개수?  (O)\n",
    "#서술형 Quiz.4 다음 코드의 실행결과가 나올 수 있는 빈칸에 들어갈 함수 이름은? extend >> 하나씩 쪼개서 넣어야 하기에 (O)\n",
    "#서술형 Quiz.5 다음 구문을 실행할 때 결과는? **이해안됨\n",
    "#서술형 Quiz.6 다음 구문을 실행할 때 결과는? **이해안됨\n",
    "#서술형 Quiz.7 다음 구문을 실행할 때 결과는 **이해안됨\n",
    "#서술형 Quiz.8 다음 데이터에서 10 을 출력할 수 없는 구문은? 1번 리스트는 인덱스로 접근안됨 **이해안됨\n",
    "#서술형 Quiz.9 다음 프로그램의 결과를 출력하시오. 처음 생각이 맞았다. 그대로 부여 해서 apple banana orange\n",
    "#서술형 Quiz.10 다음 프로그램의 결과를 출력하시오 3 (O)\n",
    "#서술형 Quiz.11 파이썬에서 함수를 만들기 위해 선언하는 단어는? 까먹음 (O)"
   ]
  },
  {
   "cell_type": "markdown",
   "id": "91d5bbfe",
   "metadata": {},
   "source": [
    "<img src=\"https://pynative.com/wp-content/uploads/2021/02/python-data-types.jpg\"\n",
    "    style=\"float:left\"\n",
    "    width=\"500\">"
   ]
  },
  {
   "cell_type": "code",
   "execution_count": null,
   "id": "3c61f0e2",
   "metadata": {},
   "outputs": [],
   "source": []
  },
  {
   "cell_type": "code",
   "execution_count": null,
   "id": "6e18e1ca",
   "metadata": {},
   "outputs": [],
   "source": []
  },
  {
   "cell_type": "code",
   "execution_count": null,
   "id": "495bbef0",
   "metadata": {},
   "outputs": [],
   "source": []
  },
  {
   "cell_type": "code",
   "execution_count": null,
   "id": "c6e8a99a",
   "metadata": {},
   "outputs": [],
   "source": []
  }
 ],
 "metadata": {
  "kernelspec": {
   "display_name": "Python 3 (ipykernel)",
   "language": "python",
   "name": "python3"
  },
  "language_info": {
   "codemirror_mode": {
    "name": "ipython",
    "version": 3
   },
   "file_extension": ".py",
   "mimetype": "text/x-python",
   "name": "python",
   "nbconvert_exporter": "python",
   "pygments_lexer": "ipython3",
   "version": "3.10.9"
  },
  "toc": {
   "base_numbering": 1,
   "nav_menu": {},
   "number_sections": false,
   "sideBar": true,
   "skip_h1_title": false,
   "title_cell": "Table of Contents",
   "title_sidebar": "Contents",
   "toc_cell": false,
   "toc_position": {
    "height": "calc(100% - 180px)",
    "left": "10px",
    "top": "150px",
    "width": "178px"
   },
   "toc_section_display": true,
   "toc_window_display": true
  }
 },
 "nbformat": 4,
 "nbformat_minor": 5
}
