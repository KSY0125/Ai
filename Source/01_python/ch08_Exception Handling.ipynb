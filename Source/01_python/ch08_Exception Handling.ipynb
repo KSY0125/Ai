{
 "cells": [
  {
   "cell_type": "code",
   "execution_count": 1,
   "id": "9fba68ad",
   "metadata": {},
   "outputs": [
    {
     "data": {
      "text/html": [
       "\n",
       "<style>\n",
       "div.container{width:90% !important;}\n",
       "div.cell.code_cell.rendered{width:100%;}\n",
       "div.input_prompt{padding:0px;}\n",
       "div.CodeMirror {font-family:Consolas; font-size:12pt;}\n",
       "div.text_cell_render.rendered_html{font-size:12pt;}\n",
       "div.output {font-size:12pt; font-weight:bold;}\n",
       "div.input {font-family:Consolas; font-size:12pt;}\n",
       "div.prompt {min-width:100px;}\n",
       "div#toc-wrapper{padding-top:120px;}\n",
       "div.text_cell_render ul li{font-size:12pt;padding:5px;}\n",
       "table.dataframe{font-size:12px;}\n",
       "</style>\n"
      ],
      "text/plain": [
       "<IPython.core.display.HTML object>"
      ]
     },
     "metadata": {},
     "output_type": "display_data"
    }
   ],
   "source": [
    "from IPython.display import display, HTML\n",
    "display(HTML(\"\"\"\n",
    "<style>\n",
    "div.container{width:90% !important;}\n",
    "div.cell.code_cell.rendered{width:100%;}\n",
    "div.input_prompt{padding:0px;}\n",
    "div.CodeMirror {font-family:Consolas; font-size:12pt;}\n",
    "div.text_cell_render.rendered_html{font-size:12pt;}\n",
    "div.output {font-size:12pt; font-weight:bold;}\n",
    "div.input {font-family:Consolas; font-size:12pt;}\n",
    "div.prompt {min-width:100px;}\n",
    "div#toc-wrapper{padding-top:120px;}\n",
    "div.text_cell_render ul li{font-size:12pt;padding:5px;}\n",
    "table.dataframe{font-size:12px;}\n",
    "</style>\n",
    "\"\"\"))"
   ]
  },
  {
   "cell_type": "markdown",
   "id": "2b06d6ce",
   "metadata": {},
   "source": [
    "<b><font size=\"6\" Color=\"red\">ch08. \"Exception Handling\"</font></b>\n",
    "\n",
    "## 예외(Exception)란 ?\n",
    "- 예외는 프로그램 실행 도중 발생하는 예상치 못한 상황\n",
    "    >    ex:) 0으로 나누기, 없는 파일 열기, 인덱스 범위 초과 접근 등\n",
    "\n",
    "## 예외처리(Exception Handling)란 ?\n",
    "- 프로그램 실행 중 발생할 수 있는 오류(예외)를 처리하여 프로그램이 갑자기 종료되지 않도록 프로그래밍하는 것\n",
    "\n",
    "    >    **예외처리 하는 이유들**\n",
    "    >    - 프로그래밍 셧다운 방지\n",
    "    >    - 안정적인 시스템 구축\n",
    "    >    - 사용자에게 명확한 오류 메시지 제공\n",
    "    >    - 오류 발생 시 대안 로직 수행 가능\n",
    "    >    - 디버깅과 유지보수 용이\n",
    "    \n",
    "## 예외처리용 구문\n",
    "> - try : 오류가 발생할 수 있는 코드 블록\n",
    "> - except : 오류가 발생했을 때 실행되는 블록\n",
    "> - else : 오류 없이 실행됐을 때 실행되는 블록\n",
    "> - finally : 무조건 실행되는 블록 (자원 해제 등에 사용)"
   ]
  },
  {
   "cell_type": "markdown",
   "id": "50cb42f5",
   "metadata": {},
   "source": [
    "# 1절. 예외처리 필요성\n",
    "\n",
    "- 필요한 이유 : 좀 더 안정적인 시스템\n",
    "    >  - ex.1 파일을 다룰 때, 파일이 없거나, 쓰기 금지, 파일 인코딩 방법에 의한 오류\n",
    "    >  - ex.2 데이터 베이스 프로그래밍 시 제약조건 등에 의한 CRUD 명령 수행 오류. DBMS 서버 오류\n",
    "    >  - ex.3 네트워크 프로그래밍 시, 네트워크 연결 오류\n",
    "    >  - ex.4 리스트나 튜플의 인덱스를 벗어난 참조에 의한 오류\n",
    "    \n",
    "예외처리의 대상\n",
    "- 에러\n",
    "   -  (1) 문법에러 : 문법적으로 나타나는 에러 (프로그램을 수정)\n",
    "   -  (2) 실행에러(실행 시 에러)\n",
    "        * 시스템 에러 : 프로그래머의 의지와 상관없이 나타나는 에러\n",
    "        * 예외 : 정상적으로 동작하는 프로그램에서 나타나는 에러 (a.k.a MILD한 에러)"
   ]
  },
  {
   "cell_type": "code",
   "execution_count": null,
   "id": "d8163cd0",
   "metadata": {},
   "outputs": [],
   "source": [
    "# 파일명은 사용자에게 입력받아 해당 파일 내용을 출력\n",
    "filename = input('파일명은 ?')\n",
    "f = open('data/' + filename, 'r' ) # 파일은 연다 (스트림객체 생성) 여기서 r은 입력용 스트림객체\n",
    "f.read()"
   ]
  },
  {
   "cell_type": "code",
   "execution_count": null,
   "id": "38d96844",
   "metadata": {},
   "outputs": [],
   "source": [
    "f.close()"
   ]
  },
  {
   "cell_type": "code",
   "execution_count": null,
   "id": "c9c39e04",
   "metadata": {},
   "outputs": [],
   "source": [
    "# 예외발생 : 파일이 잘못되었을 경우\n",
    "filename = input('파일명은 ?')\n",
    "f = open('data/' + filename, 'r' ) # 파일은 연다 (스트림객체 생성) 여기서 r은 입력용 스트림객체\n",
    "print(f.read())\n",
    "f.close()"
   ]
  },
  {
   "cell_type": "code",
   "execution_count": null,
   "id": "f4edd7f3",
   "metadata": {},
   "outputs": [],
   "source": [
    "# 예외발생 : 인코딩방식 에러\n",
    "\n",
    "# ASCII 코드에 대해 공부해보자.\n",
    "# 한글 인코딩 방법 : \n",
    "# 한글완성형(euc-kr < 확장된 것이 cp949) : 한글의 조합 총 11,172자 중 2,350자만 활용한 코드표현법 < 과거방식\n",
    "# 한글조합형(utf-8코드) : 초중종성을 따로 코드값을 받아\n",
    "# 주피터 노트북에서안열리면 cp949 열리면 utf-8\n",
    "# 메모장은 cp949와 utf8모두 열림\n",
    "\n",
    "filename = input('파일명은 ?')\n",
    "f = open('data/' + filename, 'r', encoding='utf-8') # 파일은 연다 (스트림객체 생성) 여기서 r은 입력용 스트림객체\n",
    "print(f.read())\n",
    "f.close()"
   ]
  },
  {
   "cell_type": "code",
   "execution_count": null,
   "id": "24c5cb6d",
   "metadata": {},
   "outputs": [],
   "source": [
    "#인코딩방식 에러 번외편. 파일형태를 바꿔버림\n",
    "filename = input('파일명은 ?')\n",
    "f = open('data/' + filename, 'r') # 파일은 연다 (스트림객체 생성) 여기서 r은 입력용 스트림객체\n",
    "print(f.read())\n",
    "f.close()"
   ]
  },
  {
   "cell_type": "code",
   "execution_count": null,
   "id": "b5587dc2",
   "metadata": {},
   "outputs": [],
   "source": [
    "a = [1, 2, 3]\n",
    "a[3] #3번째가 없기에 에러남. 이런 예외객체발생 시 프로그램은 셧다운됨."
   ]
  },
  {
   "cell_type": "markdown",
   "id": "64d8e270",
   "metadata": {},
   "source": [
    "# 2절. try~except로 예외처리\n",
    "\n",
    "## 2.1 try~excpet\n",
    "```\n",
    "try:\n",
    "    hoxy 예외가 발생할 가능성이 있는 명령어들\n",
    "except:\n",
    "    예외가 발생했을 경우에 실행할 명령어들\n",
    "```"
   ]
  },
  {
   "cell_type": "code",
   "execution_count": null,
   "id": "93cdd602",
   "metadata": {},
   "outputs": [],
   "source": [
    "# 100을, 입력받은 정수값으로 나눠 출력\n",
    "# ValueError: invalid literal for int() with base 10: 'ㅁ' #발생된 예외의 예시(정수 입력 안 함)\n",
    "# ZeroDivisionError: division by zero #0으로 나눌 수 없기에\n",
    "a = int(input('100을 나눌 정수를 입력하세요 :')) \n",
    "print('100을 입력한 정수로 나눠 소수점 3자리만 표기하면 {0:.3f}'.format(100/a))"
   ]
  },
  {
   "cell_type": "code",
   "execution_count": null,
   "id": "003b338f",
   "metadata": {},
   "outputs": [],
   "source": [
    "# 예외가 발생하지 않으면 무조건 try절만 실행됨.\n",
    "# try절에 예외가 발생되면, try절 수행을 멈추고 except절을 수행 > 셧다운방지\n",
    "try: \n",
    "    a = int(input('100을 나눌 정수를 입력하세요 :')) \n",
    "    print('100을 입력한 정수로 나눠 소수점 3자리만 표기하면 {0:.3f}'.format(100/a))\n",
    "except:\n",
    "    print('유효한 정수가 아닙니다')"
   ]
  },
  {
   "cell_type": "code",
   "execution_count": null,
   "id": "1e0e6e9c",
   "metadata": {},
   "outputs": [],
   "source": [
    "# 100을 나눌 유효한 정수를 입력할 때까지 되물어서 정확한 값을 입력받아 100을 나눈 결과를 출력 (feat. 반복문)\n",
    "# 반복횟수가 정해져있으면 for문 몇번할지 모르면 while문\n",
    "while True:\n",
    "    try: \n",
    "        a = int(input('100을 나눌 정수를 입력하세요 :')) \n",
    "        print('100을 입력한 정수로 나눠 소수점 3자리만 표기하면 {0:.3f}'.format(100/a))\n",
    "        break\n",
    "    except:\n",
    "        print('유효한 정수가 아닙니다')"
   ]
  },
  {
   "cell_type": "markdown",
   "id": "31faf22a",
   "metadata": {},
   "source": [
    "##  2.2 지정된 예외 처리\n",
    "```\n",
    "try:\n",
    "    예외가 발생할 수도 있는 명령어\n",
    "except 예외타입1:\n",
    "    해당 예외가 발생할 경우 실행할 명령어\n",
    "except 예외타입2:\n",
    "    해당 예외가 발생할 경우 실행할 명령어\n",
    "```"
   ]
  },
  {
   "cell_type": "code",
   "execution_count": null,
   "id": "600ca34e",
   "metadata": {},
   "outputs": [],
   "source": [
    "try: \n",
    "    a = int(input('100을 나눌 정수를 입력하세요 :')) \n",
    "    print('100을 입력한 정수로 나눠 소수점 3자리만 표기하면 {0:.3f}'.format(100/a))\n",
    "except (ZeroDivisionError, ValueError):\n",
    "    print('나눌 수 있는 유효한 수가 아닙니다')    \n",
    "except Exception: #에러값들이 Exception에서 상속받았기에, Exception타입인지만 체크하면 끝 (PPT 맨마지막p참조)\n",
    "    print('기타 다른 예외입니다') #Exception이 제일 큰 값이라서 맨 마지막에 두는 게 대표적인 에러 외의 에러를 처리."
   ]
  },
  {
   "cell_type": "code",
   "execution_count": null,
   "id": "0cc98535",
   "metadata": {},
   "outputs": [],
   "source": [
    "#예외 객체를 가져와서 처리\n",
    "\n",
    "try: \n",
    "    a = int(input('100을 나눌 정수를 입력하세요 :')) \n",
    "    print('100을 입력한 정수로 나눠 소수점 3자리만 표기하면 {0:.3f}'.format(100/a))\n",
    "except (ZeroDivisionError, ValueError):\n",
    "    print('나눌 수 있는 유효한 수가 아닙니다')    \n",
    "except Exception: #에러값들이 Exception에서 상속받았기에, Exception타입인지만 체크하면 끝 (PPT 맨마지막p참조)\n",
    "    print('기타 다른 예외입니다') #Exception이 제일 큰 값이라서 맨 마지막에 두는 게 대표적인 에러 외의 에러를 처리."
   ]
  },
  {
   "cell_type": "markdown",
   "id": "b94dd036",
   "metadata": {},
   "source": [
    "##  2.3 예외 인수\n",
    "- e는 임의 변수값임\n",
    "```\n",
    "try:\n",
    "    예외가 발생할 수도 있는 명령어\n",
    "except 예외타입 as e:\n",
    "    print(e) #그냥 이렇게 출력할 수도 있음?\n",
    "    print(e.args[0]) #예외메시지 출력\n",
    "```"
   ]
  },
  {
   "cell_type": "code",
   "execution_count": null,
   "id": "cff89740",
   "metadata": {},
   "outputs": [],
   "source": [
    "e = Exception(\"에러메세지\")\n",
    "e.args"
   ]
  },
  {
   "cell_type": "code",
   "execution_count": null,
   "id": "409a1e8c",
   "metadata": {},
   "outputs": [],
   "source": [
    "print(e)"
   ]
  },
  {
   "cell_type": "code",
   "execution_count": null,
   "id": "f881d63b",
   "metadata": {},
   "outputs": [],
   "source": [
    "try: \n",
    "    a = int(input('100을 나눌 정수를 입력하세요 :')) \n",
    "    print('100을 입력한 정수로 나눠 소수점 3자리만 표기하면 {0:.3f}'.format(100/a))\n",
    "except (ZeroDivisionError, ValueError) as e:\n",
    "    print('예외 유형 :', type(e))\n",
    "    print('예외 메세지 :', e.__str__())\n",
    "    print('예외 메세지 :', e.args)\n",
    "except Exception:\n",
    "    print('기타 다른 예외입니다')   "
   ]
  },
  {
   "cell_type": "markdown",
   "id": "093f241c",
   "metadata": {},
   "source": [
    "```\n",
    "try:\n",
    "    예외 발생 가능 명령어\n",
    "except [예외타입 [as e]]:\n",
    "    예외타입 발생 시 명령어\n",
    "[else:\n",
    "    try절 수행하다 예외가 발생 안되면 else절 수행함\n",
    "    try절 수행하다 예외가 발생하면 except절 수행, else절은 수행 X\n",
    "]\n",
    "[finally:                 #있어도 되고 없어도 됨\n",
    "    try절에서 예외가 발생하든 안 하든 마지막에 수행.\n",
    "]\n",
    "```"
   ]
  },
  {
   "cell_type": "code",
   "execution_count": null,
   "id": "258a2b3f",
   "metadata": {},
   "outputs": [],
   "source": [
    "try: #try 안에 try 넣으면 조잡해서, 아무도 그렇게 안 씀\n",
    "    file = open('data/ch08-3.txt', 'r', encoding='utf-8')\n",
    "    print(file.read()) #cp949에러같은 건 여기서 남. 읽다가 에러난 거기 때문에 > 그래서 여기서 에러방지를 위해 encoding\n",
    "except FileNotFoundError as e:\n",
    "    print('해당 폴더나 파일이 없습니다')\n",
    "    print(e)\n",
    "finally:\n",
    "    file.close()"
   ]
  },
  {
   "cell_type": "markdown",
   "id": "d52c1968",
   "metadata": {},
   "source": [
    "#  3절 raise\n",
    "- 강제 예외 발생"
   ]
  },
  {
   "cell_type": "code",
   "execution_count": null,
   "id": "b4a75315",
   "metadata": {
    "scrolled": true
   },
   "outputs": [],
   "source": [
    "raise Exception(\"예외랍니다~\")"
   ]
  },
  {
   "cell_type": "code",
   "execution_count": null,
   "id": "48cde85c",
   "metadata": {},
   "outputs": [],
   "source": [
    "raise ZeroDivisionError(\"0으로 나누려고 했고만?\")"
   ]
  },
  {
   "cell_type": "code",
   "execution_count": null,
   "id": "f334d6b4",
   "metadata": {},
   "outputs": [],
   "source": [
    "# 사용자 정의 예외 : Exception 클래스로부터 상속받아 구현\n",
    "class LengthZeroError(Exception):\n",
    "    '길이가 0일 때 발생하는 예외'\n",
    "    def __init__(self, message):\n",
    "        super().__init__(message) #super는 생성자함수"
   ]
  },
  {
   "cell_type": "code",
   "execution_count": null,
   "id": "544bbf8c",
   "metadata": {},
   "outputs": [],
   "source": [
    "def insert(*data): #튜플매개변수\n",
    "    print('data = ', data)\n",
    "    if len(data)==0:\n",
    "        raise LengthZeroError(\"매개변수의 갯수가 0이면 예외에요(사용자 정의 예외)\")\n",
    "    for item in data:\n",
    "        print(item, end=' ')\n",
    "    print('등을 입력하였습니다')\n",
    "\n",
    "insert(1, 2, '3')"
   ]
  },
  {
   "cell_type": "code",
   "execution_count": null,
   "id": "6ce707cd",
   "metadata": {},
   "outputs": [],
   "source": [
    "data = (1, 2, '3')\n",
    "insert(*data)"
   ]
  },
  {
   "cell_type": "code",
   "execution_count": null,
   "id": "c813da58",
   "metadata": {},
   "outputs": [],
   "source": [
    "data = ()\n",
    "try:\n",
    "    insert(*data)\n",
    "except Exception as e:\n",
    "    print(e)\n",
    "else:\n",
    "    print('예외가 발생 안 할 때만 실행')\n",
    "finally:\n",
    "    print('예외가 발생하든 안하든 무조건 실행')"
   ]
  },
  {
   "cell_type": "markdown",
   "id": "24c176ea",
   "metadata": {},
   "source": [
    "# 4절 추상클래스\n",
    "- 추상클래스 : 추상메서드가 1개 이상 포함된 클래스를 추상클래스.\n",
    "- 추상메서드 : 호출할 수 없는 메서드. 왜 만드나? => 상속받은 클래스에서 재정의를 강요할 때\n",
    "- Python에서 추상메서드는 @abstractmethod나 raise를 이용"
   ]
  },
  {
   "cell_type": "code",
   "execution_count": null,
   "id": "c4613e43",
   "metadata": {},
   "outputs": [],
   "source": [
    "class Shape:\n",
    "    def __init__(self):\n",
    "        print('생성자')"
   ]
  },
  {
   "cell_type": "code",
   "execution_count": null,
   "id": "dc8be2d2",
   "metadata": {},
   "outputs": [],
   "source": [
    "s = Shape()"
   ]
  },
  {
   "cell_type": "code",
   "execution_count": null,
   "id": "c272f98c",
   "metadata": {},
   "outputs": [],
   "source": [
    "class Shape:\n",
    "    def __init__(self):\n",
    "        raise NotImplementedError(\"추상클래스 역할\")\n",
    "    def calc_area(self):\n",
    "        raise NotImplementedError(\"추상메서드 역할\")"
   ]
  },
  {
   "cell_type": "code",
   "execution_count": null,
   "id": "98503bf8",
   "metadata": {},
   "outputs": [],
   "source": [
    "from abc import ABC, abstractmethod\n",
    "class Shape(ABC):\n",
    "    @abstractmethod\n",
    "    def __init__(self):\n",
    "        pass\n",
    "    @abstractmethod\n",
    "    def calc_area(self):\n",
    "        pass"
   ]
  },
  {
   "cell_type": "code",
   "execution_count": null,
   "id": "a97ac813",
   "metadata": {},
   "outputs": [],
   "source": [
    "import numpy as np\n",
    "class Circle(Shape):\n",
    "    def __init__(self, radius=3): #안 쓰면 기본값은 3\n",
    "        self.radius = radius\n",
    "    def calc_area(self):\n",
    "        '원의 넓이를 return'\n",
    "        return np.pi * (self.radius**2)"
   ]
  },
  {
   "cell_type": "code",
   "execution_count": null,
   "id": "6e07fed0",
   "metadata": {},
   "outputs": [],
   "source": [
    "myCircle = Circle(5)\n",
    "myCircle.calc_area()"
   ]
  },
  {
   "cell_type": "markdown",
   "id": "4d9fefc2",
   "metadata": {},
   "source": [
    " # 5절. 파일 정리 작업(with 절 이용)"
   ]
  },
  {
   "cell_type": "code",
   "execution_count": null,
   "id": "11f0f39e",
   "metadata": {},
   "outputs": [],
   "source": [
    "try:\n",
    "    f = open('data/ch08-4.txt', 'r', encoding='utf-8')\n",
    "    lines = f.readlines() #한줄한줄 모든 줄을 한꺼번에 list로 읽어오기\n",
    "    print(lines)\n",
    "except Exception as e: #에러나는 파일들 모를 때 제일 만만한 게 exception 쓰기 > 차선책은 FileNotFoundError\n",
    "    print(e)\n",
    "finally:\n",
    "    f.close()"
   ]
  },
  {
   "cell_type": "code",
   "execution_count": null,
   "id": "6e95044b",
   "metadata": {},
   "outputs": [],
   "source": [
    "#with절 이후에는 자동적으로 close() 실행함.\n",
    "with open('data/ch08-4.txt', 'r', encoding='utf-8') as f: #의미 : 빨대를 꼽아서 스트림객체를 f에 주라\n",
    "    lines = f.readlines()\n",
    "print(lines)"
   ]
  },
  {
   "cell_type": "code",
   "execution_count": null,
   "id": "7b64196c",
   "metadata": {},
   "outputs": [],
   "source": [
    "try:\n",
    "    with open('data/ch08-4.txt', 'r', encoding='utf-8') as f:\n",
    "        lines = f.readlines() #여기 순서에서 사라짐\n",
    "    print(lines)\n",
    "except (FileNotFoundError, UnicodeDecodeError) as e:\n",
    "    print(e)"
   ]
  },
  {
   "cell_type": "markdown",
   "id": "6611a717",
   "metadata": {},
   "source": [
    "# 6절. 연습문제 "
   ]
  },
  {
   "cell_type": "code",
   "execution_count": null,
   "id": "671c3b50",
   "metadata": {},
   "outputs": [],
   "source": [
    "#실습형 1\n",
    "try: \n",
    "    a = float(input('첫번째 숫자를 입력해주세요 :',)) \n",
    "    b = float(input('두번째 숫자를 입력해주세요 :',)) \n",
    "    print(f\"입력한 수는{a}와 {b}입니다. {a}을 {b}로 나누면 {a/b}입니다.\")\n",
    "except (ZeroDivisionError, FloatingPointError):\n",
    "    print('유효한 숫자가 아닙니다 다시 시도하세요')    \n",
    "except Exception:\n",
    "    print('에러다')"
   ]
  },
  {
   "cell_type": "code",
   "execution_count": null,
   "id": "68b9e65d",
   "metadata": {},
   "outputs": [],
   "source": [
    "#실습형 2\n",
    "try: \n",
    "    a = float(input('첫번째 숫자를 입력해주세요 :',)) \n",
    "    b = float(input('두번째 숫자를 입력해주세요 :',)) \n",
    "    print(f\"입력한 수는{a}와 {b}입니다. {a}을 {b}로 나누면 {a/b}입니다.\")\n",
    "except ValueError:\n",
    "    print('유효한 숫자가 아닙니다. 다시 시도하세요.')\n",
    "except ZeroDivisionError:\n",
    "    print(f\"입력한 수는{a}와 {b}입니다. 0으로 나눌 수 없습니다. 다시 시도하세요.\")    \n",
    "except Exception:\n",
    "    print('에러다')"
   ]
  },
  {
   "cell_type": "code",
   "execution_count": null,
   "id": "0f38471b",
   "metadata": {},
   "outputs": [],
   "source": []
  },
  {
   "cell_type": "code",
   "execution_count": null,
   "id": "b73cb8eb",
   "metadata": {},
   "outputs": [],
   "source": []
  }
 ],
 "metadata": {
  "kernelspec": {
   "display_name": "Python 3 (ipykernel)",
   "language": "python",
   "name": "python3"
  },
  "language_info": {
   "codemirror_mode": {
    "name": "ipython",
    "version": 3
   },
   "file_extension": ".py",
   "mimetype": "text/x-python",
   "name": "python",
   "nbconvert_exporter": "python",
   "pygments_lexer": "ipython3",
   "version": "3.10.9"
  },
  "toc": {
   "base_numbering": 1,
   "nav_menu": {},
   "number_sections": false,
   "sideBar": true,
   "skip_h1_title": false,
   "title_cell": "Table of Contents",
   "title_sidebar": "Contents",
   "toc_cell": false,
   "toc_position": {
    "height": "calc(100% - 180px)",
    "left": "10px",
    "top": "150px",
    "width": "248.667px"
   },
   "toc_section_display": true,
   "toc_window_display": true
  }
 },
 "nbformat": 4,
 "nbformat_minor": 5
}
