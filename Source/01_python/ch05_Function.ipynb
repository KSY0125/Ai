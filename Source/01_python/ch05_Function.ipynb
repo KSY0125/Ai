{
 "cells": [
  {
   "cell_type": "code",
   "execution_count": 1,
   "id": "09fb9fcb",
   "metadata": {},
   "outputs": [
    {
     "data": {
      "text/html": [
       "\n",
       "<style>\n",
       "div.container{width:90% !important;}\n",
       "div.cell.code_cell.rendered{width:100%;}\n",
       "div.input_prompt{padding:0px;}\n",
       "div.CodeMirror {font-family:Consolas; font-size:12pt;}\n",
       "div.text_cell_render.rendered_html{font-size:12pt;}\n",
       "div.output {font-size:12pt; font-weight:bold;}\n",
       "div.input {font-family:Consolas; font-size:12pt;}\n",
       "div.prompt {min-width:100px;}\n",
       "div#toc-wrapper{padding-top:120px;}\n",
       "div.text_cell_render ul li{font-size:12pt;padding:5px;}\n",
       "table.dataframe{font-size:12px;}\n",
       "</style>\n"
      ],
      "text/plain": [
       "<IPython.core.display.HTML object>"
      ]
     },
     "metadata": {},
     "output_type": "display_data"
    }
   ],
   "source": [
    "from IPython.display import display, HTML\n",
    "display(HTML(\"\"\"\n",
    "<style>\n",
    "div.container{width:90% !important;}\n",
    "div.cell.code_cell.rendered{width:100%;}\n",
    "div.input_prompt{padding:0px;}\n",
    "div.CodeMirror {font-family:Consolas; font-size:12pt;}\n",
    "div.text_cell_render.rendered_html{font-size:12pt;}\n",
    "div.output {font-size:12pt; font-weight:bold;}\n",
    "div.input {font-family:Consolas; font-size:12pt;}\n",
    "div.prompt {min-width:100px;}\n",
    "div#toc-wrapper{padding-top:120px;}\n",
    "div.text_cell_render ul li{font-size:12pt;padding:5px;}\n",
    "table.dataframe{font-size:12px;}\n",
    "</style>\n",
    "\"\"\"))"
   ]
  },
  {
   "cell_type": "markdown",
   "id": "f6029c2b",
   "metadata": {},
   "source": [
    "<b><font size=\"6\" Color=\"red\">ch05. Function </font></b>\n",
    "- 반복해서 사용할 코드를 묶어 놓고 그것에 이름을 붙인 것이 '함수'\n",
    "  > 여러 함수를 묶어둔 건 '라이브러리'\n",
    "- 오버로딩 불가\n",
    "    - 같은 이름의 함수는 덮어쓴다\n",
    "- 함수 정의\n",
    "    - IT업계에서는 대괄호는 생략가능한 부분이구나라고 인지함\n",
    "    - 변수명 쓰는 것과 함수명 쓰는 문법은 같다\n",
    "``` \n",
    "def 함수명 ([매개변수, 매개변수2, ..]):   \n",
    "    명령어1\n",
    "    명령어2.....\n",
    "```\n",
    "# 1절. 함수의 정의 및 사용\n",
    "## 1.1 함수 정의\n"
   ]
  },
  {
   "cell_type": "code",
   "execution_count": 2,
   "id": "8d5685d3",
   "metadata": {},
   "outputs": [],
   "source": [
    "def my_message(x, msg): #msg를 x번 출력하는 함수 #이렇게 생성후 my_me만 치고 tab하면 자동완성됨.\n",
    "    for i in range(x):\n",
    "        print(i, msg)  #심볼 테이블이 뭔지? 물어보자 GPT "
   ]
  },
  {
   "cell_type": "code",
   "execution_count": 3,
   "id": "3b8e4615",
   "metadata": {},
   "outputs": [
    {
     "name": "stdout",
     "output_type": "stream",
     "text": [
      "0 Hello\n",
      "1 Hello\n",
      "2 Hello\n"
     ]
    }
   ],
   "source": [
    "# 함수 사용 == 함수 호출\n",
    "my_message(3, 'Hello')"
   ]
  },
  {
   "cell_type": "code",
   "execution_count": 4,
   "id": "db1676f4",
   "metadata": {},
   "outputs": [
    {
     "name": "stdout",
     "output_type": "stream",
     "text": [
      "0 Hello\n",
      "1 Hello\n",
      "0 Python\n",
      "1 Python\n",
      "2 Python\n"
     ]
    }
   ],
   "source": [
    "# 함수 이름 변경\n",
    "my_msg = my_message\n",
    "my_message(2, 'Hello')\n",
    "my_msg(3, 'Python')"
   ]
  },
  {
   "cell_type": "code",
   "execution_count": 5,
   "id": "e8dccb83",
   "metadata": {},
   "outputs": [],
   "source": [
    "# 혹여나, def my_msg() 이렇게 my_msg라는 새로운 함수를 만들려고 하면, my message는 그대로 있고 my msg에 덮어 씌운다"
   ]
  },
  {
   "cell_type": "code",
   "execution_count": 6,
   "id": "d6580656",
   "metadata": {},
   "outputs": [
    {
     "data": {
      "text/plain": [
       "(function, function)"
      ]
     },
     "execution_count": 6,
     "metadata": {},
     "output_type": "execute_result"
    }
   ],
   "source": [
    "type(my_msg), type(my_message)"
   ]
  },
  {
   "cell_type": "code",
   "execution_count": 7,
   "id": "11efc6d2",
   "metadata": {},
   "outputs": [
    {
     "name": "stdout",
     "output_type": "stream",
     "text": [
      "Hello\n"
     ]
    }
   ],
   "source": [
    "print('Hello') # 파이썬 내장 함수 : import 하지 않고 사용할 수 있는, 이미 만들어져있는 함수 #ppt 48-52p 참조\n",
    "# print = 5\n",
    "# print('Hello') << 이렇게 해버리면 무조건 에러남 \n",
    "# del print #<< 그래서 이렇게 지워야 함. 그리고 print 씌운데서부터 커널 재시작 필수"
   ]
  },
  {
   "cell_type": "code",
   "execution_count": 8,
   "id": "8d5a1433",
   "metadata": {},
   "outputs": [
    {
     "name": "stdout",
     "output_type": "stream",
     "text": [
      "0 Hello\n",
      "1 Hello\n"
     ]
    }
   ],
   "source": [
    "my_message(2, 'Hello')"
   ]
  },
  {
   "cell_type": "code",
   "execution_count": 9,
   "id": "99e29a48",
   "metadata": {},
   "outputs": [],
   "source": [
    "# my_message = 5 #함수였는데 int값으로 바뀌어버림\n",
    "# my_msg(2, 'Hello') #my_msg는 정상구동됨.\n",
    "# my_message(2, 'Hello') # int값으로 변환됐기에, 에러남\n",
    "# del my_message  #에러 처리를 위해 함수 날림. my_msg는 정상구동.\n",
    "# # 이로 인해 my_messgae는 삭제됨. > 즉, 사용자 정의함수, 라이브러리 함수는 del하면 사용 불가 > 파이썬 내장함수만 재사용 가능"
   ]
  },
  {
   "cell_type": "code",
   "execution_count": 10,
   "id": "e87d5295",
   "metadata": {},
   "outputs": [],
   "source": [
    "# 함수 중복 정의 불가(=오버로딩 불가)의 예시\n",
    "# 두번째 아래 함수로 덮어씌워지고 첫번째 함수는 없어짐.\n",
    "# 이런 경우는 C++에서만 가능함\n",
    "# 첫번째 꺼로 실행해도, cnt값을 넣으라고 에러남.\n",
    "def my_hello():\n",
    "    print('Hello Python')\n",
    "    print('Hello World')\n",
    "def my_hello(cnt): # cnt번 출력\n",
    "    for i in range(cnt):\n",
    "        print('Hello, Python', end=\"\\t\")\n",
    "        print('Hello, World')"
   ]
  },
  {
   "cell_type": "code",
   "execution_count": 11,
   "id": "24943e8d",
   "metadata": {},
   "outputs": [
    {
     "name": "stdout",
     "output_type": "stream",
     "text": [
      "Hello, Python\tHello, World\n"
     ]
    }
   ],
   "source": [
    "my_hello(1)"
   ]
  },
  {
   "cell_type": "code",
   "execution_count": 12,
   "id": "a9298c6e",
   "metadata": {},
   "outputs": [
    {
     "name": "stdout",
     "output_type": "stream",
     "text": [
      "Hello, Python\tHello, World\n",
      "Hello, Python\tHello, World\n"
     ]
    }
   ],
   "source": [
    "my_hello(2)"
   ]
  },
  {
   "cell_type": "code",
   "execution_count": 13,
   "id": "601ceee7",
   "metadata": {},
   "outputs": [
    {
     "data": {
      "text/plain": [
       "<function __main__.my_hello(cnt)>"
      ]
     },
     "execution_count": 13,
     "metadata": {},
     "output_type": "execute_result"
    }
   ],
   "source": [
    "my_hello"
   ]
  },
  {
   "cell_type": "code",
   "execution_count": 14,
   "id": "c43456bc",
   "metadata": {},
   "outputs": [
    {
     "data": {
      "text/plain": [
       "'__main__'"
      ]
     },
     "execution_count": 14,
     "metadata": {},
     "output_type": "execute_result"
    }
   ],
   "source": [
    "__name__"
   ]
  },
  {
   "cell_type": "code",
   "execution_count": 15,
   "id": "834333b3",
   "metadata": {},
   "outputs": [
    {
     "name": "stdout",
     "output_type": "stream",
     "text": [
      "Hello, Python\tHello, World\n",
      "Hello, Python\tHello, World\n"
     ]
    }
   ],
   "source": [
    "#실무에서 진짜 많이함. 필수습득\n",
    "\n",
    "if __name__ == '__main__':  #참일 때만 수행해 > 수행됨.\n",
    "    my_hello(2)"
   ]
  },
  {
   "cell_type": "code",
   "execution_count": 16,
   "id": "5397705d",
   "metadata": {},
   "outputs": [],
   "source": [
    "import ch05 #ch05모듈이 해석되서 메모리 로드"
   ]
  },
  {
   "cell_type": "code",
   "execution_count": 17,
   "id": "b08aa0d6",
   "metadata": {},
   "outputs": [
    {
     "name": "stdout",
     "output_type": "stream",
     "text": [
      "ch05\n",
      "Hello, Python\tHello, World\n",
      "Hello, Python\tHello, World\n",
      "Hello, Python\tHello, World\n"
     ]
    }
   ],
   "source": [
    "ch05.my_hello(3) #py파일인 모듈의 이름.함수 <<이 형식으로 써야 가능."
   ]
  },
  {
   "cell_type": "code",
   "execution_count": 18,
   "id": "a85dadd3",
   "metadata": {},
   "outputs": [
    {
     "name": "stdout",
     "output_type": "stream",
     "text": [
      "ch05\n",
      "Hello, Python\tHello, World\n",
      "Hello, Python\tHello, World\n"
     ]
    }
   ],
   "source": [
    "from ch05 import my_hello # ch05모듈 안의 my_hello 함수 메모리만 로드\n",
    "my_hello(2)"
   ]
  },
  {
   "cell_type": "markdown",
   "id": "f5178e9c",
   "metadata": {},
   "source": [
    "## 1.2 docstring"
   ]
  },
  {
   "cell_type": "code",
   "execution_count": 19,
   "id": "c554a6b1",
   "metadata": {},
   "outputs": [],
   "source": [
    "def my_function():\n",
    "    \"\"\"\n",
    "    독스트링은 함수의 설명서를 달아주는 역할 (shift+tab+tab 시에 나오게 할 수 있음)\n",
    "    함수의 첫 라인에 독스트링을 포함할 수 있습니다.\n",
    "    주석으로 할 경우 정보 확인(shift+tab+tab)이 불가능\n",
    "    명령어 인입 전 함수명 바로 아래에 위치시킴\n",
    "    '''홑따옴표로도 가능하다'''\n",
    "    \"\"\""
   ]
  },
  {
   "cell_type": "code",
   "execution_count": 20,
   "id": "7a17766d",
   "metadata": {},
   "outputs": [
    {
     "name": "stdout",
     "output_type": "stream",
     "text": [
      "\n",
      "    독스트링은 함수의 설명서를 달아주는 역할 (shift+tab+tab 시에 나오게 할 수 있음)\n",
      "    함수의 첫 라인에 독스트링을 포함할 수 있습니다.\n",
      "    주석으로 할 경우 정보 확인(shift+tab+tab)이 불가능\n",
      "    명령어 인입 전 함수명 바로 아래에 위치시킴\n",
      "    '''홑따옴표로도 가능하다'''\n",
      "    \n"
     ]
    }
   ],
   "source": [
    "#독스트링 확인 방법 2가지\n",
    "my_function()  #괄호 내에서 shift+tab+tab\n",
    "print(my_function.__doc__)"
   ]
  },
  {
   "cell_type": "code",
   "execution_count": 21,
   "id": "963fe429",
   "metadata": {},
   "outputs": [],
   "source": [
    "def fibonacci(n):\n",
    "    '''\n",
    "    매개변수로 들어온 n값 미만의 피보나치 수열을 출력하는 함수\n",
    "    ex. n=10 : 0, 1, 1, 2, 3, 5, 8 - 10 미만\n",
    "    ex. n=100 : 0, 1, 1, 2, 3, 5, 8, 13, 21, 34, 55, 89 - 100 미만\n",
    "        논리 : 0+1=1이라 0,1,1로 정렬 그 다음 1+1=2라서 0,1,1,2가 됨\n",
    "    '''\n",
    "    a, b = 0, 1 # 함수 내에 선언한 변수 : 지역변수 (반대말은 '전역변수')\n",
    "    while a < n:\n",
    "        print(a, end=' ')\n",
    "        a, b = b, a+b\n",
    "    print() # 개행"
   ]
  },
  {
   "cell_type": "code",
   "execution_count": 22,
   "id": "41895c80",
   "metadata": {},
   "outputs": [
    {
     "name": "stdout",
     "output_type": "stream",
     "text": [
      "0 1 1 2 3 5 8 13 21 34 55 89 144 233 377 610 987 1597 2584 4181 6765 \n"
     ]
    }
   ],
   "source": [
    "fibonacci(10000)"
   ]
  },
  {
   "cell_type": "code",
   "execution_count": 23,
   "id": "ecd32491",
   "metadata": {},
   "outputs": [],
   "source": [
    "# a, b #에러남. 지역변수는 함수 내에서만 사용가능"
   ]
  },
  {
   "cell_type": "markdown",
   "id": "3203d358",
   "metadata": {},
   "source": [
    "## 1.3 지역변수(local var)와 전역변수(global var)"
   ]
  },
  {
   "cell_type": "code",
   "execution_count": 24,
   "id": "dc7643d1",
   "metadata": {},
   "outputs": [
    {
     "name": "stdout",
     "output_type": "stream",
     "text": [
      "함수안 : 100\n",
      "함수밖 : 100\n"
     ]
    }
   ],
   "source": [
    "global_var = 100 #global_var = 100 은 함수 밖에 선언된 변수. 프로그램 전체에서 접근 가능. 함수 안에서도 읽을 수 있음.\n",
    "def func1():\n",
    "    print('함수안 :', global_var) #함수 안에서 global_var 값을 출력하는 것은 문제가 없어. 하지만 함수 안에서 전역변수를 수정하려면 global 키워드를 써야 해.\n",
    "func1()\n",
    "print('함수밖 :', global_var)"
   ]
  },
  {
   "cell_type": "code",
   "execution_count": 25,
   "id": "61c35edd",
   "metadata": {},
   "outputs": [
    {
     "name": "stdout",
     "output_type": "stream",
     "text": [
      "함수안 : 200\n"
     ]
    }
   ],
   "source": [
    "def func2():\n",
    "    local_var = 200 # 지역변수 (함수 안에서 선언되고, 함수 안에서만 사용되는 변수)\n",
    "    print('함수안 :', local_var)\n",
    "func2()"
   ]
  },
  {
   "cell_type": "code",
   "execution_count": 26,
   "id": "f65f79e1",
   "metadata": {},
   "outputs": [],
   "source": [
    "# print('함수 밖에서 지역변수 :', local_var) 로컬바가 없으니까 당연히 에러남"
   ]
  },
  {
   "cell_type": "code",
   "execution_count": 27,
   "id": "2adf66a4",
   "metadata": {},
   "outputs": [
    {
     "name": "stdout",
     "output_type": "stream",
     "text": [
      "g_var : 200\n",
      "g_var : 100\n"
     ]
    }
   ],
   "source": [
    "#예시\n",
    "g_var = 100 #전역변수\n",
    "def func3():\n",
    "    g_var = 200 #지역변수와 전역변수의 심볼테이블은 분리가 되어있기 때문에 상관없음\n",
    "    print('g_var :', g_var) #이건 지역변수 출력값임\n",
    "func3() #지역변수 출력했기에 지역변수값은 사라짐\n",
    "print('g_var :', g_var) #전역변수 출력함"
   ]
  },
  {
   "cell_type": "code",
   "execution_count": 28,
   "id": "e6adee96",
   "metadata": {},
   "outputs": [],
   "source": [
    "# #예시2 렉시컬 특성 : 변수가 어디서 선언되었는지에 따라 변수의 범위가 정해짐(지역vs전역)\n",
    "# g_var = 100 #전역변수\n",
    "# def func3():\n",
    "#     print('g_var :', g_var) #지역변수값을 넣기 전에 프린트하라 했기 때문에 에러남\n",
    "#     g_var = 200 #지역변수\n",
    "# func3()\n",
    "# print('g_var :', g_var) "
   ]
  },
  {
   "cell_type": "code",
   "execution_count": 29,
   "id": "7799a772",
   "metadata": {},
   "outputs": [
    {
     "name": "stdout",
     "output_type": "stream",
     "text": [
      "전역변수 g_var : 100\n",
      "전역변수 g_var : 200\n"
     ]
    }
   ],
   "source": [
    "#예시3 렉시컬 특성에 따라 변수에 영역이 지정된 상황\n",
    "g_var = 100 #전역변수\n",
    "def func3():\n",
    "    global g_var # 선언 \"함수 내에서의 g_var는 전역변수를 쓰겠다\" > 전역변수를 끌어옴\n",
    "    print('전역변수 g_var :', g_var)\n",
    "    g_var = 200 # 전역변수 g_var에 200할당하고 싶다!?\n",
    "func3()\n",
    "print('전역변수 g_var :', g_var) "
   ]
  },
  {
   "cell_type": "markdown",
   "id": "be35e547",
   "metadata": {},
   "source": [
    "## 1.4 값에 의한 호출 (call by value)\n",
    "- 함수에 인수로 전달되는 변수(매개변수)가 스칼라변수(문자, 숫자, 논리형)일 때\n",
    "    - 스칼라 변수는 새로운 변수가 오면 기존 거 지우고 새로운 거로 갈아탄다? GPT 확인 필수"
   ]
  },
  {
   "cell_type": "code",
   "execution_count": 30,
   "id": "0747e506",
   "metadata": {},
   "outputs": [
    {
     "data": {
      "text/plain": [
       "2403395987248"
      ]
     },
     "execution_count": 30,
     "metadata": {},
     "output_type": "execute_result"
    }
   ],
   "source": [
    "foo = 'a' #전역변수\n",
    "id(foo) #위치"
   ]
  },
  {
   "cell_type": "code",
   "execution_count": 31,
   "id": "47e3bd64",
   "metadata": {},
   "outputs": [
    {
     "name": "stdout",
     "output_type": "stream",
     "text": [
      "Before : a 의 주소는  2403395987248\n",
      "After : aaa 의 주소는  2403474426736\n"
     ]
    }
   ],
   "source": [
    "def func1(f): # 매개변수는 무조건 지역변수다.\n",
    "    print('Before :', f, '의 주소는 ', id(f))\n",
    "    f = f*3 \n",
    "    print('After :', f, '의 주소는 ', id(f))\n",
    "func1(foo)\n",
    "\n",
    "# foo = 'a' : 'a'라는 문자열 객체를 만들고 foo는 그 객체를 참조(가리킴)\n",
    "# func1(foo)\n",
    "# → 함수 호출 시 foo가 가리키는 객체의 **참조값(주소)**이 f에 값으로 복사됨\n",
    "# → f는 처음엔 foo와 같은 객체를 가리킴 (같은 id)\n",
    "\n",
    "# f = f * 3 : 'aaa'라는 새로운 문자열 객체가 만들어짐\n",
    "# → f는 이제 그 새 객체를 가리킴 (id가 다름)\n",
    "# → foo는 그대로 'a'\n",
    "\n",
    "# f는 foo의 객체 참조를 복사받은 것\n",
    "# 즉, foo와 f는 같은 객체를 참조하지만,\n",
    "# f가 새로운 객체를 가리키게 되면 둘은 연결이 끊김\n",
    "\n",
    "# 이건 **\"값에 의한 호출(call by value)\"**보다\n",
    "# 더 정확히는 \"참조의 값을 전달\"하는 방식"
   ]
  },
  {
   "cell_type": "code",
   "execution_count": 32,
   "id": "a7320869",
   "metadata": {},
   "outputs": [
    {
     "name": "stdout",
     "output_type": "stream",
     "text": [
      "foo =  a 의 주소는 2403395987248\n"
     ]
    }
   ],
   "source": [
    "print('foo = ', foo, '의 주소는', id(foo))"
   ]
  },
  {
   "cell_type": "code",
   "execution_count": 33,
   "id": "944c205c",
   "metadata": {},
   "outputs": [],
   "source": [
    "# 값에 의한 호출이 뭐라는건지 이해가 잘 안간다. 뭔소리여 !!!"
   ]
  },
  {
   "cell_type": "markdown",
   "id": "22a69973",
   "metadata": {},
   "source": [
    "## 1.5 참조에 의한 호출 (call by reference)\n",
    "- 함수에 인수로 전달되는 변수가 리스트,튜플,셋,딕셔너리,기타 객체일 경우"
   ]
  },
  {
   "cell_type": "code",
   "execution_count": 34,
   "id": "ab0f9ee4",
   "metadata": {},
   "outputs": [
    {
     "data": {
      "text/plain": [
       "2403474424192"
      ]
     },
     "execution_count": 34,
     "metadata": {},
     "output_type": "execute_result"
    }
   ],
   "source": [
    "L = [1, 2, 3, 4, 5] # L을 매개변수로 쓸 예정\n",
    "id(L)"
   ]
  },
  {
   "cell_type": "code",
   "execution_count": 35,
   "id": "ab158cf1",
   "metadata": {},
   "outputs": [
    {
     "name": "stdout",
     "output_type": "stream",
     "text": [
      "before : [1, 2, 3, 4, 5] 의 주소는  2403474424192\n",
      "After : [1, 2, 3, 4, 5, 6] 의 주소는  2403474424192\n"
     ]
    }
   ],
   "source": [
    "def func2(f): # 매개변수는 지역변수 \n",
    "    print('before :', f, '의 주소는 ', id(f))\n",
    "    f.append(6)\n",
    "    print('After :', f, '의 주소는 ', id(f))\n",
    "func2(L) #l과f 모두 윗 셀의 리스트를 가리킴 > 리스트에 어펜드로 6추가 시킨 후 주소 물어봄\n",
    "\n",
    "# func2라는 함수값을 이용하는 거고, 그 함수값에 매개변수인 L로 넣으니 당연히 이런 결과가 나오는거지. "
   ]
  },
  {
   "cell_type": "code",
   "execution_count": 36,
   "id": "8908e9c3",
   "metadata": {},
   "outputs": [
    {
     "name": "stdout",
     "output_type": "stream",
     "text": [
      "L [1, 2, 3, 4, 5, 6] 의 주소는 2403474424192\n"
     ]
    }
   ],
   "source": [
    "print('L', L, '의 주소는', id(L)) #L을 카피 받은 f로 인해 L의 주소가 바뀌지도 않았다."
   ]
  },
  {
   "cell_type": "markdown",
   "id": "86989c73",
   "metadata": {},
   "source": [
    "# 2절. 함수의 실행 결과를 반환하는 return"
   ]
  },
  {
   "cell_type": "code",
   "execution_count": 37,
   "id": "534faa17",
   "metadata": {},
   "outputs": [],
   "source": [
    "def fibonacci_print(n):\n",
    "    '''\n",
    "    매개변수로 들어온 n값 미만의 피보나치 수열을 출력하는 함수\n",
    "    ex. n=10 : 0, 1, 1, 2, 3, 5, 8 - 10 미만\n",
    "    ex. n=100 : 0, 1, 1, 2, 3, 5, 8, 13, 21, 34, 55, 89 - 100 미만\n",
    "        논리 : 0+1=1이라 0,1,1로 정렬 그 다음 1+1=2라서 0,1,1,2가 됨\n",
    "    '''\n",
    "    a, b = 0, 1 # 함수 내에 선언한 변수 : 지역변수 (반대말은 '전역변수')\n",
    "    while a < n:\n",
    "        print(a, end=' ')\n",
    "        a, b = b, a+b\n",
    "    print() # 개행\n",
    "def fibonacci(n):  #1.2절에서 만든 피보나치 함수에 덮어씌워져서 기존 함수는 이것으로 대체되어 사라짐..\n",
    "    \"n미만의 피보나치 수열을 리스트로 return\"\n",
    "    result = [] # 피보나치 수열을 append할 리스트\n",
    "    a, b = 0, 1\n",
    "    while a<n:\n",
    "        result.append(a) # 출력대신 비어진 리스트에 계속 append 해서 채워지는 개념\n",
    "        a, b = b, a+b\n",
    "    return result"
   ]
  },
  {
   "cell_type": "code",
   "execution_count": 38,
   "id": "fb42d49b",
   "metadata": {},
   "outputs": [
    {
     "name": "stdout",
     "output_type": "stream",
     "text": [
      "[0, 1, 1, 2, 3, 5, 8]\n",
      "<class 'list'>\n"
     ]
    }
   ],
   "source": [
    "x = fibonacci(10)\n",
    "print(x)\n",
    "print(type(x))"
   ]
  },
  {
   "cell_type": "code",
   "execution_count": 39,
   "id": "fa530926",
   "metadata": {},
   "outputs": [
    {
     "name": "stdout",
     "output_type": "stream",
     "text": [
      "0 1 1 2 3 5 8 \n",
      "None\n",
      "<class 'NoneType'>\n"
     ]
    }
   ],
   "source": [
    "x = fibonacci_print(10)\n",
    "print(x)\n",
    "print(type(x))\n",
    "\n",
    "# 함수 내부에서 print()는 출력만 할 뿐, 값 반환하지 않음.\n",
    "# 함수 fibonacci와 달리 fibonacci_print는 return이 없기에, 이런 경우에서 파이썬은 함수 끝에서 자동으로 None을 반환함.\n",
    "# 즉, fibonacci(10)을 실행 > 숫자들을 출력함 > but, 반환값이 없음 > 그래서 'None'으로 반환됨\n",
    "# 따라서 print(x) 하면 None, print(type(x)) 하면 <class 'NoneType'>이 되는 것."
   ]
  },
  {
   "cell_type": "markdown",
   "id": "330b688d",
   "metadata": {},
   "source": [
    "## 여러개 값 return\n",
    "- 사실 상, 여러 개 값 return이 아닌 \"여러 개 값을 갖는 튜플'이라는 1개의 데이터로 return\"이 되는거다."
   ]
  },
  {
   "cell_type": "code",
   "execution_count": 40,
   "id": "ee878c86",
   "metadata": {},
   "outputs": [],
   "source": [
    "def swap(a, b):\n",
    "    '매개변수의 순서를 바꿔서 return'\n",
    "    return (b, a) #return (b, a)"
   ]
  },
  {
   "cell_type": "code",
   "execution_count": 41,
   "id": "db79b715",
   "metadata": {},
   "outputs": [
    {
     "name": "stdout",
     "output_type": "stream",
     "text": [
      "함수 실행 전 x, y : 5 10\n",
      "함수 실행 후 x, y : 10 5\n"
     ]
    }
   ],
   "source": [
    "# x, y = 5, 10 # 많이 쓰는 방식\n",
    "x = 5; y = 10 #1줄에 두개의 명령어 칠 때만 세미콜론(;)사용. 1 줄에 한 개의 명령어면 필요 없음. 잘 안씀\n",
    "print('함수 실행 전 x, y :', x, y)\n",
    "x, y = swap(x, y) #스왑 변환\n",
    "print('함수 실행 후 x, y :', x, y) #진짜 바뀜"
   ]
  },
  {
   "cell_type": "markdown",
   "id": "826ffcb3",
   "metadata": {},
   "source": [
    "# 3절. 함수의 매개변수 ★\n",
    "## 3.1 기본값을 갖는 매개변수"
   ]
  },
  {
   "cell_type": "code",
   "execution_count": 42,
   "id": "767d9042",
   "metadata": {},
   "outputs": [],
   "source": [
    "def make_url(ip, port=80): #순서인수 > 기본값을 갖는 매개변수 순으로 만들 것. #기본값은 3가지를 가질 수 있으며, 상수(80)가 올 수도 변수(L)가 올 수도 있다. (ex. port=L)\n",
    "# def make_url(port, ip): 이렇게 모든 변수가 기본값을 안 가지면 순서 상관 없음\n",
    "# def make_url(port=80, ip): #ERROR : 기본값 갖는 매개변수가 작은데도 앞에 있기에\n",
    "    return \"http://{}:{}\".format(ip, port)"
   ]
  },
  {
   "cell_type": "code",
   "execution_count": 43,
   "id": "e39ce882",
   "metadata": {},
   "outputs": [
    {
     "name": "stdout",
     "output_type": "stream",
     "text": [
      "http://localhost:8090\n",
      "http://www.naver.com:80\n",
      "http://localhost:9090\n"
     ]
    }
   ],
   "source": [
    "print(make_url(\"localhost\", 8090)) #포맷대로 반환\n",
    "print(make_url(\"www.naver.com\")) #두번째 매개변수 안 넣었기에 기본값으로 반환\n",
    "print(make_url(port=9090, ip=\"localhost\")) #순서 바꿨지만 포맷대로 정렬되어 반환\n",
    "# print(make_url(port=9090) ip값을 안 넣음 > ip값은 기본값이 없기 때문에 에러남?"
   ]
  },
  {
   "cell_type": "markdown",
   "id": "529977a2",
   "metadata": {},
   "source": [
    "## 3.2 기본변수를 기본값으로 갖는 매개변수\n",
    " - 기본변수가 스칼라변수(문자, 숫자, 논리형)일 때\n",
    " - 기본변수가 리스트, 셋, 딕셔너리, 튜플, 기타 객체일 때"
   ]
  },
  {
   "cell_type": "code",
   "execution_count": 44,
   "id": "6d8bf198",
   "metadata": {},
   "outputs": [],
   "source": [
    "#예시1\n",
    "i = 80 \n",
    "# 기본변수가 스칼라변수일 때 : 함수가 정의되는 시점 기준으로 기본값이 셋팅됨.\n",
    "def make_url(ip, port=i):\n",
    "    return \"http://{}:{}\".format(ip, port)"
   ]
  },
  {
   "cell_type": "code",
   "execution_count": 45,
   "id": "91ef2ec4",
   "metadata": {},
   "outputs": [
    {
     "data": {
      "text/plain": [
       "'http://localhost:80'"
      ]
     },
     "execution_count": 45,
     "metadata": {},
     "output_type": "execute_result"
    }
   ],
   "source": [
    "i = 90 #스칼라변수라서 기본값이 80에서 바뀌지 않음\n",
    "make_url(\"localhost\")"
   ]
  },
  {
   "cell_type": "code",
   "execution_count": 46,
   "id": "0090d0b4",
   "metadata": {},
   "outputs": [
    {
     "name": "stdout",
     "output_type": "stream",
     "text": [
      "[10]\n"
     ]
    }
   ],
   "source": [
    "#예시2\n",
    "list_ = [] #이게 기본변수라는 가정\n",
    "# 기본변수가 리스트, 셋, 딕셔너리, 기타 객체일 때 : 함수가 실행되는 시점으로 기본값 셋팅\n",
    "def func3(a, L=list_): #여기서 L은 매개변수니까 지역변수다.\n",
    "    L.append(a)\n",
    "    return L\n",
    "print(func3(10)) #값을 1개만 넣었기 때문에 순서 상, 첫번째인 a 에만 10부여."
   ]
  },
  {
   "cell_type": "code",
   "execution_count": 47,
   "id": "b2dcce1c",
   "metadata": {},
   "outputs": [
    {
     "name": "stdout",
     "output_type": "stream",
     "text": [
      "[10, 20]\n"
     ]
    }
   ],
   "source": [
    "print(func3(20)) #return 되는 L값이 지속되기에 계속 추가가 됨"
   ]
  },
  {
   "cell_type": "code",
   "execution_count": 48,
   "id": "2df3a4e1",
   "metadata": {},
   "outputs": [
    {
     "name": "stdout",
     "output_type": "stream",
     "text": [
      "list_= [10, 20]\n"
     ]
    }
   ],
   "source": [
    "print(\"list_=\", list_)"
   ]
  },
  {
   "cell_type": "code",
   "execution_count": 49,
   "id": "1dd187c0",
   "metadata": {},
   "outputs": [
    {
     "name": "stdout",
     "output_type": "stream",
     "text": [
      "[10, 20, 50]\n"
     ]
    }
   ],
   "source": [
    "print(func3(50)) #return 되는 L값이 지속되기에 계속 추가가 됨"
   ]
  },
  {
   "cell_type": "code",
   "execution_count": 50,
   "id": "f910a3eb",
   "metadata": {},
   "outputs": [
    {
     "name": "stdout",
     "output_type": "stream",
     "text": [
      "[10, 20, 50, 80]\n"
     ]
    }
   ],
   "source": [
    "print(func3(80)) #return 되는 L값이 지속되기에 계속 추가가 됨"
   ]
  },
  {
   "cell_type": "code",
   "execution_count": 51,
   "id": "4cc76a76",
   "metadata": {},
   "outputs": [
    {
     "name": "stdout",
     "output_type": "stream",
     "text": [
      "[10]\n",
      "[1, 2, 3, 10]\n"
     ]
    }
   ],
   "source": [
    "# 실행할 때마다 L을 공유하는 게 싫으면\n",
    "def func3(a, L=None): #기본값인 L이 변수가 아닌 상수인 상태로 가정\n",
    "    if L is None:\n",
    "        L = []\n",
    "    L.append(a) \n",
    "    return L #return은 return값을 내보내라는 의미\n",
    "print(func3(10))\n",
    "print(func3(10, [1,2,3])) #L이 None이 아닌 1,2,3 리스트이기에 그 뒤에 append.10이 되는거라 1,2,3,10이 나오는 것"
   ]
  },
  {
   "cell_type": "markdown",
   "id": "c875c898",
   "metadata": {},
   "source": [
    "## 3.3 순서인수, 키워드인수\n",
    "- 순서인수 : 함수에 정의된 순서대로 전달하는 방식\n",
    "- 키워드인수 : 인수의 이름을 명시하여 전달하는 방식\n",
    "- 함수 정의 시 순서인수와 키워드인수가 같이 올 때는, 꼭 ! 순서인수 > 키워드인수 순으로.\n",
    "    > ERROR ex:) def func3(L=None, a):"
   ]
  },
  {
   "cell_type": "code",
   "execution_count": 52,
   "id": "b4331051",
   "metadata": {},
   "outputs": [],
   "source": [
    "def func3(a, L=None):\n",
    "    if L is None:\n",
    "        L = []\n",
    "    L.append(a) \n",
    "    return L"
   ]
  },
  {
   "cell_type": "code",
   "execution_count": 53,
   "id": "7b0072ae",
   "metadata": {},
   "outputs": [
    {
     "name": "stdout",
     "output_type": "stream",
     "text": [
      "[10]\n",
      "[10, 20]\n"
     ]
    }
   ],
   "source": [
    "lst = []\n",
    "print(func3(10, lst))     #순서인수\n",
    "print(func3(L=lst, a=20)) #키워드인수 a가 앞에 오든 L이 앞에 오든 상관 X"
   ]
  },
  {
   "cell_type": "markdown",
   "id": "1a799eb1",
   "metadata": {},
   "source": [
    "## 3.4 튜플 매개변수를 이용한 가변인수 설정\n",
    "- 가변인수 : 매개변수의 갯수가 가변"
   ]
  },
  {
   "cell_type": "code",
   "execution_count": 54,
   "id": "edec3e03",
   "metadata": {},
   "outputs": [],
   "source": [
    "# 파이썬은 함수의 중복정의(오버로딩)을 지원하지 않음\n",
    "def add(a, b):\n",
    "    return a+b\n",
    "def add(a, b, c): #이렇게 되면, 뒤에 만든 게 앞에 함수를 덮어씌우기에, 중복정의가 안됨 > 밑에서도 기존처럼 값을 2개 넣으면 ERROR\n",
    "    return a+b+c #이럴 때 처럼, 매개 변수가 2개일지 3개일지,개수를 예측할 수 없을 때 '가변인수'를 사용함"
   ]
  },
  {
   "cell_type": "code",
   "execution_count": 55,
   "id": "5a63e619",
   "metadata": {},
   "outputs": [
    {
     "data": {
      "text/plain": [
       "15"
      ]
     },
     "execution_count": 55,
     "metadata": {},
     "output_type": "execute_result"
    }
   ],
   "source": [
    "add(3, 5, 7)"
   ]
  },
  {
   "cell_type": "code",
   "execution_count": 56,
   "id": "d9a15014",
   "metadata": {},
   "outputs": [],
   "source": [
    "# args 앞에 * : \"args가 튜플로 패킹해서 전달받는다\"는 의미\n",
    "def add(*args):\n",
    "    print('args =', args)"
   ]
  },
  {
   "cell_type": "code",
   "execution_count": 57,
   "id": "ead3b4f5",
   "metadata": {},
   "outputs": [
    {
     "name": "stdout",
     "output_type": "stream",
     "text": [
      "args = ()\n",
      "args = (1,)\n",
      "args = (1, 4, 5, 6, 9, 141)\n"
     ]
    }
   ],
   "source": [
    "add()\n",
    "add(1)\n",
    "add(1, 4, 5, 6, 9, 141)"
   ]
  },
  {
   "cell_type": "code",
   "execution_count": 58,
   "id": "b7535744",
   "metadata": {},
   "outputs": [],
   "source": [
    "def add(*args):\n",
    "    \"\"\"전달받은 매개변수들의 합을 return. 매개변수가 없는 경우 0을 return\"\"\"\n",
    "    sum = 0 # 누적변수\n",
    "    for num in args: \n",
    "        sum += num # sum = sum+num # sum 값에 누적값 들어감\n",
    "    return sum #sum값으로 반환"
   ]
  },
  {
   "cell_type": "code",
   "execution_count": 59,
   "id": "71b63e03",
   "metadata": {},
   "outputs": [
    {
     "name": "stdout",
     "output_type": "stream",
     "text": [
      "0\n",
      "1\n",
      "4\n",
      "55\n"
     ]
    }
   ],
   "source": [
    "print(add())\n",
    "print(add(1))\n",
    "print(add(1, 3))\n",
    "print(add(1, 2, 3, 4, 5, 6, 7, 8, 9, 10)) # 매개변수 갯수 제한을 돕기 위한 함수일 뿐이다."
   ]
  },
  {
   "cell_type": "code",
   "execution_count": 60,
   "id": "7bea5d5c",
   "metadata": {},
   "outputs": [
    {
     "data": {
      "text/plain": [
       "'Python-HTML/CSS-JavaScript-DBMS'"
      ]
     },
     "execution_count": 60,
     "metadata": {},
     "output_type": "execute_result"
    }
   ],
   "source": [
    "subject = ('Python', 'HTML/CSS', 'JavaScript', 'DBMS')\n",
    "'-'.join(subject)"
   ]
  },
  {
   "cell_type": "code",
   "execution_count": 61,
   "id": "b61c747c",
   "metadata": {},
   "outputs": [],
   "source": [
    "# 튜플 매개변수와 일반 매개변수가 같이 있을 때\n",
    "def concat(*subject, sep): #맨 마지막에 있는 것만 'sep'이라는 변수로 바꿔 #sep은 separate로 값을 지정한 것으로 나누라는 것 #좋은방법 아님\n",
    "    return sep.join(subject)"
   ]
  },
  {
   "cell_type": "code",
   "execution_count": 62,
   "id": "66b294ee",
   "metadata": {},
   "outputs": [
    {
     "ename": "TypeError",
     "evalue": "concat() missing 1 required keyword-only argument: 'sep'",
     "output_type": "error",
     "traceback": [
      "\u001b[1;31m---------------------------------------------------------------------------\u001b[0m",
      "\u001b[1;31mTypeError\u001b[0m                                 Traceback (most recent call last)",
      "Cell \u001b[1;32mIn[62], line 2\u001b[0m\n\u001b[0;32m      1\u001b[0m \u001b[38;5;66;03m# ERROR 예시 : 맨 마지막에 있는 아이만 sep용으로 넣고, 나머지는 튜플로 만들어서 subject에 들어가도록\u001b[39;00m\n\u001b[1;32m----> 2\u001b[0m \u001b[43mconcat\u001b[49m\u001b[43m(\u001b[49m\u001b[38;5;124;43m'\u001b[39;49m\u001b[38;5;124;43mPython\u001b[39;49m\u001b[38;5;124;43m'\u001b[39;49m\u001b[43m,\u001b[49m\u001b[43m \u001b[49m\u001b[38;5;124;43m'\u001b[39;49m\u001b[38;5;124;43mHTML/CSS\u001b[39;49m\u001b[38;5;124;43m'\u001b[39;49m\u001b[43m,\u001b[49m\u001b[43m \u001b[49m\u001b[38;5;124;43m'\u001b[39;49m\u001b[38;5;124;43mJavaScript\u001b[39;49m\u001b[38;5;124;43m'\u001b[39;49m\u001b[43m,\u001b[49m\u001b[43m \u001b[49m\u001b[38;5;124;43m'\u001b[39;49m\u001b[38;5;124;43mDBMS\u001b[39;49m\u001b[38;5;124;43m'\u001b[39;49m\u001b[43m,\u001b[49m\u001b[43m \u001b[49m\u001b[38;5;124;43m'\u001b[39;49m\u001b[38;5;124;43m-\u001b[39;49m\u001b[38;5;124;43m'\u001b[39;49m\u001b[43m)\u001b[49m\n",
      "\u001b[1;31mTypeError\u001b[0m: concat() missing 1 required keyword-only argument: 'sep'"
     ]
    }
   ],
   "source": [
    "# ERROR 예시 : 맨 마지막에 있는 아이만 sep용으로 넣고, 나머지는 튜플로 만들어서 subject에 들어가도록\n",
    "concat('Python', 'HTML/CSS', 'JavaScript', 'DBMS', '-') # ERROR : 갯수제한이 없기에 sep값을 넣었어도 모든 게 다 subject로 들어가려함"
   ]
  },
  {
   "cell_type": "code",
   "execution_count": null,
   "id": "97724215",
   "metadata": {},
   "outputs": [],
   "source": [
    "# 해결책1 : sep을 키워드인수로 지정해버림\n",
    "concat('Python', 'HTML/CSS', 'JavaScript', 'DBMS', sep='-') "
   ]
  },
  {
   "cell_type": "code",
   "execution_count": null,
   "id": "9c67a0b2",
   "metadata": {},
   "outputs": [],
   "source": [
    "# 해결책2 : 기본값을 갖는 키워드인수 사용\n",
    "def concat(*subject, sep=' ~ '): # 튜플매개변수 > 키워드인수\n",
    "    return sep.join(subject)\n",
    "print(concat('Python', 'Web', 'JS', 'DBMS'))\n",
    "print(concat('Python', 'Web', 'JS', 'DBMS', sep='-')) # sep이 물결인 게 싫어서 꼬장부릴 때"
   ]
  },
  {
   "cell_type": "code",
   "execution_count": null,
   "id": "ffa55b62",
   "metadata": {},
   "outputs": [],
   "source": [
    "# 해결책3 : sep을 순서인수로 앞으로 함수를 수정 !!!추천\n",
    "def concat(sep, *subject):\n",
    "    return sep.join(subject)"
   ]
  },
  {
   "cell_type": "code",
   "execution_count": null,
   "id": "0fbf3a54",
   "metadata": {},
   "outputs": [],
   "source": [
    "concat('~', 'python', 'web', 'DB', 'MLDL') #이러면 절대 에러안남. 맨 앞에 있기 때문에"
   ]
  },
  {
   "cell_type": "markdown",
   "id": "98ead732",
   "metadata": {},
   "source": [
    "## 3.5 딕셔너리 매개변수\n",
    "- 딕셔너리 인수 : 여러 개의 키워드 인수를 딕셔너리 형태로 받아서 가변인수로 처리\n",
    "    > make_url(ip=\"localhost\", port=8080) -----> 여기서 port=8080 이 키워드 인수"
   ]
  },
  {
   "cell_type": "code",
   "execution_count": 72,
   "id": "b8bc8ffb",
   "metadata": {},
   "outputs": [],
   "source": [
    "def func5(**args):\n",
    "    print(args)\n",
    "    print(type(args))\n",
    "    for key, value in args. items():\n",
    "        print(\"{}:{}\".format(key, value))"
   ]
  },
  {
   "cell_type": "code",
   "execution_count": 73,
   "id": "52e71a67",
   "metadata": {},
   "outputs": [
    {
     "name": "stdout",
     "output_type": "stream",
     "text": [
      "{'name': '홍길동', 'age': 30, 'tel': '010-9999-9999', 'address': '서울시 관악구'}\n",
      "<class 'dict'>\n",
      "name:홍길동\n",
      "age:30\n",
      "tel:010-9999-9999\n",
      "address:서울시 관악구\n"
     ]
    }
   ],
   "source": [
    "func5(name='홍길동',\n",
    "      age=30,\n",
    "      tel='010-9999-9999',\n",
    "      address='서울시 관악구') #Enter쳐서 줄 바꿔서 넣어도 상관 X"
   ]
  },
  {
   "cell_type": "code",
   "execution_count": 74,
   "id": "8b72d70a",
   "metadata": {},
   "outputs": [],
   "source": [
    "#특정 Value값이 없다면 대체로 나올 것 feat. if not 활용\n",
    "def func5(**args):\n",
    "    print(args)\n",
    "    print(type(args))\n",
    "    if 'address' not in args: # args에 address키가 없으면 True\n",
    "        args['address'] = 'None'\n",
    "    for key, value in args. items():\n",
    "        print(\"{}:{}\".format(key, value))"
   ]
  },
  {
   "cell_type": "code",
   "execution_count": 75,
   "id": "92efe389",
   "metadata": {},
   "outputs": [
    {
     "name": "stdout",
     "output_type": "stream",
     "text": [
      "{'name': '홍길동', 'age': 30, 'tel': '010-9999-9999'}\n",
      "<class 'dict'>\n",
      "name:홍길동\n",
      "age:30\n",
      "tel:010-9999-9999\n",
      "address:None\n"
     ]
    }
   ],
   "source": [
    "func5(name='홍길동',\n",
    "      age=30,\n",
    "      tel='010-9999-9999',) #Enter쳐서 줄 바꿔서 넣어도 상관 X"
   ]
  },
  {
   "cell_type": "code",
   "execution_count": 76,
   "id": "14d31297",
   "metadata": {},
   "outputs": [],
   "source": [
    "#특정 Value값이 없다면 대체로 나올 것 feat. update 활용\n",
    "def func5(**args):\n",
    "    print(args)\n",
    "    print(type(args))\n",
    "    if 'tel' not in args: # args에 address키가 없으면 True\n",
    "        args.update(tel='None')\n",
    "    for key, value in args. items():\n",
    "        print(\"{}:{}\".format(key, value))"
   ]
  },
  {
   "cell_type": "code",
   "execution_count": 77,
   "id": "9f03bfe6",
   "metadata": {},
   "outputs": [
    {
     "name": "stdout",
     "output_type": "stream",
     "text": [
      "{'name': '홍길동', 'age': 30, 'address': '서울 관악구'}\n",
      "<class 'dict'>\n",
      "name:홍길동\n",
      "age:30\n",
      "address:서울 관악구\n",
      "tel:None\n"
     ]
    }
   ],
   "source": [
    "func5(name='홍길동', age=30, address='서울 관악구')"
   ]
  },
  {
   "cell_type": "markdown",
   "id": "49027c6d",
   "metadata": {},
   "source": [
    "## 3.6 함수 정의 시 매개변수 순서 ★★★★★\n",
    "- 순서인수 > 튜플인수(*) > 키워드 인수(기본값) > 딕셔너리인수(**) !!!!!!!!!!누가 더 크다 이거임"
   ]
  },
  {
   "cell_type": "code",
   "execution_count": 78,
   "id": "52d5cbbf",
   "metadata": {},
   "outputs": [],
   "source": [
    "#올바른 순서 사용법의 예시 (순서 : 순서인수 > 튜플인수 > 딕셔너리인수)\n",
    "def func6(a, b, *c, **d):\n",
    "    print('순서인수 a = ', a)\n",
    "    print('순서인수 b = ', b)\n",
    "    print('튜플인수 c = ', c)\n",
    "    print('딕셔너리인수 d = ', d)"
   ]
  },
  {
   "cell_type": "code",
   "execution_count": 79,
   "id": "848c2203",
   "metadata": {},
   "outputs": [
    {
     "name": "stdout",
     "output_type": "stream",
     "text": [
      "순서인수 a =  10\n",
      "순서인수 b =  20\n",
      "튜플인수 c =  (1, 2, 3, 4, 5, 6, 7, 8, 9, 'a', 'b', 'True')\n",
      "딕셔너리인수 d =  {'name': '홍', 'age': 30, 'address': '신림'}\n"
     ]
    }
   ],
   "source": [
    "func6(10, 20, 1,2,3,4,5,6,7,8,9,'a','b','True', name='홍', age=30, address='신림') #10=a 20=b 1~9=c lasts=d "
   ]
  },
  {
   "cell_type": "code",
   "execution_count": 80,
   "id": "4c9c39ac",
   "metadata": {},
   "outputs": [],
   "source": [
    "#올바른 순서 사용법의 예시 (순서 : 순서인수 > 튜플인수 > 키워드인수(기본값) > 딕셔너리인수)\n",
    "def func7(a, b, c, *d, e=10, **f):\n",
    "    print('순서인수 a = ', a)\n",
    "    print('순서인수 b = ', b)\n",
    "    print('순서인수 c = ', c)\n",
    "    print('튜플인수 d = ', d)\n",
    "    print('키워드인수(기본값 10) e = ', e)\n",
    "    print('딕셔너리인수 f = ', f)"
   ]
  },
  {
   "cell_type": "code",
   "execution_count": 81,
   "id": "dd7bf5f0",
   "metadata": {},
   "outputs": [
    {
     "name": "stdout",
     "output_type": "stream",
     "text": [
      "순서인수 a =  10\n",
      "순서인수 b =  20\n",
      "순서인수 c =  30\n",
      "튜플인수 d =  ()\n",
      "키워드인수(기본값 10) e =  100\n",
      "딕셔너리인수 f =  {}\n"
     ]
    }
   ],
   "source": [
    "#자료를 충분히 넣지 않은경우의 예\n",
    "func7(10, 20, 30, e=100) #나머지는 빈 튜플 + 빈 딕셔너리로 반환 # 키워드인수 공백 시, e의 기본값인 (e=10)으로 반환."
   ]
  },
  {
   "cell_type": "code",
   "execution_count": 82,
   "id": "86aed523",
   "metadata": {},
   "outputs": [
    {
     "name": "stdout",
     "output_type": "stream",
     "text": [
      "순서인수 a =  10\n",
      "순서인수 b =  20\n",
      "순서인수 c =  30\n",
      "튜플인수 d =  (1, 2, 3, 4, 5)\n",
      "키워드인수(기본값 10) e =  100\n",
      "딕셔너리인수 f =  {'shape': 'rect', 'width': 20, 'height': 30}\n"
     ]
    }
   ],
   "source": [
    "func7(10, 20, 30, 1,2,3,4,5, e=100, shape='rect', width=20, height=30,)"
   ]
  },
  {
   "cell_type": "markdown",
   "id": "1a695e42",
   "metadata": {},
   "source": [
    "## 3.7 인수의 언패킹\n",
    "### 튜플인수 언패킹\n",
    "- 언패킹 : 함수 호출 시, 매개변수 앞에 * 붙임\n",
    "- 패킹 : 함수 정의 시 매개변수 앞에 * 붙임(튜플매개변수)"
   ]
  },
  {
   "cell_type": "code",
   "execution_count": 83,
   "id": "301570ee",
   "metadata": {},
   "outputs": [
    {
     "name": "stdout",
     "output_type": "stream",
     "text": [
      "(1, 2, 3)\n"
     ]
    }
   ],
   "source": [
    "def add(*args):\n",
    "    print(args)\n",
    "add(1, 2, 3)"
   ]
  },
  {
   "cell_type": "code",
   "execution_count": 84,
   "id": "6b91eb95",
   "metadata": {},
   "outputs": [],
   "source": [
    "def add(*args): #args가 패킹됨.\n",
    "    sum = 0\n",
    "    for num in args:\n",
    "        sum += num\n",
    "    return sum"
   ]
  },
  {
   "cell_type": "code",
   "execution_count": 85,
   "id": "e4bd02c4",
   "metadata": {},
   "outputs": [
    {
     "data": {
      "text/plain": [
       "6"
      ]
     },
     "execution_count": 85,
     "metadata": {},
     "output_type": "execute_result"
    }
   ],
   "source": [
    "add(1, 2, 3)"
   ]
  },
  {
   "cell_type": "code",
   "execution_count": 86,
   "id": "0e948318",
   "metadata": {},
   "outputs": [
    {
     "data": {
      "text/plain": [
       "6"
      ]
     },
     "execution_count": 86,
     "metadata": {},
     "output_type": "execute_result"
    }
   ],
   "source": [
    "numbers = (1, 2, 3)\n",
    "add(*numbers)\n",
    "\n",
    "# #numbers는 튜플 (1, 2, 3)입니다.\n",
    "\n",
    "# *numbers는 이 튜플을 \"언패킹\"해서 함수에 전달합니다.\n",
    "\n",
    "# 즉, add(1, 2, 3)처럼 호출하는 것과 같아요.\n",
    "\n",
    "# 함수 내부에서 args는 (1, 2, 3)이라는 튜플이 됩니다.\n",
    "\n",
    "# 왜 언패킹이 필요한가요?\n",
    "\n",
    "# *args는 개수 제한 없이 여러 인자를 받기 때문에,"
   ]
  },
  {
   "cell_type": "markdown",
   "id": "3f7f52d9",
   "metadata": {},
   "source": [
    "### 딕셔너리 인수 언패킹"
   ]
  },
  {
   "cell_type": "code",
   "execution_count": 87,
   "id": "c7e568c6",
   "metadata": {},
   "outputs": [],
   "source": [
    "def func8(**data):\n",
    "    print(data)\n",
    "    for item in data.items():\n",
    "        print(item)"
   ]
  },
  {
   "cell_type": "code",
   "execution_count": 88,
   "id": "7a05b6e4",
   "metadata": {},
   "outputs": [
    {
     "name": "stdout",
     "output_type": "stream",
     "text": [
      "{'shape': 'rect', 'width': 40, 'height': 30}\n",
      "('shape', 'rect')\n",
      "('width', 40)\n",
      "('height', 30)\n"
     ]
    }
   ],
   "source": [
    "func8(shape='rect', width=40, height=30) #원래 펑크파일은 이렇게 실행시켜야 함."
   ]
  },
  {
   "cell_type": "code",
   "execution_count": 89,
   "id": "511edcd1",
   "metadata": {},
   "outputs": [
    {
     "ename": "TypeError",
     "evalue": "func8() takes 0 positional arguments but 1 was given",
     "output_type": "error",
     "traceback": [
      "\u001b[1;31m---------------------------------------------------------------------------\u001b[0m",
      "\u001b[1;31mTypeError\u001b[0m                                 Traceback (most recent call last)",
      "Cell \u001b[1;32mIn[89], line 3\u001b[0m\n\u001b[0;32m      1\u001b[0m \u001b[38;5;66;03m# 딕셔너리 언패킹이 필요한 ERROR의 예\u001b[39;00m\n\u001b[0;32m      2\u001b[0m info \u001b[38;5;241m=\u001b[39m {\u001b[38;5;124m'\u001b[39m\u001b[38;5;124mshape\u001b[39m\u001b[38;5;124m'\u001b[39m:\u001b[38;5;124m'\u001b[39m\u001b[38;5;124mrect\u001b[39m\u001b[38;5;124m'\u001b[39m, \u001b[38;5;124m'\u001b[39m\u001b[38;5;124mwidth\u001b[39m\u001b[38;5;124m'\u001b[39m:\u001b[38;5;241m40\u001b[39m, \u001b[38;5;124m'\u001b[39m\u001b[38;5;124mheight\u001b[39m\u001b[38;5;124m'\u001b[39m:\u001b[38;5;241m30\u001b[39m} \u001b[38;5;66;03m#원래 딕셔너리임\u001b[39;00m\n\u001b[1;32m----> 3\u001b[0m \u001b[43mfunc8\u001b[49m\u001b[43m(\u001b[49m\u001b[43minfo\u001b[49m\u001b[43m)\u001b[49m\n",
      "\u001b[1;31mTypeError\u001b[0m: func8() takes 0 positional arguments but 1 was given"
     ]
    }
   ],
   "source": [
    "# 딕셔너리 언패킹이 필요한 ERROR의 예\n",
    "info = {'shape':'rect', 'width':40, 'height':30} #원래 딕셔너리임\n",
    "func8(info)"
   ]
  },
  {
   "cell_type": "code",
   "execution_count": 90,
   "id": "f6a88fc4",
   "metadata": {},
   "outputs": [
    {
     "name": "stdout",
     "output_type": "stream",
     "text": [
      "{'shape': 'rect', 'width': 40, 'height': 30}\n",
      "('shape', 'rect')\n",
      "('width', 40)\n",
      "('height', 30)\n"
     ]
    }
   ],
   "source": [
    "info = {'shape':'rect', 'width':40, 'height':30} #원래 딕셔너리임\n",
    "func8(**info)"
   ]
  },
  {
   "cell_type": "markdown",
   "id": "1d832191",
   "metadata": {},
   "source": [
    "# 4절 람다식(lambda)\n",
    "  > 람다식은 'return문 한 줄 짜리 작은 익명함수'\n",
    "- 주로, 짧고 일회성으로 쓰이는 함수가 필요한 곳에서 주로 사용\n",
    "- 람다는 단일 표현식만 가능 > 복잡한 로직이 아닌, 간단한 처리일 때만 사용\n",
    "- 이미 정의된 함수가 지금 쓰려는 목적에 딱 맞을 때는 그냥 이름 넘기면 됨.\n",
    "- 필요 이상으로 람다를 남용 > 가독성 DOWN > **\"이 함수 정말 이름 붙일 필요 있을까?\"**를 기준으로 선택할 것\n",
    "    > map(lambda x: x * 2, [1, 2, 3])  # [2, 4, 6]\n",
    "- 많은 API나 라이브러리는 함수를 인자로 받는 구조 > 예를 들어, filter(), map(), sorted(), pandas.apply() 등등... 람다식을 쓰면 코드가 훨씬 간결해져요.\n",
    "    > buttons.sort(key=lambda b: b.created_at)\n",
    "- 여러 줄(statements)로 나뉜 코드는 람다에서 사용할 수 없기 때문에 > if 문, for 문, try 문 같은 일반적인 **statement (문)**는 람다 내 사용불가\n",
    "    > 람다식으로 변환 시의 대상으로 '조건문'이 굉장히 빈번"
   ]
  },
  {
   "cell_type": "markdown",
   "id": "237f828d",
   "metadata": {},
   "source": [
    "## 4.1 람다식 연습"
   ]
  },
  {
   "cell_type": "code",
   "execution_count": 7,
   "id": "98b2dabc",
   "metadata": {},
   "outputs": [
    {
     "name": "stdout",
     "output_type": "stream",
     "text": [
      "8\n",
      "<function add at 0x0000022759748550>\n",
      "<class 'function'>\n"
     ]
    }
   ],
   "source": [
    "def add(a, b): #add라는 함수를 만들어본다.\n",
    "    return a+b #return문 1개에 이름이 있는 함수 > 답이 1개이기에 람다식 전환 GO\n",
    "print(add(3, 5))\n",
    "print(add) # 아래처럼 출력되는 건 \"함수 객체\" 자체를 출력했기 때문 > 즉, 결과(result)**가 아니라, 함수 **자체(object)**를 출력한 것.\n",
    "print(type(add))"
   ]
  },
  {
   "cell_type": "code",
   "execution_count": 6,
   "id": "500be623",
   "metadata": {},
   "outputs": [
    {
     "name": "stdout",
     "output_type": "stream",
     "text": [
      "8\n",
      "<class 'function'>\n"
     ]
    }
   ],
   "source": [
    "add2 = lambda a, b : a + b #'add2'라는 람다식을 할당받은 함수를 만든다. a와 b가 주어지면 a+b의 값을 반환하라\n",
    "print(add2(3, 5))\n",
    "print(type(add2)) #함수로 만들어졌기에 type은 function"
   ]
  },
  {
   "cell_type": "code",
   "execution_count": 14,
   "id": "9ab8558b",
   "metadata": {},
   "outputs": [
    {
     "data": {
      "text/plain": [
       "('홀수', '짝수')"
      ]
     },
     "execution_count": 14,
     "metadata": {},
     "output_type": "execute_result"
    }
   ],
   "source": [
    "# ex1. 매개변수로 들어온 값이 짝수인지 홀수인지 return하는 함수를 람다식으로 만들어보세요.\n",
    "# def even_odd_chk(num):\n",
    "#      if num%2:\n",
    "#          result = '홀수'\n",
    "#      else:\n",
    "#          result = '짝수'\n",
    "#      return result\n",
    "# (1) 먼저, 3열~7열을 1줄로 된 return문으로 만들어야 한다.\n",
    "#      result = '홀수' if num%2 else \"짝수\"\n",
    "#      return result\n",
    "# (2) 9열~10열에서 result값을 빼면서 1줄로 변환 \n",
    "#      return '홀수' if num%2 else \"짝수\"\n",
    "# (3) 2열과12열 죽이면서 12열의 return을 lambda로 대체하여 람다식으로 변환\n",
    "even_odd_chk = lambda num : \"홀수\" if num%2 else \"짝수\" # 숫자를 2로 나눈 나머지 값에서 1은 참을 의미, 0은 False 거짓을 의미하기에 > 1이 나오면 홀수인 것. \n",
    "even_odd_chk(5), even_odd_chk(4)"
   ]
  },
  {
   "cell_type": "code",
   "execution_count": 200,
   "id": "e325f2c1",
   "metadata": {},
   "outputs": [
    {
     "data": {
      "text/plain": [
       "9"
      ]
     },
     "execution_count": 200,
     "metadata": {},
     "output_type": "execute_result"
    }
   ],
   "source": [
    "# ex2. 두 매개변수의 차이를 return하는 함수를 람다식으로 만들어보세요.\n",
    "# 내 답안\n",
    "def gap(a, b):\n",
    "    return (a - b) if a>b else (b-a)\n",
    "gap(22, 31)"
   ]
  },
  {
   "cell_type": "code",
   "execution_count": 94,
   "id": "42f19fd0",
   "metadata": {},
   "outputs": [
    {
     "data": {
      "text/plain": [
       "19"
      ]
     },
     "execution_count": 94,
     "metadata": {},
     "output_type": "execute_result"
    }
   ],
   "source": [
    "# 쌤 답안\n",
    "gap = lambda a, b : a-b if a>b else b-a\n",
    "gap(22, 41)"
   ]
  },
  {
   "cell_type": "code",
   "execution_count": 95,
   "id": "17114978",
   "metadata": {},
   "outputs": [
    {
     "data": {
      "text/plain": [
       "0.5"
      ]
     },
     "execution_count": 95,
     "metadata": {},
     "output_type": "execute_result"
    }
   ],
   "source": [
    "# 자체연습1 곱셈과 나눗셈 a가 b보다 크면 곱하고 아니면 나눠라\n",
    "maxi = lambda a, b : a*b if a>b else a/b\n",
    "maxi(1,2)"
   ]
  },
  {
   "cell_type": "code",
   "execution_count": 96,
   "id": "13b811b7",
   "metadata": {},
   "outputs": [
    {
     "name": "stdout",
     "output_type": "stream",
     "text": [
      "1050.0\n",
      "999\n"
     ]
    }
   ],
   "source": [
    "# 자체연습2 데미지가 1000 이상이면 보너스 5% 1000이 안넘으면 보너스는 없다\n",
    "damage = lambda a : a*1.05 if a>=1000 else a\n",
    "print(damage(1000))\n",
    "print(damage(999))"
   ]
  },
  {
   "cell_type": "code",
   "execution_count": 97,
   "id": "35dc9f9d",
   "metadata": {},
   "outputs": [
    {
     "data": {
      "text/plain": [
       "12000.0"
      ]
     },
     "execution_count": 97,
     "metadata": {},
     "output_type": "execute_result"
    }
   ],
   "source": [
    "# 자체연습3 데미지에 따른 평타 크리티컬 더블 노출과 데미지 노출\n",
    "hit = lambda a : 'Critical' and (a*1.0) if a>10000 else \\\n",
    "                 (a*0.8) and 'Abandoned' if a>8000 else \\\n",
    "                 (a*2.0) and 'Double' if a>12000 else \\\n",
    "                 'Normal'\n",
    "hit(12000)"
   ]
  },
  {
   "cell_type": "code",
   "execution_count": 98,
   "id": "5e5e8d83",
   "metadata": {},
   "outputs": [
    {
     "data": {
      "text/plain": [
       "(1000, 'negative')"
      ]
     },
     "execution_count": 98,
     "metadata": {},
     "output_type": "execute_result"
    }
   ],
   "source": [
    "# ex3. 매개변수로 잔액을 받아, 잔액이 양수면 잔액을 return, 음수면 'negative'를 return\n",
    "casher = lambda balance : balance if balance>=0 else 'negative'\n",
    "casher(1000), casher(-100)"
   ]
  },
  {
   "cell_type": "code",
   "execution_count": 99,
   "id": "d2bb52d4",
   "metadata": {},
   "outputs": [
    {
     "data": {
      "text/plain": [
       "('유효하지 않음', 'A팀', 'A팀')"
      ]
     },
     "execution_count": 99,
     "metadata": {},
     "output_type": "execute_result"
    }
   ],
   "source": [
    "# ex4. 점수를 입력받아 80점 이상은 'A팀', 60점 이상은 'B팀', 60점 미만은 '재시험', 점수가 100점 초과나 0점 미만인 경우 '유효하지 않음' return \n",
    "#가독성을 위해 역슬래시로 띄워버림 대신 옆에 공백이 있으면 안된다\n",
    "Hakjeom = lambda a : 'A팀' if 100>=a>=80 else \\\n",
    "                     'B팀' if 79>=a>=60 else \\\n",
    "                     '재시험' if 0<a<60 else \\\n",
    "                     '유효하지 않음'\n",
    "Hakjeom(-1), Hakjeom(100), Hakjeom(80)"
   ]
  },
  {
   "cell_type": "code",
   "execution_count": 100,
   "id": "47a83bd1",
   "metadata": {},
   "outputs": [
    {
     "data": {
      "text/plain": [
       "('A학점', '유효하지 않는 점수')"
      ]
     },
     "execution_count": 100,
     "metadata": {},
     "output_type": "execute_result"
    }
   ],
   "source": [
    "# ex5. 점수를 입력받아 학점을 Return\n",
    "score_grade = lambda score : 'A학점' if 90<=score<=100 else \\\n",
    "                             'B학점' if 80<=score<90 else \\\n",
    "                             'C학점' if 70<=score<80 else \\\n",
    "                             'D학점' if 60<=score<70 else \\\n",
    "                             'F학점' if 0<=score<60 else \\\n",
    "                             '유효하지 않는 점수'\n",
    "score_grade(100), score_grade(120)"
   ]
  },
  {
   "cell_type": "code",
   "execution_count": 101,
   "id": "e2392e57",
   "metadata": {},
   "outputs": [
    {
     "data": {
      "text/plain": [
       "(-1, 2)"
      ]
     },
     "execution_count": 101,
     "metadata": {},
     "output_type": "execute_result"
    }
   ],
   "source": [
    "# ex6. safe_index함수를 람다식으로\n",
    "def safe_index(lst, item, start=0):\n",
    "    return lst.index(item, start) if item in lst[start:] else -1\n",
    "#     if item in lst[start:]:\n",
    "#         return lst.index(item, start) #start번째부터 item이 있는 index를 반환\n",
    "#     else:\n",
    "#         return -1\n",
    "ex5 = lambda lst, item, start=0 : lst.index(item, start) if item in lst[start:] else -1\n",
    "lst = [1, 2, 3]\n",
    "safe_index(lst, 4), ex5(lst, 3, 1)"
   ]
  },
  {
   "cell_type": "code",
   "execution_count": 102,
   "id": "56f8fcab",
   "metadata": {},
   "outputs": [
    {
     "data": {
      "text/plain": [
       "[25, 15, 100, 4.0]"
      ]
     },
     "execution_count": 102,
     "metadata": {},
     "output_type": "execute_result"
    }
   ],
   "source": [
    "# 람다식을 list에 들어갈 수 있음\n",
    "# div에서 if b가 true를 의미. 즉 1이상이기에 else는 False인 -1 과 0 등이라 저렇게 만든거\n",
    "add = lambda a, b : a + b \n",
    "sub = lambda a, b : a - b\n",
    "mul = lambda a, b : a * b\n",
    "div = lambda a, b : a/b if b else '두번째 인자가 0이면 못 나눠요'\n",
    "operations = [add, sub, mul, div] # 사칙연산 함수들\n",
    "\n",
    "def act_operations(a, b, operations=operations): #a,b의 연산 결과를 return\n",
    "    result = []\n",
    "    for op in operations:\n",
    "        result.append(op(a, b))\n",
    "    return result\n",
    "\n",
    "act_operations(20, 5)"
   ]
  },
  {
   "cell_type": "code",
   "execution_count": 103,
   "id": "eb8b6380",
   "metadata": {},
   "outputs": [
    {
     "data": {
      "text/plain": [
       "[64, 20]"
      ]
     },
     "execution_count": 103,
     "metadata": {},
     "output_type": "execute_result"
    }
   ],
   "source": [
    "act_operations(8, 2, [lambda x,y : x**y, lambda x,y : 10*+y])"
   ]
  },
  {
   "cell_type": "code",
   "execution_count": 104,
   "id": "2fcb2063",
   "metadata": {},
   "outputs": [
    {
     "data": {
      "text/plain": [
       "30"
      ]
     },
     "execution_count": 104,
     "metadata": {},
     "output_type": "execute_result"
    }
   ],
   "source": [
    "(lambda x,y : 10*+y)(5,3)"
   ]
  },
  {
   "cell_type": "code",
   "execution_count": 105,
   "id": "82aba79e",
   "metadata": {},
   "outputs": [
    {
     "data": {
      "text/plain": [
       "5"
      ]
     },
     "execution_count": 105,
     "metadata": {},
     "output_type": "execute_result"
    }
   ],
   "source": [
    "operations.append(lambda x, y : x**y)\n",
    "len(operations)"
   ]
  },
  {
   "cell_type": "code",
   "execution_count": 106,
   "id": "25cd4064",
   "metadata": {},
   "outputs": [
    {
     "data": {
      "text/plain": [
       "[10, 6, 16, 4.0, 64]"
      ]
     },
     "execution_count": 106,
     "metadata": {},
     "output_type": "execute_result"
    }
   ],
   "source": [
    "act_operations(8, 2) # 기본값을 갖는 변수(기본 변수) 가 리스트면 기본값은 호출할 시점에 따라)"
   ]
  },
  {
   "cell_type": "markdown",
   "id": "bbb823a0",
   "metadata": {},
   "source": [
    "## 4.2 함수의 매개변수(인수)에 람다식 사용\n",
    "- 람다식을 사용하는 곳 : 함수의 매개변수 > return 문 . 함수의 매개변수가 엄청 비중이 높음\n",
    "### (1) map 함수 \n",
    "- 데이터프레임에서 map함수 안 쓰고 for문 쓰면 탈락함. > 그 정도로 중요함\n",
    "- map()은 함수와 반복 가능한(iterable) 객체를 인자로 받는 내장 함수이다.\n",
    "- > 형태 : map(func, [] () 등 반복가능한 자료형)\n",
    "- map()은 각 요소에 함수를 하나씩 적용한 결과를 반환.\n",
    "- 반환값은 객체(iterator) > 필요시 list() 등으로 감싸서 출력한다.\n",
    "- 함수 자리에 람다(lambda) 혹은 이미 정의된 함수를 사용할 수 있다.\n",
    "- 여러 개의 반복가능한 객체(iterable)을 함께 전달하면, 각 요소를 병렬적으로 함수에 전달한다.\n",
    "- map()은 원본 데이터를 변경하지 않으며, 새로운 객체(iterator)를 생성한다.\n",
    "- 게으른 평가(lazy evaluation)를 하기 때문에, 필요할 때만 계산된다.\n",
    "- 매개변수와 인자는 확실히 개념이 다르다. 다시확인할 것"
   ]
  },
  {
   "cell_type": "code",
   "execution_count": 114,
   "id": "935b4537",
   "metadata": {},
   "outputs": [],
   "source": [
    "def map_template(func, L=[]):\n",
    "    result = []\n",
    "    for item in L:\n",
    "        result.append(func(item) )\n",
    "    return result"
   ]
  },
  {
   "cell_type": "code",
   "execution_count": 115,
   "id": "463018d0",
   "metadata": {},
   "outputs": [
    {
     "data": {
      "text/plain": [
       "[1, 2, 3]"
      ]
     },
     "execution_count": 115,
     "metadata": {},
     "output_type": "execute_result"
    }
   ],
   "source": [
    "map_template(lambda a:a, [1,2,3])"
   ]
  },
  {
   "cell_type": "code",
   "execution_count": 122,
   "id": "187e5ab7",
   "metadata": {},
   "outputs": [
    {
     "name": "stdout",
     "output_type": "stream",
     "text": [
      "[2, 4, 6, 8, 10, 12, 14, 16, 18]\n",
      "[2, 4, 6]\n"
     ]
    }
   ],
   "source": [
    "list_data = [1,2,3,4,5,6,7,8,9]  #리스트 0방부터 끝방까지 2배 뻥튀기\n",
    "# def x_2(x):\n",
    "#     return x*2\n",
    "x_2 = lambda x : x*2\n",
    "print(map_template(lambda x:x*2, list_data)) #두번째 매개변수에 리스트키를 가져와도 되고, 리스트 값 그대로를 넣어도 됨.\n",
    "print(map_template(lambda x:x*2, [1,2,3]))"
   ]
  },
  {
   "cell_type": "code",
   "execution_count": 124,
   "id": "ceef431d",
   "metadata": {},
   "outputs": [
    {
     "data": {
      "text/plain": [
       "[2, 4, 6, 8, 10, 12, 14, 16, 18]"
      ]
     },
     "execution_count": 124,
     "metadata": {},
     "output_type": "execute_result"
    }
   ],
   "source": [
    "# 또 다른 방법 : 리스트 컴프리헨션 **난 딱 리스트 데이터만 놓을꺼야 !\n",
    "[item*2 for item in list_data]"
   ]
  },
  {
   "cell_type": "code",
   "execution_count": 126,
   "id": "092e740e",
   "metadata": {},
   "outputs": [
    {
     "data": {
      "text/plain": [
       "<map at 0x22f9c1c9780>"
      ]
     },
     "execution_count": 126,
     "metadata": {},
     "output_type": "execute_result"
    }
   ],
   "source": [
    "map(lambda x:x*2, list_data) #외부적으로 잘 안 보이는 데이터로 나오기에 list로 감싸라"
   ]
  },
  {
   "cell_type": "code",
   "execution_count": 128,
   "id": "f6fc4df6",
   "metadata": {},
   "outputs": [
    {
     "data": {
      "text/plain": [
       "[2, 4, 6, 8, 10, 12, 14, 16, 18]"
      ]
     },
     "execution_count": 128,
     "metadata": {},
     "output_type": "execute_result"
    }
   ],
   "source": [
    "list(map(lambda x:x*2, list_data)) #결과"
   ]
  },
  {
   "cell_type": "code",
   "execution_count": 130,
   "id": "1bf81c65",
   "metadata": {},
   "outputs": [
    {
     "name": "stdout",
     "output_type": "stream",
     "text": [
      "2 4 6 8 10 12 14 16 18 "
     ]
    }
   ],
   "source": [
    "for data in map(lambda x:x*2, list_data):\n",
    "    print(data, end=' ')"
   ]
  },
  {
   "cell_type": "markdown",
   "id": "a5de2d9d",
   "metadata": {},
   "source": [
    "#### 예제 1.\n",
    "prices = ['5,000', '5000', '6,000', '1000','5,000', '5000', '6,000', '1000’]를 [5000,5000,6000,1000]식으로 바꾸시오"
   ]
  },
  {
   "cell_type": "code",
   "execution_count": 140,
   "id": "0d79b391",
   "metadata": {},
   "outputs": [
    {
     "name": "stdout",
     "output_type": "stream",
     "text": [
      "5000 5000 6000 1000 5000 5000 6000 1000 "
     ]
    }
   ],
   "source": [
    "prices = ['5,000', '5000', '6,000', '1000','5,000', '5000', '6,000', '1000']\n",
    "def toint(value):\n",
    "          return int(value.replace(',',''))\n",
    "prices_int = map(lambda value : int(value.replace(',','')), prices)\n",
    "for price in prices_int:\n",
    "    print(price, end=' ')"
   ]
  },
  {
   "cell_type": "markdown",
   "id": "4c75d771",
   "metadata": {},
   "source": [
    "#### 예제 2.\n",
    "members1 = [{'name':'홍길동', 'birth':'2000-01-01’}, {'name':'신길동', 'birth':'1995-12-18'},]를 \\\n",
    "members2 = [{'name':'홍길동', 'year':2000, 'month':1,'day':1}, {'name':'신길동', 'year':1995, 'month':12, 'day':18},] 변환"
   ]
  },
  {
   "cell_type": "code",
   "execution_count": 178,
   "id": "ed22c445",
   "metadata": {},
   "outputs": [
    {
     "data": {
      "text/plain": [
       "{'year': 2025, 'month': 1, 'day': 1}"
      ]
     },
     "execution_count": 178,
     "metadata": {},
     "output_type": "execute_result"
    }
   ],
   "source": [
    "#일자를 바꾸는 전개1 2025-01-01 >  {'year': 2025, 'month': 1, 'day': 1}\n",
    "members1 = [{'name':'홍길동', 'birth':'2000-01-01'}, {'name':'신길동', 'birth':'1995-12-18'},]\n",
    "def split_date(date):\n",
    "    split_date = date.split('-') #split으로 나눈 후 0방부터 순서를 가짐\n",
    "    return {\n",
    "        'year': int(split_date[0]), #0방이라는 숫자이기에 int로 변형해줌\n",
    "        'month': int(split_date[1]),\n",
    "        'day': int(split_date[2])\n",
    "    }\n",
    "split_date('2025-01-01')"
   ]
  },
  {
   "cell_type": "code",
   "execution_count": 179,
   "id": "1a9fc0b5",
   "metadata": {},
   "outputs": [
    {
     "data": {
      "text/plain": [
       "{'year': 2025, 'month': 1, 'day': 1}"
      ]
     },
     "execution_count": 179,
     "metadata": {},
     "output_type": "execute_result"
    }
   ],
   "source": [
    "#일자를 바꾸는 전개1-2 \n",
    "members1 = [{'name':'홍길동', 'birth':'2000-01-01'}, {'name':'신길동', 'birth':'1995-12-18'},]\n",
    "def split_date(date): #date의 형식은 아래 물음대로 정해져있음.\n",
    "    return {\n",
    "        'year': int(date.split('-')[0]), #date의 형식내에서 쪼개서 방 순서를 주는 return을 만듦\n",
    "        'month': int(date.split('-')[1]),\n",
    "        'day': int(date.split('-')[2])\n",
    "    }\n",
    "split_date('2025-01-01')"
   ]
  },
  {
   "cell_type": "code",
   "execution_count": 190,
   "id": "52d2db4d",
   "metadata": {},
   "outputs": [
    {
     "data": {
      "text/plain": [
       "{'name': '홍길동', 'year': 2000, 'month': 1, 'day': 1}"
      ]
     },
     "execution_count": 190,
     "metadata": {},
     "output_type": "execute_result"
    }
   ],
   "source": [
    "#전개1을 활용한 전개2\n",
    "data = [{'name':'홍길동', 'birth':'2000-01-01'}, {'name':'신길동', 'birth':'1995-12-18'},]\n",
    "def member_preprocessing(member):\n",
    "    return {\n",
    "        'name': member.get('name', '이름없음'), #member['name']\n",
    "        'year': int(member.get('birth').split('-')[0]),\n",
    "        'month': int(member.get('birth').split('-')[1]),\n",
    "        'day': int(member.get('birth').split('-')[2])\n",
    "    }\n",
    "member_preprocessing({'name':'홍길동', 'birth':'2000-01-01'}) #지금은 데이터가 하나라서 이렇게만 한거고, 데이터가 수백만 개 일 때 map을 써야 함."
   ]
  },
  {
   "cell_type": "code",
   "execution_count": 202,
   "id": "27cc7908",
   "metadata": {},
   "outputs": [
    {
     "data": {
      "text/plain": [
       "[{'name': '홍길동', 'year': 2000, 'month': 1, 'day': 1},\n",
       " {'name': '신길동', 'year': 1995, 'month': 12, 'day': 18}]"
      ]
     },
     "execution_count": 202,
     "metadata": {},
     "output_type": "execute_result"
    }
   ],
   "source": [
    "#모든 전개를 활용한 최종답안 #list로 감싸는 건 for문 쓰지 않고 바로 출력하기 위함이다\n",
    "members2 = list(map(lambda member : {\n",
    "                                    'name': member.get('name', '이름없음'),\n",
    "                                    'year': int(member.get('birth').split('-')[0]),\n",
    "                                    'month': int(member.get('birth').split('-')[1]),\n",
    "                                    'day': int(member.get('birth').split('-')[2])\n",
    "                                }, members1\n",
    "                   )\n",
    "               ) #가독성을 위해 이렇게 괄호를 띄워버리기도 함\n",
    "members2"
   ]
  },
  {
   "cell_type": "markdown",
   "id": "d9988488",
   "metadata": {},
   "source": [
    "#### 예제 3. \n",
    "     > members2를 members1로 전환\n",
    "- members1 = [{'name':'홍길동', 'birth':'2000-01-01’}, {'name':'신길동', 'birth':'1995-12-18'},]\n",
    "- members2 = [{'name':'홍길동', 'year':2000, 'month':1,'day':1}, {'name':'신길동', 'year':1995, 'month':12, 'day':18},]"
   ]
  },
  {
   "cell_type": "code",
   "execution_count": 209,
   "id": "3bb4d287",
   "metadata": {},
   "outputs": [
    {
     "data": {
      "text/plain": [
       "'2000-01-01'"
      ]
     },
     "execution_count": 209,
     "metadata": {},
     "output_type": "execute_result"
    }
   ],
   "source": [
    "#예제 3을 위한 전개 1\n",
    "def join_date(data):\n",
    "    return \"{}-{:02}-{:02}\".format(data.get('year'), data.get('month'), data.get('day'))\n",
    "join_date({'year':2000, 'month':1, 'day':1})"
   ]
  },
  {
   "cell_type": "code",
   "execution_count": 212,
   "id": "820160f2",
   "metadata": {},
   "outputs": [
    {
     "data": {
      "text/plain": [
       "{'birth': '2000-01-01'}"
      ]
     },
     "execution_count": 212,
     "metadata": {},
     "output_type": "execute_result"
    }
   ],
   "source": [
    "#예제 3을 위한 전개 2\n",
    "def join_date(data):\n",
    "    return {\"birth\" : \"{year}-{month:02}-{day:02}\".format(**data)}\n",
    "join_date({'year':2000, 'month':1, 'day':1})"
   ]
  },
  {
   "cell_type": "code",
   "execution_count": 222,
   "id": "3b322539",
   "metadata": {},
   "outputs": [
    {
     "data": {
      "text/plain": [
       "{'name': 'hong', 'birth': '2000-01-01'}"
      ]
     },
     "execution_count": 222,
     "metadata": {},
     "output_type": "execute_result"
    }
   ],
   "source": [
    "#예제 3을 위한 전개 3\n",
    "def member_preprocessing(member):\n",
    "    return {\n",
    "        'name': member.get('name'),\n",
    "        'birth' : \"{year}-{month:02}-{day:02}\".format(**member)\n",
    "    }\n",
    "member_preprocessing({'name':'hong', 'year':2000, 'month':1, 'day':1})"
   ]
  },
  {
   "cell_type": "code",
   "execution_count": null,
   "id": "bfd2ed41",
   "metadata": {},
   "outputs": [],
   "source": [
    "#예제 3을 위한 최종답안\n",
    "def member_preprocessing(member):\n",
    "    return {\n",
    "        'name': member.get('name'),\n",
    "        'birth' : \"{year}-{month:02}-{day:02}\".format(**member)\n",
    "    }\n",
    "member_preprocessing({'name':'hong', 'year':2000, 'month':1, 'day':1})"
   ]
  },
  {
   "cell_type": "code",
   "execution_count": 224,
   "id": "67289354",
   "metadata": {},
   "outputs": [
    {
     "data": {
      "text/plain": [
       "[{'name': '홍길동', 'birth': '2000-01-01'},\n",
       " {'name': '신길동', 'birth': '1995-12-18'}]"
      ]
     },
     "execution_count": 224,
     "metadata": {},
     "output_type": "execute_result"
    }
   ],
   "source": [
    "list(map(lambda member : {\n",
    "        'name': member.get('name'),\n",
    "        'birth' : \"{year}-{month:02}-{day:02}\".format(**member)\n",
    "    }, members2))"
   ]
  },
  {
   "cell_type": "markdown",
   "id": "4694c6d3",
   "metadata": {},
   "source": [
    "## (2) filter 함수\n",
    "- 조건에 맞는 요소만 추출하는 데에 쓰임 > 사용빈도 낮음.\n",
    "    > 형태 : filter(function, iterable)\n",
    "- function이 True를 반환하는 요소만 추출한다.\n",
    "- 이터레이터 반환 시, 결과는 리스트가 아니라 **filter 객체(이터레이터)**로 반환됨 → list() 등으로 변환 필요\n",
    "- 함수 자리에 None 시, 참(Truthy)인 값만 필터링됨\n",
    "- 원본 데이터를 변경하지 않음 > 불변성 유지 (immutable)"
   ]
  },
  {
   "cell_type": "code",
   "execution_count": 226,
   "id": "e76c7870",
   "metadata": {},
   "outputs": [],
   "source": [
    "def filter_template(func, L=[]):\n",
    "    result = []\n",
    "    for item in L:\n",
    "        if func(item):\n",
    "            result.append(item)\n",
    "    return result"
   ]
  },
  {
   "cell_type": "code",
   "execution_count": 228,
   "id": "0f1819bc",
   "metadata": {},
   "outputs": [
    {
     "data": {
      "text/plain": [
       "[1, 3, 5, 7, 9]"
      ]
     },
     "execution_count": 228,
     "metadata": {},
     "output_type": "execute_result"
    }
   ],
   "source": [
    "list_data = [1,2,3,4,5,6,7,8,9] #람다식을 이용하는 게 힘든 루저만 함수를 만든다\n",
    "def off_chk(value):\n",
    "    return value%2!=0\n",
    "#     if value%2:\n",
    "#         return True\n",
    "#     else:\n",
    "#         return False\n",
    "filter_template(lambda value : value%2!=0, list_data)"
   ]
  },
  {
   "cell_type": "code",
   "execution_count": 229,
   "id": "fc3e0eab",
   "metadata": {},
   "outputs": [
    {
     "data": {
      "text/plain": [
       "[1, 3, 5, 7, 9]"
      ]
     },
     "execution_count": 229,
     "metadata": {},
     "output_type": "execute_result"
    }
   ],
   "source": [
    "# 리스트컴프리헨션\n",
    "[value for value in list_data if value%2!=0] #value를 2로나눈 게 0이 아닐 때만 참"
   ]
  },
  {
   "cell_type": "code",
   "execution_count": 232,
   "id": "3b2092e2",
   "metadata": {},
   "outputs": [
    {
     "data": {
      "text/plain": [
       "[1, 3, 5, 7, 9]"
      ]
     },
     "execution_count": 232,
     "metadata": {},
     "output_type": "execute_result"
    }
   ],
   "source": [
    "list(filter(lambda value : value%2!=0, list_data))"
   ]
  },
  {
   "cell_type": "markdown",
   "id": "6d1bd28e",
   "metadata": {},
   "source": [
    "#### 예제 1."
   ]
  },
  {
   "cell_type": "code",
   "execution_count": 238,
   "id": "9494cc72",
   "metadata": {},
   "outputs": [
    {
     "data": {
      "text/plain": [
       "[1, 3.0, 100, -2.0]"
      ]
     },
     "execution_count": 238,
     "metadata": {},
     "output_type": "execute_result"
    }
   ],
   "source": [
    "# 다음 리스트에서 소수점 이하가 0인 수만 추출하시오(filter)\n",
    "L = [1, 1.2, 1.5, 3.0, 10.5, 100, -2.0, -12.2]\n",
    "list(filter(lambda x : x%1==0, L))"
   ]
  },
  {
   "cell_type": "code",
   "execution_count": 239,
   "id": "f1474ac4",
   "metadata": {},
   "outputs": [
    {
     "data": {
      "text/plain": [
       "[1, 3.0, 100, -2.0]"
      ]
     },
     "execution_count": 239,
     "metadata": {},
     "output_type": "execute_result"
    }
   ],
   "source": [
    "[item for item in L if item%1==0]"
   ]
  },
  {
   "cell_type": "markdown",
   "id": "126b6dfe",
   "metadata": {},
   "source": [
    "## (3) sort 함수\n",
    "\n",
    "- 리스트 전용 메서드 > 리스트 객체에서만 사용 가능\n",
    "    > 사용법: list.sort()\n",
    "- 원본 리스트를 직접 정렬함 (in-place 정렬) > 반환값은 None\n",
    "    > 원본이 바뀌므로 주의 필요\n",
    "- 옵션 인자 사용 가능 (key: 정렬 기준 함수)\n",
    "    > 예: key=len (길이 기준) > key=lambda x: x[1] (튜플의 두 번째 요소 기준) > reverse: True면 내림차순\n",
    "- 알파벳, 숫자 혼합 시 유니코드 기준 정렬, 문자열은 사전순으로 정렬"
   ]
  },
  {
   "cell_type": "code",
   "execution_count": 240,
   "id": "27b46d5e",
   "metadata": {},
   "outputs": [
    {
     "data": {
      "text/plain": [
       "[10, 6, 3, 1]"
      ]
     },
     "execution_count": 240,
     "metadata": {},
     "output_type": "execute_result"
    }
   ],
   "source": [
    "p = [10, 3, 6, 1] #유치원에서 배우는 sort\n",
    "p.sort(reverse=True)\n",
    "p"
   ]
  },
  {
   "cell_type": "code",
   "execution_count": 252,
   "id": "b1243f34",
   "metadata": {},
   "outputs": [
    {
     "name": "stdout",
     "output_type": "stream",
     "text": [
      "[(1, 'one'), (2, 'two'), (3, 'three'), (4, 'four')]\n",
      "[(1, 400), (2, 200), (12, 10), (50, 150)]\n"
     ]
    }
   ],
   "source": [
    "# sort의 기본 로직 : 무조건 0번째 item을 기준으로 오름차 순 정렬\n",
    "pairs = [(2, 'two'), (1, 'one'), (3, 'three'), (4, 'four')]\n",
    "pairs.sort()\n",
    "print(pairs) #0번째 아이템이 숫자이기 때문에 이렇게 정렬됨.\n",
    "ddong = [(1,400), (2,200), (50,150), (12,10)]\n",
    "ddong.sort()\n",
    "print(ddong)"
   ]
  },
  {
   "cell_type": "markdown",
   "id": "ab18fa20",
   "metadata": {},
   "source": [
    "#### 예제 1."
   ]
  },
  {
   "cell_type": "code",
   "execution_count": 256,
   "id": "0f033c14",
   "metadata": {},
   "outputs": [
    {
     "data": {
      "text/plain": [
       "[(4, 'four'), (1, 'one'), (3, 'three'), (2, 'two')]"
      ]
     },
     "execution_count": 256,
     "metadata": {},
     "output_type": "execute_result"
    }
   ],
   "source": [
    "pairs = [(2, 'two'), (1, 'one'), (3, 'three'), (4, 'four')]\n",
    "# 1번째 item 기준으로 내림차 순 정렬\n",
    "pairs.sort(key=lambda data:data[1])\n",
    "pairs #1번째 방을 기준으로 잡았기에, 1번째 데이터인 영어 알파벳의 순서대로 정렬됨."
   ]
  },
  {
   "cell_type": "code",
   "execution_count": 257,
   "id": "b930ea5d",
   "metadata": {},
   "outputs": [
    {
     "data": {
      "text/plain": [
       "[(2, 'two'), (3, 'three'), (1, 'one'), (4, 'four')]"
      ]
     },
     "execution_count": 257,
     "metadata": {},
     "output_type": "execute_result"
    }
   ],
   "source": [
    "# 거꾸로 정렬하기\n",
    "pairs.sort(key=lambda data:data[1], reverse=True)\n",
    "pairs"
   ]
  },
  {
   "cell_type": "markdown",
   "id": "5cfd3c24",
   "metadata": {},
   "source": [
    "#### 예제 2."
   ]
  },
  {
   "cell_type": "code",
   "execution_count": 254,
   "id": "3725f93a",
   "metadata": {},
   "outputs": [
    {
     "name": "stdout",
     "output_type": "stream",
     "text": [
      "[[10, 200], [1, 100], [9.9]]\n"
     ]
    }
   ],
   "source": [
    "# 합이 큰 순으로 정렬\n",
    "number_2d = [[9.9], [1,100], [10,200]]\n",
    "number_2d.sort()\n",
    "number_2d.sort(key=lambda items : sum(items), reverse=True)\n",
    "print(number_2d)"
   ]
  },
  {
   "cell_type": "markdown",
   "id": "f9565269",
   "metadata": {},
   "source": [
    "#### 예제 3."
   ]
  },
  {
   "cell_type": "code",
   "execution_count": 286,
   "id": "7e9f15e1",
   "metadata": {},
   "outputs": [
    {
     "data": {
      "text/plain": [
       "99"
      ]
     },
     "execution_count": 286,
     "metadata": {},
     "output_type": "execute_result"
    }
   ],
   "source": [
    "students = [{'name':'홍', 'score':99},\n",
    "           {'name':'김', 'score':70},\n",
    "           {'name':'박', 'score':55},\n",
    "           {'score':99},{'name':'최'}]\n",
    "name_select = lambda data : data.get('score')\n",
    "name_select({'name':'홍', 'score':99})"
   ]
  },
  {
   "cell_type": "code",
   "execution_count": 287,
   "id": "855e08c8",
   "metadata": {},
   "outputs": [
    {
     "data": {
      "text/plain": [
       "[{'name': '김', 'score': 70},\n",
       " {'name': '박', 'score': 55},\n",
       " {'name': '최'},\n",
       " {'name': '홍', 'score': 99},\n",
       " {'score': 99}]"
      ]
     },
     "execution_count": 287,
     "metadata": {},
     "output_type": "execute_result"
    }
   ],
   "source": [
    "#Students를 Name순으로 정렬 ㄱㄴㄷ순\n",
    "students.sort(key=lambda data : data.get('name', '힣')) #ㄱㄴㄷ순 정렬은 기준을 '가'인가 '힣'인가에 따라 다르다.\n",
    "students"
   ]
  },
  {
   "cell_type": "code",
   "execution_count": 288,
   "id": "e53815eb",
   "metadata": {},
   "outputs": [
    {
     "data": {
      "text/plain": [
       "[{'name': '최'},\n",
       " {'name': '박', 'score': 55},\n",
       " {'name': '김', 'score': 70},\n",
       " {'name': '홍', 'score': 99},\n",
       " {'score': 99}]"
      ]
     },
     "execution_count": 288,
     "metadata": {},
     "output_type": "execute_result"
    }
   ],
   "source": [
    "#students를 score순으로 정렬\n",
    "students.sort(key=lambda data : data.get('score', 0)) #score가 없는 건0이야. 그래서 제일 앞에 옴.\n",
    "students"
   ]
  },
  {
   "cell_type": "markdown",
   "id": "e8f4a7bf",
   "metadata": {},
   "source": [
    "#### 예제 4."
   ]
  },
  {
   "cell_type": "code",
   "execution_count": 296,
   "id": "608e0e45",
   "metadata": {},
   "outputs": [],
   "source": [
    "# books 정렬 : (no, title, price)\n",
    "books = \\\n",
    "[{'no':1, 'title':'더트릭컬', 'writer':'폴빠','price':'19,800'},\n",
    "{'no':2, 'title':'흔한남매', 'writer':'백난도', 'price':'15,120'},\n",
    "{'no':3, 'title':'단 한 번의 삶', 'writer':'김영하', 'price':'15,120'},\n",
    "{'no':4, 'title':'가격잘못', 'writer':'홍길동', 'price':'ㅁ'},\n",
    "{'no':5, 'title':'가격이숫자', 'writer':'백난도', 'price':30200},\n",
    "{'no':6, 'title':'가격이없음', 'writer':'이길동'},]"
   ]
  },
  {
   "cell_type": "code",
   "execution_count": 298,
   "id": "2a75ae39",
   "metadata": {},
   "outputs": [
    {
     "data": {
      "text/plain": [
       "[{'no': 5, 'title': '가격이숫자', 'writer': '백난도', 'price': 30200},\n",
       " {'no': 6, 'title': '가격이없음', 'writer': '이길동'},\n",
       " {'no': 4, 'title': '가격잘못', 'writer': '홍길동', 'price': 'ㅁ'},\n",
       " {'no': 3, 'title': '단 한 번의 삶', 'writer': '김영하', 'price': '15,120'},\n",
       " {'no': 1, 'title': '더트릭컬', 'writer': '폴빠', 'price': '19,800'},\n",
       " {'no': 2, 'title': '흔한남매', 'writer': '백난도', 'price': '15,120'}]"
      ]
     },
     "execution_count": 298,
     "metadata": {},
     "output_type": "execute_result"
    }
   ],
   "source": [
    "#title 순으로 정렬 ㄱㄴㄷ순\n",
    "books.sort(key = lambda book : book ['title'])\n",
    "books"
   ]
  },
  {
   "cell_type": "code",
   "execution_count": 332,
   "id": "ddd2541d",
   "metadata": {},
   "outputs": [
    {
     "name": "stdout",
     "output_type": "stream",
     "text": [
      "5000\n",
      "12000\n",
      "0\n",
      "0\n"
     ]
    }
   ],
   "source": [
    "# price 순으로 정렬\n",
    "# 이처럼 매개변수로 30200, '12,000', '5000', 'ㅁ', None이 들어올 수도 있음. 이걸 다 숫자로 처리 > 30200, 12000, 5000, 0, 0\n",
    "# 계단식으로 정리 : 콤마 먼저 제외 > 콤마 뺀 값들 숫자인지? isdigit > 참이면 int화, 아니면 0부여 \n",
    "def parse_int(price):\n",
    "    if isinstance(price, str) and price.replace(',','').isdigit(): #모든 언어에서 앞에꺼가 트루면 뒤에꺼 수행안함. 그래서 큰 주제를 먼저 물어본다\n",
    "        return int(price.replace(',',''))\n",
    "    elif isinstance(price, int):\n",
    "        return price\n",
    "    else:\n",
    "        return 0\n",
    "print(parse_int('5000'))\n",
    "print(parse_int('12,000'))\n",
    "print(parse_int('ㅁ'))\n",
    "print(parse_int('None'))"
   ]
  },
  {
   "cell_type": "code",
   "execution_count": 335,
   "id": "115313cc",
   "metadata": {},
   "outputs": [
    {
     "name": "stdout",
     "output_type": "stream",
     "text": [
      "5000\n"
     ]
    }
   ],
   "source": [
    "#위에 것의 축약버전 : price를 스트링으로 감싼다?\n",
    "def parse_int(price):\n",
    "    if str(price).replace(',','').isdigit(): \n",
    "        return int(str(price).replace(',',''))\n",
    "    else:\n",
    "        return 0\n",
    "print(parse_int('5,000'))"
   ]
  },
  {
   "cell_type": "code",
   "execution_count": 327,
   "id": "d9c8d789",
   "metadata": {},
   "outputs": [
    {
     "name": "stdout",
     "output_type": "stream",
     "text": [
      "12000 30200 0 0\n"
     ]
    }
   ],
   "source": [
    "# 최종답안 : price 순으로 정렬\n",
    "parse_int = lambda price : \\\n",
    "                    int(price.replace(',','')) \\\n",
    "                        if isinstance(price, str) and price.replace(',','').isdigit() else \\\n",
    "                    price if isinstance(price, int) else \\\n",
    "                    0\n",
    "print(parse_int('12,000'), parse_int(30200), parse_int('ㅁ'), parse_int('None'))"
   ]
  },
  {
   "cell_type": "markdown",
   "id": "b4145387",
   "metadata": {},
   "source": [
    "#### 예제 4의 변형"
   ]
  },
  {
   "cell_type": "code",
   "execution_count": 328,
   "id": "fad90131",
   "metadata": {},
   "outputs": [],
   "source": [
    "# {'no': 5, 'title': '가격이 숫자', 'writer': '백난도', 'price': '12,000'} => 12000   값이 딕셔너리로 들어온 경우"
   ]
  },
  {
   "cell_type": "code",
   "execution_count": 344,
   "id": "3507de48",
   "metadata": {},
   "outputs": [
    {
     "data": {
      "text/plain": [
       "12000"
      ]
     },
     "execution_count": 344,
     "metadata": {},
     "output_type": "execute_result"
    }
   ],
   "source": [
    "parse_int = lambda book : \\\n",
    "                    int(book.get('price').replace(',','')) \\\n",
    "                            if isinstance(book.get('price'), str) and \\\n",
    "                                        book.get('price').replace(',','').isdigit() else \\\n",
    "                    book.get('price') if isinstance(book.get('price'), int) else \\\n",
    "                    0\n",
    "parse_int({'no': 5, 'title': '가격이 숫자', 'writer': '백난도', 'price': '12,000'})"
   ]
  },
  {
   "cell_type": "code",
   "execution_count": 345,
   "id": "58120e7f",
   "metadata": {},
   "outputs": [
    {
     "data": {
      "text/plain": [
       "[{'no': 5, 'title': '가격이숫자', 'writer': '백난도', 'price': 30200},\n",
       " {'no': 1, 'title': '더트릭컬', 'writer': '폴빠', 'price': '19,800'},\n",
       " {'no': 3, 'title': '단 한 번의 삶', 'writer': '김영하', 'price': '15,120'},\n",
       " {'no': 2, 'title': '흔한남매', 'writer': '백난도', 'price': '15,120'},\n",
       " {'no': 6, 'title': '가격이없음', 'writer': '이길동'},\n",
       " {'no': 4, 'title': '가격잘못', 'writer': '홍길동', 'price': 'ㅁ'}]"
      ]
     },
     "execution_count": 345,
     "metadata": {},
     "output_type": "execute_result"
    }
   ],
   "source": [
    "copyBooks = books.copy() #복제(깊은 복사)\n",
    "copyBooks.sort(key=lambda book : \\\n",
    "                    int(book.get('price').replace(',','')) \\\n",
    "                            if isinstance(book.get('price'), str) and \\\n",
    "                                        book.get('price').replace(',','').isdigit() else \\\n",
    "                    book.get('price') if isinstance(book.get('price'), int) else \\\n",
    "                    0,\n",
    "               reverse=True)\n",
    "copyBooks"
   ]
  },
  {
   "cell_type": "markdown",
   "id": "f67b4f5a",
   "metadata": {},
   "source": [
    "# 5절 파이썬 내장함수\n",
    "- import 하지 않고 바로 사용 가능한 기본함수 (ex: print, int, sort...)\n",
    "- 키워드(if, while...etc)처럼 간주되므로, 식별자(변수명, 함수명, 클래스명)로 사용해선 안됨."
   ]
  },
  {
   "cell_type": "code",
   "execution_count": 3,
   "id": "a7d36e38",
   "metadata": {},
   "outputs": [],
   "source": [
    "a = 10"
   ]
  },
  {
   "cell_type": "code",
   "execution_count": 5,
   "id": "5a64f5e1",
   "metadata": {},
   "outputs": [
    {
     "data": {
      "text/plain": [
       "{'__name__': '__main__',\n",
       " '__doc__': 'Automatically created module for IPython interactive environment',\n",
       " '__package__': None,\n",
       " '__loader__': None,\n",
       " '__spec__': None,\n",
       " '__builtin__': <module 'builtins' (built-in)>,\n",
       " '__builtins__': <module 'builtins' (built-in)>,\n",
       " '_ih': ['',\n",
       "  'globals() # 전역변수 리스트',\n",
       "  'a = 1-',\n",
       "  'a = 10',\n",
       "  'globals() # 전역변수 리스트',\n",
       "  'globals() # 전역변수 리스트 # 리스트 보면, a=10이 들어가있음'],\n",
       " '_oh': {1: {...}, 4: {...}},\n",
       " '_dh': [WindowsPath('C:/Ai/Source/01_python')],\n",
       " 'In': ['',\n",
       "  'globals() # 전역변수 리스트',\n",
       "  'a = 1-',\n",
       "  'a = 10',\n",
       "  'globals() # 전역변수 리스트',\n",
       "  'globals() # 전역변수 리스트 # 리스트 보면, a=10이 들어가있음'],\n",
       " 'Out': {1: {...}, 4: {...}},\n",
       " 'get_ipython': <bound method InteractiveShell.get_ipython of <ipykernel.zmqshell.ZMQInteractiveShell object at 0x0000014167CA3730>>,\n",
       " 'exit': <IPython.core.autocall.ZMQExitAutocall at 0x14167cafee0>,\n",
       " 'quit': <IPython.core.autocall.ZMQExitAutocall at 0x14167cafee0>,\n",
       " 'open': <function io.open(file, mode='r', buffering=-1, encoding=None, errors=None, newline=None, closefd=True, opener=None)>,\n",
       " '_': {...},\n",
       " '__': {...},\n",
       " '___': '',\n",
       " '_i': 'globals() # 전역변수 리스트',\n",
       " '_ii': 'a = 10',\n",
       " '_iii': 'a = 1-',\n",
       " '_i1': 'globals() # 전역변수 리스트',\n",
       " '_1': {...},\n",
       " '_i2': 'a = 1-',\n",
       " '_i3': 'a = 10',\n",
       " 'a': 10,\n",
       " '_i4': 'globals() # 전역변수 리스트',\n",
       " '_4': {...},\n",
       " '_i5': 'globals() # 전역변수 리스트 # 리스트 보면, a=10이 들어가있음'}"
      ]
     },
     "execution_count": 5,
     "metadata": {},
     "output_type": "execute_result"
    }
   ],
   "source": [
    "globals() # 전역변수 리스트 # 리스트 보면, a=10이 들어가있음"
   ]
  },
  {
   "cell_type": "code",
   "execution_count": 7,
   "id": "08e56cd3",
   "metadata": {},
   "outputs": [
    {
     "data": {
      "text/plain": [
       "False"
      ]
     },
     "execution_count": 7,
     "metadata": {},
     "output_type": "execute_result"
    }
   ],
   "source": [
    "all([True, True, True, True, False]) # 모든 요소가 다 True인지 여부를 반환"
   ]
  },
  {
   "cell_type": "markdown",
   "id": "86dd70c7",
   "metadata": {},
   "source": [
    "# 6절. 연습문제"
   ]
  },
  {
   "cell_type": "markdown",
   "id": "dafd1a21",
   "metadata": {},
   "source": [
    "## 실습형"
   ]
  },
  {
   "cell_type": "code",
   "execution_count": 134,
   "id": "bf53b574",
   "metadata": {},
   "outputs": [
    {
     "data": {
      "text/plain": [
       "(1, 10)"
      ]
     },
     "execution_count": 134,
     "metadata": {},
     "output_type": "execute_result"
    }
   ],
   "source": [
    "# 실습형 1: 함수의인자로 리스트를 받은 후 리스트 내에 있는 모든 정수값에 대한 최대값과 최소값을 리턴하는 함수를 작성하세요\n",
    "get_max_min = lambda lst: (min([i for i in lst if type(i) == int and i >= 0]), max([i for i in lst if type(i) == int and i >= 0]))\n",
    "# int는 음수도 포함하는 정수 전체를 포함 > int만 하면 안됨.\n",
    "# for 문 = lst의 각 i를 꺼내서 i라는 객체 그대로 []리스트에 넣기 위해 쓰겠다”는 명령 > 리스트 안의 객체들(i) 중 int인 것들만 뽑아 > min과 ma\n",
    "get_max_min([1,4,5,6.2,-7,6,10])"
   ]
  },
  {
   "cell_type": "code",
   "execution_count": 179,
   "id": "b5035be0",
   "metadata": {},
   "outputs": [
    {
     "data": {
      "text/plain": [
       "'마른체형'"
      ]
     },
     "execution_count": 179,
     "metadata": {},
     "output_type": "execute_result"
    }
   ],
   "source": [
    "# 실습형 2:체질량 지수(Body Mass Index, BMI)는 체중과 키를 이용해 비만도를 나타내는 지수로 아래의 수식에 의해 계산됩니다.\n",
    "# 함수의 인자로 체중(kg)과 신장(m)를입력받은 후 BMI값에 따라 ‘마른 체형‘, ‘표준‘, ‘비만‘, ‘고도비만‘ 중 하나의 상태를 출력하는 함수를 구현해 보세요.\n",
    "# •getBMI(kg, m):\n",
    "# •BMI지수 = 체중(kg) / 신장(m)의 제곱\n",
    "# •BMI<18.5 : 마른체형\n",
    "# •18.5<=BMI<25 : 표준\n",
    "# •25<=BMI<30 : 비만\n",
    "# •BMI >=30 : 고도비만\n",
    "# cm형으로 바꿔봄\n",
    "getBMI = lambda kg, cm : (\n",
    "                         (lambda bmi : \"마른체형\" if bmi < 18.5 else\n",
    "                                       \"표준\" if bmi < 25 else\n",
    "                                       \"비만\" if bmi < 30 else\n",
    "                                       \"고도비만\")\n",
    "                                       (kg / ((cm ** 2)/100)))\n",
    "getBMI(40, 172)\n",
    "\n"
   ]
  },
  {
   "cell_type": "code",
   "execution_count": 122,
   "id": "0b44793e",
   "metadata": {},
   "outputs": [
    {
     "data": {
      "text/plain": [
       "{'넓이': 6.0, '둘레': 12.0}"
      ]
     },
     "execution_count": 122,
     "metadata": {},
     "output_type": "execute_result"
    }
   ],
   "source": [
    "# 실습형 3: 직각 삼각형 w, h로 넓이(area)와 둘레(perimeter)를 반환하는 함수를 만들어라.\n",
    "import math #수학 공식 왠만한 건 다 있음\n",
    "def get_triangle(w, h):\n",
    "    area = w * h * 0.5\n",
    "    # math.sqrt() : 제곱근\n",
    "    perimeter = w + h + math.sqrt(w*w + h*h)\n",
    "    return {'넓이':area, '둘레':perimeter}\n",
    "get_triangle(3, 4)"
   ]
  },
  {
   "cell_type": "code",
   "execution_count": 58,
   "id": "9daa6b27",
   "metadata": {},
   "outputs": [
    {
     "data": {
      "text/plain": [
       "14"
      ]
     },
     "execution_count": 58,
     "metadata": {},
     "output_type": "execute_result"
    }
   ],
   "source": [
    "# 실습형 4: 함수의 인자로 시작과 끝 숫자가 주어질 때 시작부터 끝까지의 모든 정수값의 합을 리턴하는 함수를 작성하세요(시작값과 끝값 포함).\n",
    "def mysum(a, b):\n",
    "    return sum(range(a, b + 1)) #range(start, stop)은 start부터 시작하여 stop - 1까지의 정수들을 포함하는 범위를 생성\n",
    "    mysum = lambda a, b: sum(range(a, b + 1)) # **end + 1을 쓰는 이유 : 파이썬의 range() 함수가 끝 숫자 바로 전까지만 포함하기 때문\n",
    "mysum(2, 5)"
   ]
  },
  {
   "cell_type": "code",
   "execution_count": 76,
   "id": "22d39e22",
   "metadata": {},
   "outputs": [
    {
     "data": {
      "text/plain": [
       "3"
      ]
     },
     "execution_count": 76,
     "metadata": {},
     "output_type": "execute_result"
    }
   ],
   "source": [
    "# 실습형4의 자체연습 : 인자로 시작과 끝숫자가 주어질 때 더한 후 3을 빼고 2로 나눈 값을 정수로 리턴하는 함수 작성(시작값과 끝값 포함)\n",
    "mysum1 = lambda a, b : int(((sum(range(a, b + 1)))-3)/2)\n",
    "mysum1(4, 5)"
   ]
  },
  {
   "cell_type": "code",
   "execution_count": 87,
   "id": "bda1629a",
   "metadata": {},
   "outputs": [
    {
     "data": {
      "text/plain": [
       "False"
      ]
     },
     "execution_count": 87,
     "metadata": {},
     "output_type": "execute_result"
    }
   ],
   "source": [
    "# 실습형4의 자체연습2 : 인자로 시작과 끝숫자가 주어질 때, 모두 곱한 후 나눈 나머지 값이 0이면 True로 리턴하는 함수\n",
    "import math\n",
    "mysum2 = lambda a, b: math.prod(range(a, b + 1)) % 2 == 0 \n",
    "mysum2(2,0) #이렇게 되면 0이나 -1이 하나라도 들어간 객체는 False처리로 구분 가능"
   ]
  },
  {
   "cell_type": "code",
   "execution_count": 156,
   "id": "d2a3ece8",
   "metadata": {},
   "outputs": [
    {
     "data": {
      "text/plain": [
       "['Seo', 'Dae', 'Kwa', 'Jej']"
      ]
     },
     "execution_count": 156,
     "metadata": {},
     "output_type": "execute_result"
    }
   ],
   "source": [
    "# 실습형 5: 함수의인자로 문자열을 포함하는 리스트가 입력될 때 각 문자열의 첫 세글자로만 구성된 리스트를 리턴하는 함수와 람다식을 작성하세요\n",
    "# 예를 들어 함수의 입력으로 [‘Seoul’, ‘Daegu’, ‘Kwangju’, ‘Jeju’]가 입력될 때 함수의 리턴값은 [‘Seo’, ‘Dae’, ‘Kwa’,’Jej’]\n",
    "# def get_abbrs(lst):\n",
    "#     return [i[:3] for i in lst]\n",
    "get_abbrs = lambda lst: [i[:3] for i in lst]\n",
    "get_abbrs(['Seoul', 'Daegu', 'Kwangju', 'Jeju'])"
   ]
  },
  {
   "cell_type": "code",
   "execution_count": 56,
   "id": "cbc7d1bd",
   "metadata": {},
   "outputs": [
    {
     "data": {
      "text/plain": [
       "1024"
      ]
     },
     "execution_count": 56,
     "metadata": {},
     "output_type": "execute_result"
    }
   ],
   "source": [
    "# 실습형 6: 다음 코드를 람다 함수 형태로 수정할 때 알맞은 코드를 작성하시오\n",
    "# def f(x,y):\n",
    "#    return x ** y\n",
    "f = lambda x, y : x ** y #x를 y번 곱하라는 의미 = x 숫자가 y만큼 사용되어 곱셈이되면 됨.\n",
    "f(4,5) #4*4*4*4*4"
   ]
  },
  {
   "cell_type": "code",
   "execution_count": 173,
   "id": "085c920b",
   "metadata": {},
   "outputs": [
    {
     "data": {
      "text/plain": [
       "[1, 4, 9, 16, 25]"
      ]
     },
     "execution_count": 173,
     "metadata": {},
     "output_type": "execute_result"
    }
   ],
   "source": [
    "# 실습형 7: ex = [1,2,3,4,5]를 [1,4,9,16,25]의 결과를 얻을 수 있도록람다함수와 map()함수를 사용하여 구현과 리스트 컴프리헨션으로 구현하시오.\n",
    "\n",
    "# 실습형 7. 람다함수와 map함수 이용\n",
    "ex = [1,2,3,4,5]\n",
    "list(map(lambda x : x**2, ex))\n",
    "\n",
    "# 실습형 7. 리스트컴프리헨션 이용\n",
    "[x**2 for x in ex]"
   ]
  },
  {
   "cell_type": "code",
   "execution_count": 174,
   "id": "77ea5c62",
   "metadata": {},
   "outputs": [
    {
     "name": "stdout",
     "output_type": "stream",
     "text": [
      "1 2 3\n",
      "[1, 2, 3]\n"
     ]
    }
   ],
   "source": [
    "# 실습형 8 : 다음코드를 각각 실행하면 서로 다른 결과가 나온다. 이런 결과가 나오는 이유를 서술하시오\n",
    "\n",
    "\n",
    "# 실습형 8.\n",
    "a = [1,2,3]\n",
    "print(*a)\n",
    "print(a)\n",
    "answer = '''\n",
    "별표(asterisk, *)는 함수의 인자(argument)로 사용될 때,\n",
    "시퀀스형 자료형의 각각의 값(element)을 하나의 값(element)으로\n",
    "넣어주게 된다(언패킹)\n",
    "그러므로 print(*a)의 의미는 사실 print(a[0], a[1], a[2])으로\n",
    "나타나게 된다\n",
    "'''"
   ]
  },
  {
   "cell_type": "code",
   "execution_count": 175,
   "id": "f095f36d",
   "metadata": {},
   "outputs": [
    {
     "data": {
      "text/plain": [
       "'2019-9-6'"
      ]
     },
     "execution_count": 175,
     "metadata": {},
     "output_type": "execute_result"
    }
   ],
   "source": [
    "# 실습형 9 : 다음 코드의 실행 결과는?\n",
    "date_info = {'year':'2019', 'month':9, 'day':6}\n",
    "result = \"{year}-{month}-{day}\".format(**date_info)\n",
    "# result = \"{year}-{month}-{day}\".format(year='2019', month=9, day=6)\n",
    "# '2024-09-06을 원하면'\n",
    "# result = \"{year}-{month:02}-{day:02}\".format(**date_info)\n",
    "result"
   ]
  },
  {
   "cell_type": "code",
   "execution_count": 35,
   "id": "6ffd5f32",
   "metadata": {},
   "outputs": [
    {
     "name": "stdout",
     "output_type": "stream",
     "text": [
      "True\n"
     ]
    }
   ],
   "source": [
    "# 실습형 10 : n개의 벡터(리스트나 튜플, 셋등)들의 크기가 같은지 여부를 reutrn하는    **벡터는 리스트, 튜플, 셋 등의 길이를 가진 자료형을 의미\n",
    "# vector_size_check(*vector _var) 를 한 줄의 코드(리스트 컴프리헨션 이용)로 작성하시오.\n",
    "def vector_size_check(*vector_var): \n",
    "    # *는 **가변 인자(variable-length arguments)**를 의미해요.\n",
    "    #즉, 인자를 몇 개 넘기든 다 받아서 vector_var라는 이름으로 하나의 **튜플(tuple)**에 저장\n",
    "    return all(len(i) == len(vector_var[0]) for i in vector_var)\n",
    "    #vector_var의 요소를 하나씩 받아서 쓰겠다는 ' i '는 반복문의 루프변수\n",
    "    #for i in vector_var → 모든 벡터를 반복하면서\n",
    "    # len(i) → 루프변수의 길이\n",
    "    # len(vector_var[0]) → 첫 번째 벡터 '0'을 기준으로 스타트. 이후에 False가 하나라도 나오면 False됨.\n",
    "    # == → 비교해서 같으면 True, 다르면 False 값을 반환하는거라\n",
    "    # all(...) → 전부 True면 True 반환, 하나라도 False면 False 반환하는 함수\n",
    "    #**vector_var안의 모든 객체를 i라는 루프변수로 칭하고, i의 갯수(len)가 vector_var내 0번째 객체와 같은지. 전부 같으면 True반환하는 all로 묶기\n",
    "print(vector_size_check([1,2], {10,20}, {'name':'홍', 'aga':30}, (1,3), (1,55), (33,44))) #딕셔너리도 들어가진다.\n",
    "#len 이용, 갯수가 다 똑같으면 True 아니면 False반환으로 처리 > 중복값 반환 안하는 Set이용"
   ]
  },
  {
   "cell_type": "code",
   "execution_count": 52,
   "id": "da55b6ab",
   "metadata": {},
   "outputs": [
    {
     "name": "stdout",
     "output_type": "stream",
     "text": [
      "False\n",
      "False\n",
      "True\n"
     ]
    }
   ],
   "source": [
    "# 실습형10 연계연습\n",
    "print(vector_size_check({1,4},{5,5},{5,6})) #set집합은 중복을 허용하지 않기에, 1번째 값인 5,5는 갯수가 1, 나머지 값들은 2, 그래서 False\n",
    "print(vector_size_check([1,4],[2,5],[5,6,7])) #2번재 값의 개수가 3개이기 때문에 False\n",
    "# 실습형10 변형 생성 : 내부 값을 더한 값 비교 (sum 사용)\n",
    "def vector_size_check2(*vector_var):\n",
    "    return all(sum(i) == sum(vector_var[0]) for i in vector_var)\n",
    "print(vector_size_check2([2,2], (3,1)))"
   ]
  },
  {
   "cell_type": "code",
   "execution_count": 161,
   "id": "d0ef5df8",
   "metadata": {},
   "outputs": [
    {
     "data": {
      "text/plain": [
       "[10, 20, 30, 40]"
      ]
     },
     "execution_count": 161,
     "metadata": {},
     "output_type": "execute_result"
    }
   ],
   "source": [
    "# 실습형 11\n",
    "def scalar_vector_product(num, vector):\n",
    "    return [num*vec for vec in vector]\n",
    "scalar_vector_product(10, [1,2,3,4])"
   ]
  },
  {
   "cell_type": "markdown",
   "id": "d397a4d9",
   "metadata": {},
   "source": [
    "## 서술형"
   ]
  },
  {
   "cell_type": "code",
   "execution_count": 162,
   "id": "736923fb",
   "metadata": {},
   "outputs": [
    {
     "data": {
      "text/plain": [
       "[(4, 'a'), (3, 'b'), (2, 'c'), (1, 'd')]"
      ]
     },
     "execution_count": 162,
     "metadata": {},
     "output_type": "execute_result"
    }
   ],
   "source": [
    "# 서술형 1 (2)\n",
    "pairs = [(1, 'd'),(2, 'c'),(3,'b'),(4,'a')]\n",
    "pairs.sort(key=lambda pair : pair[1])\n",
    "pairs"
   ]
  },
  {
   "cell_type": "code",
   "execution_count": 164,
   "id": "8b0c2fe4",
   "metadata": {},
   "outputs": [
    {
     "name": "stdout",
     "output_type": "stream",
     "text": [
      "6(func함수에서 출력) 11(sub함수에서 출력) 6(func함수에서 출력) 12(sub함수에서 출력) "
     ]
    }
   ],
   "source": [
    "# 서술형 2. \n",
    "a = 10 # 전역변수\n",
    "def sub():\n",
    "    global a # 문제해결을 위한 코드\n",
    "    a += 1\n",
    "    print(a, end='(sub함수에서 출력) ')\n",
    "def func():\n",
    "    for i in range(2):\n",
    "        a = 5 # 지역변수\n",
    "        a += 1\n",
    "        print(a, end='(func함수에서 출력) ')\n",
    "        sub()\n",
    "func()\n",
    "answer ='''\n",
    "오류가 발생하는 라인 : 원래 3줄(a += 1부분)\n",
    "a = a+1 : a에 값을 할당하면 지역변수가 됨\n",
    "          지역변수 a+1를 계산할 수 없음\n",
    "문제해결을 위해 : 에러나는 줄 앞에 global a 선언 '''"
   ]
  },
  {
   "cell_type": "code",
   "execution_count": 165,
   "id": "400eb2d6",
   "metadata": {},
   "outputs": [
    {
     "name": "stdout",
     "output_type": "stream",
     "text": [
      "100\n"
     ]
    }
   ],
   "source": [
    "# 서술형 3. 실행결과\n",
    "var = 100\n",
    "def func(var): # 매개변수로 들어온 변수는 지역변수\n",
    "    var = 200  # 그러므로 var는 전역변수가 아니고 지역변수\n",
    "func(var)\n",
    "print(var)"
   ]
  },
  {
   "cell_type": "code",
   "execution_count": 166,
   "id": "46a8b3b3",
   "metadata": {},
   "outputs": [
    {
     "data": {
      "text/plain": [
       "5"
      ]
     },
     "execution_count": 166,
     "metadata": {},
     "output_type": "execute_result"
    }
   ],
   "source": [
    "# 서술형 4. 실행결과\n",
    "def my_func(func, *args):\n",
    "    return func(*args)\n",
    "import numpy as np\n",
    "my_func(np.add, 2, 3)"
   ]
  },
  {
   "cell_type": "code",
   "execution_count": 180,
   "id": "e4385c5b",
   "metadata": {},
   "outputs": [
    {
     "data": {
      "text/plain": [
       "5"
      ]
     },
     "execution_count": 180,
     "metadata": {},
     "output_type": "execute_result"
    }
   ],
   "source": [
    "import numpy as np #넘파이 함수에 대해\n",
    "np.add(2,3)"
   ]
  },
  {
   "cell_type": "code",
   "execution_count": 168,
   "id": "3ae0e7cc",
   "metadata": {},
   "outputs": [
    {
     "data": {
      "text/plain": [
       "9"
      ]
     },
     "execution_count": 168,
     "metadata": {},
     "output_type": "execute_result"
    }
   ],
   "source": [
    "# 서술형 5 실행결과\n",
    "def my_func(func, *args):\n",
    "    return func(*args)\n",
    "my_func(lambda a, b : a**b, 3, 2)  "
   ]
  },
  {
   "cell_type": "code",
   "execution_count": 169,
   "id": "55a6d46c",
   "metadata": {},
   "outputs": [],
   "source": [
    "# 서술형 6 (1) 함수의 오버로딩 불가"
   ]
  },
  {
   "cell_type": "code",
   "execution_count": 170,
   "id": "1aa24772",
   "metadata": {},
   "outputs": [
    {
     "name": "stdout",
     "output_type": "stream",
     "text": [
      "(1) [10]\n",
      "(2) [10, 20]\n",
      "(3) [30]\n"
     ]
    }
   ],
   "source": [
    "# 서술형 7 (4) func([], a=40) a는 순서인수라서 무조건 첫 매개변수는 a로\n",
    "list_ = []\n",
    "def func(a, L=None):\n",
    "    if L is None:\n",
    "        L = []\n",
    "    L.append(a)\n",
    "    return L\n",
    "print('(1)',func(10, list_))\n",
    "print('(2)',func(20, L=list_))\n",
    "print('(3)',func(a=30))"
   ]
  },
  {
   "cell_type": "code",
   "execution_count": 171,
   "id": "107ecaf9",
   "metadata": {},
   "outputs": [],
   "source": [
    "# 서술형 8. lambda"
   ]
  },
  {
   "cell_type": "code",
   "execution_count": null,
   "id": "c00aef3d",
   "metadata": {},
   "outputs": [],
   "source": []
  },
  {
   "cell_type": "code",
   "execution_count": null,
   "id": "4c6e7eed",
   "metadata": {},
   "outputs": [],
   "source": []
  },
  {
   "cell_type": "code",
   "execution_count": null,
   "id": "433027f9",
   "metadata": {},
   "outputs": [],
   "source": []
  },
  {
   "cell_type": "code",
   "execution_count": null,
   "id": "85eab2ea",
   "metadata": {},
   "outputs": [],
   "source": []
  },
  {
   "cell_type": "code",
   "execution_count": null,
   "id": "d8e90fa8",
   "metadata": {},
   "outputs": [],
   "source": []
  },
  {
   "cell_type": "code",
   "execution_count": null,
   "id": "eb5dc33a",
   "metadata": {},
   "outputs": [],
   "source": []
  },
  {
   "cell_type": "code",
   "execution_count": null,
   "id": "6a2323af",
   "metadata": {},
   "outputs": [],
   "source": []
  },
  {
   "cell_type": "code",
   "execution_count": null,
   "id": "8cd7c398",
   "metadata": {},
   "outputs": [],
   "source": []
  },
  {
   "cell_type": "code",
   "execution_count": null,
   "id": "75d5dcbe",
   "metadata": {},
   "outputs": [],
   "source": []
  },
  {
   "cell_type": "code",
   "execution_count": null,
   "id": "b600fd8c",
   "metadata": {},
   "outputs": [],
   "source": []
  },
  {
   "cell_type": "code",
   "execution_count": null,
   "id": "9a5cfdba",
   "metadata": {},
   "outputs": [],
   "source": []
  },
  {
   "cell_type": "code",
   "execution_count": null,
   "id": "58b85e45",
   "metadata": {},
   "outputs": [],
   "source": []
  },
  {
   "cell_type": "code",
   "execution_count": null,
   "id": "315252c3",
   "metadata": {},
   "outputs": [],
   "source": []
  },
  {
   "cell_type": "code",
   "execution_count": null,
   "id": "fbbb59e8",
   "metadata": {},
   "outputs": [],
   "source": []
  },
  {
   "cell_type": "code",
   "execution_count": null,
   "id": "eebbf5e1",
   "metadata": {},
   "outputs": [],
   "source": []
  },
  {
   "cell_type": "code",
   "execution_count": null,
   "id": "2cec0fef",
   "metadata": {},
   "outputs": [],
   "source": []
  },
  {
   "cell_type": "code",
   "execution_count": null,
   "id": "3447de1e",
   "metadata": {},
   "outputs": [],
   "source": []
  },
  {
   "cell_type": "code",
   "execution_count": null,
   "id": "89056220",
   "metadata": {},
   "outputs": [],
   "source": []
  }
 ],
 "metadata": {
  "kernelspec": {
   "display_name": "Python 3 (ipykernel)",
   "language": "python",
   "name": "python3"
  },
  "language_info": {
   "codemirror_mode": {
    "name": "ipython",
    "version": 3
   },
   "file_extension": ".py",
   "mimetype": "text/x-python",
   "name": "python",
   "nbconvert_exporter": "python",
   "pygments_lexer": "ipython3",
   "version": "3.10.9"
  },
  "toc": {
   "base_numbering": 1,
   "nav_menu": {},
   "number_sections": false,
   "sideBar": true,
   "skip_h1_title": false,
   "title_cell": "Table of Contents",
   "title_sidebar": "Contents",
   "toc_cell": false,
   "toc_position": {
    "height": "calc(100% - 180px)",
    "left": "10px",
    "top": "150px",
    "width": "222.6px"
   },
   "toc_section_display": true,
   "toc_window_display": true
  }
 },
 "nbformat": 4,
 "nbformat_minor": 5
}
