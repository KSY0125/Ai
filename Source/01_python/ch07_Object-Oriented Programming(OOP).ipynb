{
 "cells": [
  {
   "cell_type": "code",
   "execution_count": 1,
   "id": "eabc7f79",
   "metadata": {},
   "outputs": [
    {
     "data": {
      "text/html": [
       "\n",
       "<style>\n",
       "div.container{width:90% !important;}\n",
       "div.cell.code_cell.rendered{width:100%;}\n",
       "div.input_prompt{padding:0px;}\n",
       "div.CodeMirror {font-family:Consolas; font-size:12pt;}\n",
       "div.text_cell_render.rendered_html{font-size:12pt;}\n",
       "div.output {font-size:12pt; font-weight:bold;}\n",
       "div.input {font-family:Consolas; font-size:12pt;}\n",
       "div.prompt {min-width:100px;}\n",
       "div#toc-wrapper{padding-top:120px;}\n",
       "div.text_cell_render ul li{font-size:12pt;padding:5px;}\n",
       "table.dataframe{font-size:12px;}\n",
       "</style>\n"
      ],
      "text/plain": [
       "<IPython.core.display.HTML object>"
      ]
     },
     "metadata": {},
     "output_type": "display_data"
    }
   ],
   "source": [
    "from IPython.display import display, HTML\n",
    "display(HTML(\"\"\"\n",
    "<style>\n",
    "div.container{width:90% !important;}\n",
    "div.cell.code_cell.rendered{width:100%;}\n",
    "div.input_prompt{padding:0px;}\n",
    "div.CodeMirror {font-family:Consolas; font-size:12pt;}\n",
    "div.text_cell_render.rendered_html{font-size:12pt;}\n",
    "div.output {font-size:12pt; font-weight:bold;}\n",
    "div.input {font-family:Consolas; font-size:12pt;}\n",
    "div.prompt {min-width:100px;}\n",
    "div#toc-wrapper{padding-top:120px;}\n",
    "div.text_cell_render ul li{font-size:12pt;padding:5px;}\n",
    "table.dataframe{font-size:12px;}\n",
    "</style>\n",
    "\"\"\"))"
   ]
  },
  {
   "cell_type": "markdown",
   "id": "0c0ae062",
   "metadata": {},
   "source": [
    "<b><font size=\"6\" Color=\"red\">ch07. \"Object-Oriented Programming(OOP)\"</font></b>\n",
    "\n",
    "## ✅ OOP란?\n",
    "- **Object-Oriented Programming**: 객체 중심으로 프로그램을 구성하는 방법\n",
    "- 현실 세계를 모델링하기 쉬움 (객체 = 상태 + 행동)\n",
    "\n",
    "---\n",
    "\n",
    "## 🧩 OOP의 4대 특징\n",
    "\n",
    "1. **캡슐화 (Encapsulation)**\n",
    "    - 데이터(속성)와 기능(메서드)을 하나의 객체로 묶음\n",
    "    - 내부 구현을 외부로부터 숨김 (정보 은닉)\n",
    "    - 👉 예: `self.__name` (비공개 변수)\n",
    "\n",
    "2. **상속 (Inheritance)**\n",
    "    - 기존 클래스를 확장하여 새로운 클래스를 생성\n",
    "    - 코드 재사용성과 확장성 증가\n",
    "    - 👉 예:\n",
    "        ```python\n",
    "        class Animal:\n",
    "            pass\n",
    "\n",
    "        class Dog(Animal):\n",
    "            pass\n",
    "        ```\n",
    "\n",
    "3. **다형성 (Polymorphism)**\n",
    "    - 같은 메서드 이름이 클래스에 따라 다르게 동작\n",
    "    - 👉 예: `speak()` 메서드를 각 클래스가 다르게 구현 (오버라이딩)\n",
    "\n",
    "4. **추상화 (Abstraction)**\n",
    "    - 복잡한 내용을 숨기고 필요한 기능만 노출\n",
    "    - 인터페이스(또는 추상 클래스)로 동작 구조 정의\n",
    "    \n",
    "## OOP의 장점\n",
    "코드 재사용성 증가 (상속)\n",
    "\n",
    "유지보수 용이 (캡슐화)\n",
    "\n",
    "확장성 있는 구조 설계 가능 (다형성)\n",
    "\n",
    "현실 세계 모델링에 적합\n",
    "\n",
    "---\n",
    "\n",
    "## 🛠️ 기본 용어\n",
    "\n",
    "- **클래스 (Class)**: 객체를 만들기 위한 설계도\n",
    "- **객체 (Object)**: 클래스를 기반으로 생성된 실체\n",
    "- **속성 (Attribute)**: 객체의 상태 (변수)\n",
    "- **메서드 (Method)**: 객체의 동작 (함수)\n",
    "\n",
    "---\n",
    "\n",
    "## 🐍 Python 예제\n",
    "\n",
    "```python\n",
    "class Animal:\n",
    "    def speak(self):\n",
    "        print(\"동물이 소리를 냅니다.\")\n",
    "\n",
    "class Dog(Animal):\n",
    "    def speak(self):\n",
    "        print(\"멍멍!\")\n",
    "\n",
    "a = Animal()\n",
    "a.speak()  # 동물이 소리를 냅니다.\n",
    "\n",
    "d = Dog()\n",
    "d.speak()  # 멍멍!\n"
   ]
  },
  {
   "cell_type": "code",
   "execution_count": 4,
   "id": "a0b4c1bf",
   "metadata": {},
   "outputs": [],
   "source": [
    "a = 10\n",
    "a = True\n",
    "a = 'Hello world'\n",
    "# 이 경우, a의 주소에 가면 저것들이 다 들어있다."
   ]
  },
  {
   "cell_type": "code",
   "execution_count": 11,
   "id": "0a1400c9",
   "metadata": {},
   "outputs": [
    {
     "name": "stdout",
     "output_type": "stream",
     "text": [
      "홍길동 남자\n"
     ]
    }
   ],
   "source": [
    "person1 = {'name':'홍길동', 'gender':'남자', 'academy':'MBC'}\n",
    "person2 = {'name':'김길숙', 'gender':'여자', 'academy':'MBC'}\n",
    "print(person1['name'], person1['gender']) #호출"
   ]
  },
  {
   "cell_type": "code",
   "execution_count": 15,
   "id": "159ed645",
   "metadata": {},
   "outputs": [
    {
     "name": "stdout",
     "output_type": "stream",
     "text": [
      "{'name': '콩길똥', 'gender': '남자', 'academy': 'MBC'}\n"
     ]
    }
   ],
   "source": [
    "person1['name'] = \"콩길똥\" #객체의 value 수정\n",
    "print(person1)"
   ]
  },
  {
   "cell_type": "code",
   "execution_count": 22,
   "id": "1536eb24",
   "metadata": {},
   "outputs": [
    {
     "name": "stdout",
     "output_type": "stream",
     "text": [
      "MBC의 김길숙님은 여자입니다\n",
      "MBC의 홍길동님은 남자입니다\n"
     ]
    }
   ],
   "source": [
    "class Person:  #type이름이 Person인 것. 식별자변수처럼 특문/숫자 안됨. 대문자로 스타트해야됨.\n",
    "    academy = 'MBC' # 아래 함수와 별개로 되어있는 클래스 변수 #객체와 클래스는 전혀 다르다 #클래스는 변수를 이렇게 위에 쓴다.\n",
    "    def __init__(self, name, gender): #인스턴스 생성 시 자동으로 이게 생성됨. #self 는 객체 자신을 의미하고 맨 앞에 꼭 넣어줘야 함. 안 넣으면 에러남. #name과 gender는 인스턴스변수다.\n",
    "        self.name = name #인스턴스 변수를 초기화 > 이걸 꼭 해줘야 함 안 하면 안잡힘 > 3열의 매개변수 받아서 객체 내의 인스턴스 변수를 생성한 것.\n",
    "        self.gender = gender  #def부분이 객체인 것?\n",
    "    def print_info(self):\n",
    "        print(\"{}의 {}님은 {}입니다\".format(self.academy, self.name, self.gender))\n",
    "        #이렇듯, 클래스는 내가 타입을 만든다.          #self가 꼭 들어가야 함.\n",
    "p1 = Person(\"김길숙\", \"여자\") #이게 바로 객체변수(인스턴스) 생성  **academy 기본값을 줬으니 입력 무필요\n",
    "p1.print_info()\n",
    "p2 = Person(\"홍길동\", \"남자\")\n",
    "p2.print_info()"
   ]
  },
  {
   "cell_type": "code",
   "execution_count": 26,
   "id": "92f1b5e7",
   "metadata": {},
   "outputs": [
    {
     "name": "stdout",
     "output_type": "stream",
     "text": [
      "MBC의 심향숙님은 여자입니다\n"
     ]
    }
   ],
   "source": [
    "p1.name = \"심향숙\" #객체 value 수정 >>> p1만 바꿨으니 p2는 바뀌지 않는다. \n",
    "p1.print_info()"
   ]
  },
  {
   "cell_type": "code",
   "execution_count": 31,
   "id": "76ad0c3c",
   "metadata": {},
   "outputs": [
    {
     "name": "stdout",
     "output_type": "stream",
     "text": [
      "SBS의 홍길동님은 남자입니다\n",
      "MBC의 심향숙님은 여자입니다\n"
     ]
    }
   ],
   "source": [
    "p2.academy = 'SBS' #클래스의 고정 객체 value도 수정됨. \n",
    "p2.print_info()\n",
    "p1.print_info() # p2만 바꿨으니 p1은 바뀌지 않는다. > 연결을 끊어버리고 자기꺼를 냅둬버리는 성격 "
   ]
  },
  {
   "cell_type": "markdown",
   "id": "f4d60d03",
   "metadata": {},
   "source": [
    "# 1절. 객체와 클래스\n",
    "```\n",
    "class 클래스명 (상속 받을 클래스명):\n",
    "        \"독스트링\" > 함수 생성시와 똑같음\n",
    "        이 곳에 변수나 함수들을 선언\n",
    "```"
   ]
  },
  {
   "cell_type": "code",
   "execution_count": 33,
   "id": "3238ef6f",
   "metadata": {},
   "outputs": [
    {
     "data": {
      "text/plain": [
       "__main__.Person"
      ]
     },
     "execution_count": 33,
     "metadata": {},
     "output_type": "execute_result"
    }
   ],
   "source": [
    "class Person:\n",
    "    \"Person 클래스는 어쩌구 저쩌구 여러 줄 설명하는 독스트링\"\n",
    "    pass\n",
    "#     def __init__(self, name):\n",
    "#         pass            # pass는 디폴트 생성자 함수 > 생성자 함수 미생성 시에 생김.\n",
    "p1 = Person()\n",
    "type(p1)"
   ]
  },
  {
   "cell_type": "code",
   "execution_count": 37,
   "id": "7711d920",
   "metadata": {},
   "outputs": [
    {
     "name": "stdout",
     "output_type": "stream",
     "text": [
      "<__main__.Person object at 0x00000212A373A110>\n",
      "<__main__.Person object at 0x00000212A373A110>\n"
     ]
    }
   ],
   "source": [
    "print(p1) # > 이렇게 하면 주소만 나옴\n",
    "print(p1.__str__()) # 더블언더바__하고 Tab해서 나온 것들은 상속받은 것들이라 목록에 뜸. "
   ]
  },
  {
   "cell_type": "code",
   "execution_count": 41,
   "id": "cf17e0c9",
   "metadata": {},
   "outputs": [
    {
     "data": {
      "text/plain": [
       "True"
      ]
     },
     "execution_count": 41,
     "metadata": {},
     "output_type": "execute_result"
    }
   ],
   "source": [
    "isinstance(p1, Person) #객체가 클래스의 인스턴스라 True반환"
   ]
  },
  {
   "cell_type": "code",
   "execution_count": 42,
   "id": "fa7074dc",
   "metadata": {},
   "outputs": [
    {
     "data": {
      "text/plain": [
       "'Person 클래스는 어쩌구 저쩌구 여러 줄 설명하는 독스트링'"
      ]
     },
     "execution_count": 42,
     "metadata": {},
     "output_type": "execute_result"
    }
   ],
   "source": [
    "p1.__doc__ #독스트링을 불러옴"
   ]
  },
  {
   "cell_type": "markdown",
   "id": "ef538811",
   "metadata": {},
   "source": [
    "# 2절. 생성자(`__init__()`)와 소멸자(`__del__()`)\n",
    "- 생성자 : `__init__`(self, [매개변수1, 매개변수2..]) - 객체가 생성될 때 자동 실행\n",
    "        객체 생성 시, 필요한 코드(인스턴스 변수 생성과 초기화)를 포함한다.\n",
    "- 소멸자 : `__del__`(self) - 객체가 소멸될 때 자동 실행 __오굵은글씨__\n",
    "        객체 소멸 시, 필요한 코드를 포함\n",
    "        인스턴스(객체)의 레퍼런스 카운트가 0이 될 때 실행"
   ]
  },
  {
   "cell_type": "code",
   "execution_count": 41,
   "id": "2566a160",
   "metadata": {},
   "outputs": [],
   "source": [
    "class Person:\n",
    "    def __init__(self, name, gender):\n",
    "        self.name = name #self.name = 내 객체의 네임 = 인스턴스 변수\n",
    "        self.gender = gender ##생성자 함수에 언급되지 못한 아이는 인스턴스변수에 못 들어옴\n",
    "        print(\"Person형 객체 생성\")\n",
    "    def __del__(self):\n",
    "        print(\"Person형 객체 소멸\")  #2열부터 7열 라인은 내가 인위적으로 호출할 일이 없음. 자동적으로 생성되는 것들.\n",
    "    def print_info(self):\n",
    "        print(\"{}님은 {}입니다\".format(self.name, self.gender))\n",
    "    def __str__(self): #오버라이딩(함수의 재정의) > 상속받은 게 마음에 안들어서 다시 정의하는 것\n",
    "        return \"{}님은 {}입니다\".format(self.name, self.gender)"
   ]
  },
  {
   "cell_type": "code",
   "execution_count": 42,
   "id": "4ae3affa",
   "metadata": {},
   "outputs": [
    {
     "name": "stdout",
     "output_type": "stream",
     "text": [
      "Person형 객체 생성\n"
     ]
    }
   ],
   "source": [
    "p1 = Person(\"신사임당\", \"여자\") #이걸 두 번 실행 시, p1에 Person을 할당했기에 p1이 생성됐다가 소멸되서 소멸 반환되는것."
   ]
  },
  {
   "cell_type": "code",
   "execution_count": 43,
   "id": "45caae9e",
   "metadata": {},
   "outputs": [
    {
     "name": "stdout",
     "output_type": "stream",
     "text": [
      "신사임당님은 여자입니다\n"
     ]
    },
    {
     "data": {
      "text/plain": [
       "'신사임당'"
      ]
     },
     "execution_count": 43,
     "metadata": {},
     "output_type": "execute_result"
    }
   ],
   "source": [
    "p1.print_info() #객체 호출 시, info사용하면 없어 보이는 짓임. 하지말자\n",
    "p1.name"
   ]
  },
  {
   "cell_type": "code",
   "execution_count": 44,
   "id": "a8092f0f",
   "metadata": {},
   "outputs": [
    {
     "name": "stdout",
     "output_type": "stream",
     "text": [
      "신사임당님은 여자입니다\n",
      "신사임당님은 여자입니다\n"
     ]
    }
   ],
   "source": [
    "print(p1)\n",
    "print(p1.__str__()) #10~11열을 추가했기에, 이 값이 반환되는 것."
   ]
  },
  {
   "cell_type": "code",
   "execution_count": 45,
   "id": "eb4676ad",
   "metadata": {},
   "outputs": [
    {
     "data": {
      "text/plain": [
       "(__main__.Person, True)"
      ]
     },
     "execution_count": 45,
     "metadata": {},
     "output_type": "execute_result"
    }
   ],
   "source": [
    "type(p1), isinstance(p1, Person) #타입 다이렉트로 물어볼 때, 트루냐고 물어볼 때"
   ]
  },
  {
   "cell_type": "code",
   "execution_count": 46,
   "id": "a3439e1d",
   "metadata": {},
   "outputs": [
    {
     "name": "stdout",
     "output_type": "stream",
     "text": [
      "Person형 객체 소멸\n"
     ]
    }
   ],
   "source": [
    "del p1"
   ]
  },
  {
   "cell_type": "code",
   "execution_count": 47,
   "id": "8fa819c6",
   "metadata": {},
   "outputs": [
    {
     "name": "stdout",
     "output_type": "stream",
     "text": [
      "Person형 객체 생성\n"
     ]
    }
   ],
   "source": [
    "p2 = Person(\"홍길동\", \"남자\")"
   ]
  },
  {
   "cell_type": "code",
   "execution_count": 48,
   "id": "b418d6df",
   "metadata": {},
   "outputs": [],
   "source": [
    "p3 = p2"
   ]
  },
  {
   "cell_type": "code",
   "execution_count": 49,
   "id": "2245ae59",
   "metadata": {},
   "outputs": [],
   "source": [
    "del p2"
   ]
  },
  {
   "cell_type": "code",
   "execution_count": 50,
   "id": "09fec290",
   "metadata": {},
   "outputs": [
    {
     "name": "stdout",
     "output_type": "stream",
     "text": [
      "Person형 객체 소멸\n"
     ]
    }
   ],
   "source": [
    "del p3 #완전히 비워야 소멸이 된다. = 레퍼런스 카운트가 0이 된 것."
   ]
  },
  {
   "cell_type": "markdown",
   "id": "460927c3",
   "metadata": {},
   "source": [
    "- **오버라이딩**(함수의 재정의)\n",
    "- **오버로딩**(함수의 중복정의) 덮어씌움\n",
    "- 생성자함수도 함수지만, **오버로딩** 절대불가"
   ]
  },
  {
   "cell_type": "code",
   "execution_count": 6,
   "id": "f17f6187",
   "metadata": {},
   "outputs": [],
   "source": [
    "class Person:\n",
    "    def __init__(self, name, gender):\n",
    "        self.name = name #self.name = 내 객체의 네임 = 인스턴스 변수\n",
    "        self.gender = gender\n",
    "        print(\"Person형 객체 생성\")\n",
    "    def __init__(self, name):\n",
    "        self.name = name \n",
    "        self.gender = \"남자\" #안 쓰면 무조건 남자 >> 생성자 함수에 중복된거임 >> 하지만 생성자함수도 함수라 오버로딩 안됨. >\n",
    "    def __del__(self):\n",
    "        print(\"Person형 객체 소멸\")  #2열부터 7열 라인은 내가 인위적으로 호출할 일이 없음. 자동적으로 생성되는 것들.\n",
    "    def print_info(self):\n",
    "        print(\"{}님은 {}입니다\".format(self.name, self.gender))\n",
    "    def __str__(self): #오버라이딩(함수의 재정의) > 상속받은 게 마음에 안들어서 다시 정의하는 것\n",
    "        return \"{}님은 {}입니다\".format(self.name, self.gender)"
   ]
  },
  {
   "cell_type": "code",
   "execution_count": 16,
   "id": "82de1ef0",
   "metadata": {},
   "outputs": [
    {
     "name": "stdout",
     "output_type": "stream",
     "text": [
      "Person형 객체 생성\n",
      "Person형 객체 생성\n",
      "Person형 객체 생성\n",
      "홍길동님은 남자입니다\n",
      "홍길동님은 남자입니다\n",
      "강감찬님은 남자입니다\n"
     ]
    }
   ],
   "source": [
    "p1 = Person(name=\"홍길동\", gender=\"남자\")\n",
    "p2 = Person(gender=\"남자\", name=\"홍길동\")\n",
    "# p3 = Person(\"강감찬\") #생성자함수를 이따구로 만드니 ERROR 이로 인해 6~8열 추가됨 #그렇다고 6~8열이 옳은 건 아님 아래방식이 옳음\n",
    "p3 = Person(\"강감찬\") #6~8열 추가 후 젠더값 안 주니 남자라고 디폴트 나옴\n",
    "print(p1)\n",
    "print(p2)\n",
    "print(p3)"
   ]
  },
  {
   "cell_type": "code",
   "execution_count": 9,
   "id": "d090e2dc",
   "metadata": {},
   "outputs": [],
   "source": [
    "class Person:\n",
    "    def __init__(self, name, gender=\"남자\"): #젠더 안 치면 남자로 띄워 #name에 디폴트 '홍길동'주고 싶으면 그게 뒤로 와야함. 순서인수로 인해\n",
    "        self.name = name\n",
    "        self.gender = gender\n",
    "        print(\"Person형 객체 생성\")\n",
    "    def print_info(self):\n",
    "        print(\"{}님은 {}입니다\".format(self.name, self.gender))\n",
    "    def __str__(self): \n",
    "        return \"{}님은 {}입니다\".format(self.name, self.gender)"
   ]
  },
  {
   "cell_type": "code",
   "execution_count": 12,
   "id": "abb6a0f6",
   "metadata": {},
   "outputs": [
    {
     "name": "stdout",
     "output_type": "stream",
     "text": [
      "Person형 객체 생성\n",
      "강감찬님은 남자입니다\n"
     ]
    }
   ],
   "source": [
    "p3 = Person(\"강감찬\")\n",
    "print(p3) #기본값으로 남자를 줘서 남자라고 반환"
   ]
  },
  {
   "cell_type": "code",
   "execution_count": 22,
   "id": "9d82ccc8",
   "metadata": {},
   "outputs": [
    {
     "name": "stdout",
     "output_type": "stream",
     "text": [
      "Person형 객체 생성\n",
      "Person형 객체 생성\n",
      "Person형 객체 생성\n",
      "여자님은 김향숙입니다\n",
      "중성님은 남자입니다\n",
      "김여자님은 하이브리드입니다\n"
     ]
    }
   ],
   "source": [
    "p2 = Person(\"여자\", \"김향숙\") #꼭 이렇게 매개변수 순서대로 입력해야함. \n",
    "p4 = Person(\"중성\") #이름값에 중성이 들어가고, 젠더값 디폴트인 남자가 노출\n",
    "p5 = Person(gender=\"하이브리드\", name=\"김여자\") #순서 바꿀경우 직접 키값까지 적어서 호출\n",
    "print(p2) \n",
    "print(p4)\n",
    "print(p5)"
   ]
  },
  {
   "cell_type": "markdown",
   "id": "d0fa7df5",
   "metadata": {},
   "source": [
    "# 3절. 변수와 메서드(함수)\n",
    "- 인스턴스 변수 vs 클래스변수 스태틱변수(정적변수)\n",
    "- 인스턴스메서드(self) vs 클래스메서드(cls) vs static메서드() **스태틱메서드는 정적메서드라고 해석하진 않음"
   ]
  },
  {
   "cell_type": "code",
   "execution_count": 10,
   "id": "7ea38edf",
   "metadata": {},
   "outputs": [
    {
     "name": "stdout",
     "output_type": "stream",
     "text": [
      "MBC\n",
      "p1객체변수(인스턴스) = MBC의 홍길동님은 남자입니다\n",
      "p2객체변수(인스턴스) = MBC의 홍길동님은 남자입니다\n",
      "p1객체변수(인스턴스) = SBS의 홍길동님은 남자입니다\n",
      "p2객체변수(인스턴스) = 다른데의 홍길동님은 남자입니다\n"
     ]
    }
   ],
   "source": [
    "# 클래스 변수는 클래스 내부에 선언되며, 생성된 모든 인스턴스(객체)에 동일한 값을 가진다\n",
    "# 수정방법1 : 인스턴스(객체).클래스변수로 수정하면 해당 인스턴스(객체)만 반영\n",
    "# 수정방법2 : 클래스명.클래스변수로 수정하면 모든 인스턴스에 반영\n",
    "class Person: \n",
    "    academy = 'MBC' #클래스변수\n",
    "    def __init__(self, name=\"홍길동\", gender=\"남자\"): #생성자함수\n",
    "        self.name = name \n",
    "        self.gender = gender  \n",
    "    def __str__(self):\n",
    "        return \"{}의 {}님은 {}입니다\".format(self.academy, self.name, self.gender)\n",
    "print(Person.academy)\n",
    "# print(Person.name) 이건 에러남. 인스턴스 변수라서.\n",
    "p1 = Person()\n",
    "p2 = Person()\n",
    "print('p1객체변수(인스턴스) =', p1)\n",
    "print('p2객체변수(인스턴스) =', p2)\n",
    "p1.academy = \"SBS\" #p1의 아카데미값이 'SBS'로 바뀌었음. #2열 참조\n",
    "Person.academy = \"다른데\" #클래스변수를 바꾼거라, p1,p2등 모두 바뀜 #17-18열 연속실행 시 > 17열은 이미 따로 SBS를 만들어서 독립함 > 독립해서 살아있으면 클래스변수 바꿔도 적용X\n",
    "print('p1객체변수(인스턴스) =', p1)\n",
    "print('p2객체변수(인스턴스) =', p2)"
   ]
  },
  {
   "cell_type": "markdown",
   "id": "880c54b4",
   "metadata": {},
   "source": [
    "※ 인스턴스 메서드 vs 클래스 메서드 vs Static 메서드\n",
    "- 인스턴스 메서드 : 첫 번째 인자에 self를 꼭 명시 > 즉, 객체를 통해서만 호출할 수 있는 메서드 #꼭 self가아니어도 되지만, 관습적으로 다들 self를 씀\n",
    "- 클래스 메서드 : 메서드 위에 @classmethod를 꼭 명시. 첫 번째 인자에 clz(cls)를 명시\n",
    "- static 메서드 : 메서드 위에 @staticmethod를 명시. 디폴트 인자 없음"
   ]
  },
  {
   "cell_type": "code",
   "execution_count": 91,
   "id": "39cdae82",
   "metadata": {},
   "outputs": [],
   "source": [
    "class Player:\n",
    "    team = 'MU' #클래스 변수\n",
    "    def __init__(self, name=\"Wayne Rooney\", position=\"Forward\"):\n",
    "        self.name = name\n",
    "        self.position = position\n",
    "    def print_info(self): #인스턴스 메서드 : 반드시 객체변수.print_info()로 호출해야만 함.\n",
    "        print(\"일반(인스턴스)메서드 = from {}, {} is a {}\".format(self.team, self.name, self.position))\n",
    "    def change_info(self, name=\"Strange player\", position=\"Fake player\"):\n",
    "        self.name = name\n",
    "        self.position = position\n",
    "        print(\"일반(인스턴스)메서드를 통해 {}로 이름변경. {}로 포지션 변경\".format(self.name, self.position))\n",
    "    \n",
    "    @classmethod #꼭 바로 위에 써야 함.\n",
    "    def do_(clz): #clz=> Person의미. 클래스 변수를 이용한 로직 #인스턴스 메서드에서 self를 넣듯 여기에는 clz 작성\n",
    "        clz.team = 'Aresnal'\n",
    "        print(\"클래스 메서드에서 {}로 클래스변수 변경\".format(clz.team))\n",
    "    @classmethod #클래스메서드 마다 하나씩 붙혀야 함. #이게빠지면 일반 메서드로 인식 > 바로 아래 clz가 self처럼 인식됨.\n",
    "    def done_(clz, team): \n",
    "        clz.team = team\n",
    "        print(\"클래스 메서드에서 {}로 클래스변수 변경\".format(clz.team))\n",
    "    @staticmethod #얘도 이렇게 맨 위에 써줘야하고, 디폴트인자는 없음 #근데 스태틱메서드 진짜 안씀\n",
    "    def that_():\n",
    "        Player.position = \"Static Right back\"\n",
    "        print(\"static 메서드에서 {}로 클래스 변수 변경\".format(Player.position))"
   ]
  },
  {
   "cell_type": "code",
   "execution_count": 92,
   "id": "b1991988",
   "metadata": {},
   "outputs": [
    {
     "name": "stdout",
     "output_type": "stream",
     "text": [
      "일반(인스턴스)메서드 = from MU, Wayne Rooney is a Forward\n"
     ]
    }
   ],
   "source": [
    "p1 = Player()\n",
    "p1.print_info()"
   ]
  },
  {
   "cell_type": "code",
   "execution_count": 93,
   "id": "80ab3202",
   "metadata": {},
   "outputs": [
    {
     "name": "stdout",
     "output_type": "stream",
     "text": [
      "static 메서드에서 Static Right back로 클래스 변수 변경\n"
     ]
    }
   ],
   "source": [
    "Player.that_()"
   ]
  },
  {
   "cell_type": "code",
   "execution_count": 94,
   "id": "2fd387cd",
   "metadata": {},
   "outputs": [
    {
     "name": "stdout",
     "output_type": "stream",
     "text": [
      "일반(인스턴스)메서드를 통해 Strange player로 이름변경. Fake player로 포지션 변경\n",
      "일반(인스턴스)메서드 = from MU, Strange player is a Fake player\n"
     ]
    }
   ],
   "source": [
    "p1.change_info()\n",
    "p1.print_info()"
   ]
  },
  {
   "cell_type": "code",
   "execution_count": 95,
   "id": "a64d6ad0",
   "metadata": {},
   "outputs": [
    {
     "name": "stdout",
     "output_type": "stream",
     "text": [
      "일반(인스턴스)메서드 = from MU, Wayne Rooney is a Forward\n"
     ]
    }
   ],
   "source": [
    "p2 = Player()\n",
    "p2.print_info()"
   ]
  },
  {
   "cell_type": "code",
   "execution_count": 96,
   "id": "3584890c",
   "metadata": {},
   "outputs": [
    {
     "name": "stdout",
     "output_type": "stream",
     "text": [
      "클래스 메서드에서 Aresnal로 클래스변수 변경\n",
      "일반(인스턴스)메서드 = from Aresnal, Strange player is a Fake player\n",
      "일반(인스턴스)메서드 = from Aresnal, Wayne Rooney is a Forward\n"
     ]
    }
   ],
   "source": [
    "Player.do_()\n",
    "p1.print_info()\n",
    "p2.print_info()"
   ]
  },
  {
   "cell_type": "code",
   "execution_count": 97,
   "id": "d4dc198b",
   "metadata": {},
   "outputs": [
    {
     "name": "stdout",
     "output_type": "stream",
     "text": [
      "클래스 메서드에서 Liverpool로 클래스변수 변경\n",
      "일반(인스턴스)메서드 = from Liverpool, Strange player is a Fake player\n",
      "일반(인스턴스)메서드 = from Liverpool, Wayne Rooney is a Forward\n"
     ]
    }
   ],
   "source": [
    "Player.done_(\"Liverpool\")\n",
    "p1.print_info()\n",
    "p2.print_info()"
   ]
  },
  {
   "cell_type": "markdown",
   "id": "226f7aca",
   "metadata": {},
   "source": [
    "# 4절. 상속과 재정의\n",
    "- 상속을 '클래스 재사용'이라고도 함\n",
    "- 상속을 이용하면 부모클래스(=슈퍼클래스)의 모든 속성을 자식클래스(=서브클래스)로 물려줄 수 있음. >> 부모가 하는 게 없고 자식이 움직임.\n",
    "- 상속 시 init을 제외한 것들만 상속됨.\n",
    "    > 문법 형태 : class자식클래스명(부모클래스명):\n",
    "            ~~~함수 뭐시기 뭐시기~~~"
   ]
  },
  {
   "cell_type": "code",
   "execution_count": 105,
   "id": "8b70c317",
   "metadata": {},
   "outputs": [],
   "source": [
    "class Person:\n",
    "    def __init__(self, name, gender):\n",
    "        self.name = name # 인스턴스 변수 초기화\n",
    "        self.gender = gender \n",
    "        print(\"Person 객체 생성합니다(부모클래스)\")\n",
    "    def print_info(self):\n",
    "        print(self)\n",
    "    def __str__(self): # 오버라이딩(함수의 재정의)\n",
    "        return \"{}님은 {}입니다\".format(self.name, self.gender)"
   ]
  },
  {
   "cell_type": "code",
   "execution_count": 106,
   "id": "e1d0de3c",
   "metadata": {},
   "outputs": [],
   "source": [
    "# class Student(Person): #이렇게 했기에 Person에 있는 init을 제외한 함수들이 들어옴.\n",
    "#     def print_info(self):\n",
    "#         print(self)\n",
    "#     def __str__(self): # 오버라이딩(함수의 재정의)\n",
    "#         return \"{}님은 {}입니다\".format(self.name, self.gender)"
   ]
  },
  {
   "cell_type": "code",
   "execution_count": 112,
   "id": "7460a3ea",
   "metadata": {},
   "outputs": [],
   "source": [
    "class Student(Person): \n",
    "    def __init__(self, name, gender, major):\n",
    "        self.name = name\n",
    "        self.gender = gender\n",
    "        self.major = major\n",
    "        print(\"Student 객체를 생성합니다(자식클래스)\")\n",
    "    #재정의(override) : 부모클래스에서 정의한 함수를 자식클래스에 다시 정의\n",
    "    def __str__(self):\n",
    "        return \"{}님은 {}입니다. 전공은 {}입니다\".format(self.name,\n",
    "                                              self.gender,\n",
    "                                              self.major)"
   ]
  },
  {
   "cell_type": "code",
   "execution_count": 108,
   "id": "c0deaebd",
   "metadata": {},
   "outputs": [
    {
     "name": "stdout",
     "output_type": "stream",
     "text": [
      "Person 객체 생성합니다(부모클래스)\n",
      "홍길동님은 남자입니다\n",
      "True\n"
     ]
    }
   ],
   "source": [
    "p1 = Person(\"홍길동\", \"남자\")\n",
    "print(p1)\n",
    "print(isinstance(p1, Person))"
   ]
  },
  {
   "cell_type": "code",
   "execution_count": 110,
   "id": "fe152a69",
   "metadata": {},
   "outputs": [
    {
     "name": "stdout",
     "output_type": "stream",
     "text": [
      "Student 객체를 생성합니다(자식클래스)\n",
      "여자인 홍길숙님의 전공은 AI입니다\n"
     ]
    }
   ],
   "source": [
    "s1 = Student(\"홍길숙\", \"여자\", \"AI\") #상속받은 거 무시까고 진행됨??\n",
    "print(s1)"
   ]
  },
  {
   "cell_type": "code",
   "execution_count": 116,
   "id": "9b0f3dd8",
   "metadata": {},
   "outputs": [
    {
     "name": "stdout",
     "output_type": "stream",
     "text": [
      "여자인 홍길숙님의 전공은 AI입니다\n"
     ]
    }
   ],
   "source": [
    "s1.print_info() #105열에서 str을 쓰는데 student꺼를 썼다??"
   ]
  },
  {
   "cell_type": "code",
   "execution_count": 117,
   "id": "fc0ffadf",
   "metadata": {},
   "outputs": [
    {
     "name": "stdout",
     "output_type": "stream",
     "text": [
      "False\n",
      "True\n"
     ]
    }
   ],
   "source": [
    "print(isinstance(s1, Student))\n",
    "print(isinstance(s1, Person))"
   ]
  },
  {
   "cell_type": "markdown",
   "id": "c5bc6d78",
   "metadata": {},
   "source": [
    "### super() 이용\n",
    "- super() : \"부모클래스의\"를 의미함.\n",
    "- sub() : \"자식클래스의\"를 의미함."
   ]
  },
  {
   "cell_type": "code",
   "execution_count": 1,
   "id": "73283490",
   "metadata": {},
   "outputs": [],
   "source": [
    "class Person:\n",
    "    def __init__(self, name, gender):\n",
    "        self.name = name # 인스턴스 변수 초기화\n",
    "        self.gender = gender \n",
    "        print(\"Person 객체 생성합니다(부모클래스)\")\n",
    "    def print_info(self):\n",
    "        print(self)\n",
    "    def __str__(self): # 오버라이딩(함수의 재정의)\n",
    "        return \"{}님은 {}입니다.\".format(self.name, self.gender)\n",
    "class Student(Person): \n",
    "    def __init__(self, name, gender, major):\n",
    "        super().__init__(name, gender) #부모클래스의 양식 그대로 가져오고, 자식클래스의 거기에 메이저만 추가할게\n",
    "        self.major = major\n",
    "        print(\"Student 객체를 생성합니다(자식클래스)\")\n",
    "    #재정의(override) : 부모클래스에서 정의한 함수를 자식클래스에 다시 정의\n",
    "    def __str__(self):\n",
    "        return super().__str__() + \"전공은 {}입니다\".format(self.major) #부모클래스의 것을 그대로 불러오고, 자식클래스의 메이저만 추가할게"
   ]
  },
  {
   "cell_type": "code",
   "execution_count": 2,
   "id": "05ac8b2d",
   "metadata": {},
   "outputs": [
    {
     "name": "stdout",
     "output_type": "stream",
     "text": [
      "Person 객체 생성합니다(부모클래스)\n",
      "Student 객체를 생성합니다(자식클래스)\n",
      "아무개님은 여자입니다.전공은 AI입니다\n",
      "아무개님은 여자입니다.전공은 AI입니다\n"
     ]
    }
   ],
   "source": [
    "s2 = Student(\"아무개\", \"여자\", \"AI\")\n",
    "print(s2)\n",
    "s2.print_info()"
   ]
  },
  {
   "cell_type": "markdown",
   "id": "70efb736",
   "metadata": {},
   "source": [
    "### Static 변수(정적변수)\n",
    "  > 여러 객체들 사이에 데이터를 공유하고 싶을 때 사용\n",
    "- 클래스는 공유가 자유지만, 스태틱은 공유를 해야만 함. 위에서 p1.academy하면 p1의 academy는 클래스변수가 바뀐값을 가져간 것처럼\n",
    "- static 변수 : 앞에 under score 2개(`__`) 붙힘.\n",
    "    > **클래스명._클래스명__static변수명으로 참조**\n",
    "- 스태틱 변수는 클래스 내부에서만 접근하도록 하려는 용도\n",
    "- ex:) 사이트 로그인 시 다르게 보여지는 것들이 동적변수, 누가 로그인하던 똑같이 보여지는 것들이 정적변수"
   ]
  },
  {
   "cell_type": "code",
   "execution_count": 3,
   "id": "924c0190",
   "metadata": {},
   "outputs": [],
   "source": [
    "class Student(Person):\n",
    "    'name, gender에 major변수를 갖는 Student 타입. Student 객체가 몇 번 생성되어 있는지 공유'\n",
    "    __count = 0 #스태틱변수  count = 0 #클래스변수\n",
    "    def __init__(self, name, gender, major):\n",
    "        super().__init__(name, gender)\n",
    "        self.major = major\n",
    "        Student._Student__count += 1 # 객체가 생성될 때마다 __count 1 증가\n",
    "    def __del__(self):\n",
    "        Student._Student__count -= 1 # 객체가 소멸될 때마다 __count 1 감소\n",
    "    def __str__(self):\n",
    "        return super().__str__() + \", 전공은 {} - 객체 {} 생성\".format(self.major, Student._Student__count)\n",
    "    \n",
    "    @classmethod\n",
    "    def get_count(cls): # 클래스변수나 static변수를 이용하는 로직일 때 사용\n",
    "        return cls.__count # 깔끔한 버전 \n",
    "#기본안  return Student._Student__count"
   ]
  },
  {
   "cell_type": "code",
   "execution_count": 5,
   "id": "d437dc7b",
   "metadata": {},
   "outputs": [
    {
     "name": "stdout",
     "output_type": "stream",
     "text": [
      "Person 객체 생성합니다(부모클래스)\n",
      "홍길동님은 남자입니다., 전공은 컴공 - 객체 1 생성\n",
      "객체 갯수 : 1\n",
      "객체 갯수 : 1\n"
     ]
    }
   ],
   "source": [
    "s1 = Student(\"홍길동\", \"남자\", \"컴공\")\n",
    "print(s1)\n",
    "print(\"객체 갯수 :\", Student.get_count()) #클래스 메서드는 클래스명.클래스메서드() 추천\n",
    "print(\"객체 갯수 :\", s1.get_count()) "
   ]
  },
  {
   "cell_type": "code",
   "execution_count": 12,
   "id": "c611cee4",
   "metadata": {},
   "outputs": [
    {
     "name": "stdout",
     "output_type": "stream",
     "text": [
      "Person 객체 생성합니다(부모클래스)\n",
      "홍길순님은 여자입니다., 전공은 실음 - 객체 1 생성\n",
      "객체 갯수 : 1\n"
     ]
    }
   ],
   "source": [
    "s2 = Student(\"홍길순\", \"여자\", \"실음\")\n",
    "print(s2)\n",
    "print(\"객체 갯수 :\", Student.get_count()) "
   ]
  },
  {
   "cell_type": "code",
   "execution_count": 16,
   "id": "71812bae",
   "metadata": {},
   "outputs": [
    {
     "name": "stdout",
     "output_type": "stream",
     "text": [
      "Person 객체 생성합니다(부모클래스)\n",
      "홍길동님은 남자입니다., 전공은 컴공 - 객체 2 생성\n",
      "객체 갯수 : 2\n",
      "객체 갯수 : 2\n"
     ]
    }
   ],
   "source": [
    "s1 = Student(\"홍길동\", \"남자\", \"컴공\")\n",
    "print(s1)\n",
    "print(\"객체 갯수 :\", Student.get_count()) #클래스 메서드는 클래스명.클래스메서드() 추천\n",
    "print(\"객체 갯수 :\", s1.get_count()) "
   ]
  },
  {
   "cell_type": "code",
   "execution_count": 17,
   "id": "a8a85d7e",
   "metadata": {},
   "outputs": [],
   "source": [
    "del s1"
   ]
  },
  {
   "cell_type": "code",
   "execution_count": 18,
   "id": "f67c7d9d",
   "metadata": {},
   "outputs": [
    {
     "name": "stdout",
     "output_type": "stream",
     "text": [
      "객체 갯수 : 1\n"
     ]
    }
   ],
   "source": [
    "print(\"객체 갯수 :\", Student.get_count())"
   ]
  },
  {
   "cell_type": "markdown",
   "id": "9fd2a17b",
   "metadata": {},
   "source": [
    "# 5절. 연습문제"
   ]
  },
  {
   "cell_type": "code",
   "execution_count": 20,
   "id": "f9f9842e",
   "metadata": {},
   "outputs": [],
   "source": [
    "# 실습형 1 \n",
    "\n",
    "# 다음 조건을 만족하는 클래스를 작성하세요\n",
    "\n",
    "# 도형 ( 클래스와 삼각형 (Triangle) 클래스를 만들어야 합니다\n",
    "\n",
    "#     생성자를 통해 x, y 좌표를 초기화할 수 있습니다 . x, y 좌표의 기본값은 0, 0 입니다\n",
    "#     x, y 좌표를 이동시킬 수 있는 move 함수가 있습니다\n",
    "#     x, y 좌표값 정보를 문자열로 리턴하는 str __ 함수가 있습니다\n",
    "#     도형의 면적을 구하는 함수 calc_area 가 있습니다\n",
    "#     다만 도형 클래스의 calc_area 는 구현되어 있지 않아 호출하면 오류가 발생합니다\n",
    "#     파이썬은 추상메소드가 없음 추상메소드 역할을 구현\n",
    "\n",
    "#     정적메소드 staticmethod 를 하나 이상 구현합니다\n",
    "#     삼각형 ( 클래스는 도형 ( 클래스이다 관계가 성립해야 합니다\n",
    "#     생성자를 통해 , width, height, x, y 좌표를 초기화하고 x, y 좌표의 기본값은 0, 0 입니다\n",
    "#     삼각형의 면적을 구하는 메소드 calc_area 를 재정의합니다\n",
    "#     삼각형의 정보를 문자열로 반환하는 str __() 함수가 있습니다\n",
    "#     삼각형 객체가 몇 개가 만들어져 있는지 정보를 저장하는 클래스 변수를 추가하고 생성자에서\n",
    "#     객체를 만들 때마다 증가시키고 소멸자에서 객체를 소멸시킬 때마다 감소합니다"
   ]
  },
  {
   "cell_type": "code",
   "execution_count": 36,
   "id": "89a6c23f",
   "metadata": {},
   "outputs": [],
   "source": [
    "class Shape:\n",
    "    def __init__(self, x, y):\n",
    "        self.x = x\n",
    "        self.y = y\n",
    "        print(\"Shape 객체 생성(부모클래스)\")\n",
    "    def print_info(self):\n",
    "        print(self)\n",
    "    def move(self): #x축으로 얼마 move할지, y축으로 얼마 move할지 받아 move\n",
    "        self.x += x\n",
    "        self.y += y\n",
    "        return \"변경된 좌표는 {}, {}입니다\".format(self.x, self.y)\n",
    "    def __str__(self):\n",
    "        return \"입력하신 좌표는 {}, {}입니다\".format(self.x, self.y)        \n",
    "    def calc_area(self): #호출시 강제로 예외발생\n",
    "        raise Exception(\"예외메세지\") #exception은 기본 클래스다.\n",
    "    @staticmethod\n",
    "    def staticmethod_():\n",
    "        print('도형 클래스의 staticmethod 호출')"
   ]
  },
  {
   "cell_type": "code",
   "execution_count": 37,
   "id": "af78b61b",
   "metadata": {},
   "outputs": [
    {
     "ename": "TypeError",
     "evalue": "Shape.__init__() missing 2 required positional arguments: 'x' and 'y'",
     "output_type": "error",
     "traceback": [
      "\u001b[1;31m---------------------------------------------------------------------------\u001b[0m",
      "\u001b[1;31mTypeError\u001b[0m                                 Traceback (most recent call last)",
      "Cell \u001b[1;32mIn[37], line 1\u001b[0m\n\u001b[1;32m----> 1\u001b[0m sh1 \u001b[38;5;241m=\u001b[39m \u001b[43mShape\u001b[49m\u001b[43m(\u001b[49m\u001b[43m)\u001b[49m\n\u001b[0;32m      2\u001b[0m sh1\u001b[38;5;241m.\u001b[39mprint_info()\n",
      "\u001b[1;31mTypeError\u001b[0m: Shape.__init__() missing 2 required positional arguments: 'x' and 'y'"
     ]
    }
   ],
   "source": [
    "sh1 = Shape()\n",
    "sh1.print_info()"
   ]
  },
  {
   "cell_type": "code",
   "execution_count": null,
   "id": "1c041bb7",
   "metadata": {},
   "outputs": [],
   "source": []
  },
  {
   "cell_type": "code",
   "execution_count": null,
   "id": "cfb4443d",
   "metadata": {},
   "outputs": [],
   "source": []
  },
  {
   "cell_type": "code",
   "execution_count": null,
   "id": "314d725a",
   "metadata": {},
   "outputs": [],
   "source": []
  },
  {
   "cell_type": "code",
   "execution_count": null,
   "id": "3109d402",
   "metadata": {},
   "outputs": [],
   "source": []
  },
  {
   "cell_type": "code",
   "execution_count": null,
   "id": "e182d8f4",
   "metadata": {},
   "outputs": [],
   "source": []
  },
  {
   "cell_type": "code",
   "execution_count": null,
   "id": "83bfdb0b",
   "metadata": {},
   "outputs": [],
   "source": []
  },
  {
   "cell_type": "code",
   "execution_count": null,
   "id": "bed0c646",
   "metadata": {},
   "outputs": [],
   "source": []
  },
  {
   "cell_type": "code",
   "execution_count": null,
   "id": "a0d9200e",
   "metadata": {},
   "outputs": [],
   "source": []
  },
  {
   "cell_type": "code",
   "execution_count": null,
   "id": "5f829d9f",
   "metadata": {},
   "outputs": [],
   "source": []
  }
 ],
 "metadata": {
  "kernelspec": {
   "display_name": "Python 3 (ipykernel)",
   "language": "python",
   "name": "python3"
  },
  "language_info": {
   "codemirror_mode": {
    "name": "ipython",
    "version": 3
   },
   "file_extension": ".py",
   "mimetype": "text/x-python",
   "name": "python",
   "nbconvert_exporter": "python",
   "pygments_lexer": "ipython3",
   "version": "3.10.9"
  },
  "toc": {
   "base_numbering": 1,
   "nav_menu": {},
   "number_sections": false,
   "sideBar": true,
   "skip_h1_title": false,
   "title_cell": "Table of Contents",
   "title_sidebar": "Contents",
   "toc_cell": false,
   "toc_position": {
    "height": "calc(100% - 180px)",
    "left": "10px",
    "top": "150px",
    "width": "325px"
   },
   "toc_section_display": true,
   "toc_window_display": true
  }
 },
 "nbformat": 4,
 "nbformat_minor": 5
}
