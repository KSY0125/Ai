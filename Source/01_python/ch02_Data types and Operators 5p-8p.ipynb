{
 "cells": [
  {
   "cell_type": "code",
   "execution_count": 1,
   "id": "fc2b90e1",
   "metadata": {},
   "outputs": [
    {
     "data": {
      "text/html": [
       "\n",
       "<style>\n",
       "div.container{width:90% !important;}\n",
       "div.cell.code_cell.rendered{width:100%;}\n",
       "div.input_prompt{padding:0px;}\n",
       "div.CodeMirror {font-family:Consolas; font-size:12pt;}\n",
       "div.text_cell_render.rendered_html{font-size:12pt;}\n",
       "div.output {font-size:12pt; font-weight:bold;}\n",
       "div.input {font-family:Consolas; font-size:12pt;}\n",
       "div.prompt {min-width:100px;}\n",
       "div#toc-wrapper{padding-top:120px;}\n",
       "div.text_cell_render ul li{font-size:12pt;padding:5px;}\n",
       "table.dataframe{font-size:12px;}\n",
       "</style>\n"
      ],
      "text/plain": [
       "<IPython.core.display.HTML object>"
      ]
     },
     "metadata": {},
     "output_type": "display_data"
    }
   ],
   "source": [
    "from IPython.display import display, HTML\n",
    "display(HTML(\"\"\"\n",
    "<style>\n",
    "div.container{width:90% !important;}\n",
    "div.cell.code_cell.rendered{width:100%;}\n",
    "div.input_prompt{padding:0px;}\n",
    "div.CodeMirror {font-family:Consolas; font-size:12pt;}\n",
    "div.text_cell_render.rendered_html{font-size:12pt;}\n",
    "div.output {font-size:12pt; font-weight:bold;}\n",
    "div.input {font-family:Consolas; font-size:12pt;}\n",
    "div.prompt {min-width:100px;}\n",
    "div#toc-wrapper{padding-top:120px;}\n",
    "div.text_cell_render ul li{font-size:12pt;padding:5px;}\n",
    "table.dataframe{font-size:12px;}\n",
    "</style>\n",
    "\"\"\"))"
   ]
  },
  {
   "cell_type": "markdown",
   "id": "f2946e8e",
   "metadata": {},
   "source": [
    "<b><font size=\"6\" Color=\"red\">ch02. 자료형과 연산자 </font></b>\n",
    "\n",
    "# 5절. 연산자\n",
    "## 5.1 산술연산자 : +, -, *, /(결과 float), //(몫), %(나머지), **(제곱)"
   ]
  },
  {
   "cell_type": "code",
   "execution_count": 11,
   "id": "2bddbafc",
   "metadata": {},
   "outputs": [
    {
     "name": "stdout",
     "output_type": "stream",
     "text": [
      "10*5승 = 100000\n",
      "4/2(결과 실수) = 2.0\n",
      "5//2(몫) = 2\n",
      "5%2(나머지) = 1\n"
     ]
    }
   ],
   "source": [
    "print(\"10*5승 =\", 10**5)\n",
    "print(\"4/2(결과 실수) =\", 4/2)\n",
    "print(\"5//2(몫) =\", 5//2) #// = 정수 나눗셈 연산자. 즉, 5 // 2는 5를 2로 나눈 \"몫\"만 구하라. 2.5니까 소수점 제외한 2가 답\n",
    "print(\"5%2(나머지) =\", 5%2) #즉, 5 % 2는 5를 2로 나눈 뒤의 나머지를 구하라"
   ]
  },
  {
   "cell_type": "code",
   "execution_count": 14,
   "id": "39a7ac7d",
   "metadata": {},
   "outputs": [
    {
     "name": "stdout",
     "output_type": "stream",
     "text": [
      "4**2 = 16\n",
      "4**2 = 16.0\n"
     ]
    }
   ],
   "source": [
    "# 대부분 실수가 계산하는 데에 용량이 더 소모된다.\n",
    "# 정수끼리의 연산은 결과가 정수 (단 / (나머지)만 제외)\n",
    "# 정수와 실수, 실수와 실수끼리 연산 결과는 실수\n",
    "print(\"4**2 =\", 4**2) # **는 **거듭제곱(exponentiation)**을 의미. 4에 거듭제곱이니 4*4 = 16\n",
    "print(\"4**2 =\", 4**2.0)  "
   ]
  },
  {
   "cell_type": "code",
   "execution_count": 20,
   "id": "192d4e0f",
   "metadata": {},
   "outputs": [
    {
     "name": "stdout",
     "output_type": "stream",
     "text": [
      "정수를 입력하시오:4\n",
      "입력하신 수는 4, 2로 나눈 나머지는 0라서 짝수를 입력하셨습니다\n"
     ]
    }
   ],
   "source": [
    "# quiz1. 정수를 고객에게 입력 받아 짝수인지 홀수인지 여부를 출력하는 프로그램\n",
    "num = int(input(\"정수를 입력하시오:\"))\n",
    "result = num % 2 # 나머지결과값은 -1, 2 , 1 무조건 셋 중 하나\n",
    "if result:\n",
    "    temp = \"홀수\"\n",
    "else:\n",
    "    temp = \"짝수\"\n",
    "print(f\"입력하신 수는 {num}, 2로 나눈 나머지는 {result}라서 {temp}를 입력하셨습니다\") #format함수 앞에 f입력해도 됨"
   ]
  },
  {
   "cell_type": "code",
   "execution_count": 75,
   "id": "0bf73250",
   "metadata": {},
   "outputs": [
    {
     "name": "stdout",
     "output_type": "stream",
     "text": [
      "정수를 입력하시오:12\n",
      "5의 배수가 아닙니다\n"
     ]
    }
   ],
   "source": [
    "# quiz2. 정수를 입력받아 5의 배수인지 여부를 출력\n",
    "# if 문은 조건이 **참(=True)**일 때만 실행된다.\n",
    "# 0 → False 0 이외의 숫자(1, 2, -1 등) → True\n",
    "num = int(input(\"정수를 입력하시오:\")) \n",
    "if num%5:\n",
    "    print(\"5의 배수가 아닙니다\")\n",
    "else:\n",
    "    print(\"5의 배수입니다\")"
   ]
  },
  {
   "cell_type": "code",
   "execution_count": 73,
   "id": "6bec35a1",
   "metadata": {},
   "outputs": [
    {
     "name": "stdout",
     "output_type": "stream",
     "text": [
      "국어?99\n",
      "영어?100\n",
      "수학?100\n",
      "국어 :  99\t영어 : 100\t수학 : 100\n",
      "총점 : 299\t평균 :  99.7\n"
     ]
    }
   ],
   "source": [
    "# quiz3.국,영,수 점수를 입력 받아 다음셀에서 다음과 같이 출력하도록 구현\n",
    "kor = int(input(\"국어?\")) #변수 이름 길어도 좋으니 무조건 가독성\n",
    "eng = int(input(\"영어?\"))\n",
    "mat = int(input(\"수학?\"))\n",
    "sum = kor + eng + mat\n",
    "avg = sum / 3\n",
    "print(\"국어 : {:3d}\\t영어 : {:3d}\\t수학 : {:3d}\".format(kor, eng, mat))\n",
    "print(\"총점 : {:3d}\\t평균 : {:5.1f}\".format(sum, avg))  #100.0이 제일 큰 수니까 5수가 필요함 (.까지 수로 치니까) 5수에서 소수점은 1자리만이라서 5.1"
   ]
  },
  {
   "cell_type": "markdown",
   "id": "2b89b38d",
   "metadata": {},
   "source": [
    "## 5.2 할당연산자 : =, +=, -=, /=, *=, //=, %=\n",
    "오른쪽에 있는 것을 왼쪽에 넣겠다는 연산자.?\n",
    "경우1) a = b = 10  ***산술 연산자는 왼쪽부터 계산하는데, 할당 연산자는 오른쪽부터 계산한다\n",
    "파이썬에서는 a++이런 게 없다 << 오직 자바 같은 곳에서만. 이걸 하려면 a+=1이다. "
   ]
  },
  {
   "cell_type": "code",
   "execution_count": 85,
   "id": "e552467e",
   "metadata": {},
   "outputs": [
    {
     "name": "stdout",
     "output_type": "stream",
     "text": [
      "a = 15\n"
     ]
    }
   ],
   "source": [
    "a = 10\n",
    "a += 5 # a = a + 5와 동일\n",
    "print(f\"a = {a}\")\n",
    "\n",
    "#즉, 기존의 a 값(10)에 5를 더해서, 다시 a에 저장하는 거예요.\n",
    "# 👉 10 + 5 = 15, 그래서 a는 이제 15가 됨.\n",
    "#f 문자열은 a 변수의 값을 문자열 안에 넣어서 출력해 줌."
   ]
  },
  {
   "cell_type": "code",
   "execution_count": 84,
   "id": "3bbec9ab",
   "metadata": {},
   "outputs": [
    {
     "name": "stdout",
     "output_type": "stream",
     "text": [
      "5빼기 : 10\n",
      "10배 : 100\n",
      "5나눈 몫 : 20\n"
     ]
    }
   ],
   "source": [
    "a -= 5 # a = a - 5와 동일\n",
    "print(\"5빼기 :\", a) # 10\n",
    "a *= 10 # a = a*10\n",
    "print(\"10배 :\", a) #100\n",
    "a //= 5 # a = a//5\n",
    "print(\"5나눈 몫 :\", a)"
   ]
  },
  {
   "cell_type": "code",
   "execution_count": null,
   "id": "f1c12310",
   "metadata": {},
   "outputs": [],
   "source": [
    "a *= 5 # a = a * 5와 동일"
   ]
  },
  {
   "cell_type": "markdown",
   "id": "7e006f01",
   "metadata": {},
   "source": [
    "## 5.3 논리연산자 : &, and, |(or), or, not"
   ]
  },
  {
   "cell_type": "code",
   "execution_count": 98,
   "id": "16873b93",
   "metadata": {},
   "outputs": [
    {
     "name": "stdout",
     "output_type": "stream",
     "text": [
      "True\n",
      "False\n",
      "False\n",
      "0\n",
      "1100\n"
     ]
    }
   ],
   "source": [
    "# & : 논리연산자, 비트연산자(숫자가 2진수로 박혀서 들어감)\n",
    "print( (10>3) & (10>5) ) \n",
    "print( 10>3 & 10>5 ) #괄호 풀 경우, 파이썬만 유일하게 &을 먼저 계산함. 이 경우, &의 앞뒤가 숫자이기 때문에 비트연산을 한다.\n",
    "print( (10>3) & (2>5) ) #False가 조금이라도 껴있으면 False다. True끼리만 있는 답만이 True다.\n",
    "print( 12 & 1 ) #비트연산 1 1 0 0 (12)\n",
    "                  #       0 0 0 1 (1) 상아래로 나눠서 수직계산시 다 False다. 0은 false고 나머지는 true이기에, true만 남는 값이 없어서 False.\n",
    "print(\"{:4b}\".format(12))"
   ]
  },
  {
   "cell_type": "code",
   "execution_count": 97,
   "id": "936492d3",
   "metadata": {},
   "outputs": [
    {
     "name": "stdout",
     "output_type": "stream",
     "text": [
      "True\n",
      "False\n",
      "1\n",
      "0\n"
     ]
    }
   ],
   "source": [
    " # and : ONLY 논리연산자\n",
    "#처음부터 끝까지 다 연산한다. False로 판별되는 첫번째 항의 결과 반환 False가 오면 무조건 False\n",
    "#모든 항이 True면, 마지막항의 결과 반환\n",
    "print( (10>3) and (10>5) ) \n",
    "print( (1>3) and (10>5) ) \n",
    "print( 12 and 1 ) #1이 마지막 값이라 1을 출력??\n",
    "print( 0 and 1 ) #처음에 바로 False라서 False"
   ]
  },
  {
   "cell_type": "code",
   "execution_count": 101,
   "id": "46c63505",
   "metadata": {},
   "outputs": [
    {
     "name": "stdout",
     "output_type": "stream",
     "text": [
      "논리연산(연산자 앞뒤가 논리형일 때) : True\n",
      "비트연산(연산자 앞이나 뒤에 숫자일 때) : 3\n"
     ]
    }
   ],
   "source": [
    "# | : 논리연산, 비트연산. 앞뒤에 논리값이 있으면 논리연산. 앞뒤에 숫자값이 있으면 비트연산. 두 논제가 함께할 순 없다. ex: print( (10>3) & (10>5) ) \n",
    "result = True | False\n",
    "print('논리연산(연산자 앞뒤가 논리형일 때) :', result)\n",
    "result = False | 3 # 0000 (0)\n",
    "                #  | 0011 (3)\n",
    "print('비트연산(연산자 앞이나 뒤에 숫자일 때) :', result)"
   ]
  },
  {
   "cell_type": "code",
   "execution_count": 102,
   "id": "d01f8cff",
   "metadata": {},
   "outputs": [
    {
     "name": "stdout",
     "output_type": "stream",
     "text": [
      "[]\n",
      "Hong\n"
     ]
    }
   ],
   "source": [
    "# or : 논리연산. and연산처럼 True로 판ㅂ려되는 첫번째 항의 결과를 반환.\n",
    "       # 모든 항이 거짓이면 마지막항의 결과를 반환.\n",
    "print(False or 0 or '' or None or [])\n",
    "print(False or 0 or 'Hong' or None or [])"
   ]
  },
  {
   "cell_type": "code",
   "execution_count": 103,
   "id": "5654e9d6",
   "metadata": {},
   "outputs": [
    {
     "data": {
      "text/plain": [
       "False"
      ]
     },
     "execution_count": 103,
     "metadata": {},
     "output_type": "execute_result"
    }
   ],
   "source": [
    "not 10>5"
   ]
  },
  {
   "cell_type": "markdown",
   "id": "a5b92676",
   "metadata": {},
   "source": [
    "## 5.4 비교연산자 : >, >=, <, <=, ==(같다), !=(다르다)\n",
    "우선순위 낮은 연산자군"
   ]
  },
  {
   "cell_type": "code",
   "execution_count": 108,
   "id": "0d2f7b67",
   "metadata": {},
   "outputs": [
    {
     "name": "stdout",
     "output_type": "stream",
     "text": [
      "True\n",
      "False\n",
      "True\n",
      "True\n"
     ]
    }
   ],
   "source": [
    "# 비교연산자는 이항, 삼항, 사항... 즉 다항연산자.\n",
    "x = 95\n",
    "print( (90<=x) & (x<=100) )\n",
    "print( x>=90 & 100>=x ) # 괄호 안치면, &부터 계산해서 난리남\n",
    "print( 90 <= x <= 100 ) #이렇게 풀어서도 됨\n",
    "print( 90 <= x <= 100 > 10 ) #이렇게 복잡해도 됨"
   ]
  },
  {
   "cell_type": "code",
   "execution_count": 112,
   "id": "4fd485df",
   "metadata": {},
   "outputs": [
    {
     "name": "stdout",
     "output_type": "stream",
     "text": [
      "True\n",
      "False\n",
      "False\n"
     ]
    }
   ],
   "source": [
    "# 비교연산자의 우선순위가 비트연산자(|,&)의 우선순위보다 낮다\n",
    "print( (10>5) & (10>7) )\n",
    "print( 10>5 & 10>7 )\n",
    "# 0101(5) & 1010(10) 각개 계산 시 모두 다 False \n",
    "print( 10 > 0 > 7 )"
   ]
  },
  {
   "cell_type": "code",
   "execution_count": 116,
   "id": "8dbbcf7e",
   "metadata": {},
   "outputs": [
    {
     "name": "stdout",
     "output_type": "stream",
     "text": [
      "True\n",
      "True\n"
     ]
    }
   ],
   "source": [
    "address = '목동'\n",
    "age = 29\n",
    "print( (address==\"목동\") & (age<=30) )\n",
    "print( address==\"목동\" and age<=30 ) #괄호치기 싫으면 이렇게 하는데, 가독성 떨어져서 잘 안씀"
   ]
  },
  {
   "cell_type": "code",
   "execution_count": 120,
   "id": "fe3d3592",
   "metadata": {},
   "outputs": [
    {
     "name": "stdout",
     "output_type": "stream",
     "text": [
      "True\n",
      "False\n"
     ]
    }
   ],
   "source": [
    "# 문자는 ASCII 코드 순으로 비교 특수문자 < 숫자문자 < 대문자 < 소문자(abc순)\n",
    "print(\"scott\" < \"tiger\")\n",
    "print(\"김길동\" > \"홍길동\")"
   ]
  },
  {
   "cell_type": "markdown",
   "id": "0519c037",
   "metadata": {},
   "source": [
    "## 5.5 비트연산 : &, |, ^(XOR), ~(반대)"
   ]
  },
  {
   "cell_type": "code",
   "execution_count": null,
   "id": "dc3f5520",
   "metadata": {},
   "outputs": [],
   "source": []
  },
  {
   "cell_type": "code",
   "execution_count": null,
   "id": "99faf5b4",
   "metadata": {},
   "outputs": [],
   "source": []
  },
  {
   "cell_type": "code",
   "execution_count": null,
   "id": "59a301d8",
   "metadata": {},
   "outputs": [],
   "source": []
  }
 ],
 "metadata": {
  "kernelspec": {
   "display_name": "Python 3 (ipykernel)",
   "language": "python",
   "name": "python3"
  },
  "language_info": {
   "codemirror_mode": {
    "name": "ipython",
    "version": 3
   },
   "file_extension": ".py",
   "mimetype": "text/x-python",
   "name": "python",
   "nbconvert_exporter": "python",
   "pygments_lexer": "ipython3",
   "version": "3.10.9"
  },
  "toc": {
   "base_numbering": 1,
   "nav_menu": {},
   "number_sections": false,
   "sideBar": true,
   "skip_h1_title": false,
   "title_cell": "Table of Contents",
   "title_sidebar": "Contents",
   "toc_cell": false,
   "toc_position": {},
   "toc_section_display": true,
   "toc_window_display": false
  }
 },
 "nbformat": 4,
 "nbformat_minor": 5
}
