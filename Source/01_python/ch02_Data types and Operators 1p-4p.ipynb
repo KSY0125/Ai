{
 "cells": [
  {
   "cell_type": "code",
   "execution_count": 1,
   "id": "4be58481",
   "metadata": {},
   "outputs": [
    {
     "data": {
      "text/html": [
       "\n",
       "<style>\n",
       "div.container{width:90% !important;}\n",
       "div.cell.code_cell.rendered{width:100%;}\n",
       "div.input_prompt{padding:0px;}\n",
       "div.CodeMirror {font-family:Consolas; font-size:12pt;}\n",
       "div.text_cell_render.rendered_html{font-size:12pt;}\n",
       "div.output {font-size:12pt; font-weight:bold;}\n",
       "div.input {font-family:Consolas; font-size:12pt;}\n",
       "div.prompt {min-width:100px;}\n",
       "div#toc-wrapper{padding-top:120px;}\n",
       "div.text_cell_render ul li{font-size:12pt;padding:5px;}\n",
       "table.dataframe{font-size:12px;}\n",
       "</style>\n"
      ],
      "text/plain": [
       "<IPython.core.display.HTML object>"
      ]
     },
     "metadata": {},
     "output_type": "display_data"
    }
   ],
   "source": [
    "from IPython.display import display, HTML\n",
    "display(HTML(\"\"\"\n",
    "<style>\n",
    "div.container{width:90% !important;}\n",
    "div.cell.code_cell.rendered{width:100%;}\n",
    "div.input_prompt{padding:0px;}\n",
    "div.CodeMirror {font-family:Consolas; font-size:12pt;}\n",
    "div.text_cell_render.rendered_html{font-size:12pt;}\n",
    "div.output {font-size:12pt; font-weight:bold;}\n",
    "div.input {font-family:Consolas; font-size:12pt;}\n",
    "div.prompt {min-width:100px;}\n",
    "div#toc-wrapper{padding-top:120px;}\n",
    "div.text_cell_render ul li{font-size:12pt;padding:5px;}\n",
    "table.dataframe{font-size:12px;}\n",
    "</style>\n",
    "\"\"\"))"
   ]
  },
  {
   "cell_type": "markdown",
   "id": "12d25ea6",
   "metadata": {},
   "source": [
    "<b><font size=\"6\" Color=\"red\">ch02. 자료형과 연산자 </font></b>\n",
    "\n",
    "# 1절. 변수\n",
    "# 변수 : 프로그램 작업 처리를 위해 값을 저장할 수 있는 메모리 공간\n",
    "# 파이썬은 변수 선언을 위한 타입이 없고, 별도의 선언 과정이 없어서 그냥 할당하면 됨.\n",
    "#을 하나하면 큰 제목  #을 더 추가할수록 작아짐\n",
    "##오케이\n",
    "\n",
    "## 1.1 변수 할당\n",
    "- 할당연산자(=)를 이용해서 값을 할당하면 자료형(타입)이 셋팅됨.\n",
    "- 파이썬에서의 모든 변수는 객체로 저장됨. (객체=값과 함수가 같이 존재하는 것)\n",
    "- 파이썬의 모든 변수는 레퍼런스 변수 (객체 자체를 건들이기 때문)\n",
    "- 파이썬의 모든 변수는 각자의 주소가 있음.\n",
    "- is_Integer 함수는 정수판독기"
   ]
  },
  {
   "cell_type": "code",
   "execution_count": 21,
   "id": "054983c5",
   "metadata": {},
   "outputs": [
    {
     "name": "stdout",
     "output_type": "stream",
     "text": [
      "넓이 : 78.5\n"
     ]
    }
   ],
   "source": [
    "r = 5 \n",
    "area = 3.14 * r * r\n",
    "print('넓이 :', area)"
   ]
  },
  {
   "cell_type": "code",
   "execution_count": 25,
   "id": "db35418f",
   "metadata": {},
   "outputs": [
    {
     "name": "stdout",
     "output_type": "stream",
     "text": [
      "넓이 : 78.53981633974483\n"
     ]
    }
   ],
   "source": [
    "import numpy as np # numpy패키지를 np라는 이름으로 사용. pipy.org 여기에 배포되고 있는 패키지들\n",
    "area = np.pi * r * r\n",
    "print('넓이 :', area)"
   ]
  },
  {
   "cell_type": "code",
   "execution_count": 26,
   "id": "693d59b0",
   "metadata": {},
   "outputs": [],
   "source": [
    "# 이렇게 되서 area값이 바뀌어버렸음."
   ]
  },
  {
   "cell_type": "code",
   "execution_count": 28,
   "id": "58ef71a8",
   "metadata": {
    "scrolled": true
   },
   "outputs": [
    {
     "name": "stdout",
     "output_type": "stream",
     "text": [
      "area의 주소 : 2176498742224\n",
      "area의 타입 : <class 'float'>\n"
     ]
    }
   ],
   "source": [
    "print('area의 주소 :', id(area))\n",
    "print('area의 타입 :', type(area))"
   ]
  },
  {
   "cell_type": "code",
   "execution_count": 29,
   "id": "87ec352f",
   "metadata": {},
   "outputs": [
    {
     "data": {
      "text/plain": [
       "False"
      ]
     },
     "execution_count": 29,
     "metadata": {},
     "output_type": "execute_result"
    }
   ],
   "source": [
    "area.is_integer()"
   ]
  },
  {
   "cell_type": "code",
   "execution_count": 31,
   "id": "d61e7878",
   "metadata": {},
   "outputs": [
    {
     "name": "stdout",
     "output_type": "stream",
     "text": [
      "area의 주소 : 2176391250448\n",
      "area의 타입 : <class 'int'>\n"
     ]
    }
   ],
   "source": [
    "area = 10\n",
    "print('area의 주소 :', id(area))\n",
    "print('area의 타입 :', type(area))"
   ]
  },
  {
   "cell_type": "code",
   "execution_count": null,
   "id": "2dbfdf68",
   "metadata": {},
   "outputs": [],
   "source": [
    "#area 값을 바꿔서 기존 값을 버렸음. 메모리에 10넣고 함수 더해졌음. "
   ]
  },
  {
   "cell_type": "code",
   "execution_count": 2,
   "id": "8064e999",
   "metadata": {},
   "outputs": [
    {
     "name": "stdout",
     "output_type": "stream",
     "text": [
      "area의 주소 : 2994146879376\n",
      "area의 타입 : <class 'str'>\n"
     ]
    }
   ],
   "source": [
    "area = '파이썬'\n",
    "print('area의 주소 :', id(area))\n",
    "print('area의 타입 :', type(area))\n",
    "# id 는 뒷괄호안의 주소를 , type은 뒷 괄호안의 형태를, print는 뒷 괄호안의 것들을 나타내는 함수다"
   ]
  },
  {
   "cell_type": "code",
   "execution_count": 33,
   "id": "43d64804",
   "metadata": {},
   "outputs": [],
   "source": [
    "#area에는 for 쓰면 안되고, 다른 언어도 쓰면 안돼"
   ]
  },
  {
   "cell_type": "markdown",
   "id": "3f074c82",
   "metadata": {},
   "source": [
    "## 1.2 변수 이름 규칙\n",
    "- 문자로 시작 (숫자로 시작하면 안됨)\n",
    "- 문자(특수문자는 _ 외에는 불가), 숫자, _로 변수명 작성\n",
    "- 함수명은 변수명으로 가능하긴 하나, 최대한 피해라.아래 예시 다 안돼\n",
    "  str = 5   id = 2   int = 4  \n",
    "  꼭 써야 한다면, str_식으로 사용하라. \n",
    "- 파이썬 예약어(for, if, ...)는 변수명 사용 불가\n",
    "  for = 5 < 절대 사용금물\n",
    "- 한글 변수는 꼭 필요시에만 사용. 최대한 피해라.\n",
    "  이름 = \"홍길동\" \n",
    "  print(이름) < 이런것들 비추\n",
    "- 함수 오른쪽에 바로 . 붙히면 \"함수의 안에\"라는 의미"
   ]
  },
  {
   "cell_type": "code",
   "execution_count": null,
   "id": "66b95070",
   "metadata": {},
   "outputs": [],
   "source": [
    "print = 5 "
   ]
  },
  {
   "cell_type": "code",
   "execution_count": 4,
   "id": "309d785c",
   "metadata": {},
   "outputs": [
    {
     "name": "stdout",
     "output_type": "stream",
     "text": [
      "홍길동 홍길동\n"
     ]
    }
   ],
   "source": [
    "# member.name ='홍길동' < 불가능. 2번 방법이 파이썬 방법으로 제일 많이 쓰임. 3번은 자바나 C언어에서 많이 쓰임\n",
    "member_name = '홍길동'\n",
    "memberName = '홍길동'\n",
    "print(member_name, memberName)"
   ]
  },
  {
   "cell_type": "code",
   "execution_count": null,
   "id": "a0a07cae",
   "metadata": {},
   "outputs": [],
   "source": [
    "# 숫자 : 복소수, 정수, 실수 (소수점 있으면 실수, 없으면 정수 - 이 논리에는 음수도 적용)\n",
    "# 복소수 1+3i 를 친다하면 복소수는 i를 사용하지만, j를 사용함 그래서 파이썬에서는 1+3j 로 사용한다. 복소수가 뭐여... "
   ]
  },
  {
   "cell_type": "code",
   "execution_count": 5,
   "id": "798825cf",
   "metadata": {},
   "outputs": [
    {
     "name": "stdout",
     "output_type": "stream",
     "text": [
      "<class 'complex'>\n"
     ]
    }
   ],
   "source": [
    "i = 1 + 3j\n",
    "print(type(i))"
   ]
  },
  {
   "cell_type": "code",
   "execution_count": 7,
   "id": "735385bf",
   "metadata": {},
   "outputs": [
    {
     "data": {
      "text/plain": [
       "True"
      ]
     },
     "execution_count": 7,
     "metadata": {},
     "output_type": "execute_result"
    }
   ],
   "source": [
    "isinstance(i, complex) # i 변수가 complex 타입의 객체인지? 묻는 함수다. isInstance = 팩트체크"
   ]
  },
  {
   "cell_type": "code",
   "execution_count": 8,
   "id": "661472d2",
   "metadata": {},
   "outputs": [
    {
     "data": {
      "text/plain": [
       "False"
      ]
     },
     "execution_count": 8,
     "metadata": {},
     "output_type": "execute_result"
    }
   ],
   "source": [
    "isinstance(i, int)"
   ]
  },
  {
   "cell_type": "markdown",
   "id": "832a2e6d",
   "metadata": {},
   "source": [
    "# 1.3 다중 변수 선언"
   ]
  },
  {
   "cell_type": "code",
   "execution_count": 11,
   "id": "d42d3e67",
   "metadata": {},
   "outputs": [],
   "source": [
    "a = 10\n",
    "b = 20\n",
    "#위에 것은 다중변수 선언이 아님"
   ]
  },
  {
   "cell_type": "code",
   "execution_count": 15,
   "id": "b098882a",
   "metadata": {},
   "outputs": [
    {
     "name": "stdout",
     "output_type": "stream",
     "text": [
      "10 20\n"
     ]
    }
   ],
   "source": [
    "a, b = 10, 20\n",
    "print(a,b)\n",
    "#변수를 한 함수에서 부여했으므로 다중변수선언이다."
   ]
  },
  {
   "cell_type": "code",
   "execution_count": 25,
   "id": "70b05745",
   "metadata": {},
   "outputs": [
    {
     "name": "stdout",
     "output_type": "stream",
     "text": [
      "1440 2330\n"
     ]
    }
   ],
   "source": [
    "a,b=b,a+b\n",
    "print(a,b)\n",
    "#결과에서 알 수 있듯이, 앞에 값이 선계산이라는 건 존재하지 않는다. 동시에 각자로 부여되는 것.\n",
    "#즉, 다중 변수 할당 시, 순차적 할당이 아니고, 일괄 동시 할당이다. b가 a라고 해서 a값이 20이 되었지만, 뒷계산에 그게 적용되지 않는 것.\n",
    "#Shift+Enter를 치면 칠수록 셀이 계속 계산되는구나 !!"
   ]
  },
  {
   "cell_type": "markdown",
   "id": "501a816c",
   "metadata": {},
   "source": [
    "## 1.4 도움말\n",
    "help 함수를 사용하면 함수가 뭔지 알려준다. 다 읽고난 후 Q를 눌러주면 빠져나올 수 있다. ESC+O 토글도 괜츈\n",
    "근데 help함수는 잘 안씀"
   ]
  },
  {
   "cell_type": "code",
   "execution_count": 29,
   "id": "4eca79a6",
   "metadata": {
    "collapsed": true
   },
   "outputs": [
    {
     "name": "stdout",
     "output_type": "stream",
     "text": [
      "Help on built-in function print in module builtins:\n",
      "\n",
      "print(...)\n",
      "    print(value, ..., sep=' ', end='\\n', file=sys.stdout, flush=False)\n",
      "    \n",
      "    Prints the values to a stream, or to sys.stdout by default.\n",
      "    Optional keyword arguments:\n",
      "    file:  a file-like object (stream); defaults to the current sys.stdout.\n",
      "    sep:   string inserted between values, default a space.\n",
      "    end:   string appended after the last value, default a newline.\n",
      "    flush: whether to forcibly flush the stream.\n",
      "\n"
     ]
    }
   ],
   "source": [
    "help(print)"
   ]
  },
  {
   "cell_type": "code",
   "execution_count": 31,
   "id": "d87f30ac",
   "metadata": {},
   "outputs": [],
   "source": [
    "# 도움말 기능 : Shift + Tab 키\n",
    "# 함수값 다음 나올 괄호() < 여기서 괄호 맨앞에 커서 깜빡 거릴 때 커맨드\n",
    "# 이 방법에서 기존 함수는 안 나옴. 그건 help를 이용하도록."
   ]
  },
  {
   "cell_type": "code",
   "execution_count": 33,
   "id": "17130395",
   "metadata": {},
   "outputs": [],
   "source": [
    "# 아래과 같은 걸 매개변수라 부른다\n",
    "# dafault값을 0으로 주고 싶다면 첫줄에 y=0이라 덧붙히면 됨)\n",
    "def add(x,y=0):\n",
    "    '''\n",
    "    매개변수(x,y) 2개를 받아 두자리 숫자로 만드는 함수\n",
    "    x = 10의 자리수가 되고\n",
    "    y = 1의 자리수가 됨 (default값 0)\n",
    "    '''\n",
    "    return x*10+y"
   ]
  },
  {
   "cell_type": "code",
   "execution_count": 34,
   "id": "5d85b500",
   "metadata": {},
   "outputs": [
    {
     "data": {
      "text/plain": [
       "34"
      ]
     },
     "execution_count": 34,
     "metadata": {},
     "output_type": "execute_result"
    }
   ],
   "source": [
    "add(3,4)"
   ]
  },
  {
   "cell_type": "code",
   "execution_count": 35,
   "id": "3b304f9d",
   "metadata": {},
   "outputs": [
    {
     "data": {
      "text/plain": [
       "30"
      ]
     },
     "execution_count": 35,
     "metadata": {},
     "output_type": "execute_result"
    }
   ],
   "source": [
    "add(3)"
   ]
  },
  {
   "cell_type": "markdown",
   "id": "00f3d854",
   "metadata": {},
   "source": [
    "# 2절. 화면i/o"
   ]
  },
  {
   "cell_type": "code",
   "execution_count": 42,
   "id": "55e9ef39",
   "metadata": {},
   "outputs": [
    {
     "name": "stdout",
     "output_type": "stream",
     "text": [
      "아무거나\n",
      "아무거나\n"
     ]
    }
   ],
   "source": [
    "# input() : 사용자로부터 값을 입력받기 위한 함수. 입력값은 문자(str)로 받음. 따옴표 안에 꼭 받아야 함. 작은따, 큰따 상관 없음\n",
    "first = input()\n",
    "print(first)"
   ]
  },
  {
   "cell_type": "code",
   "execution_count": 43,
   "id": "e22cea8c",
   "metadata": {},
   "outputs": [
    {
     "name": "stdout",
     "output_type": "stream",
     "text": [
      "첫번째 숫자는?8\n",
      "두번째 숫자는?2\n"
     ]
    }
   ],
   "source": [
    "first = input('첫번째 숫자는?')\n",
    "second = input('두번째 숫자는?')"
   ]
  },
  {
   "cell_type": "code",
   "execution_count": 44,
   "id": "fe1b5d9c",
   "metadata": {},
   "outputs": [
    {
     "name": "stdout",
     "output_type": "stream",
     "text": [
      "8 2\n"
     ]
    }
   ],
   "source": [
    "print(first, second)"
   ]
  },
  {
   "cell_type": "code",
   "execution_count": 47,
   "id": "948d4cd1",
   "metadata": {},
   "outputs": [
    {
     "name": "stdout",
     "output_type": "stream",
     "text": [
      "두수의 합은 82\n"
     ]
    }
   ],
   "source": [
    "print('두수의 합은', first+second)\n",
    "#문자열만 받는다고 했기 때문에, 이런결과가 나옴"
   ]
  },
  {
   "cell_type": "code",
   "execution_count": 55,
   "id": "d956cffb",
   "metadata": {},
   "outputs": [
    {
     "name": "stdout",
     "output_type": "stream",
     "text": [
      "첫번째 숫자는?10\n",
      "두번째 숫자는?10\n"
     ]
    }
   ],
   "source": [
    "#int로 묶어서 수정처리\n",
    "first = int(input('첫번째 숫자는?'))\n",
    "second = int(input('두번째 숫자는?'))"
   ]
  },
  {
   "cell_type": "code",
   "execution_count": 56,
   "id": "96384a08",
   "metadata": {},
   "outputs": [
    {
     "name": "stdout",
     "output_type": "stream",
     "text": [
      "두수의 합은 20\n"
     ]
    }
   ],
   "source": [
    "print('두수의 합은', first+second)"
   ]
  },
  {
   "cell_type": "code",
   "execution_count": 57,
   "id": "1963f61c",
   "metadata": {},
   "outputs": [
    {
     "name": "stdout",
     "output_type": "stream",
     "text": [
      "first 10 second 10\n"
     ]
    }
   ],
   "source": [
    "print('first', first, 'second', second)"
   ]
  },
  {
   "cell_type": "code",
   "execution_count": 58,
   "id": "b6def194",
   "metadata": {},
   "outputs": [
    {
     "name": "stdout",
     "output_type": "stream",
     "text": [
      "first~10~second~10\n"
     ]
    }
   ],
   "source": [
    "print('first', first, 'second', second, sep='~') "
   ]
  },
  {
   "cell_type": "code",
   "execution_count": 59,
   "id": "3113cd9f",
   "metadata": {},
   "outputs": [
    {
     "name": "stdout",
     "output_type": "stream",
     "text": [
      "first\t10\tsecond\t10\n"
     ]
    }
   ],
   "source": [
    "print('first', first, 'second', second, sep='\\t') "
   ]
  },
  {
   "cell_type": "code",
   "execution_count": 60,
   "id": "ab55403f",
   "metadata": {},
   "outputs": [
    {
     "name": "stdout",
     "output_type": "stream",
     "text": [
      "first\n",
      "10\n",
      "second\n",
      "10\n"
     ]
    }
   ],
   "source": [
    "print('first', first, 'second', second, sep='\\n') "
   ]
  },
  {
   "cell_type": "code",
   "execution_count": 66,
   "id": "1a18291d",
   "metadata": {},
   "outputs": [
    {
     "name": "stdout",
     "output_type": "stream",
     "text": [
      "first - 10 - second - 10Hello Python\n"
     ]
    }
   ],
   "source": [
    "print('first', first, 'second', second, sep=' - ', end='')\n",
    "print('Hello', 'Python', sep=' ')"
   ]
  },
  {
   "cell_type": "code",
   "execution_count": 67,
   "id": "620d315a",
   "metadata": {},
   "outputs": [
    {
     "name": "stdout",
     "output_type": "stream",
     "text": [
      "first - 10 - second - 10\n",
      "Hello Python\n"
     ]
    }
   ],
   "source": [
    "print('first', first, 'second', second, sep=' - ', end='\\n')\n",
    "print('Hello', 'Python', sep=' ')"
   ]
  },
  {
   "cell_type": "code",
   "execution_count": 68,
   "id": "c27bda59",
   "metadata": {},
   "outputs": [
    {
     "name": "stdout",
     "output_type": "stream",
     "text": [
      "first - 10 - second - 10\tHello Python\n"
     ]
    }
   ],
   "source": [
    "print('first', first, 'second', second, sep=' - ', end='\\t')\n",
    "print('Hello', 'Python', sep=' ')"
   ]
  },
  {
   "cell_type": "markdown",
   "id": "d35deb16",
   "metadata": {},
   "source": [
    "# 3절 기본 자료형\n",
    "- 변수가 가져야 할 값의 형식 (자료형에 따라 갑의 크기와 저장 방식이 달라짐)\n",
    "- 자료형에 따라 수행할 수 있는 명령어들이 달라짐 \n",
    "    - `숫자` : int, float(소수점. ex: = 4.0 (정수로 칠 수 있지만 쩜이 있기 때문에 무조건 소수임), complex(허수부 j) \n",
    "    - `문자` : str('',\"\")\n",
    "    - `논리` : bool(True/False)\n",
    "- 컴퓨터는 2진수로 구성되기에, 0과 1로 숫자를 저장한다. 4 = 0100\n",
    "\n",
    "## 3.1 숫자형"
   ]
  },
  {
   "cell_type": "code",
   "execution_count": 69,
   "id": "3c7835fd",
   "metadata": {},
   "outputs": [
    {
     "name": "stdout",
     "output_type": "stream",
     "text": [
      "9223372036854775807\n"
     ]
    }
   ],
   "source": [
    "import sys\n",
    "print(sys.maxsize) # 정수의 최대값 : 2**63 - 1 (2에 63승 빼기 1)"
   ]
  },
  {
   "cell_type": "code",
   "execution_count": 70,
   "id": "0960ec24",
   "metadata": {},
   "outputs": [
    {
     "data": {
      "text/plain": [
       "9223372036854775807"
      ]
     },
     "execution_count": 70,
     "metadata": {},
     "output_type": "execute_result"
    }
   ],
   "source": [
    "2**63-1"
   ]
  },
  {
   "cell_type": "code",
   "execution_count": 75,
   "id": "c00f62e3",
   "metadata": {},
   "outputs": [
    {
     "name": "stdout",
     "output_type": "stream",
     "text": [
      "10223372036854775807\n",
      "<class 'int'>\n"
     ]
    }
   ],
   "source": [
    "i = sys.maxsize + 1000000000000000000\n",
    "print(i)\n",
    "print(type(i))"
   ]
  },
  {
   "cell_type": "code",
   "execution_count": 76,
   "id": "341b0ce4",
   "metadata": {},
   "outputs": [
    {
     "name": "stdout",
     "output_type": "stream",
     "text": [
      "1.2e-20\n",
      "1.2e+20\n"
     ]
    }
   ],
   "source": [
    "# f = 0.00000000000000000012 이렇게 쓰기 보단\n",
    "f = 1.2e-20 #지수형 1.2*10의 -20승\n",
    "print(f)\n",
    "b=1.2e20 #지수형 1.2의 10의 20승\n",
    "print(b)"
   ]
  },
  {
   "cell_type": "code",
   "execution_count": 78,
   "id": "ac5ed8ba",
   "metadata": {},
   "outputs": [
    {
     "name": "stdout",
     "output_type": "stream",
     "text": [
      "f= 1.5\n"
     ]
    }
   ],
   "source": [
    "# 파이썬에서는 /(나누기)의 결과는 무조건 실수.(실수는 소수점을 넣은 수)\n",
    "f=3/2\n",
    "print('f=',f)"
   ]
  },
  {
   "cell_type": "code",
   "execution_count": 80,
   "id": "ba049662",
   "metadata": {},
   "outputs": [
    {
     "name": "stdout",
     "output_type": "stream",
     "text": [
      "f= 2.0\n"
     ]
    }
   ],
   "source": [
    "f=4/2\n",
    "print('f=',f)"
   ]
  },
  {
   "cell_type": "code",
   "execution_count": 84,
   "id": "9a38059d",
   "metadata": {},
   "outputs": [
    {
     "name": "stdout",
     "output_type": "stream",
     "text": [
      "f= 1\n",
      "f= 1\n"
     ]
    }
   ],
   "source": [
    "# 자바나, C, C++처럼 정수/정수 결과를 정수로 바꾸고 싶을 땐 형변환or몫연산자 사용하면 됨\n",
    "f=int(3/2) #int() : int로 형변환(내림)\n",
    "print('f=',f)\n",
    "f=3//2 #몫연산자\n",
    "print('f=',f)"
   ]
  },
  {
   "cell_type": "markdown",
   "id": "277b8856",
   "metadata": {},
   "source": [
    "## 3.2 문자형\n",
    "겹따옴표(\"~\")나 홑따옴표('-') 이용"
   ]
  },
  {
   "cell_type": "code",
   "execution_count": 93,
   "id": "520e9e5b",
   "metadata": {},
   "outputs": [
    {
     "name": "stdout",
     "output_type": "stream",
     "text": [
      "홍길동'짱' 서울시 관악구 \"신림\"동\n"
     ]
    }
   ],
   "source": [
    "#2가지 따옴표 같이 사용할 때의 경우\n",
    "# name = '홍길동\\'짱\\'' # 홍길동 '짱' 이라고 출력하고 싶을 땐 역슬래시 사용 << 구식 방법\n",
    "name = \"홍길동'짱'\"\n",
    "address = '서울시 관악구 \"신림\"동' #서울시 관악구 \"신림\"동\n",
    "print(name, address)"
   ]
  },
  {
   "cell_type": "code",
   "execution_count": 98,
   "id": "dca44ce8",
   "metadata": {},
   "outputs": [
    {
     "name": "stdout",
     "output_type": "stream",
     "text": [
      "여러줄\t짜리 내용을 저장\n",
      "줄바꿈 문자를 쓰면 여러줄\n",
      "줄바꿈\n"
     ]
    }
   ],
   "source": [
    "# 역슬래시를 사용하는 = escape문자(탈출문자) : \\n \\t \\r\n",
    "# \\r : 맨 앞으로 가라는 명령\n",
    "text = '여러줄\\t짜리 내용을 저장\\n줄바꿈 문자를 쓰면 여러줄\\n줄바꿈'\n",
    "print(text)"
   ]
  },
  {
   "cell_type": "code",
   "execution_count": 102,
   "id": "daa9990a",
   "metadata": {},
   "outputs": [
    {
     "name": "stdout",
     "output_type": "stream",
     "text": [
      "\n",
      "여러줄\t짜리 내용을 저장\n",
      "줄바꿈 문자를 쓰면 됨\n",
      "줄바꿈\n",
      "\n"
     ]
    }
   ],
   "source": [
    "text = '''\n",
    "여러줄\\t짜리 내용을 저장\n",
    "줄바꿈 문자를 쓰면 됨\n",
    "줄바꿈\n",
    "'''\n",
    "print(text)\n",
    "#이 방식은 위에 엔터 아래엔터 하나씩 들어가서 생성형Ai 질문 시 토큰 낭비가 있음"
   ]
  },
  {
   "cell_type": "markdown",
   "id": "ba404911",
   "metadata": {},
   "source": [
    "### ※ 문자열 연산(+,*)\n",
    "문자열 연산법은 덧셈 곱셈 (+,*) 뿐이다."
   ]
  },
  {
   "cell_type": "code",
   "execution_count": 106,
   "id": "acadcf66",
   "metadata": {},
   "outputs": [
    {
     "name": "stdout",
     "output_type": "stream",
     "text": [
      "홍길동동해번쩍\n",
      "홍길동 동해번쩍\n"
     ]
    }
   ],
   "source": [
    "\"\"\"\n",
    "     여러 줄 주석 용도로도 이렇게 사용된다. (보통 1줄 주석이 #앞에 놓고 쓰는법)\n",
    "     2025.09.12 문자열 연산 by 아무개\n",
    "\"\"\"\n",
    "name1 = \"홍길동\"\n",
    "name2 = \"동해번쩍\"\n",
    "print(name1 + name2)\n",
    "print(name1, name2)"
   ]
  },
  {
   "cell_type": "code",
   "execution_count": 107,
   "id": "7d7f32e9",
   "metadata": {},
   "outputs": [
    {
     "name": "stdout",
     "output_type": "stream",
     "text": [
      "홍길동홍길동홍길동\n"
     ]
    }
   ],
   "source": [
    "print(name1 * 3)"
   ]
  },
  {
   "cell_type": "markdown",
   "id": "ef107b8d",
   "metadata": {},
   "source": [
    "### ※ raw 데이터\n",
    "- 용도 : 정규표현식 이용, 디렉토리 경로 표현 시 이용된다.\n",
    "  - 특정정보군에서 일부정보를 제외할 때 정규표현식 사용됨 (주민번호를 지운다던가)\n",
    "  - 데이터가 제대로 인입되었는지 확인할 때에도 정규표현식 사용됨 (이메일이 고르게 입력되었다던가)\n",
    "*아래 예시에서처럼입력값 앞에 r넣으면 수식값까지 반영되어 표현됨."
   ]
  },
  {
   "cell_type": "code",
   "execution_count": 110,
   "id": "4f868e45",
   "metadata": {},
   "outputs": [
    {
     "name": "stdout",
     "output_type": "stream",
     "text": [
      "Hello\n",
      "world\n",
      "Hello\\nworld\n"
     ]
    }
   ],
   "source": [
    "# raw 데이터 : 데이터 처리 시 이스케이프 문자를 그대로 저장 (\\n \\t \\' \\\" 등) 즉, 이스케이프문자가 안 먹힌다는 것.\n",
    "print('Hello\\nworld')\n",
    "print(r'Hello\\nworld')"
   ]
  },
  {
   "cell_type": "markdown",
   "id": "0d55097b",
   "metadata": {},
   "source": [
    "#### 정규표현식(regex)\n",
    "    1.참조 : https://ko.wikipedia.org/wiki/정규_표현식 위키백과\n",
    "    2.간략문법 (역슬래시 사용)\n",
    "     \\d (숫자와 매치. [0-9]와 동일)\n",
    "     \\D (숫자가 아닌 것\n",
    "     \\w (영문자나 숫자). [a-zA-Z0-9]와 동일 < 사이에 스페이스 두면 안됨. 그러면 스페이스까지 포함하는 거로 인식\n",
    "     \\W (영문자나 숫자가 아닌 문자)\n",
    "     . (아무 문자 하나를 의미 : 특수문자도 가능)\n",
    "     \\. (.을 의미)\n",
    "     \\- (-을 의미)\n",
    "     {2,} (2번 이상 반복을 의미)\n",
    "     {2, 4} (2~4회 반복)\n",
    "     ?  (0번이나 1번 나옴을 의미)\n",
    "     +  (1번 이상 반복 = 무조건 나옴)\n",
    "     *  (0번 이상 반복 = 안 나올 수도 있음)\n",
    "     | Or를 의미함\n",
    "    3. 정규표현식 연습장 : https://regexr.com/\n",
    "      ex.1 전화번호 : 02 888 7777 / 010-9999-9999 / 010.9999.9999 / 02)999-9999\n",
    "          함수1 - 0\\d{1,2}[ \\-\\.)]?\\d{3,4}[ \\-\\.]?\\d{4} < 이렇게 빼고 주민번호를 제외시키는 게 빠름\n",
    "      ex.2 이메일 : abc12@samsung.co.kr abc24@sns.com\n",
    "          함수1 - \\w+@\\w+(\\.\\w+){1,2} < 베스트\n",
    "          함수2 - \\w{1,}[@]+\\w{1,}[.]+[com|co.kr]+ < 나의 초안 테스트\n",
    "      ex.3 주민번호 : 981212-1052525\n",
    "          함수1 - \\d{2}(0[1-9]|1[0-2])(0[1-9]|[12]\\d|30|31)-[1-4]\\d{6}\n",
    "         "
   ]
  },
  {
   "cell_type": "code",
   "execution_count": null,
   "id": "d94369e4",
   "metadata": {},
   "outputs": [],
   "source": [
    "# ASCII CODE는 컴퓨터가 알파벳과 문자들을 이진법 숫자로 저장한 방식 (대문자 A = 65)"
   ]
  },
  {
   "cell_type": "code",
   "execution_count": 1,
   "id": "cd63ad96",
   "metadata": {},
   "outputs": [
    {
     "name": "stdout",
     "output_type": "stream",
     "text": [
      "이름:홍길동, 주소:서울, 전화:02-888-8888, 핸드폰:010-1234-1444, 특징:동해번쩍 서해번쩍 혈액형:Bㅋㅋ ㅋㅋzz\n"
     ]
    }
   ],
   "source": [
    "import re\n",
    "data = \"이름:홍길동, 주소:서울, 전화:02-888-8888, \\\n",
    "핸드폰:010-1234-1444, 특징:동해번쩍 서해번쩍 \\\n",
    "혈액형:Bㅋㅋ ㅋㅋzz\"\n",
    "print(data)\n",
    "#따옴표 상태에서 한 줄 쓰고 역슬래시 넣고 다음줄 가면 이어서 쳐지는 느낌"
   ]
  },
  {
   "cell_type": "code",
   "execution_count": 2,
   "id": "eac3c59b",
   "metadata": {},
   "outputs": [
    {
     "data": {
      "text/plain": [
       "['02-888-8888', '010-1234-1444']"
      ]
     },
     "execution_count": 2,
     "metadata": {},
     "output_type": "execute_result"
    }
   ],
   "source": [
    "# 정규표현식 처리에서는 raw데이터 처리를 하지 않아도 실행은 된다.\n",
    "# 정규표현식에 쓰이는 수많은 모듈을 넣은 게 re 값임. 그리고 findall이 정말 많이 쓰인다.\n",
    "# 실수를 줄이고, 가독성을 높이는 용도로 raw데이터 처리를 사용\n",
    "tel_pattern = r\"0\\d{1,2}[ \\-\\.)]?\\d{3,4}[ \\-\\.]?\\d{4}\"\n",
    "tels = re.findall(tel_pattern, data) # 해당 패턴을 다 찾아줌. 없으면 빈 list [] 모양으로 나옴 - 아래 예시 121 참조\n",
    "tels"
   ]
  },
  {
   "cell_type": "code",
   "execution_count": 3,
   "id": "8c4debff",
   "metadata": {},
   "outputs": [
    {
     "data": {
      "text/plain": [
       "[]"
      ]
     },
     "execution_count": 3,
     "metadata": {},
     "output_type": "execute_result"
    }
   ],
   "source": [
    "email_pattern = r\"\\w+@\\w+(\\.\\w+){1,2\"\n",
    "emails = re.findall(email_pattern, data)\n",
    "emails"
   ]
  },
  {
   "cell_type": "code",
   "execution_count": 4,
   "id": "ebf1ffdc",
   "metadata": {},
   "outputs": [
    {
     "data": {
      "text/plain": [
       "<re.Match object; span=(18, 29), match='02-888-8888'>"
      ]
     },
     "execution_count": 4,
     "metadata": {},
     "output_type": "execute_result"
    }
   ],
   "source": [
    "# 정규표현식 패턴과 처음 match되는 것을 찾아줘\n",
    "firstTel = re.search(tel_pattern, data)\n",
    "firstTel"
   ]
  },
  {
   "cell_type": "code",
   "execution_count": 5,
   "id": "7ceb88a3",
   "metadata": {},
   "outputs": [
    {
     "name": "stdout",
     "output_type": "stream",
     "text": [
      "02-888-8888\n",
      "02-888-8888\n"
     ]
    }
   ],
   "source": [
    "print(data[18:29]) #문자열 슬라이싱 - 전체 문자를 하나씩 자른 것\n",
    "print(firstTel.group(0))"
   ]
  },
  {
   "cell_type": "code",
   "execution_count": 6,
   "id": "601d7237",
   "metadata": {},
   "outputs": [
    {
     "data": {
      "text/plain": [
       "<re.Match object; span=(18, 29), match='02-888-8888'>"
      ]
     },
     "execution_count": 6,
     "metadata": {},
     "output_type": "execute_result"
    }
   ],
   "source": [
    "tel_pattern = r\"(\\d{2,3})-(\\d{3,4})-(\\d{4})\"\n",
    "\n",
    "firstPhone = re.search(tel_pattern, data)\n",
    "firstPhone"
   ]
  },
  {
   "cell_type": "code",
   "execution_count": 7,
   "id": "fd98c6ba",
   "metadata": {},
   "outputs": [
    {
     "name": "stdout",
     "output_type": "stream",
     "text": [
      "전체 전화번호: 02-888-8888\n",
      "국번: 02\n",
      "중간번호: 888\n",
      "끝번호: 8888\n"
     ]
    }
   ],
   "source": [
    "print('전체 전화번호:', firstPhone.group(0))\n",
    "print('국번:', firstPhone.group(1))\n",
    "print('중간번호:', firstPhone.group(2))\n",
    "print('끝번호:', firstPhone.group(3))\n",
    "\n",
    "# 그룹0 을 봤을 때, 0은 항상 전체를 의미하고 1부터 첫번째 두번째~ 순서대로"
   ]
  },
  {
   "cell_type": "code",
   "execution_count": 135,
   "id": "aceaf3de",
   "metadata": {},
   "outputs": [
    {
     "data": {
      "text/plain": [
       "'이름 홍길동  주소 서울  전화 02 888 8888  핸드폰 010 1234 1444  특징 동해번쩍 서해번쩍 혈액형 B       '"
      ]
     },
     "execution_count": 135,
     "metadata": {},
     "output_type": "execute_result"
    }
   ],
   "source": [
    "# 특정한 데이터 없애기 \\s = space바  가-힣 = 한글 전체\n",
    "# 아래에서 sub함수는 전체 데이터에서 한글/특문/영어/숫자 아닌 걸 빼라는 거임\n",
    "re.sub(r\"[^가-힣0-9A-Z\\s]\", ' ', data)"
   ]
  },
  {
   "cell_type": "code",
   "execution_count": 9,
   "id": "9548e747",
   "metadata": {},
   "outputs": [
    {
     "data": {
      "text/plain": [
       "'이름:홍길동, 주소:서울, 전화: , 핸드폰: , 특징:동해번쩍 서해번쩍 혈액형:Bㅋㅋ ㅋㅋzz'"
      ]
     },
     "execution_count": 9,
     "metadata": {},
     "output_type": "execute_result"
    }
   ],
   "source": [
    "# data에서 전화번호 없애기\n",
    "tel_pattern = r\"0\\d{1,2}[ \\-\\.)]?\\d{3,4}[ \\-\\.]?\\d{4}\"\n",
    "re.sub(tel_pattern, ' ', data)"
   ]
  },
  {
   "cell_type": "code",
   "execution_count": 14,
   "id": "7e0886b9",
   "metadata": {},
   "outputs": [],
   "source": [
    "# 파일 경로 내보내는 법\n",
    "# 빨대 꼽아서 통로 만들어주는 '스트림 객체'설정 시, 한 방향으로만 해야 한다. (읽기만 하던지 쓰기만 하던지 방향 지정 필수)\n",
    "# 대표안) 경로 복붙하면 역슬래시로 붙여지기 때문에 이스케이프 문자를 무시하기 위해 r을 쓴다\n",
    "# 2안) r치기 싫으면 역슬래시를 두번으로 넣으면 됨\n",
    "# 3안) r치기 싫으면 역슬래시를 전부 슬래시로 바꿈\n",
    "file_path = r\"C:\\Ai\\Source\\01_python\\data\\ch02.txt\"\n",
    "file_path = \"C:\\\\Ai\\\\Source\\\\01_python\\\\data\\\\ch02.txt\"\n",
    "file_path = \"C:/Ai/Source/01_python/data/ch02.txt\""
   ]
  },
  {
   "cell_type": "code",
   "execution_count": 16,
   "id": "9c76248f",
   "metadata": {},
   "outputs": [
    {
     "name": "stdout",
     "output_type": "stream",
     "text": [
      "Hello, Python.\n",
      "Hello, World\n"
     ]
    }
   ],
   "source": [
    "file_stream = open(file_path, \"w\")\n",
    "print(\"Hello, Python.\",\"Hello, World\", sep=\"\\n\") #화면 출력\n",
    "print(\"Hello, Python.\",\"Hello, World\", sep=\"\\n\", file=file_stream) #파일 출력\n",
    "file_stream.close() #스트림 객체를 close하지 않으면 저장 안 됨\n",
    "# Shift+Tab+Tab 시 file 로 되어있는 게 파일스트림이다"
   ]
  },
  {
   "cell_type": "markdown",
   "id": "38109972",
   "metadata": {},
   "source": [
    "### ※문자열 인덱싱"
   ]
  },
  {
   "cell_type": "code",
   "execution_count": 22,
   "id": "c338cb45",
   "metadata": {},
   "outputs": [
    {
     "data": {
      "text/plain": [
       "'0123456789'"
      ]
     },
     "execution_count": 22,
     "metadata": {},
     "output_type": "execute_result"
    }
   ],
   "source": [
    "str_ = '0123456789'\n",
    "str_\n",
    "#함수값에 변수를 줘선 안되기 때문에 스트링 함수에 언더바를 추가하여 새로운 값을 생성.\n",
    "#양수로 할 땐 왼쪽 첫 글자가 0이고 1234순, 음수로 할 땐 오른쪽 첫 글자가 -1이고 -2 -3 -4 순"
   ]
  },
  {
   "cell_type": "code",
   "execution_count": 26,
   "id": "bce88ad2",
   "metadata": {},
   "outputs": [
    {
     "data": {
      "text/plain": [
       "('0', '8', '5')"
      ]
     },
     "execution_count": 26,
     "metadata": {},
     "output_type": "execute_result"
    }
   ],
   "source": [
    "str_[0], str_[-2], str_[5]"
   ]
  },
  {
   "cell_type": "code",
   "execution_count": 28,
   "id": "abf4d0fe",
   "metadata": {},
   "outputs": [
    {
     "ename": "IndexError",
     "evalue": "string index out of range",
     "output_type": "error",
     "traceback": [
      "\u001b[1;31m---------------------------------------------------------------------------\u001b[0m",
      "\u001b[1;31mIndexError\u001b[0m                                Traceback (most recent call last)",
      "Cell \u001b[1;32mIn[28], line 1\u001b[0m\n\u001b[1;32m----> 1\u001b[0m \u001b[43mstr_\u001b[49m\u001b[43m[\u001b[49m\u001b[38;5;241;43m10\u001b[39;49m\u001b[43m]\u001b[49m\n",
      "\u001b[1;31mIndexError\u001b[0m: string index out of range"
     ]
    }
   ],
   "source": [
    "str_[10] #데이터 내에 없는 인덱싱은 에러가 난다."
   ]
  },
  {
   "cell_type": "markdown",
   "id": "5f2bc5a3",
   "metadata": {},
   "source": [
    "### ※ 문자열 슬라이싱"
   ]
  },
  {
   "cell_type": "code",
   "execution_count": 35,
   "id": "0f41ab36",
   "metadata": {},
   "outputs": [
    {
     "data": {
      "text/plain": [
       "('012', '012')"
      ]
     },
     "execution_count": 35,
     "metadata": {},
     "output_type": "execute_result"
    }
   ],
   "source": [
    "'''\n",
    "문자열변수[from:to] : from부터 to 직전까지 추출\n",
    "문자열변수[from:to:step] : from부터 to 직전까지 step씩 전진하면서 추출\n",
    "    from 생략 시, 처음부터\n",
    "    to 생략 시, 끝까지\n",
    "    step 생략 시, 디폴트값은 1전진\n",
    "'''\n",
    "str_[0:3], str_[:3] #from 생략의 예"
   ]
  },
  {
   "cell_type": "code",
   "execution_count": 36,
   "id": "a96c555e",
   "metadata": {},
   "outputs": [
    {
     "data": {
      "text/plain": [
       "('56789', '56789')"
      ]
     },
     "execution_count": 36,
     "metadata": {},
     "output_type": "execute_result"
    }
   ],
   "source": [
    "str_[5:10], str_[5:] #to 생략의 예"
   ]
  },
  {
   "cell_type": "code",
   "execution_count": 37,
   "id": "61409e80",
   "metadata": {},
   "outputs": [
    {
     "data": {
      "text/plain": [
       "'5678'"
      ]
     },
     "execution_count": 37,
     "metadata": {},
     "output_type": "execute_result"
    }
   ],
   "source": [
    "str_[-5:-1] #-5번째부터 -1번째 직전까지"
   ]
  },
  {
   "cell_type": "code",
   "execution_count": 31,
   "id": "6441a868",
   "metadata": {},
   "outputs": [
    {
     "data": {
      "text/plain": [
       "'2345'"
      ]
     },
     "execution_count": 31,
     "metadata": {},
     "output_type": "execute_result"
    }
   ],
   "source": [
    "str_[2:6]"
   ]
  },
  {
   "cell_type": "code",
   "execution_count": 32,
   "id": "050c2cfa",
   "metadata": {},
   "outputs": [
    {
     "data": {
      "text/plain": [
       "'02468'"
      ]
     },
     "execution_count": 32,
     "metadata": {},
     "output_type": "execute_result"
    }
   ],
   "source": [
    "str_[0:10:2]"
   ]
  },
  {
   "cell_type": "code",
   "execution_count": 39,
   "id": "2a56d46a",
   "metadata": {},
   "outputs": [
    {
     "data": {
      "text/plain": [
       "'987654321'"
      ]
     },
     "execution_count": 39,
     "metadata": {},
     "output_type": "execute_result"
    }
   ],
   "source": [
    "str_[9:0:-1] #9번째부터 0번째 직전까지 -1씩 전진. ****스텝변수(역전진)의 예"
   ]
  },
  {
   "cell_type": "code",
   "execution_count": 48,
   "id": "9730128d",
   "metadata": {},
   "outputs": [
    {
     "name": "stdout",
     "output_type": "stream",
     "text": [
      "9876543210\n",
      "9876543210\n"
     ]
    }
   ],
   "source": [
    "#quiz : 마지막글씨부터 처음글씨까지 거꾸로 출력 9876543210 ****스텝만 마이너스 주면 끝\n",
    "#그냥 함수 하나 넣으면 마지막함수만 추출됨 **** print를 맨 앞에 넣어주면 여러 값 추출 가능\n",
    "print (str_[::-1])\n",
    "print (str_[9::-1])"
   ]
  },
  {
   "cell_type": "markdown",
   "id": "3eeff125",
   "metadata": {},
   "source": [
    "## 3.3 논리형(True / False)\n",
    " 파이썬에서는 논리형의 값 앞글자가 무조건 대문자여야 한다. true/false XXXX"
   ]
  },
  {
   "cell_type": "code",
   "execution_count": 53,
   "id": "af86cb83",
   "metadata": {},
   "outputs": [
    {
     "name": "stdout",
     "output_type": "stream",
     "text": [
      "True\n",
      "<class 'bool'>\n",
      "True\n"
     ]
    }
   ],
   "source": [
    "a = 10>5\n",
    "print(a)\n",
    "print(type(a))\n",
    "print(isinstance(a, bool))"
   ]
  },
  {
   "cell_type": "code",
   "execution_count": 54,
   "id": "1cb5ecc0",
   "metadata": {},
   "outputs": [
    {
     "data": {
      "text/plain": [
       "(1, 0)"
      ]
     },
     "execution_count": 54,
     "metadata": {},
     "output_type": "execute_result"
    }
   ],
   "source": [
    "int(True), int(False)"
   ]
  },
  {
   "cell_type": "code",
   "execution_count": 55,
   "id": "263cde01",
   "metadata": {},
   "outputs": [
    {
     "data": {
      "text/plain": [
       "(True, False)"
      ]
     },
     "execution_count": 55,
     "metadata": {},
     "output_type": "execute_result"
    }
   ],
   "source": [
    "bool(1), bool(0)"
   ]
  },
  {
   "cell_type": "code",
   "execution_count": 60,
   "id": "58c354a4",
   "metadata": {},
   "outputs": [
    {
     "data": {
      "text/plain": [
       "(True, True, False, True, True)"
      ]
     },
     "execution_count": 60,
     "metadata": {},
     "output_type": "execute_result"
    }
   ],
   "source": [
    "bool(-1000), bool(100), bool(\"\"), bool(\"김길동\"), bool(\" \")"
   ]
  },
  {
   "cell_type": "code",
   "execution_count": 61,
   "id": "c3a835ae",
   "metadata": {},
   "outputs": [],
   "source": [
    "# False로 간주되는 것 : 0 , \"\" 빈 스트링 , [] 빈 리스트 , () 빈 튜플 {} 빈 딕셔너리\n",
    "# False로 반별되는 경우를 제외하고는 모두 True\n",
    "# 논리적으로, 0을 제외한 모든 숫자는 True로 친다."
   ]
  },
  {
   "cell_type": "code",
   "execution_count": 65,
   "id": "205c778f",
   "metadata": {},
   "outputs": [],
   "source": [
    "score = (99, 100)\n",
    "person = {'name':'홍길동', 'score':99}"
   ]
  },
  {
   "cell_type": "code",
   "execution_count": 67,
   "id": "3d4125b3",
   "metadata": {},
   "outputs": [
    {
     "name": "stdout",
     "output_type": "stream",
     "text": [
      "False\n"
     ]
    }
   ],
   "source": [
    "# if 0:  if \"\": 아무것도 실행 안됨, 스페이스 넣으면 참이라 실행됨 if \" \":   ****None이라 쳐도  False임\n",
    "if []:\n",
    "    print(\"True\")\n",
    "else:\n",
    "    print(\"False\")"
   ]
  },
  {
   "cell_type": "code",
   "execution_count": 73,
   "id": "37b183c2",
   "metadata": {},
   "outputs": [
    {
     "name": "stdout",
     "output_type": "stream",
     "text": [
      "이름은?율\n",
      "당신 이름은 율\n"
     ]
    }
   ],
   "source": [
    "name = input(\"이름은?\")\n",
    "if name: # name이 빈 스트링이 아니면이라는 뜻\n",
    "    print ('당신 이름은', name)\n",
    "else: #if가 참이 아니면 else로 떨어짐\n",
    "    print('이름을 입력 안 하셨군요')\n",
    "#if가 참이면 선제조건으로 대응, if가 거짓이면 후제조건으로 대응"
   ]
  },
  {
   "cell_type": "markdown",
   "id": "cf93b2f3",
   "metadata": {},
   "source": [
    "## 3.4 자료형 확인 및 형변환 함수\n",
    " - type(변수)\n",
    " - isinstance(변수, 타입) : 변수가 해당 타입인지 여부\n",
    " - float() : 실수형으로 변환\n",
    " - int() : 정수형으로 변환\n",
    " - str() : 문자형으로 변환\n",
    " - bool() : 논리형으로 변환"
   ]
  },
  {
   "cell_type": "code",
   "execution_count": 74,
   "id": "9d1d97c2",
   "metadata": {},
   "outputs": [
    {
     "data": {
      "text/plain": [
       "(4.0, 4.1, 4, 4, '4', '4.9')"
      ]
     },
     "execution_count": 74,
     "metadata": {},
     "output_type": "execute_result"
    }
   ],
   "source": [
    "float(4), float(\"4.1\"), int(4.1), int(\"4\"), str(4), str(4.9)"
   ]
  },
  {
   "cell_type": "code",
   "execution_count": 80,
   "id": "f37f7b57",
   "metadata": {},
   "outputs": [],
   "source": [
    "# 에러나는 경우들\n",
    "# int(\" \")  int(\"\")  int(None)  int(\"123.9\")  int(\"9,000\") **콤마로 인한 에러 **float로 바꿔도 에러남"
   ]
  },
  {
   "cell_type": "markdown",
   "id": "b297884b",
   "metadata": {},
   "source": [
    "# 4절. 포맷팅\n",
    "- 포맷팅이란 출력할 문자, 숫자, 날짜 데이터의 출력형식을 지정하는 것\n",
    "## 4.1 문자열에 형식 지정"
   ]
  },
  {
   "cell_type": "code",
   "execution_count": 84,
   "id": "5430b31a",
   "metadata": {},
   "outputs": [
    {
     "name": "stdout",
     "output_type": "stream",
     "text": [
      "홍길동님의 나이는30살입니다\n",
      "홍길동님의 나이는30살입니다\n"
     ]
    }
   ],
   "source": [
    "name = \"홍길동\"\n",
    "age = 30\n",
    "print(name + '님의 나이는' + str(age) + '살입니다') #짜치는방식\n",
    "print(name, '님의 나이는', age, '살입니다', sep='')\n",
    "\n",
    "#sep=''은 공백없이 붙히겠다 GPT 참조"
   ]
  },
  {
   "cell_type": "code",
   "execution_count": 99,
   "id": "f6062cc2",
   "metadata": {},
   "outputs": [
    {
     "name": "stdout",
     "output_type": "stream",
     "text": [
      "홍길동님의 나이는 30살입니다\n",
      "홍길동님의 나이는 30살입니다.\n"
     ]
    }
   ],
   "source": [
    "# %s:문자, %d:10진수 %f:실수\n",
    "print(\"%s님의 나이는 %d살입니다\"%(name, age)) #짜치는 방식1\n",
    "# s는 스트링이니까 문자 d는 십진수 정수니까 숫자\n",
    "print(f\"{name}님의 나이는 {age}살입니다.\") #짜치는 방식2"
   ]
  },
  {
   "cell_type": "code",
   "execution_count": 103,
   "id": "3cb8aaa3",
   "metadata": {},
   "outputs": [
    {
     "name": "stdout",
     "output_type": "stream",
     "text": [
      "홍길동 님의 나이는 30살입니다\n",
      "홍길동 님의 나이는 30살입니다\n",
      "홍길동 님의 나이는 30살입니다\n",
      "  홍길동 님의 나이는  30살입니다\n",
      "홍길동       님의 나이는 ___30살입니다\n"
     ]
    }
   ],
   "source": [
    "print(\"{} 님의 나이는 {}살입니다\". format(name, age)) #깔끔한 방식\n",
    "print(\"{0} 님의 나이는 {1}살입니다\". format(name, age)) #깔끔한 방식\n",
    "print(\"{1} 님의 나이는 {0}살입니다\". format(age, name)) #깔끔한 방식 #데이터 순서 변경\n",
    "print(\"{1:>5s} 님의 나이는 {0:3d}살입니다\". format(age, name)) #깔끔한 방식\n",
    "print(\"{1:<9s} 님의 나이는 {0:_>5d}살입니다\". format(age, name)) #깔끔한 방식\n",
    "# > < 방향에 따라 변형가능 >5s : 방향 / 칸 수 / 형식(문자,숫자)\n",
    "#s를 넣어서 공백칸이 발생. d를 넣어서 ~대 숫자라는 값이 생김"
   ]
  },
  {
   "cell_type": "markdown",
   "id": "138d7ea7",
   "metadata": {},
   "source": [
    "## 4.2 format() \n",
    "- \"{[인덱스]:[공백대체문자][정렬방식][자릿수][타입]}:\",format(변수명)\n",
    "    \n",
    "    * 인덱스 : format 함수 안의 매개변수 순서\n",
    "    * 정렬방식 : < (왼쪽 정렬), > (오른쪽 정렬), ^(가운데 정렬) \n",
    "    * 정수자릿수 : 출력할 자릿수\n",
    "    * 문자자릿수 : 전체 출력될 자리수. 변수 중에 출력할 자리수\n",
    "    * 타입 : d(1-진수), o(8진수), x(16진수), b(2진수), f(실수), s(문자)\n",
    "    * 공백대체문자는 정렬방식을 명시하여야 한다."
   ]
  },
  {
   "cell_type": "code",
   "execution_count": 111,
   "id": "9166afce",
   "metadata": {},
   "outputs": [
    {
     "name": "stdout",
     "output_type": "stream",
     "text": [
      "[12345] [     12345] [12345]\n",
      "[Hello] [Hello     ] [Hello]\n"
     ]
    }
   ],
   "source": [
    "#기본적으로, 문자는 왼쪽정렬 숫자는 오른쪽정렬이 기본.\n",
    "#변수보다 작은 자리수를 지정하면 자릿수 무시되고 다 출력 (정수 자릿수)\n",
    "#값 안 넣으면 그냥 출력, 값 넣으면 넣은 값대로 출력 #중괄호 당 변수 1개\n",
    "a = 12345\n",
    "s = 'Hello'\n",
    "print(\"[{}] [{:10}] [{:3}]\".format(a, a, a)) \n",
    "print(\"[{}] [{:10}] [{:3}]\".format(s, s, s)) "
   ]
  },
  {
   "cell_type": "code",
   "execution_count": 113,
   "id": "f0e0f964",
   "metadata": {},
   "outputs": [
    {
     "name": "stdout",
     "output_type": "stream",
     "text": [
      "[  10] [ 20 ] [3   ]\n"
     ]
    }
   ],
   "source": [
    "# 정렬방식 : <. ^, >\n",
    "a, b, c = 10,20,3\n",
    "print(\"[{:>4}] [{:^4}] [{:<4}]\".format(a, b, c))"
   ]
  },
  {
   "cell_type": "code",
   "execution_count": 121,
   "id": "bae7acf9",
   "metadata": {},
   "outputs": [
    {
     "name": "stdout",
     "output_type": "stream",
     "text": [
      "[        10]\n",
      "[$$$$$$$$10] [     12.56]\n",
      "[$$$$10] [ 12.56]\n",
      "[$$10] [ 12.56] [____He]\n"
     ]
    }
   ],
   "source": [
    "# 실수 자릿수 ex. 10.2f:전체10자리 소수점2자리\n",
    "a = 10\n",
    "f = 12.56\n",
    "s = \"Hello\"\n",
    "print (\"[{:10}]\".format(a)) #이건 에러 안나지만 print (\"[{:$10}]\".format(a)) 이건 에러남. **공백대체문자를 쓰려면 꼭 정렬값 인입*\n",
    "print (\"[{:$>10}] [{:10.2f}]\".format(a, f)) \n",
    "print (\"[{:$>6}] [{:6.2f}]\".format(a, f)) #전체 6자리 중 소수점 2자리를 해라. 그래서 공간이 빔\n",
    "print (\"[{:$>4}] [{:6.2f}] [{:_>6.2}]\".format(a, f, s)) #문자를 실수화 > 전체 6자리 중 2자리만 출력해라가 됨\n"
   ]
  },
  {
   "cell_type": "code",
   "execution_count": 125,
   "id": "3578fec5",
   "metadata": {},
   "outputs": [
    {
     "name": "stdout",
     "output_type": "stream",
     "text": [
      "[      +123] [      -123] [       123]\n",
      "[       123] [-      123] [       123]\n",
      "[+      123] [-      123] [       123]\n"
     ]
    }
   ],
   "source": [
    "# 자릿수 앞에 +를 붙히면 양수의 경우도 부호출력\n",
    "# 부호나 소수점도 자리수에 포함\n",
    "a, b = 123, -123\n",
    "print (\"[{:+10}] [{:+10}] [{:10}]\".format(a, b, a))\n",
    "print (\"[{:=10}] [{:=10}] [{:10}]\".format(a, b, a))\n",
    "print (\"[{:=+10}] [{:=+10}] [{:10}]\".format(a, b, a))"
   ]
  },
  {
   "cell_type": "code",
   "execution_count": 129,
   "id": "79e2a3da",
   "metadata": {},
   "outputs": [
    {
     "name": "stdout",
     "output_type": "stream",
     "text": [
      "10진수 [  15]\n",
      "8진수 [  17]\n",
      "16진수 [   f]\n",
      "2진수 [1111]\n"
     ]
    }
   ],
   "source": [
    "# 10진수, 8진수 , 16진수, 2진수 출력\n",
    "a = 15 \n",
    "print (\"10진수 [{:4d}]\".format(a))\n",
    "print (\"8진수 [{:4o}]\".format(a))\n",
    "print (\"16진수 [{:4x}]\".format(a))\n",
    "print (\"2진수 [{:4b}]\".format(a))"
   ]
  },
  {
   "cell_type": "code",
   "execution_count": 133,
   "id": "7cb098b8",
   "metadata": {},
   "outputs": [
    {
     "name": "stdout",
     "output_type": "stream",
     "text": [
      "[   +2.7850]\n",
      "[    +2.785]\n"
     ]
    }
   ],
   "source": [
    "a = 2.785\n",
    "print(\"[{:+10.4f}]\".format(a)) #f를 넣었기에, 전체 10자리 중 소수점은 4자리를 출력해라\n",
    "print(\"[{:+10.4}]\".format(a)) #전체 10자리 중에서 4자리만 출력해라"
   ]
  },
  {
   "cell_type": "code",
   "execution_count": 140,
   "id": "b3994b4a",
   "metadata": {},
   "outputs": [
    {
     "name": "stdout",
     "output_type": "stream",
     "text": [
      "[    +2.785]\n",
      "[    +2.785]\n"
     ]
    }
   ],
   "source": [
    "a = 2.785\n",
    "sign = \"+\"\n",
    "width = 10\n",
    "precision = 4\n",
    "print(\"[{:{}{}.{}}]\".format(a, sign, width, precision)) #가독성 떨어짐\n",
    "print(\"[{:{sign}{width}.{precision}}]\".format(a,\n",
    "                                             sign=sign, width=width, precision=precision)) "
   ]
  },
  {
   "cell_type": "markdown",
   "id": "27204662",
   "metadata": {},
   "source": [
    "## 4.3 날짜출력"
   ]
  },
  {
   "cell_type": "code",
   "execution_count": 146,
   "id": "bbb6e81c",
   "metadata": {},
   "outputs": [
    {
     "data": {
      "text/plain": [
       "datetime.datetime(2025, 9, 11, 0, 0)"
      ]
     },
     "execution_count": 146,
     "metadata": {},
     "output_type": "execute_result"
    }
   ],
   "source": [
    "#import datetime #datetime 모듈 (=파이썬 프로그램 파일) 전체를 메모리에 Load\n",
    "from datetime import datetime # datetime모듈 안의 datetime함수만 메모리에 Load\n",
    "thatday1 = datetime(2025, 9, 11) # 25년 9월 11일 0시 0분 0초\n",
    "thatday2 = datetime(2025, 9, 11, 14, 30, 0) #날짜랑 시간이 다 저장됨\n",
    "thatday1 "
   ]
  },
  {
   "cell_type": "code",
   "execution_count": 159,
   "id": "c0f36542",
   "metadata": {},
   "outputs": [
    {
     "name": "stdout",
     "output_type": "stream",
     "text": [
      "2025년 09월 11일 00시 00분 00초\n",
      "2025년 09월 11일 PM 02시 30분 00초\n"
     ]
    }
   ],
   "source": [
    "# Y (년도4자리 y (년도2자리) m (월) d (일) p(am/pm) I (12시간) H(24시간) M(분) S(초)\n",
    "# 대소문자 구분함\n",
    "print(\"{:%Y년 %m월 %d일 %H시 %M분 %S초}\".format(thatday1))\n",
    "print(\"{:%Y년 %m월 %d일 %p %I시 %M분 %S초}\".format(thatday2))"
   ]
  },
  {
   "cell_type": "code",
   "execution_count": 160,
   "id": "887535f9",
   "metadata": {},
   "outputs": [
    {
     "data": {
      "text/plain": [
       "'2025년 09월 11일 00시 00분 00초'"
      ]
     },
     "execution_count": 160,
     "metadata": {},
     "output_type": "execute_result"
    }
   ],
   "source": [
    "thatday1.strftime(\"%Y년 %m월 %d일 %H시 %M분 %S초\") #제일 많이 쓰이는 형식"
   ]
  },
  {
   "cell_type": "code",
   "execution_count": 161,
   "id": "0d79b418",
   "metadata": {},
   "outputs": [
    {
     "data": {
      "text/plain": [
       "'2025년 09월 11일 PM 02시 30분 00초'"
      ]
     },
     "execution_count": 161,
     "metadata": {},
     "output_type": "execute_result"
    }
   ],
   "source": [
    "thatday2.strftime(\"%Y년 %m월 %d일 %p %I시 %M분 %S초\")"
   ]
  },
  {
   "cell_type": "code",
   "execution_count": 164,
   "id": "96b01d11",
   "metadata": {},
   "outputs": [
    {
     "data": {
      "text/plain": [
       "datetime.timedelta(days=4, seconds=53683, microseconds=428303)"
      ]
     },
     "execution_count": 164,
     "metadata": {},
     "output_type": "execute_result"
    }
   ],
   "source": [
    "# 현재의 날짜와 시간\n",
    "# datetime(2025,9,11,14,30) : 특정한 날짜와 시간\n",
    "now = datetime.now() #지금\n",
    "now - thatday1 #날짜형 변수끼리 연산 가능"
   ]
  },
  {
   "cell_type": "code",
   "execution_count": 169,
   "id": "65d42633",
   "metadata": {},
   "outputs": [
    {
     "name": "stdout",
     "output_type": "stream",
     "text": [
      "2025-09-15 PM 02:54\n",
      "2025-09-15 PM 02:54\n"
     ]
    }
   ],
   "source": [
    "# 지금(날짜와 시간) 원하는 스타일로 출력\n",
    "print(\"{:%Y-%m-%d %p %I:%M}\".format(now))\n",
    "print(now.strftime(\"%Y-%m-%d %p %I:%M\")) #가장 많이 쓰임 (ft.웹화면)"
   ]
  },
  {
   "cell_type": "code",
   "execution_count": 172,
   "id": "8db12cc0",
   "metadata": {},
   "outputs": [
    {
     "data": {
      "text/plain": [
       "'2025-09-15 PM 02:59'"
      ]
     },
     "execution_count": 172,
     "metadata": {},
     "output_type": "execute_result"
    }
   ],
   "source": [
    "# 지금을 문자열로 전환하는 함수\n",
    "from time import strftime\n",
    "strftime(\"%Y-%m-%d %p %I:%M\")"
   ]
  },
  {
   "cell_type": "code",
   "execution_count": null,
   "id": "2194513c",
   "metadata": {},
   "outputs": [],
   "source": []
  }
 ],
 "metadata": {
  "kernelspec": {
   "display_name": "Python 3 (ipykernel)",
   "language": "python",
   "name": "python3"
  },
  "language_info": {
   "codemirror_mode": {
    "name": "ipython",
    "version": 3
   },
   "file_extension": ".py",
   "mimetype": "text/x-python",
   "name": "python",
   "nbconvert_exporter": "python",
   "pygments_lexer": "ipython3",
   "version": "3.10.9"
  },
  "toc": {
   "base_numbering": 1,
   "nav_menu": {},
   "number_sections": false,
   "sideBar": true,
   "skip_h1_title": false,
   "title_cell": "Table of Contents",
   "title_sidebar": "Contents",
   "toc_cell": false,
   "toc_position": {
    "height": "calc(100% - 180px)",
    "left": "10px",
    "top": "150px",
    "width": "384px"
   },
   "toc_section_display": true,
   "toc_window_display": true
  }
 },
 "nbformat": 4,
 "nbformat_minor": 5
}
