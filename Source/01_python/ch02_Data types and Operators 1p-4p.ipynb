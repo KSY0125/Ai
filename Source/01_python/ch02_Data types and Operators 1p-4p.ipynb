{
 "cells": [
  {
   "cell_type": "code",
   "execution_count": 1,
   "id": "4be58481",
   "metadata": {},
   "outputs": [
    {
     "data": {
      "text/html": [
       "\n",
       "<style>\n",
       "div.container{width:90% !important;}\n",
       "div.cell.code_cell.rendered{width:100%;}\n",
       "div.input_prompt{padding:0px;}\n",
       "div.CodeMirror {font-family:Consolas; font-size:12pt;}\n",
       "div.text_cell_render.rendered_html{font-size:12pt;}\n",
       "div.output {font-size:12pt; font-weight:bold;}\n",
       "div.input {font-family:Consolas; font-size:12pt;}\n",
       "div.prompt {min-width:70px;}\n",
       "div#toc-wrapper{padding-top:120px;}\n",
       "div.text_cell_render ul li{font-size:12pt;padding:5px;}\n",
       "table.dataframe{font-size:12px;}\n",
       "</style>\n"
      ],
      "text/plain": [
       "<IPython.core.display.HTML object>"
      ]
     },
     "metadata": {},
     "output_type": "display_data"
    }
   ],
   "source": [
    "from IPython.display import display, HTML\n",
    "display(HTML(\"\"\"\n",
    "<style>\n",
    "div.container{width:90% !important;}\n",
    "div.cell.code_cell.rendered{width:100%;}\n",
    "div.input_prompt{padding:0px;}\n",
    "div.CodeMirror {font-family:Consolas; font-size:12pt;}\n",
    "div.text_cell_render.rendered_html{font-size:12pt;}\n",
    "div.output {font-size:12pt; font-weight:bold;}\n",
    "div.input {font-family:Consolas; font-size:12pt;}\n",
    "div.prompt {min-width:70px;}\n",
    "div#toc-wrapper{padding-top:120px;}\n",
    "div.text_cell_render ul li{font-size:12pt;padding:5px;}\n",
    "table.dataframe{font-size:12px;}\n",
    "</style>\n",
    "\"\"\"))"
   ]
  },
  {
   "cell_type": "markdown",
   "id": "12d25ea6",
   "metadata": {},
   "source": [
    "<b><font size=\"6\" Color=\"red\">ch02. 자료형과 연산자 </font></b>\n",
    "\n",
    "# 1절. 변수\n",
    "# 변수 : 프로그램 작업 처리를 위해 값을 저장할 수 있는 메모리 공간\n",
    "# 파이썬은 변수 선언을 위한 타입이 없고, 별도의 선언 과정이 없어서 그냥 할당하면 됨.\n",
    "#을 하나하면 큰 제목  #을 더 추가할수록 작아짐\n",
    "##오케이\n",
    "\n",
    "## 1.1 변수 할당\n",
    "- 할당연산자(=)를 이용해서 값을 할당하면 자료형(타입)이 셋팅됨.\n",
    "- 파이썬에서의 모든 변수는 객체로 저장됨. (객체=값과 함수가 같이 존재하는 것)\n",
    "- 파이썬의 모든 변수는 레퍼런스 변수 (객체 자체를 건들이기 때문)\n",
    "- 파이썬의 모든 변수는 각자의 주소가 있음.\n",
    "- is_Integer 함수는 정수판독기"
   ]
  },
  {
   "cell_type": "code",
   "execution_count": 21,
   "id": "054983c5",
   "metadata": {},
   "outputs": [
    {
     "name": "stdout",
     "output_type": "stream",
     "text": [
      "넓이 : 78.5\n"
     ]
    }
   ],
   "source": [
    "r = 5 \n",
    "area = 3.14 * r * r\n",
    "print('넓이 :', area)"
   ]
  },
  {
   "cell_type": "code",
   "execution_count": 25,
   "id": "db35418f",
   "metadata": {},
   "outputs": [
    {
     "name": "stdout",
     "output_type": "stream",
     "text": [
      "넓이 : 78.53981633974483\n"
     ]
    }
   ],
   "source": [
    "import numpy as np # numpy패키지를 np라는 이름으로 사용. pipy.org 여기에 배포되고 있는 패키지들\n",
    "area = np.pi * r * r\n",
    "print('넓이 :', area)"
   ]
  },
  {
   "cell_type": "code",
   "execution_count": 26,
   "id": "693d59b0",
   "metadata": {},
   "outputs": [],
   "source": [
    "# 이렇게 되서 area값이 바뀌어버렸음."
   ]
  },
  {
   "cell_type": "code",
   "execution_count": 28,
   "id": "58ef71a8",
   "metadata": {},
   "outputs": [
    {
     "name": "stdout",
     "output_type": "stream",
     "text": [
      "area의 주소 : 2176498742224\n",
      "area의 타입 : <class 'float'>\n"
     ]
    }
   ],
   "source": [
    "print('area의 주소 :', id(area))\n",
    "print('area의 타입 :', type(area))"
   ]
  },
  {
   "cell_type": "code",
   "execution_count": 29,
   "id": "87ec352f",
   "metadata": {},
   "outputs": [
    {
     "data": {
      "text/plain": [
       "False"
      ]
     },
     "execution_count": 29,
     "metadata": {},
     "output_type": "execute_result"
    }
   ],
   "source": [
    "area.is_integer()"
   ]
  },
  {
   "cell_type": "code",
   "execution_count": 31,
   "id": "d61e7878",
   "metadata": {},
   "outputs": [
    {
     "name": "stdout",
     "output_type": "stream",
     "text": [
      "area의 주소 : 2176391250448\n",
      "area의 타입 : <class 'int'>\n"
     ]
    }
   ],
   "source": [
    "area = 10\n",
    "print('area의 주소 :', id(area))\n",
    "print('area의 타입 :', type(area))"
   ]
  },
  {
   "cell_type": "code",
   "execution_count": null,
   "id": "2dbfdf68",
   "metadata": {},
   "outputs": [],
   "source": [
    "#area 값을 바꿔서 기존 값을 버렸음. 메모리에 10넣고 함수 더해졌음. "
   ]
  },
  {
   "cell_type": "code",
   "execution_count": 2,
   "id": "8064e999",
   "metadata": {},
   "outputs": [
    {
     "name": "stdout",
     "output_type": "stream",
     "text": [
      "area의 주소 : 2994146879376\n",
      "area의 타입 : <class 'str'>\n"
     ]
    }
   ],
   "source": [
    "area = '파이썬'\n",
    "print('area의 주소 :', id(area))\n",
    "print('area의 타입 :', type(area))\n",
    "# id 는 뒷괄호안의 주소를 , type은 뒷 괄호안의 형태를, print는 뒷 괄호안의 것들을 나타내는 함수다"
   ]
  },
  {
   "cell_type": "code",
   "execution_count": 33,
   "id": "43d64804",
   "metadata": {},
   "outputs": [],
   "source": [
    "#area에는 for 쓰면 안되고, 다른 언어도 쓰면 안돼"
   ]
  },
  {
   "cell_type": "markdown",
   "id": "c51cfb6c",
   "metadata": {},
   "source": [
    "## 1.2 변수 이름 규칙\n",
    "- 문자로 시작 (숫자로 시작하면 안됨)\n",
    "- 문자(특수문자는 _ 외에는 불가), 숫자, _로 변수명 작성\n",
    "- 함수명은 변수명으로 가능하긴 하나, 최대한 피해라.아래 예시 다 안돼\n",
    "  str = 5   id = 2   int = 4  \n",
    "  꼭 써야 한다면, str_식으로 사용하라. \n",
    "- 파이썬 예약어(for, if, ...)는 변수명 사용 불가\n",
    "  for = 5 < 절대 사용금물\n",
    "- 한글 변수는 꼭 필요시에만 사용. 최대한 피해라.\n",
    "  이름 = \"홍길동\" \n",
    "  print(이름) < 이런것들 비추\n",
    "- 함수 오른쪽에 바로 . 붙히면 \"함수의 안에\"라는 의미"
   ]
  },
  {
   "cell_type": "code",
   "execution_count": null,
   "id": "66b95070",
   "metadata": {},
   "outputs": [],
   "source": [
    "print = 5 "
   ]
  },
  {
   "cell_type": "code",
   "execution_count": 4,
   "id": "309d785c",
   "metadata": {},
   "outputs": [
    {
     "name": "stdout",
     "output_type": "stream",
     "text": [
      "홍길동 홍길동\n"
     ]
    }
   ],
   "source": [
    "# member.name ='홍길동' < 불가능. 2번 방법이 파이썬 방법으로 제일 많이 쓰임. 3번은 자바나 C언어에서 많이 쓰임\n",
    "member_name = '홍길동'\n",
    "memberName = '홍길동'\n",
    "print(member_name, memberName)"
   ]
  },
  {
   "cell_type": "code",
   "execution_count": null,
   "id": "a0a07cae",
   "metadata": {},
   "outputs": [],
   "source": [
    "# 숫자 : 복소수, 정수, 실수 (소수점 있으면 실수, 없으면 정수 - 이 논리에는 음수도 적용)\n",
    "# 복소수 1+3i 를 친다하면 복소수는 i를 사용하지만, j를 사용함 그래서 파이썬에서는 1+3j 로 사용한다. 복소수가 뭐여... "
   ]
  },
  {
   "cell_type": "code",
   "execution_count": 5,
   "id": "798825cf",
   "metadata": {},
   "outputs": [
    {
     "name": "stdout",
     "output_type": "stream",
     "text": [
      "<class 'complex'>\n"
     ]
    }
   ],
   "source": [
    "i = 1 + 3j\n",
    "print(type(i))"
   ]
  },
  {
   "cell_type": "code",
   "execution_count": 7,
   "id": "735385bf",
   "metadata": {},
   "outputs": [
    {
     "data": {
      "text/plain": [
       "True"
      ]
     },
     "execution_count": 7,
     "metadata": {},
     "output_type": "execute_result"
    }
   ],
   "source": [
    "isinstance(i, complex) # i 변수가 complex 타입의 객체인지? 묻는 함수다. isInstance = 팩트체크"
   ]
  },
  {
   "cell_type": "code",
   "execution_count": 8,
   "id": "b751dde5",
   "metadata": {},
   "outputs": [
    {
     "data": {
      "text/plain": [
       "False"
      ]
     },
     "execution_count": 8,
     "metadata": {},
     "output_type": "execute_result"
    }
   ],
   "source": [
    "isinstance(i, int)"
   ]
  },
  {
   "cell_type": "markdown",
   "id": "51f8b670",
   "metadata": {},
   "source": [
    "# 1.3 다중 변수 선언"
   ]
  },
  {
   "cell_type": "code",
   "execution_count": 11,
   "id": "5354ea0a",
   "metadata": {},
   "outputs": [],
   "source": [
    "a = 10\n",
    "b = 20\n",
    "#위에 것은 다중변수 선언이 아님"
   ]
  },
  {
   "cell_type": "code",
   "execution_count": 15,
   "id": "75c12eda",
   "metadata": {},
   "outputs": [
    {
     "name": "stdout",
     "output_type": "stream",
     "text": [
      "10 20\n"
     ]
    }
   ],
   "source": [
    "a, b = 10, 20\n",
    "print(a,b)\n",
    "#변수를 한 함수에서 부여했으므로 다중변수선언이다."
   ]
  },
  {
   "cell_type": "code",
   "execution_count": 25,
   "id": "4621e4eb",
   "metadata": {},
   "outputs": [
    {
     "name": "stdout",
     "output_type": "stream",
     "text": [
      "1440 2330\n"
     ]
    }
   ],
   "source": [
    "a,b=b,a+b\n",
    "print(a,b)\n",
    "#결과에서 알 수 있듯이, 앞에 값이 선계산이라는 건 존재하지 않는다. 동시에 각자로 부여되는 것.\n",
    "#즉, 다중 변수 할당 시, 순차적 할당이 아니고, 일괄 동시 할당이다. b가 a라고 해서 a값이 20이 되었지만, 뒷계산에 그게 적용되지 않는 것.\n",
    "#Shift+Enter를 치면 칠수록 셀이 계속 계산되는구나 !!"
   ]
  },
  {
   "cell_type": "markdown",
   "id": "0160db8f",
   "metadata": {},
   "source": [
    "## 1.4 도움말\n",
    "help 함수를 사용하면 함수가 뭔지 알려준다. 다 읽고난 후 Q를 눌러주면 빠져나올 수 있다. ESC+O 토글도 괜츈\n",
    "근데 help함수는 잘 안씀"
   ]
  },
  {
   "cell_type": "code",
   "execution_count": 29,
   "id": "44da1364",
   "metadata": {},
   "outputs": [
    {
     "name": "stdout",
     "output_type": "stream",
     "text": [
      "Help on built-in function print in module builtins:\n",
      "\n",
      "print(...)\n",
      "    print(value, ..., sep=' ', end='\\n', file=sys.stdout, flush=False)\n",
      "    \n",
      "    Prints the values to a stream, or to sys.stdout by default.\n",
      "    Optional keyword arguments:\n",
      "    file:  a file-like object (stream); defaults to the current sys.stdout.\n",
      "    sep:   string inserted between values, default a space.\n",
      "    end:   string appended after the last value, default a newline.\n",
      "    flush: whether to forcibly flush the stream.\n",
      "\n"
     ]
    }
   ],
   "source": [
    "help(print)"
   ]
  },
  {
   "cell_type": "code",
   "execution_count": 31,
   "id": "76304eec",
   "metadata": {},
   "outputs": [],
   "source": [
    "# 도움말 기능 : Shift + Tab 키\n",
    "# 함수값 다음 나올 괄호() < 여기서 괄호 맨앞에 커서 깜빡 거릴 때 커맨드\n",
    "# 이 방법에서 기존 함수는 안 나옴. 그건 help를 이용하도록."
   ]
  },
  {
   "cell_type": "code",
   "execution_count": 33,
   "id": "a7af4c76",
   "metadata": {},
   "outputs": [],
   "source": [
    "# 아래과 같은 걸 매개변수라 부른다\n",
    "# dafault값을 0으로 주고 싶다면 첫줄에 y=0이라 덧붙히면 됨)\n",
    "def add(x,y=0):\n",
    "    '''\n",
    "    매개변수(x,y) 2개를 받아 두자리 숫자로 만드는 함수\n",
    "    x = 10의 자리수가 되고\n",
    "    y = 1의 자리수가 됨 (default값 0)\n",
    "    '''\n",
    "    return x*10+y"
   ]
  },
  {
   "cell_type": "code",
   "execution_count": 34,
   "id": "a2263f1a",
   "metadata": {},
   "outputs": [
    {
     "data": {
      "text/plain": [
       "34"
      ]
     },
     "execution_count": 34,
     "metadata": {},
     "output_type": "execute_result"
    }
   ],
   "source": [
    "add(3,4)"
   ]
  },
  {
   "cell_type": "code",
   "execution_count": 35,
   "id": "766cb396",
   "metadata": {},
   "outputs": [
    {
     "data": {
      "text/plain": [
       "30"
      ]
     },
     "execution_count": 35,
     "metadata": {},
     "output_type": "execute_result"
    }
   ],
   "source": [
    "add(3)"
   ]
  },
  {
   "cell_type": "markdown",
   "id": "b61199ac",
   "metadata": {},
   "source": [
    "# 2절. 화면i/o"
   ]
  },
  {
   "cell_type": "code",
   "execution_count": 42,
   "id": "3b8f22d5",
   "metadata": {},
   "outputs": [
    {
     "name": "stdout",
     "output_type": "stream",
     "text": [
      "아무거나\n",
      "아무거나\n"
     ]
    }
   ],
   "source": [
    "# input() : 사용자로부터 값을 입력받기 위한 함수. 입력값은 문자(str)로 받음. 따옴표 안에 꼭 받아야 함. 작은따, 큰따 상관 없음\n",
    "first = input()\n",
    "print(first)"
   ]
  },
  {
   "cell_type": "code",
   "execution_count": 43,
   "id": "50aaf69d",
   "metadata": {},
   "outputs": [
    {
     "name": "stdout",
     "output_type": "stream",
     "text": [
      "첫번째 숫자는?8\n",
      "두번째 숫자는?2\n"
     ]
    }
   ],
   "source": [
    "first = input('첫번째 숫자는?')\n",
    "second = input('두번째 숫자는?')"
   ]
  },
  {
   "cell_type": "code",
   "execution_count": 44,
   "id": "8da748fc",
   "metadata": {},
   "outputs": [
    {
     "name": "stdout",
     "output_type": "stream",
     "text": [
      "8 2\n"
     ]
    }
   ],
   "source": [
    "print(first, second)"
   ]
  },
  {
   "cell_type": "code",
   "execution_count": 47,
   "id": "628dcf89",
   "metadata": {},
   "outputs": [
    {
     "name": "stdout",
     "output_type": "stream",
     "text": [
      "두수의 합은 82\n"
     ]
    }
   ],
   "source": [
    "print('두수의 합은', first+second)\n",
    "#문자열만 받는다고 했기 때문에, 이런결과가 나옴"
   ]
  },
  {
   "cell_type": "code",
   "execution_count": 55,
   "id": "70b7ac06",
   "metadata": {},
   "outputs": [
    {
     "name": "stdout",
     "output_type": "stream",
     "text": [
      "첫번째 숫자는?10\n",
      "두번째 숫자는?10\n"
     ]
    }
   ],
   "source": [
    "#int로 묶어서 수정처리\n",
    "first = int(input('첫번째 숫자는?'))\n",
    "second = int(input('두번째 숫자는?'))"
   ]
  },
  {
   "cell_type": "code",
   "execution_count": 56,
   "id": "7d58cc02",
   "metadata": {},
   "outputs": [
    {
     "name": "stdout",
     "output_type": "stream",
     "text": [
      "두수의 합은 20\n"
     ]
    }
   ],
   "source": [
    "print('두수의 합은', first+second)"
   ]
  },
  {
   "cell_type": "code",
   "execution_count": 57,
   "id": "6cc391e8",
   "metadata": {},
   "outputs": [
    {
     "name": "stdout",
     "output_type": "stream",
     "text": [
      "first 10 second 10\n"
     ]
    }
   ],
   "source": [
    "print('first', first, 'second', second)"
   ]
  },
  {
   "cell_type": "code",
   "execution_count": 58,
   "id": "b416afee",
   "metadata": {},
   "outputs": [
    {
     "name": "stdout",
     "output_type": "stream",
     "text": [
      "first~10~second~10\n"
     ]
    }
   ],
   "source": [
    "print('first', first, 'second', second, sep='~') "
   ]
  },
  {
   "cell_type": "code",
   "execution_count": 59,
   "id": "40e20ed6",
   "metadata": {},
   "outputs": [
    {
     "name": "stdout",
     "output_type": "stream",
     "text": [
      "first\t10\tsecond\t10\n"
     ]
    }
   ],
   "source": [
    "print('first', first, 'second', second, sep='\\t') "
   ]
  },
  {
   "cell_type": "code",
   "execution_count": 60,
   "id": "c5803070",
   "metadata": {},
   "outputs": [
    {
     "name": "stdout",
     "output_type": "stream",
     "text": [
      "first\n",
      "10\n",
      "second\n",
      "10\n"
     ]
    }
   ],
   "source": [
    "print('first', first, 'second', second, sep='\\n') "
   ]
  },
  {
   "cell_type": "code",
   "execution_count": 66,
   "id": "a089eadd",
   "metadata": {},
   "outputs": [
    {
     "name": "stdout",
     "output_type": "stream",
     "text": [
      "first - 10 - second - 10Hello Python\n"
     ]
    }
   ],
   "source": [
    "print('first', first, 'second', second, sep=' - ', end='')\n",
    "print('Hello', 'Python', sep=' ')"
   ]
  },
  {
   "cell_type": "code",
   "execution_count": 67,
   "id": "a78ba798",
   "metadata": {},
   "outputs": [
    {
     "name": "stdout",
     "output_type": "stream",
     "text": [
      "first - 10 - second - 10\n",
      "Hello Python\n"
     ]
    }
   ],
   "source": [
    "print('first', first, 'second', second, sep=' - ', end='\\n')\n",
    "print('Hello', 'Python', sep=' ')"
   ]
  },
  {
   "cell_type": "code",
   "execution_count": 68,
   "id": "834b904c",
   "metadata": {},
   "outputs": [
    {
     "name": "stdout",
     "output_type": "stream",
     "text": [
      "first - 10 - second - 10\tHello Python\n"
     ]
    }
   ],
   "source": [
    "print('first', first, 'second', second, sep=' - ', end='\\t')\n",
    "print('Hello', 'Python', sep=' ')"
   ]
  },
  {
   "cell_type": "markdown",
   "id": "15f66832",
   "metadata": {},
   "source": [
    "# 3절 기본 자료형\n",
    "- 변수가 가져야 할 값의 형식 (자료형에 따라 갑의 크기와 저장 방식이 달라짐)\n",
    "- 자료형에 따라 수행할 수 있는 명령어들이 달라짐 \n",
    "    - `숫자` : int, float(소수점. ex: = 4.0 (정수로 칠 수 있지만 쩜이 있기 때문에 무조건 소수임), complex(허수부 j) \n",
    "    - `문자` : str('',\"\")\n",
    "    - `논리` : bool(True/False)\n",
    "- 컴퓨터는 2진수로 구성되기에, 0과 1로 숫자를 저장한다. 4 = 0100\n",
    "\n",
    "## 3.1 숫자형"
   ]
  },
  {
   "cell_type": "code",
   "execution_count": 69,
   "id": "4c654d01",
   "metadata": {},
   "outputs": [
    {
     "name": "stdout",
     "output_type": "stream",
     "text": [
      "9223372036854775807\n"
     ]
    }
   ],
   "source": [
    "import sys\n",
    "print(sys.maxsize) # 정수의 최대값 : 2**63 - 1 (2에 63승 빼기 1)"
   ]
  },
  {
   "cell_type": "code",
   "execution_count": 70,
   "id": "af2d72f4",
   "metadata": {},
   "outputs": [
    {
     "data": {
      "text/plain": [
       "9223372036854775807"
      ]
     },
     "execution_count": 70,
     "metadata": {},
     "output_type": "execute_result"
    }
   ],
   "source": [
    "2**63-1"
   ]
  },
  {
   "cell_type": "code",
   "execution_count": 75,
   "id": "7de27611",
   "metadata": {},
   "outputs": [
    {
     "name": "stdout",
     "output_type": "stream",
     "text": [
      "10223372036854775807\n",
      "<class 'int'>\n"
     ]
    }
   ],
   "source": [
    "i = sys.maxsize + 1000000000000000000\n",
    "print(i)\n",
    "print(type(i))"
   ]
  },
  {
   "cell_type": "code",
   "execution_count": 76,
   "id": "952ffbab",
   "metadata": {},
   "outputs": [
    {
     "name": "stdout",
     "output_type": "stream",
     "text": [
      "1.2e-20\n",
      "1.2e+20\n"
     ]
    }
   ],
   "source": [
    "# f = 0.00000000000000000012 이렇게 쓰기 보단\n",
    "f = 1.2e-20 #지수형 1.2*10의 -20승\n",
    "print(f)\n",
    "b=1.2e20 #지수형 1.2의 10의 20승\n",
    "print(b)"
   ]
  },
  {
   "cell_type": "code",
   "execution_count": 78,
   "id": "32a2f961",
   "metadata": {},
   "outputs": [
    {
     "name": "stdout",
     "output_type": "stream",
     "text": [
      "f= 1.5\n"
     ]
    }
   ],
   "source": [
    "# 파이썬에서는 /(나누기)의 결과는 무조건 실수.(실수는 소수점을 넣은 수)\n",
    "f=3/2\n",
    "print('f=',f)"
   ]
  },
  {
   "cell_type": "code",
   "execution_count": 80,
   "id": "2cd8bc05",
   "metadata": {},
   "outputs": [
    {
     "name": "stdout",
     "output_type": "stream",
     "text": [
      "f= 2.0\n"
     ]
    }
   ],
   "source": [
    "f=4/2\n",
    "print('f=',f)"
   ]
  },
  {
   "cell_type": "code",
   "execution_count": 84,
   "id": "e03cd9ad",
   "metadata": {},
   "outputs": [
    {
     "name": "stdout",
     "output_type": "stream",
     "text": [
      "f= 1\n",
      "f= 1\n"
     ]
    }
   ],
   "source": [
    "# 자바나, C, C++처럼 정수/정수 결과를 정수로 바꾸고 싶을 땐 형변환or몫연산자 사용하면 됨\n",
    "f=int(3/2) #int() : int로 형변환(내림)\n",
    "print('f=',f)\n",
    "f=3//2 #몫연산자\n",
    "print('f=',f)"
   ]
  },
  {
   "cell_type": "markdown",
   "id": "16a7dd15",
   "metadata": {},
   "source": [
    "## 3.2 문자형\n",
    "겹따옴표(\"~\")나 홑따옴표('-') 이용"
   ]
  },
  {
   "cell_type": "code",
   "execution_count": 93,
   "id": "2cafa844",
   "metadata": {},
   "outputs": [
    {
     "name": "stdout",
     "output_type": "stream",
     "text": [
      "홍길동'짱' 서울시 관악구 \"신림\"동\n"
     ]
    }
   ],
   "source": [
    "#2가지 따옴표 같이 사용할 때의 경우\n",
    "# name = '홍길동\\'짱\\'' # 홍길동 '짱' 이라고 출력하고 싶을 땐 역슬래시 사용 << 구식 방법\n",
    "name = \"홍길동'짱'\"\n",
    "address = '서울시 관악구 \"신림\"동' #서울시 관악구 \"신림\"동\n",
    "print(name, address)"
   ]
  },
  {
   "cell_type": "code",
   "execution_count": 98,
   "id": "d44d19a7",
   "metadata": {},
   "outputs": [
    {
     "name": "stdout",
     "output_type": "stream",
     "text": [
      "여러줄\t짜리 내용을 저장\n",
      "줄바꿈 문자를 쓰면 여러줄\n",
      "줄바꿈\n"
     ]
    }
   ],
   "source": [
    "# 역슬래시를 사용하는 = escape문자(탈출문자) : \\n \\t \\r\n",
    "# \\r : 맨 앞으로 가라는 명령\n",
    "text = '여러줄\\t짜리 내용을 저장\\n줄바꿈 문자를 쓰면 여러줄\\n줄바꿈'\n",
    "print(text)"
   ]
  },
  {
   "cell_type": "code",
   "execution_count": 102,
   "id": "b8dcf76e",
   "metadata": {},
   "outputs": [
    {
     "name": "stdout",
     "output_type": "stream",
     "text": [
      "\n",
      "여러줄\t짜리 내용을 저장\n",
      "줄바꿈 문자를 쓰면 됨\n",
      "줄바꿈\n",
      "\n"
     ]
    }
   ],
   "source": [
    "text = '''\n",
    "여러줄\\t짜리 내용을 저장\n",
    "줄바꿈 문자를 쓰면 됨\n",
    "줄바꿈\n",
    "'''\n",
    "print(text)\n",
    "#이 방식은 위에 엔터 아래엔터 하나씩 들어가서 생성형Ai 질문 시 토큰 낭비가 있음"
   ]
  },
  {
   "cell_type": "markdown",
   "id": "d40d8019",
   "metadata": {},
   "source": [
    "### ※ 문자열 연산(+,*)\n",
    "문자열 연산법은 덧셈 곱셈 (+,*) 뿐이다."
   ]
  },
  {
   "cell_type": "code",
   "execution_count": 106,
   "id": "aaed3986",
   "metadata": {},
   "outputs": [
    {
     "name": "stdout",
     "output_type": "stream",
     "text": [
      "홍길동동해번쩍\n",
      "홍길동 동해번쩍\n"
     ]
    }
   ],
   "source": [
    "\"\"\"\n",
    "     여러 줄 주석 용도로도 이렇게 사용된다. (보통 1줄 주석이 #앞에 놓고 쓰는법)\n",
    "     2025.09.12 문자열 연산 by 아무개\n",
    "\"\"\"\n",
    "name1 = \"홍길동\"\n",
    "name2 = \"동해번쩍\"\n",
    "print(name1 + name2)\n",
    "print(name1, name2)"
   ]
  },
  {
   "cell_type": "code",
   "execution_count": 107,
   "id": "b02ba444",
   "metadata": {},
   "outputs": [
    {
     "name": "stdout",
     "output_type": "stream",
     "text": [
      "홍길동홍길동홍길동\n"
     ]
    }
   ],
   "source": [
    "print(name1 * 3)"
   ]
  },
  {
   "cell_type": "markdown",
   "id": "a3308bba",
   "metadata": {},
   "source": [
    "### ※ raw 데이터\n",
    "- 용도 : 정규표현식 이용, 디렉토리 경로 표현 시 이용된다.\n",
    "  - 특정정보군에서 일부정보를 제외할 때 정규표현식 사용됨 (주민번호를 지운다던가)\n",
    "  - 데이터가 제대로 인입되었는지 확인할 때에도 정규표현식 사용됨 (이메일이 고르게 입력되었다던가)\n",
    "*아래 예시에서처럼입력값 앞에 r넣으면 수식값까지 반영되어 표현됨."
   ]
  },
  {
   "cell_type": "code",
   "execution_count": 110,
   "id": "98fbd3cb",
   "metadata": {},
   "outputs": [
    {
     "name": "stdout",
     "output_type": "stream",
     "text": [
      "Hello\n",
      "world\n",
      "Hello\\nworld\n"
     ]
    }
   ],
   "source": [
    "# raw 데이터 : 데이터 처리 시 이스케이프 문자를 그대로 저장 (\\n \\t \\' \\\" 등)\n",
    "print('Hello\\nworld')\n",
    "print(r'Hello\\nworld')"
   ]
  },
  {
   "cell_type": "markdown",
   "id": "182a42e5",
   "metadata": {},
   "source": [
    "#### 정규표현식(regex)\n",
    "    1.참조 : https://ko.wikipedia.org/wiki/정규_표현식 위키백과\n",
    "    2.간략문법 (역슬래시 사용)\n",
    "     \\d (숫자와 매치. [0-9]와 동일)\n",
    "     \\D (숫자가 아닌 것\n",
    "     \\w (영문자나 숫자). [a-zA-Z0-9]와 동일 < 사이에 스페이스 두면 안됨. 그러면 스페이스까지 포함하는 거로 인식\n",
    "     \\W (영문자나 숫자가 아닌 문자)\n",
    "     . (아무 문자 하나를 의미 : 특수문자도 가능)\n",
    "     \\. (.을 의미)\n",
    "     \\- (-을 의미)\n",
    "     {2,} (2번 이상 반복을 의미)\n",
    "     {2, 4} (2~4회 반복)\n",
    "     ?  (0번이나 1번 나옴을 의미)\n",
    "     +  (1번 이상 반복 = 무조건 나옴)\n",
    "     *  (0번 이상 반복 = 안 나올 수도 있음)\n",
    "     | Or를 의미함\n",
    "    3. 정규표현식 연습장 : https://regexr.com/\n",
    "      ex.1 전화번호 : 02 888 7777 / 010-9999-9999 / 010.9999.9999 / 02)999-9999\n",
    "          함수1 - 0\\d{1,2}[ \\-\\.)]?\\d{3,4}[ \\-\\.]?\\d{4} < 이렇게 빼고 주민번호를 제외시키는 게 빠름\n",
    "      ex.2 이메일 : abc12@samsung.co.kr abc24@sns.com\n",
    "          함수1 - \\w+@\\w+(\\.\\w+){1,2} < 베스트\n",
    "          함수2 - \\w{1,}[@]+\\w{1,}[.]+[com|co.kr]+ < 나의 초안 테스트\n",
    "      ex.3 주민번호 : 981212-1052525\n",
    "          함수1 - \\d{2}(0[1-9]|1[0-2])(0[1-9]|[12]\\d|30|31)-[1-4]\\d{6}\n",
    "         "
   ]
  },
  {
   "cell_type": "code",
   "execution_count": null,
   "id": "9083963e",
   "metadata": {},
   "outputs": [],
   "source": [
    "# ASCII CODE는 컴퓨터가 알파벳과 문자들을 이진법 숫자로 저장한 방식 (대문자 A = 65)"
   ]
  },
  {
   "cell_type": "code",
   "execution_count": 134,
   "id": "1c75d6dc",
   "metadata": {},
   "outputs": [
    {
     "name": "stdout",
     "output_type": "stream",
     "text": [
      "이름:홍길동, 주소:서울, 전화:02-888-8888, 핸드폰:010-1234-1444, 특징:동해번쩍 서해번쩍 혈액형:Bㅋㅋ ㅋㅋzz\n"
     ]
    }
   ],
   "source": [
    "import re\n",
    "data = \"이름:홍길동, 주소:서울, 전화:02-888-8888, \\\n",
    "핸드폰:010-1234-1444, 특징:동해번쩍 서해번쩍 \\\n",
    "혈액형:Bㅋㅋ ㅋㅋzz\"\n",
    "print(data)\n",
    "#따옴표 상태에서 한 줄 쓰고 역슬래시 넣고 다음줄 가면 이어서 쳐지는 느낌"
   ]
  },
  {
   "cell_type": "code",
   "execution_count": 119,
   "id": "72cf92db",
   "metadata": {},
   "outputs": [
    {
     "data": {
      "text/plain": [
       "['02-888-8888', '010-1234-1444']"
      ]
     },
     "execution_count": 119,
     "metadata": {},
     "output_type": "execute_result"
    }
   ],
   "source": [
    "# 정규표현식 처리에서는 raw데이터 처리를 하지 않아도 실행은 된다.\n",
    "# 실수를 줄이고, 가독성을 높이는 용도로 raw데이터 처리를 사용\n",
    "tel_pattern = r\"0\\d{1,2}[ \\-\\.)]?\\d{3,4}[ \\-\\.]?\\d{4}\"\n",
    "tels = re.findall(tel_pattern, data) # 해당 패턴을 다 찾아줌. 없으면 빈 list [] 모양으로 나옴 - 아래 예시 121 참조\n",
    "tels"
   ]
  },
  {
   "cell_type": "code",
   "execution_count": 121,
   "id": "5b957116",
   "metadata": {},
   "outputs": [
    {
     "data": {
      "text/plain": [
       "[]"
      ]
     },
     "execution_count": 121,
     "metadata": {},
     "output_type": "execute_result"
    }
   ],
   "source": [
    "email_pattern = r\"\\w+@\\w+(\\.\\w+){1,2\"\n",
    "emails = re.findall(email_pattern, data)\n",
    "emails"
   ]
  },
  {
   "cell_type": "code",
   "execution_count": 122,
   "id": "54e3a6b7",
   "metadata": {},
   "outputs": [
    {
     "data": {
      "text/plain": [
       "<re.Match object; span=(18, 29), match='02-888-8888'>"
      ]
     },
     "execution_count": 122,
     "metadata": {},
     "output_type": "execute_result"
    }
   ],
   "source": [
    "# 정규표현식 패턴과 처음 match되는 것을 찾아줘\n",
    "firstTel = re.search(tel_pattern, data)\n",
    "firstTel"
   ]
  },
  {
   "cell_type": "code",
   "execution_count": 126,
   "id": "d1dc8b44",
   "metadata": {},
   "outputs": [
    {
     "name": "stdout",
     "output_type": "stream",
     "text": [
      "02-888-8888\n",
      "02-888-8888\n"
     ]
    }
   ],
   "source": [
    "print(data[18:29]) #문자열 슬라이싱 - 전체 문자를 하나씩 자른 것\n",
    "print(firstTel.group(0))"
   ]
  },
  {
   "cell_type": "code",
   "execution_count": 131,
   "id": "addde3ed",
   "metadata": {},
   "outputs": [
    {
     "data": {
      "text/plain": [
       "<re.Match object; span=(18, 29), match='02-888-8888'>"
      ]
     },
     "execution_count": 131,
     "metadata": {},
     "output_type": "execute_result"
    }
   ],
   "source": [
    "tel_pattern = r\"(\\d{2,3})-(\\d{3,4})-(\\d{4})\"\n",
    "\n",
    "firstPhone = re.search(tel_pattern, data)\n",
    "firstPhone"
   ]
  },
  {
   "cell_type": "code",
   "execution_count": 133,
   "id": "3fa1063b",
   "metadata": {},
   "outputs": [
    {
     "name": "stdout",
     "output_type": "stream",
     "text": [
      "전체 전화번호: 02-888-8888\n",
      "국번: 02\n",
      "중간번호: 888\n",
      "끝번호: 8888\n"
     ]
    }
   ],
   "source": [
    "print('전체 전화번호:', firstPhone.group(0))\n",
    "print('국번:', firstPhone.group(1))\n",
    "print('중간번호:', firstPhone.group(2))\n",
    "print('끝번호:', firstPhone.group(3))\n",
    "\n",
    "# 그룹0 을 봤을 때, 0은 항상 전체를 의미하고 1부터 첫번째 두번째~ 순서대로"
   ]
  },
  {
   "cell_type": "code",
   "execution_count": 135,
   "id": "72a1bae7",
   "metadata": {},
   "outputs": [
    {
     "data": {
      "text/plain": [
       "'이름 홍길동  주소 서울  전화 02 888 8888  핸드폰 010 1234 1444  특징 동해번쩍 서해번쩍 혈액형 B       '"
      ]
     },
     "execution_count": 135,
     "metadata": {},
     "output_type": "execute_result"
    }
   ],
   "source": [
    "# 특정한 데이터 없애기 \\s = space바  가-힣 = 한글 전체\n",
    "re.sub(r\"[^가-힣0-9A-Z\\s]\", ' ', data)"
   ]
  },
  {
   "cell_type": "code",
   "execution_count": null,
   "id": "08311d4f",
   "metadata": {},
   "outputs": [],
   "source": []
  },
  {
   "cell_type": "code",
   "execution_count": null,
   "id": "ce49ade6",
   "metadata": {},
   "outputs": [],
   "source": []
  },
  {
   "cell_type": "code",
   "execution_count": null,
   "id": "d5cc66b6",
   "metadata": {},
   "outputs": [],
   "source": []
  }
 ],
 "metadata": {
  "kernelspec": {
   "display_name": "Python 3 (ipykernel)",
   "language": "python",
   "name": "python3"
  },
  "language_info": {
   "codemirror_mode": {
    "name": "ipython",
    "version": 3
   },
   "file_extension": ".py",
   "mimetype": "text/x-python",
   "name": "python",
   "nbconvert_exporter": "python",
   "pygments_lexer": "ipython3",
   "version": "3.10.9"
  },
  "toc": {
   "base_numbering": 1,
   "nav_menu": {},
   "number_sections": false,
   "sideBar": true,
   "skip_h1_title": false,
   "title_cell": "Table of Contents",
   "title_sidebar": "Contents",
   "toc_cell": false,
   "toc_position": {},
   "toc_section_display": true,
   "toc_window_display": true
  }
 },
 "nbformat": 4,
 "nbformat_minor": 5
}
