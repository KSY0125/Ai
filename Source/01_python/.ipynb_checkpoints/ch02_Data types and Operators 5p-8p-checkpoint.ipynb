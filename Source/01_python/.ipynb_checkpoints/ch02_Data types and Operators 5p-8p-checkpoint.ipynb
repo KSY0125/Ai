{
 "cells": [
  {
   "cell_type": "code",
   "execution_count": 180,
   "id": "fc2b90e1",
   "metadata": {},
   "outputs": [
    {
     "data": {
      "text/html": [
       "\n",
       "<style>\n",
       "div.container{width:90% !important;}\n",
       "div.cell.code_cell.rendered{width:100%;}\n",
       "div.input_prompt{padding:0px;}\n",
       "div.CodeMirror {font-family:Consolas; font-size:12pt;}\n",
       "div.text_cell_render.rendered_html{font-size:12pt;}\n",
       "div.output {font-size:12pt; font-weight:bold;}\n",
       "div.input {font-family:Consolas; font-size:12pt;}\n",
       "div.prompt {min-width:100px;}\n",
       "div#toc-wrapper{padding-top:120px;}\n",
       "div.text_cell_render ul li{font-size:12pt;padding:5px;}\n",
       "table.dataframe{font-size:12px;}\n",
       "</style>\n"
      ],
      "text/plain": [
       "<IPython.core.display.HTML object>"
      ]
     },
     "metadata": {},
     "output_type": "display_data"
    }
   ],
   "source": [
    "from IPython.display import display, HTML\n",
    "display(HTML(\"\"\"\n",
    "<style>\n",
    "div.container{width:90% !important;}\n",
    "div.cell.code_cell.rendered{width:100%;}\n",
    "div.input_prompt{padding:0px;}\n",
    "div.CodeMirror {font-family:Consolas; font-size:12pt;}\n",
    "div.text_cell_render.rendered_html{font-size:12pt;}\n",
    "div.output {font-size:12pt; font-weight:bold;}\n",
    "div.input {font-family:Consolas; font-size:12pt;}\n",
    "div.prompt {min-width:100px;}\n",
    "div#toc-wrapper{padding-top:120px;}\n",
    "div.text_cell_render ul li{font-size:12pt;padding:5px;}\n",
    "table.dataframe{font-size:12px;}\n",
    "</style>\n",
    "\"\"\"))"
   ]
  },
  {
   "cell_type": "markdown",
   "id": "3a110640",
   "metadata": {},
   "source": [
    "<b><font size=\"6\" Color=\"red\">ch02. 자료형과 연산자 </font></b>\n",
    "\n",
    "# 5절. 연산자\n",
    "## 5.1 산술연산자 : +, -, *, /(결과 float), //(몫), %(나머지), **(제곱)"
   ]
  },
  {
   "cell_type": "code",
   "execution_count": 11,
   "id": "f3f91f90",
   "metadata": {},
   "outputs": [
    {
     "name": "stdout",
     "output_type": "stream",
     "text": [
      "10*5승 = 100000\n",
      "4/2(결과 실수) = 2.0\n",
      "5//2(몫) = 2\n",
      "5%2(나머지) = 1\n"
     ]
    }
   ],
   "source": [
    "print(\"10*5승 =\", 10**5)\n",
    "print(\"4/2(결과 실수) =\", 4/2)\n",
    "print(\"5//2(몫) =\", 5//2) #// = 정수 나눗셈 연산자. 즉, 5 // 2는 5를 2로 나눈 \"몫\"만 구하라. 2.5니까 소수점 제외한 2가 답\n",
    "print(\"5%2(나머지) =\", 5%2) #즉, 5 % 2는 5를 2로 나눈 뒤의 나머지를 구하라"
   ]
  },
  {
   "cell_type": "code",
   "execution_count": 14,
   "id": "b83a52c6",
   "metadata": {},
   "outputs": [
    {
     "name": "stdout",
     "output_type": "stream",
     "text": [
      "4**2 = 16\n",
      "4**2 = 16.0\n"
     ]
    }
   ],
   "source": [
    "# 대부분 실수가 계산하는 데에 용량이 더 소모된다.\n",
    "# 정수끼리의 연산은 결과가 정수 (단 / (나머지)만 제외)\n",
    "# 정수와 실수, 실수와 실수끼리 연산 결과는 실수\n",
    "print(\"4**2 =\", 4**2) # **는 **거듭제곱(exponentiation)**을 의미. 4에 거듭제곱이니 4*4 = 16\n",
    "print(\"4**2 =\", 4**2.0)  "
   ]
  },
  {
   "cell_type": "code",
   "execution_count": 20,
   "id": "03cbd7ce",
   "metadata": {},
   "outputs": [
    {
     "name": "stdout",
     "output_type": "stream",
     "text": [
      "정수를 입력하시오:4\n",
      "입력하신 수는 4, 2로 나눈 나머지는 0라서 짝수를 입력하셨습니다\n"
     ]
    }
   ],
   "source": [
    "# quiz1. 정수를 고객에게 입력 받아 짝수인지 홀수인지 여부를 출력하는 프로그램\n",
    "num = int(input(\"정수를 입력하시오:\"))\n",
    "result = num % 2 # 나머지결과값은 -1, 2 , 1 무조건 셋 중 하나\n",
    "if result:\n",
    "    temp = \"홀수\"\n",
    "else:\n",
    "    temp = \"짝수\"\n",
    "print(f\"입력하신 수는 {num}, 2로 나눈 나머지는 {result}라서 {temp}를 입력하셨습니다\") #format함수 앞에 f입력해도 됨"
   ]
  },
  {
   "cell_type": "code",
   "execution_count": 75,
   "id": "a9705b3a",
   "metadata": {},
   "outputs": [
    {
     "name": "stdout",
     "output_type": "stream",
     "text": [
      "정수를 입력하시오:12\n",
      "5의 배수가 아닙니다\n"
     ]
    }
   ],
   "source": [
    "# quiz2. 정수를 입력받아 5의 배수인지 여부를 출력\n",
    "# if 문은 조건이 **참(=True)**일 때만 실행된다.\n",
    "# 0 → False 0 이외의 숫자(1, 2, -1 등) → True\n",
    "num = int(input(\"정수를 입력하시오:\")) \n",
    "if num%5:\n",
    "    print(\"5의 배수가 아닙니다\")\n",
    "else:\n",
    "    print(\"5의 배수입니다\")"
   ]
  },
  {
   "cell_type": "code",
   "execution_count": 73,
   "id": "80047c50",
   "metadata": {},
   "outputs": [
    {
     "name": "stdout",
     "output_type": "stream",
     "text": [
      "국어?99\n",
      "영어?100\n",
      "수학?100\n",
      "국어 :  99\t영어 : 100\t수학 : 100\n",
      "총점 : 299\t평균 :  99.7\n"
     ]
    }
   ],
   "source": [
    "# quiz3.국,영,수 점수를 입력 받아 다음셀에서 다음과 같이 출력하도록 구현\n",
    "kor = int(input(\"국어?\")) #변수 이름 길어도 좋으니 무조건 가독성\n",
    "eng = int(input(\"영어?\"))\n",
    "mat = int(input(\"수학?\"))\n",
    "sum = kor + eng + mat\n",
    "avg = sum / 3\n",
    "print(\"국어 : {:3d}\\t영어 : {:3d}\\t수학 : {:3d}\".format(kor, eng, mat))\n",
    "print(\"총점 : {:3d}\\t평균 : {:5.1f}\".format(sum, avg))  #100.0이 제일 큰 수니까 5수가 필요함 (.까지 수로 치니까) 5수에서 소수점은 1자리만이라서 5.1"
   ]
  },
  {
   "cell_type": "markdown",
   "id": "df557ddf",
   "metadata": {},
   "source": [
    "## 5.2 할당연산자 : =, +=, -=, /=, *=, //=, %=\n",
    "오른쪽에 있는 것을 왼쪽에 넣겠다는 연산자.?\n",
    "경우1) a = b = 10  ***산술 연산자는 왼쪽부터 계산하는데, 할당 연산자는 오른쪽부터 계산한다\n",
    "파이썬에서는 a++이런 게 없다 << 오직 자바 같은 곳에서만. 이걸 하려면 a+=1이다. "
   ]
  },
  {
   "cell_type": "code",
   "execution_count": 85,
   "id": "7dfe16e4",
   "metadata": {},
   "outputs": [
    {
     "name": "stdout",
     "output_type": "stream",
     "text": [
      "a = 15\n"
     ]
    }
   ],
   "source": [
    "a = 10\n",
    "a += 5 # a = a + 5와 동일\n",
    "print(f\"a = {a}\")\n",
    "\n",
    "#즉, 기존의 a 값(10)에 5를 더해서, 다시 a에 저장하는 거예요.\n",
    "# 👉 10 + 5 = 15, 그래서 a는 이제 15가 됨.\n",
    "#f 문자열은 a 변수의 값을 문자열 안에 넣어서 출력해 줌."
   ]
  },
  {
   "cell_type": "code",
   "execution_count": 84,
   "id": "63bcdabd",
   "metadata": {},
   "outputs": [
    {
     "name": "stdout",
     "output_type": "stream",
     "text": [
      "5빼기 : 10\n",
      "10배 : 100\n",
      "5나눈 몫 : 20\n"
     ]
    }
   ],
   "source": [
    "a -= 5 # a = a - 5와 동일\n",
    "print(\"5빼기 :\", a) # 10\n",
    "a *= 10 # a = a*10\n",
    "print(\"10배 :\", a) #100\n",
    "a //= 5 # a = a//5\n",
    "print(\"5나눈 몫 :\", a)"
   ]
  },
  {
   "cell_type": "code",
   "execution_count": null,
   "id": "a8c0cc3b",
   "metadata": {},
   "outputs": [],
   "source": [
    "a *= 5 # a = a * 5와 동일"
   ]
  },
  {
   "cell_type": "markdown",
   "id": "fdb9503d",
   "metadata": {},
   "source": [
    "## 5.3 논리연산자 : &, and, |(or), or, not"
   ]
  },
  {
   "cell_type": "code",
   "execution_count": 98,
   "id": "a9244790",
   "metadata": {},
   "outputs": [
    {
     "name": "stdout",
     "output_type": "stream",
     "text": [
      "True\n",
      "False\n",
      "False\n",
      "0\n",
      "1100\n"
     ]
    }
   ],
   "source": [
    "# & : 논리연산자, 비트연산자(숫자가 2진수로 박혀서 들어감)\n",
    "print( (10>3) & (10>5) ) \n",
    "print( 10>3 & 10>5 ) #괄호 풀 경우, 파이썬만 유일하게 &을 먼저 계산함. 이 경우, &의 앞뒤가 숫자이기 때문에 비트연산을 한다.\n",
    "print( (10>3) & (2>5) ) #False가 조금이라도 껴있으면 False다. True끼리만 있는 답만이 True다.\n",
    "print( 12 & 1 ) #비트연산 1 1 0 0 (12)\n",
    "                  #       0 0 0 1 (1) 상아래로 나눠서 수직계산시 다 False다. 0은 false고 나머지는 true이기에, true만 남는 값이 없어서 False.\n",
    "print(\"{:4b}\".format(12))"
   ]
  },
  {
   "cell_type": "code",
   "execution_count": 97,
   "id": "108d1141",
   "metadata": {},
   "outputs": [
    {
     "name": "stdout",
     "output_type": "stream",
     "text": [
      "True\n",
      "False\n",
      "1\n",
      "0\n"
     ]
    }
   ],
   "source": [
    " # and : ONLY 논리연산자\n",
    "#처음부터 끝까지 다 연산한다. False로 판별되는 첫번째 항의 결과 반환 False가 오면 무조건 False\n",
    "#모든 항이 True면, 마지막항의 결과 반환\n",
    "print( (10>3) and (10>5) ) \n",
    "print( (1>3) and (10>5) ) \n",
    "print( 12 and 1 ) #1이 마지막 값이라 1을 출력??\n",
    "print( 0 and 1 ) #처음에 바로 False라서 False"
   ]
  },
  {
   "cell_type": "code",
   "execution_count": 101,
   "id": "69983081",
   "metadata": {},
   "outputs": [
    {
     "name": "stdout",
     "output_type": "stream",
     "text": [
      "논리연산(연산자 앞뒤가 논리형일 때) : True\n",
      "비트연산(연산자 앞이나 뒤에 숫자일 때) : 3\n"
     ]
    }
   ],
   "source": [
    "# | : 논리연산, 비트연산. 앞뒤에 논리값이 있으면 논리연산. 앞뒤에 숫자값이 있으면 비트연산. 두 논제가 함께할 순 없다. ex: print( (10>3) & (10>5) ) \n",
    "result = True | False\n",
    "print('논리연산(연산자 앞뒤가 논리형일 때) :', result)\n",
    "result = False | 3 # 0000 (0)\n",
    "                #  | 0011 (3)\n",
    "print('비트연산(연산자 앞이나 뒤에 숫자일 때) :', result)"
   ]
  },
  {
   "cell_type": "code",
   "execution_count": 102,
   "id": "4e0b7ebf",
   "metadata": {},
   "outputs": [
    {
     "name": "stdout",
     "output_type": "stream",
     "text": [
      "[]\n",
      "Hong\n"
     ]
    }
   ],
   "source": [
    "# or : 논리연산. and연산처럼 True로 판ㅂ려되는 첫번째 항의 결과를 반환.\n",
    "       # 모든 항이 거짓이면 마지막항의 결과를 반환.\n",
    "print(False or 0 or '' or None or [])\n",
    "print(False or 0 or 'Hong' or None or [])"
   ]
  },
  {
   "cell_type": "code",
   "execution_count": 103,
   "id": "5bc5ef7c",
   "metadata": {},
   "outputs": [
    {
     "data": {
      "text/plain": [
       "False"
      ]
     },
     "execution_count": 103,
     "metadata": {},
     "output_type": "execute_result"
    }
   ],
   "source": [
    "not 10>5"
   ]
  },
  {
   "cell_type": "markdown",
   "id": "f754f519",
   "metadata": {},
   "source": [
    "## 5.4 비교연산자 : >, >=, <, <=, ==(같다), !=(다르다)\n",
    "우선순위 낮은 연산자군"
   ]
  },
  {
   "cell_type": "code",
   "execution_count": 108,
   "id": "69f218a3",
   "metadata": {},
   "outputs": [
    {
     "name": "stdout",
     "output_type": "stream",
     "text": [
      "True\n",
      "False\n",
      "True\n",
      "True\n"
     ]
    }
   ],
   "source": [
    "# 비교연산자는 이항, 삼항, 사항... 즉 다항연산자.\n",
    "x = 95\n",
    "print( (90<=x) & (x<=100) )\n",
    "print( x>=90 & 100>=x ) # 괄호 안치면, &부터 계산해서 난리남\n",
    "print( 90 <= x <= 100 ) #이렇게 풀어서도 됨\n",
    "print( 90 <= x <= 100 > 10 ) #이렇게 복잡해도 됨"
   ]
  },
  {
   "cell_type": "code",
   "execution_count": 112,
   "id": "08ea8969",
   "metadata": {},
   "outputs": [
    {
     "name": "stdout",
     "output_type": "stream",
     "text": [
      "True\n",
      "False\n",
      "False\n"
     ]
    }
   ],
   "source": [
    "# 비교연산자의 우선순위가 비트연산자(|,&)의 우선순위보다 낮다\n",
    "print( (10>5) & (10>7) )\n",
    "print( 10>5 & 10>7 )\n",
    "# 0101(5) & 1010(10) 각개 계산 시 모두 다 False \n",
    "print( 10 > 0 > 7 )"
   ]
  },
  {
   "cell_type": "code",
   "execution_count": 2,
   "id": "128cf8c8",
   "metadata": {},
   "outputs": [
    {
     "name": "stdout",
     "output_type": "stream",
     "text": [
      "True\n",
      "True\n"
     ]
    }
   ],
   "source": [
    "address = '목동'\n",
    "age = 29\n",
    "print( (address==\"목동\") & (age<=30) )\n",
    "print( address==\"목동\" and age<=30 ) #괄호치기 싫으면 이렇게 하는데, 가독성 떨어져서 잘 안씀"
   ]
  },
  {
   "cell_type": "code",
   "execution_count": 120,
   "id": "d44f6dd1",
   "metadata": {},
   "outputs": [
    {
     "name": "stdout",
     "output_type": "stream",
     "text": [
      "True\n",
      "False\n"
     ]
    }
   ],
   "source": [
    "# 문자는 ASCII 코드 순으로 비교 특수문자 < 숫자문자 < 대문자 < 소문자(abc순)\n",
    "print(\"scott\" < \"tiger\")\n",
    "print(\"김길동\" > \"홍길동\")"
   ]
  },
  {
   "cell_type": "markdown",
   "id": "6e7ff859",
   "metadata": {},
   "source": [
    "## 5.5 비트연산자 : &, |, ^(XOR), ~(반대)\n",
    "\n",
    "\n",
    "```\n",
    "\n",
    "x   y   x&y   x|y   x^y   ~x\n",
    "----------------------------------\n",
    "0   0    0     0     0     1\n",
    "0   1    0     1     1     1\n",
    "1   0    0     1     1     0\n",
    "1   1    1     1     0     0\n",
    "\n",
    "```\n",
    "- x^y는 이차원 그래프로 절대 설명이 불가. 머신러닝으로 풀 수가 없음. 이 때 Ai의 겨울이 왔었음. 그래서 이걸 풀기 위해 딥러닝이 나오기 시작 > 딥러닝은 식을 하나만 하지 않기 때문"
   ]
  },
  {
   "cell_type": "code",
   "execution_count": 18,
   "id": "b0977d60",
   "metadata": {},
   "outputs": [
    {
     "name": "stdout",
     "output_type": "stream",
     "text": [
      "a = 15 : 1111\n",
      "b =  2 : 0010\n",
      "a&b =  2 : 0010\n",
      "a|b = 15 : 1111\n",
      "a^b = 13 : 1101\n",
      "~a = -16 : -10000\n"
     ]
    }
   ],
   "source": [
    "a = 15 # 이진수로 바꾸면 1111 (8+4+2+1)\n",
    "b = 2 # 이진수로 바꾸면 0010 \n",
    "print(\"a = {0:2} : {0:04b}\".format(a))\n",
    "print(\"b = {0:2} : {0:04b}\".format(b))\n",
    "print(\"a&b = {0:2} : {0:04b}\".format(a&b))\n",
    "\n",
    "#세로로 계산했을 시 True/False에 따라 나온게 a&b\n",
    "#밑에 것들도 이진수로 세로계산\n",
    "\n",
    "print(\"a|b = {0:2} : {0:04b}\".format(a|b))\n",
    "print(\"a^b = {0:2} : {0:04b}\".format(a^b))\n",
    "print(\"~a = {0:2} : {0:04b}\".format(~a)) #이게 졸라 어렵다. 몰라도 상관없다고 하시는데 궁금함\n",
    "\n",
    "#모든 값중 왼쪽값은 두 자리로 출력하라고 했기 때문에 십진수로 출력된 것."
   ]
  },
  {
   "cell_type": "markdown",
   "id": "5278badc",
   "metadata": {},
   "source": [
    "# 6절 문자열 다루기\n",
    "- 문자열변수[from:to:step] : 일부 문자 추출\n",
    "- len(문자열변수) : 문자수를 던져 줌(스페이스 또한 문자 1개다)\n",
    "- upper() : 모든 아이를 대문자로 변환\n",
    "- lower() : 소문자로\n",
    "- title() : 각 어절의 앞 글자만 대문자로\n",
    "- capitalize() : 맨 첫 문자만 대문자로\n",
    "- count(\"찾을문자\") : \"찾을문자\"가 몇 개 들어있는지 갯수 반환(**반환은 결과값을 던진다는 의미)\n",
    "  >>기본적으로, 대소문자까지 정확히 매칭한값을 추출.\n",
    "- find(\"찾을문자\") : \"찾을문자\"가 왼쪽부터 몇번 째에 있는지 index를 반환 (없으면 -1)\n",
    "- rfind(\"찾을문자\") : \"찾을문자\"가 오른쪽부터 몇번 째에 있는지 index를 반환 (없으면 -1)\n",
    "- cf. index(\"찾을문자\") : \"찾을문자\"가 왼ㅉ고부터 몇번째에 있는지 index를 반환 (없으면 에러) > **에러나면 서버 셧다운이라 안 씀\n",
    "- startswith(\"특정문자\") : \"특정문자\"로 시작하는지 여부 반환\n",
    "- endswith(\"특정문자\") : \"특정문자\"로 끝나는지 여부 반환\n",
    "\n",
    "\n",
    "- strip() : 좌우공백제거 **다른언어에서는 trim으로 쓰임(자바C/오라클 등)\n",
    "- lstrip() : 좌측공백만 제거\n",
    "- rstrip() : 우측공백만 제거\n",
    "- <span style=\"color:red\"> **split() : 문자열을 공백이나 다른 문자 기준으로 나누어 리스트로 반환 </span>\n",
    "  **나누다/정말 많이 쓰임\n",
    "- isdigit() : 문자열이 숫자문자열인지 여부 반환\n",
    "- islower() : 문자열이 소문자인지 여부 반환\n",
    "- isupper() : 문자열이 대문자인지 여부 반환\n",
    "- replace(oldStr, newStr) : oldStr을 newStr로 변경하는 함수"
   ]
  },
  {
   "cell_type": "code",
   "execution_count": 230,
   "id": "5c1512c7",
   "metadata": {},
   "outputs": [
    {
     "data": {
      "text/plain": [
       "1000"
      ]
     },
     "execution_count": 230,
     "metadata": {},
     "output_type": "execute_result"
    }
   ],
   "source": [
    "int(\"1,000\".replace(\",\", \"\"))\n",
    "#숫자값 내에 콤마(,)가 있으면 문자로 인식.\n",
    "#ex:1) 숫자가 겁나 많을 때 콤마(,) 찾기가 힘들고 지워내야할 때도 있다.\n",
    "#ex:2) 네이버같은데 로그인 할 시, 아이디에 스페이스를 쳐도 없애지고 로그인 됨. 그런용도\n",
    "  #re.sub은 무엇인가? 알려주다 말으심"
   ]
  },
  {
   "cell_type": "code",
   "execution_count": 68,
   "id": "6f8106ac",
   "metadata": {},
   "outputs": [
    {
     "data": {
      "text/plain": [
       "('python is easy. python is smart. python', 39)"
      ]
     },
     "execution_count": 68,
     "metadata": {},
     "output_type": "execute_result"
    }
   ],
   "source": [
    "temp = \"python is easy. python is smart. python\"\n",
    "temp, len(temp)"
   ]
  },
  {
   "cell_type": "code",
   "execution_count": 77,
   "id": "9167cf9b",
   "metadata": {},
   "outputs": [
    {
     "name": "stdout",
     "output_type": "stream",
     "text": [
      "대문자로 : PYTHON IS EASY. PYTHON IS SMART. PYTHON\n",
      "소문자로 : python is easy. python is smart. python\n",
      "title : Python Is Easy. Python Is Smart. Python\n",
      "capitalize : Python is easy. python is smart. python\n",
      "PYTHON이 몇 번 나오는지 : 2\n",
      "대소문자 구분없이 PYTHON이 몇 번 나오는지 : 3\n",
      "대소문자 구분없이 PYTHON이 몇 번 나오는지 : 3\n",
      "easy가 나오는 첫 index 위치 : 10\n",
      "easy가 나오는 마지막 index 위치 : 10\n",
      "C가 나오는 index 위치 : -1\n",
      "python이 나오는 첫 index 위치 : 0\n",
      "문장이 PY로 시작해? : True\n",
      "문장이 k로 끝나? : False\n",
      "PYTHON을 R로 변경 : R is easy. R is smart. Python\n"
     ]
    }
   ],
   "source": [
    "temp = \"PYTHON is easy. PYTHON is smart. Python\"\n",
    "    #   0123456789012345678901234567890123456789\n",
    "print(\"대문자로 :\", temp.upper()) #은행들이 주로 이걸 사용함 아이디를 대문자로 변환하여 로그인\n",
    "print(\"소문자로 :\", temp.lower())\n",
    "print(\"title :\", temp.title())\n",
    "print(\"capitalize :\", temp.capitalize())\n",
    "print(\"PYTHON이 몇 번 나오는지 :\", temp.count(\"PYTHON\"))\n",
    "print(\"대소문자 구분없이 PYTHON이 몇 번 나오는지 :\", temp.lower().count(\"python\")) #소문자로 선변환줌.\n",
    "print(\"대소문자 구분없이 PYTHON이 몇 번 나오는지 :\", temp.upper().count(\"PYTHON\")) #대문자로 선변환줌.\n",
    "print(\"easy가 나오는 첫 index 위치 :\", temp.find(\"easy\"))\n",
    "print(\"easy가 나오는 마지막 index 위치 :\", temp.rfind(\"easy\")) #find와 rfind값이 같다는 건 딱 1번만 나온다는 것.\n",
    "print(\"C가 나오는 index 위치 :\", temp.find(\"C\")) #찾을 문자가 없을 경우 -1로 반환.\n",
    "print(\"python이 나오는 첫 index 위치 :\", temp.index(\"PYTHON\"))\n",
    "# print(\"Java가 나오는 첫 index 위치 :\", temp.index(\"Java\"))\n",
    "print(\"문장이 PY로 시작해? :\", temp.startswith(\"P\")) #대소문자 구분 lower/upper 선변환추천\n",
    "print(\"문장이 k로 끝나? :\", temp.endswith(\"k\")) #대소문자 구분 lower/upper 선변환추천\n",
    "print(\"PYTHON을 R로 변경 :\", temp.replace(\"PYTHON\", \"R\"))"
   ]
  },
  {
   "cell_type": "code",
   "execution_count": 96,
   "id": "2e83b0c5",
   "metadata": {},
   "outputs": [
    {
     "name": "stdout",
     "output_type": "stream",
     "text": [
      "좌우 공백 제거 : python is easy\n",
      "좌우 공백 제거 : [python is easy]\n",
      "좌측 공백 제거 : [python is easy     ]\n",
      "우측 공백 제거 : [     python is easy]\n",
      "isdigit(숫자문자)인지 여부 : False\n",
      "replace후 isdigit : True\n",
      "대문자인지 여부 : False\n",
      "소문자인지 여부 : True\n"
     ]
    }
   ],
   "source": [
    "temp = \"     python is easy     \"\n",
    "notdigit = \"1,000\"\n",
    "print(\"좌우 공백 제거 :\", temp.strip())\n",
    "print(\"좌우 공백 제거 : [{}]\".format(temp.strip()) )\n",
    "print(\"좌측 공백 제거 : [{}]\".format(temp.lstrip()) )\n",
    "print(\"우측 공백 제거 : [{}]\".format(temp.rstrip()) )\n",
    "print(\"isdigit(숫자문자)인지 여부 :\", notdigit.isdigit()) #notdigit 값에 콤마가 있기 때문에 False\n",
    "print(\"replace후 isdigit :\", notdigit.replace(\",\", \"\").isdigit())\n",
    "print(\"대문자인지 여부 :\", temp.isupper()) #공백을 제외한 모든 값이 대문자가 아니기에 False\n",
    "print(\"소문자인지 여부 :\", temp.islower())"
   ]
  },
  {
   "cell_type": "code",
   "execution_count": 105,
   "id": "817d1f64",
   "metadata": {},
   "outputs": [
    {
     "name": "stdout",
     "output_type": "stream",
     "text": [
      "space단위로 names 분리(list로 반환) : ['홍길동', '김길동', '박길동', '주길동', '고길동']\n"
     ]
    }
   ],
   "source": [
    "names = \"홍길동  김길동     박길동  주길동  고길동\"\n",
    "print(\"space단위로 names 분리(list로 반환) :\", names.split())"
   ]
  },
  {
   "cell_type": "code",
   "execution_count": 106,
   "id": "6cf50fa6",
   "metadata": {},
   "outputs": [
    {
     "name": "stdout",
     "output_type": "stream",
     "text": [
      "space단위로 names 분리(list로 반환) : ['홍길동', '김길동', '박길동', '주길동', '고길동']\n",
      "홍길동 김길동 박길동\n"
     ]
    }
   ],
   "source": [
    "names = \"홍길동  김길동     박길동  주길동  고길동\"\n",
    "name_list = names.split()\n",
    "print(\"space단위로 names 분리(list로 반환) :\", name_list)\n",
    "print(name_list[0], name_list[1], name_list[2])"
   ]
  },
  {
   "cell_type": "code",
   "execution_count": 109,
   "id": "127065e4",
   "metadata": {},
   "outputs": [
    {
     "data": {
      "text/plain": [
       "['2025', '09', '17']"
      ]
     },
     "execution_count": 109,
     "metadata": {},
     "output_type": "execute_result"
    }
   ],
   "source": [
    "date_str = \"2025-09-17\"\n",
    "date_str.split(\"-\")"
   ]
  },
  {
   "cell_type": "code",
   "execution_count": 112,
   "id": "cb90a1fc",
   "metadata": {},
   "outputs": [
    {
     "name": "stdout",
     "output_type": "stream",
     "text": [
      "['2025', '09', '17']\n",
      "년도 : 2025\n",
      "월 : 09\n",
      "일 : 17\n"
     ]
    }
   ],
   "source": [
    "date_str = \"2025-09-17\"\n",
    "date_list = date_str.split(\"-\")\n",
    "print(date_list)\n",
    "print(\"년도 :\", date_list[0])\n",
    "print(\"월 :\", date_list[1])\n",
    "print(\"일 :\", date_list[2])"
   ]
  },
  {
   "cell_type": "code",
   "execution_count": 115,
   "id": "6daaaf13",
   "metadata": {},
   "outputs": [
    {
     "data": {
      "text/plain": [
       "('A', 'B', 'C')"
      ]
     },
     "execution_count": 115,
     "metadata": {},
     "output_type": "execute_result"
    }
   ],
   "source": [
    "# str_ = \"ABC\" 이건 바로 아래 식과 동일하다\n",
    "str_ = [\"A\", \"B\", \"C\"]\n",
    "str_[0], str_[1], str_[2]"
   ]
  },
  {
   "cell_type": "code",
   "execution_count": 124,
   "id": "1cc976c3",
   "metadata": {},
   "outputs": [
    {
     "name": "stdout",
     "output_type": "stream",
     "text": [
      "분리된 temp : ['Python', '웹(HTML/CSS/JS)', 'Oracle/MySQL(DBMS)', 'DL/ML(M/DNN/CNN/RNN)', 'LLM(RAG)']\n",
      "join temp : Python/웹(HTML/CSS/JS)/Oracle/MySQL(DBMS)/DL/ML(M/DNN/CNN/RNN)/LLM(RAG)\n"
     ]
    }
   ],
   "source": [
    "# ' - '을 \"/\"로 바꾸기\n",
    "temp = \"Python - 웹(HTML/CSS/JS) - Oracle/MySQL(DBMS) - DL/ML(M/DNN/CNN/RNN) - LLM(RAG)\"\n",
    "temp.replace(\" - \", \"/\") #자바에서 replace함수 사용시 맨 첫번째 것만 바꿈. 그래서 아래 대안 사용\n",
    "# 대안 : split()와 join() 이용하여 replace역할\n",
    "splited_temp = temp.split(\" - \")\n",
    "print('분리된 temp :', splited_temp)\n",
    "joined_temp = \"/\".join(splited_temp) # \"/\"로 매개변수 list를 연결 **()안의 문자열은 맘대로\n",
    "print(\"join temp :\", joined_temp)"
   ]
  },
  {
   "cell_type": "code",
   "execution_count": 126,
   "id": "420b5200",
   "metadata": {},
   "outputs": [],
   "source": [
    "# 문자열을 다룰 수 있는 함수들 목록\n",
    "# dir(str) 이거치면 주루룩 뜸"
   ]
  },
  {
   "cell_type": "markdown",
   "id": "3e8e86f5",
   "metadata": {},
   "source": [
    "# 7절. 시간,날짜 다루기"
   ]
  },
  {
   "cell_type": "code",
   "execution_count": 128,
   "id": "f861faf7",
   "metadata": {},
   "outputs": [
    {
     "data": {
      "text/plain": [
       "'C:\\\\Users\\\\Admin\\\\anaconda3\\\\lib\\\\datetime.py'"
      ]
     },
     "execution_count": 128,
     "metadata": {},
     "output_type": "execute_result"
    }
   ],
   "source": [
    "import datetime #import인입은 다른 유저들이 만든 함수를 쓰겠다는 거\n",
    "datetime.__file__ #해당 함수파일의 위치 찾기"
   ]
  },
  {
   "cell_type": "code",
   "execution_count": 129,
   "id": "df5f9355",
   "metadata": {},
   "outputs": [],
   "source": [
    "# datetime모듈(datetime.py) 안에서 저 3가지의 클래스만 Load\n",
    "from datetime import datetime, date, time "
   ]
  },
  {
   "cell_type": "markdown",
   "id": "404e00a0",
   "metadata": {},
   "source": [
    "## 7.1 시간과 날짜 "
   ]
  },
  {
   "cell_type": "code",
   "execution_count": 130,
   "id": "902b385e",
   "metadata": {},
   "outputs": [
    {
     "data": {
      "text/plain": [
       "datetime.datetime(2025, 9, 11, 9, 30)"
      ]
     },
     "execution_count": 130,
     "metadata": {},
     "output_type": "execute_result"
    }
   ],
   "source": [
    "# 특정 시점을 갖는 datetime 객체 생성\n",
    "thatday = datetime(2025, 9, 11, 9, 30)\n",
    "thatday"
   ]
  },
  {
   "cell_type": "code",
   "execution_count": 134,
   "id": "9778413c",
   "metadata": {},
   "outputs": [
    {
     "name": "stdout",
     "output_type": "stream",
     "text": [
      "25년09월11일(Thursday) 09:30:00\n",
      "25년09월11일(Thursday) 09:30:00\n",
      "Thu Sep 11 09:30:00 2025\n"
     ]
    }
   ],
   "source": [
    "#날짜를 문자열로 전환\n",
    "print(\"{:%y년%m월%d일(%A) %H:%M:%S}\".format(thatday))\n",
    "print(thatday.strftime(\"%y년%m월%d일(%A) %H:%M:%S\")) #이게 제일 좋음\n",
    "print(thatday.ctime()) #ctime() : 사람이 읽기 쉬운 형태로 변환 (외국인 기준임)"
   ]
  },
  {
   "cell_type": "code",
   "execution_count": 138,
   "id": "d1612866",
   "metadata": {},
   "outputs": [
    {
     "name": "stdout",
     "output_type": "stream",
     "text": [
      "2025-09-17 14:24:18.290977\n",
      "Wed Sep 17 14:24:18 2025\n",
      "2025년09월17일 PM 02:24:18\n"
     ]
    }
   ],
   "source": [
    "# 지금을 저장하는 datetime 객체 생성\n",
    "now = datetime.now() #함수값뒤에 점을 넣는 걸 왜인지 알아보자 \n",
    "print(now)\n",
    "print(now.ctime())\n",
    "print(now.strftime(\"%Y년%m월%d일 %p %I:%M:%S\"))"
   ]
  },
  {
   "cell_type": "code",
   "execution_count": 142,
   "id": "99460cb3",
   "metadata": {},
   "outputs": [
    {
     "name": "stdout",
     "output_type": "stream",
     "text": [
      "6 days, 4:54:18.290977\n",
      "6\n"
     ]
    }
   ],
   "source": [
    "#뒤의 시간일수록 큰 수이기에, (현재-과거=)해야함.\n",
    "diff = now-thatday\n",
    "print(diff)\n",
    "print(diff.days) #일 수만 계산"
   ]
  },
  {
   "cell_type": "markdown",
   "id": "4f72dde7",
   "metadata": {},
   "source": [
    "## 7.2 날짜만 저장"
   ]
  },
  {
   "cell_type": "code",
   "execution_count": 146,
   "id": "c569c0d2",
   "metadata": {},
   "outputs": [
    {
     "data": {
      "text/plain": [
       "datetime.date(2025, 9, 11)"
      ]
     },
     "execution_count": 146,
     "metadata": {},
     "output_type": "execute_result"
    }
   ],
   "source": [
    "# 특정한 날짜를 갖는 date 객체 생성 \n",
    "# date에는 오직 연,월,일만 매개변수로 사용가능\n",
    "someday = date(2025,9,11)\n",
    "someday"
   ]
  },
  {
   "cell_type": "code",
   "execution_count": 150,
   "id": "f568f7f5",
   "metadata": {},
   "outputs": [
    {
     "name": "stdout",
     "output_type": "stream",
     "text": [
      "2025-09-11\n",
      "2025년 09월 11일\n"
     ]
    }
   ],
   "source": [
    "#내가 원하는 형식대로 변환출력\n",
    "#임포트데이터 에러 시 추후작업 전부 에러나니 꼭 조심.\n",
    "print(someday)\n",
    "print(someday.strftime(\"%Y년 %m월 %d일\")) #연월일만 있기에 시간값넣어봤짜 0분 0초로 뜸"
   ]
  },
  {
   "cell_type": "code",
   "execution_count": 154,
   "id": "c2e22c70",
   "metadata": {},
   "outputs": [
    {
     "name": "stdout",
     "output_type": "stream",
     "text": [
      "True\n"
     ]
    }
   ],
   "source": [
    "# 오늘을 갖는 date 객체 생성\n",
    "today1 = date.today()\n",
    "today2 = datetime.now().date()\n",
    "print(today1 == today2)"
   ]
  },
  {
   "cell_type": "code",
   "execution_count": 156,
   "id": "8b5b30a1",
   "metadata": {},
   "outputs": [
    {
     "name": "stdout",
     "output_type": "stream",
     "text": [
      "2025년09월17일 00:00\n",
      "2025년09월17일 00:00\n"
     ]
    }
   ],
   "source": [
    "print(today1.strftime(\"%Y년%m월%d일 %H:%M\"))\n",
    "print(today2.strftime(\"%Y년%m월%d일 %H:%M\"))"
   ]
  },
  {
   "cell_type": "code",
   "execution_count": 160,
   "id": "862a718f",
   "metadata": {},
   "outputs": [
    {
     "name": "stdout",
     "output_type": "stream",
     "text": [
      "-6 days, 0:00:00\n",
      "-6\n"
     ]
    }
   ],
   "source": [
    "diff = someday - today1\n",
    "print(diff)\n",
    "print(diff.days)"
   ]
  },
  {
   "cell_type": "markdown",
   "id": "4f1eb7f6",
   "metadata": {},
   "source": [
    "## 7.3 시간만 저장"
   ]
  },
  {
   "cell_type": "code",
   "execution_count": 161,
   "id": "1f267c4f",
   "metadata": {},
   "outputs": [
    {
     "data": {
      "text/plain": [
       "datetime.time(14, 39)"
      ]
     },
     "execution_count": 161,
     "metadata": {},
     "output_type": "execute_result"
    }
   ],
   "source": [
    "# 특정한 시간을 저장하는 time 객체 생성\n",
    "t = time(14, 39, 0) #초 저장 안하면 0만 입력\n",
    "t"
   ]
  },
  {
   "cell_type": "code",
   "execution_count": 163,
   "id": "5c0956e9",
   "metadata": {},
   "outputs": [
    {
     "name": "stdout",
     "output_type": "stream",
     "text": [
      "PM 02:39\n",
      "1900년 01월 01일 PM 02:39\n"
     ]
    }
   ],
   "source": [
    "print(t.strftime(\"%p %I:%M\"))\n",
    "print(t.strftime(\"%Y년 %m월 %d일 %p %I:%M\")) #이 결과값이 날짜의 0값이다"
   ]
  },
  {
   "cell_type": "code",
   "execution_count": 170,
   "id": "d4d55aa2",
   "metadata": {},
   "outputs": [
    {
     "name": "stdout",
     "output_type": "stream",
     "text": [
      "14:44:09.960210\n"
     ]
    }
   ],
   "source": [
    "# 현재 시간\n",
    "nowtime = datetime.now().time()\n",
    "print(nowtime)"
   ]
  },
  {
   "cell_type": "markdown",
   "id": "b31e967c",
   "metadata": {},
   "source": [
    "# 8절. 연습문제"
   ]
  },
  {
   "cell_type": "code",
   "execution_count": 2,
   "id": "db5034f0",
   "metadata": {},
   "outputs": [
    {
     "name": "stdout",
     "output_type": "stream",
     "text": [
      "홍길동님의 나이는23입니다.\n"
     ]
    }
   ],
   "source": [
    "# Quiz1. 이름과 나이 변수를 다음 형식으로 출력하도록 format() 함수를 이용해 형식화하세요.\n",
    "# 출력형식 : 홍길동님의 나이는 23살입니다.\n",
    "name = \"홍길동\"\n",
    "age = \"23\"\n",
    "print(f\"{name}님의 나이는{age}입니다.\") #f치환"
   ]
  },
  {
   "cell_type": "code",
   "execution_count": 27,
   "id": "51e2bff0",
   "metadata": {},
   "outputs": [
    {
     "name": "stdout",
     "output_type": "stream",
     "text": [
      "첫 번째 정수를 입력하세요20\n",
      "두 번째 정수를 입력하세요40\n",
      "덧셈 60\n",
      "뺄셈 -20\n",
      "곱셈 800\n",
      "나눗셈 0.5\n",
      "몫 0\n",
      "나머지 20\n"
     ]
    }
   ],
   "source": [
    "# Quiz2. 두 정수를 입력받아 두 수의 덧셈, 뺄셈, 곱셈, 나눗셈, 몫, 나머지를 출력하세요. #정수에 0을 넣어버리면 나누기/몫/나머지에서 에러가 남\n",
    "num1 = int(input('첫 번째 정수를 입력하세요'))\n",
    "num2 = int(input('두 번째 정수를 입력하세요'))\n",
    "print('덧셈', num1 + num2)\n",
    "print('뺄셈', num1 - num2)\n",
    "print('곱셈', num1 * num2)\n",
    "if num2!=0:\n",
    "print('나눗셈', num1 / num2)\n",
    "print('몫', num1 // num2)\n",
    "print('나머지', num1 % num2)\n",
    "else "
   ]
  },
  {
   "cell_type": "code",
   "execution_count": 28,
   "id": "2e79da8a",
   "metadata": {},
   "outputs": [
    {
     "name": "stdout",
     "output_type": "stream",
     "text": [
      "['World'] Hello\n"
     ]
    }
   ],
   "source": [
    "## Quiz3. 문자열의 분리하기와 합치기 기능을 이용하여 'Hello World'가 할당된 변수를 이용하여 'World Hello'로 출력하세요.\n",
    "str_ = \"Hello World\"\n",
    "splited_list = str_.split()\n",
    "print(splited_list"
   ]
  },
  {
   "cell_type": "code",
   "execution_count": 22,
   "id": "50efc46a",
   "metadata": {},
   "outputs": [
    {
     "name": "stdout",
     "output_type": "stream",
     "text": [
      "bcdefa\n"
     ]
    }
   ],
   "source": [
    "# Quiz4. x = 'abcdef'를 이용하여 'bcdefa'로 출력하세요 (문자 슬라이싱 이용)\n",
    "x = \"abcdef\"\n",
    "a = (x[1],x[2],x[3],x[4],x[5],x[0])\n",
    "result = ''.join(a)\n",
    "print(result)"
   ]
  },
  {
   "cell_type": "code",
   "execution_count": 245,
   "id": "25d19230",
   "metadata": {},
   "outputs": [
    {
     "name": "stdout",
     "output_type": "stream",
     "text": [
      "fedcba\n"
     ]
    }
   ],
   "source": [
    "# Quiz5. x = 'abcdef'를 이용하여 'fedcba'로 출력하세요\n",
    "x = \"abcdef\"\n",
    "b = x[5],x[4],x[3],x[2],x[1],x[0]\n",
    "result = ''.join(b)\n",
    "print(result)"
   ]
  },
  {
   "cell_type": "code",
   "execution_count": 279,
   "id": "82645a9d",
   "metadata": {},
   "outputs": [
    {
     "name": "stdout",
     "output_type": "stream",
     "text": [
      "오늘의 온도를 섭씨로 입력하세요20\n",
      "오늘의 온도는 화씨로 68도입니다.\n"
     ]
    }
   ],
   "source": [
    "# Quiz6. 오늘의 온도를 섭씨온도로 입력받아 화씨 온도로 변환하는 프로그램을 작성하세요.\n",
    "#화씨 온도는 소수점이 있을 경우만 두번째 자리까지 출력되고, 소수점이하 값이 없는 경우는 소수점을 출력하지 않도록 합니다.\n",
    "#(다음은 섭씨와 화씨의 변환 공식입니다. C는 섭씨 F는 화씨) C=(F-32)/1.8  F=(C*1.8)+32\n",
    "a = int(input(\"오늘의 온도를 섭씨로 입력하세요\"))\n",
    "F = (a*1.8)+32\n",
    "if F == int(F):\n",
    "    print(f\"오늘의 온도는 화씨로 {int(F)}도입니다.\")      \n",
    "else:\n",
    "    print(\"오늘의 온도는 화씨로 {:.2f}도입니다\".format(F))"
   ]
  },
  {
   "cell_type": "code",
   "execution_count": null,
   "id": "582ba775",
   "metadata": {},
   "outputs": [],
   "source": [
    "# Quiz7. 다음 중 변수 선언으로 잘못된 것을 모두 고르시오? 1,2,3번\n",
    "1. for\n",
    "2. 10th\n",
    "3. student.name #.이 있어서 안됨. 그리고 변수가 대문자로 시작하면 미친놈 소리들음\n",
    "4. _1234"
   ]
  },
  {
   "cell_type": "code",
   "execution_count": 280,
   "id": "1002c75e",
   "metadata": {},
   "outputs": [
    {
     "name": "stdout",
     "output_type": "stream",
     "text": [
      "SeounSeoul\n",
      "Seou n Seoul\n"
     ]
    }
   ],
   "source": [
    "# Quiz8. 다음의 코드의 실행결과는? \"Seo\" \"Seo\"\n",
    "text = \"Seoul A001 - programming with python\"\n",
    "print(text[:4]+text[-1]+text.split()[0])\n",
    "print(text[:4], text[-1], text.split()[0])"
   ]
  },
  {
   "cell_type": "code",
   "execution_count": null,
   "id": "1d3e3e56",
   "metadata": {},
   "outputs": [],
   "source": [
    "# Quiz9. 다음 중 파이썬 3.x 버전에서 연산식과 그 결과의 출력이 잘못된 것은? 없다.\n",
    "1. 수식 8//2의 결과는 4다\n",
    "2. 수식 8/2의 결과는 4다\n",
    "3. 수식 8**2의 결과는 64다"
   ]
  },
  {
   "cell_type": "code",
   "execution_count": 284,
   "id": "739e48df",
   "metadata": {},
   "outputs": [],
   "source": [
    "# Quiz10. 아래 프로그램의 결과는? 성립불가. 스트링은 숫자가 아니기 때문에? 5를 문자로바꿔서 해결\n",
    "# x = 5 \n",
    "# y = \"John\"\n",
    "# print(x + y)"
   ]
  },
  {
   "cell_type": "code",
   "execution_count": 29,
   "id": "44e018a5",
   "metadata": {},
   "outputs": [
    {
     "data": {
      "text/plain": [
       "'나라'"
      ]
     },
     "execution_count": 29,
     "metadata": {},
     "output_type": "execute_result"
    }
   ],
   "source": [
    "# Quiz11. split()함수를 이용하여 str_의 값 중 \"나라\"를 출력하는 프로그램을 완성하시오.\n",
    "str_ = \"우리 나라 대한 민국\"\n",
    "str_.split()[1]"
   ]
  },
  {
   "cell_type": "code",
   "execution_count": null,
   "id": "0aba16cb",
   "metadata": {},
   "outputs": [],
   "source": [
    "강사님 깃에서 답안 참조 꼭해서 복습"
   ]
  },
  {
   "cell_type": "code",
   "execution_count": null,
   "id": "f8155054",
   "metadata": {},
   "outputs": [],
   "source": []
  },
  {
   "cell_type": "code",
   "execution_count": null,
   "id": "d1f54edb",
   "metadata": {},
   "outputs": [],
   "source": []
  },
  {
   "cell_type": "code",
   "execution_count": null,
   "id": "f185b883",
   "metadata": {},
   "outputs": [],
   "source": []
  },
  {
   "cell_type": "code",
   "execution_count": null,
   "id": "116285f6",
   "metadata": {},
   "outputs": [],
   "source": []
  },
  {
   "cell_type": "code",
   "execution_count": null,
   "id": "700d9219",
   "metadata": {},
   "outputs": [],
   "source": []
  }
 ],
 "metadata": {
  "kernelspec": {
   "display_name": "Python 3 (ipykernel)",
   "language": "python",
   "name": "python3"
  },
  "language_info": {
   "codemirror_mode": {
    "name": "ipython",
    "version": 3
   },
   "file_extension": ".py",
   "mimetype": "text/x-python",
   "name": "python",
   "nbconvert_exporter": "python",
   "pygments_lexer": "ipython3",
   "version": "3.10.9"
  },
  "toc": {
   "base_numbering": 1,
   "nav_menu": {},
   "number_sections": false,
   "sideBar": true,
   "skip_h1_title": false,
   "title_cell": "Table of Contents",
   "title_sidebar": "Contents",
   "toc_cell": false,
   "toc_position": {
    "height": "calc(100% - 180px)",
    "left": "10px",
    "top": "150px",
    "width": "402.646px"
   },
   "toc_section_display": true,
   "toc_window_display": false
  }
 },
 "nbformat": 4,
 "nbformat_minor": 5
}
