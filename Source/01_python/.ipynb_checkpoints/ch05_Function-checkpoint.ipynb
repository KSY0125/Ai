{
 "cells": [
  {
   "cell_type": "code",
   "execution_count": 1,
   "id": "09fb9fcb",
   "metadata": {},
   "outputs": [
    {
     "data": {
      "text/html": [
       "\n",
       "<style>\n",
       "div.container{width:90% !important;}\n",
       "div.cell.code_cell.rendered{width:100%;}\n",
       "div.input_prompt{padding:0px;}\n",
       "div.CodeMirror {font-family:Consolas; font-size:12pt;}\n",
       "div.text_cell_render.rendered_html{font-size:12pt;}\n",
       "div.output {font-size:12pt; font-weight:bold;}\n",
       "div.input {font-family:Consolas; font-size:12pt;}\n",
       "div.prompt {min-width:100px;}\n",
       "div#toc-wrapper{padding-top:120px;}\n",
       "div.text_cell_render ul li{font-size:12pt;padding:5px;}\n",
       "table.dataframe{font-size:12px;}\n",
       "</style>\n"
      ],
      "text/plain": [
       "<IPython.core.display.HTML object>"
      ]
     },
     "metadata": {},
     "output_type": "display_data"
    }
   ],
   "source": [
    "from IPython.display import display, HTML\n",
    "display(HTML(\"\"\"\n",
    "<style>\n",
    "div.container{width:90% !important;}\n",
    "div.cell.code_cell.rendered{width:100%;}\n",
    "div.input_prompt{padding:0px;}\n",
    "div.CodeMirror {font-family:Consolas; font-size:12pt;}\n",
    "div.text_cell_render.rendered_html{font-size:12pt;}\n",
    "div.output {font-size:12pt; font-weight:bold;}\n",
    "div.input {font-family:Consolas; font-size:12pt;}\n",
    "div.prompt {min-width:100px;}\n",
    "div#toc-wrapper{padding-top:120px;}\n",
    "div.text_cell_render ul li{font-size:12pt;padding:5px;}\n",
    "table.dataframe{font-size:12px;}\n",
    "</style>\n",
    "\"\"\"))"
   ]
  },
  {
   "cell_type": "markdown",
   "id": "f6029c2b",
   "metadata": {},
   "source": [
    "<b><font size=\"6\" Color=\"red\">ch05. Function </font></b>\n",
    "- 반복해서 사용할 코드를 묶어 놓고 그것에 이름을 붙인 것이 '함수'\n",
    "  > 여러 함수를 묶어둔 건 '라이브러리'\n",
    "- 오버로딩 불가\n",
    "    - 같은 이름의 함수는 덮어쓴다\n",
    "- 함수 정의\n",
    "    - IT업계에서는 대괄호는 생략가능한 부분이구나라고 인지함\n",
    "    - 변수명 쓰는 것과 함수명 쓰는 문법은 같다\n",
    "``` \n",
    "def 함수명 ([매개변수, 매개변수2, ..]):   \n",
    "    명령어1\n",
    "    명령어2.....\n",
    "```\n",
    "# 1절. 함수의 정의 및 사용\n",
    "## 1.1 함수 정의\n"
   ]
  },
  {
   "cell_type": "code",
   "execution_count": 2,
   "id": "8d5685d3",
   "metadata": {},
   "outputs": [],
   "source": [
    "def my_message(x, msg): #msg를 x번 출력하는 함수 #이렇게 생성후 my_me만 치고 tab하면 자동완성됨.\n",
    "    for i in range(x):\n",
    "        print(i, msg)  #심볼 테이블이 뭔지? 물어보자 GPT "
   ]
  },
  {
   "cell_type": "code",
   "execution_count": 3,
   "id": "3b8e4615",
   "metadata": {},
   "outputs": [
    {
     "name": "stdout",
     "output_type": "stream",
     "text": [
      "0 Hello\n",
      "1 Hello\n",
      "2 Hello\n"
     ]
    }
   ],
   "source": [
    "# 함수 사용 == 함수 호출\n",
    "my_message(3, 'Hello')"
   ]
  },
  {
   "cell_type": "code",
   "execution_count": 4,
   "id": "db1676f4",
   "metadata": {},
   "outputs": [
    {
     "name": "stdout",
     "output_type": "stream",
     "text": [
      "0 Hello\n",
      "1 Hello\n",
      "0 Python\n",
      "1 Python\n",
      "2 Python\n"
     ]
    }
   ],
   "source": [
    "# 함수 이름 변경\n",
    "my_msg = my_message\n",
    "my_message(2, 'Hello')\n",
    "my_msg(3, 'Python')"
   ]
  },
  {
   "cell_type": "code",
   "execution_count": 5,
   "id": "e8dccb83",
   "metadata": {},
   "outputs": [],
   "source": [
    "# 혹여나, def my_msg() 이렇게 my_msg라는 새로운 함수를 만들려고 하면, my message는 그대로 있고 my msg에 덮어 씌운다"
   ]
  },
  {
   "cell_type": "code",
   "execution_count": 6,
   "id": "d6580656",
   "metadata": {},
   "outputs": [
    {
     "data": {
      "text/plain": [
       "(function, function)"
      ]
     },
     "execution_count": 6,
     "metadata": {},
     "output_type": "execute_result"
    }
   ],
   "source": [
    "type(my_msg), type(my_message)"
   ]
  },
  {
   "cell_type": "code",
   "execution_count": 7,
   "id": "11efc6d2",
   "metadata": {},
   "outputs": [
    {
     "name": "stdout",
     "output_type": "stream",
     "text": [
      "Hello\n"
     ]
    }
   ],
   "source": [
    "print('Hello') # 파이썬 내장 함수 : import 하지 않고 사용할 수 있는, 이미 만들어져있는 함수 #ppt 48-52p 참조\n",
    "# print = 5\n",
    "# print('Hello') << 이렇게 해버리면 무조건 에러남 \n",
    "# del print #<< 그래서 이렇게 지워야 함. 그리고 print 씌운데서부터 커널 재시작 필수"
   ]
  },
  {
   "cell_type": "code",
   "execution_count": 8,
   "id": "8d5a1433",
   "metadata": {},
   "outputs": [
    {
     "name": "stdout",
     "output_type": "stream",
     "text": [
      "0 Hello\n",
      "1 Hello\n"
     ]
    }
   ],
   "source": [
    "my_message(2, 'Hello')"
   ]
  },
  {
   "cell_type": "code",
   "execution_count": 9,
   "id": "99e29a48",
   "metadata": {},
   "outputs": [],
   "source": [
    "# my_message = 5 #함수였는데 int값으로 바뀌어버림\n",
    "# my_msg(2, 'Hello') #my_msg는 정상구동됨.\n",
    "# my_message(2, 'Hello') # int값으로 변환됐기에, 에러남\n",
    "# del my_message  #에러 처리를 위해 함수 날림. my_msg는 정상구동.\n",
    "# # 이로 인해 my_messgae는 삭제됨. > 즉, 사용자 정의함수, 라이브러리 함수는 del하면 사용 불가 > 파이썬 내장함수만 재사용 가능"
   ]
  },
  {
   "cell_type": "code",
   "execution_count": 10,
   "id": "e87d5295",
   "metadata": {},
   "outputs": [],
   "source": [
    "# 함수 중복 정의 불가(=오버로딩 불가)의 예시\n",
    "# 두번째 아래 함수로 덮어씌워지고 첫번째 함수는 없어짐.\n",
    "# 이런 경우는 C++에서만 가능함\n",
    "# 첫번째 꺼로 실행해도, cnt값을 넣으라고 에러남.\n",
    "def my_hello():\n",
    "    print('Hello Python')\n",
    "    print('Hello World')\n",
    "def my_hello(cnt): # cnt번 출력\n",
    "    for i in range(cnt):\n",
    "        print('Hello, Python', end=\"\\t\")\n",
    "        print('Hello, World')"
   ]
  },
  {
   "cell_type": "code",
   "execution_count": 11,
   "id": "24943e8d",
   "metadata": {},
   "outputs": [
    {
     "name": "stdout",
     "output_type": "stream",
     "text": [
      "Hello, Python\tHello, World\n"
     ]
    }
   ],
   "source": [
    "my_hello(1)"
   ]
  },
  {
   "cell_type": "code",
   "execution_count": 12,
   "id": "a9298c6e",
   "metadata": {},
   "outputs": [
    {
     "name": "stdout",
     "output_type": "stream",
     "text": [
      "Hello, Python\tHello, World\n",
      "Hello, Python\tHello, World\n"
     ]
    }
   ],
   "source": [
    "my_hello(2)"
   ]
  },
  {
   "cell_type": "code",
   "execution_count": 13,
   "id": "601ceee7",
   "metadata": {},
   "outputs": [
    {
     "data": {
      "text/plain": [
       "<function __main__.my_hello(cnt)>"
      ]
     },
     "execution_count": 13,
     "metadata": {},
     "output_type": "execute_result"
    }
   ],
   "source": [
    "my_hello"
   ]
  },
  {
   "cell_type": "code",
   "execution_count": 14,
   "id": "c43456bc",
   "metadata": {},
   "outputs": [
    {
     "data": {
      "text/plain": [
       "'__main__'"
      ]
     },
     "execution_count": 14,
     "metadata": {},
     "output_type": "execute_result"
    }
   ],
   "source": [
    "__name__"
   ]
  },
  {
   "cell_type": "code",
   "execution_count": 15,
   "id": "834333b3",
   "metadata": {},
   "outputs": [
    {
     "name": "stdout",
     "output_type": "stream",
     "text": [
      "Hello, Python\tHello, World\n",
      "Hello, Python\tHello, World\n"
     ]
    }
   ],
   "source": [
    "#실무에서 진짜 많이함. 필수습득\n",
    "\n",
    "if __name__ == '__main__':  #참일 때만 수행해 > 수행됨.\n",
    "    my_hello(2)"
   ]
  },
  {
   "cell_type": "code",
   "execution_count": 16,
   "id": "5397705d",
   "metadata": {},
   "outputs": [],
   "source": [
    "import ch05 #ch05모듈이 해석되서 메모리 로드"
   ]
  },
  {
   "cell_type": "code",
   "execution_count": 17,
   "id": "b08aa0d6",
   "metadata": {},
   "outputs": [
    {
     "name": "stdout",
     "output_type": "stream",
     "text": [
      "ch05\n",
      "Hello, Python\tHello, World\n",
      "Hello, Python\tHello, World\n",
      "Hello, Python\tHello, World\n"
     ]
    }
   ],
   "source": [
    "ch05.my_hello(3) #py파일인 모듈의 이름.함수 <<이 형식으로 써야 가능."
   ]
  },
  {
   "cell_type": "code",
   "execution_count": 18,
   "id": "a85dadd3",
   "metadata": {},
   "outputs": [
    {
     "name": "stdout",
     "output_type": "stream",
     "text": [
      "ch05\n",
      "Hello, Python\tHello, World\n",
      "Hello, Python\tHello, World\n"
     ]
    }
   ],
   "source": [
    "from ch05 import my_hello # ch05모듈 안의 my_hello 함수 메모리만 로드\n",
    "my_hello(2)"
   ]
  },
  {
   "cell_type": "markdown",
   "id": "f5178e9c",
   "metadata": {},
   "source": [
    "## 1.2 docstring"
   ]
  },
  {
   "cell_type": "code",
   "execution_count": 19,
   "id": "c554a6b1",
   "metadata": {},
   "outputs": [],
   "source": [
    "def my_function():\n",
    "    \"\"\"\n",
    "    독스트링은 함수의 설명서를 달아주는 역할 (shift+tab+tab 시에 나오게 할 수 있음)\n",
    "    함수의 첫 라인에 독스트링을 포함할 수 있습니다.\n",
    "    주석으로 할 경우 정보 확인(shift+tab+tab)이 불가능\n",
    "    명령어 인입 전 함수명 바로 아래에 위치시킴\n",
    "    '''홑따옴표로도 가능하다'''\n",
    "    \"\"\""
   ]
  },
  {
   "cell_type": "code",
   "execution_count": 20,
   "id": "7a17766d",
   "metadata": {},
   "outputs": [
    {
     "name": "stdout",
     "output_type": "stream",
     "text": [
      "\n",
      "    독스트링은 함수의 설명서를 달아주는 역할 (shift+tab+tab 시에 나오게 할 수 있음)\n",
      "    함수의 첫 라인에 독스트링을 포함할 수 있습니다.\n",
      "    주석으로 할 경우 정보 확인(shift+tab+tab)이 불가능\n",
      "    명령어 인입 전 함수명 바로 아래에 위치시킴\n",
      "    '''홑따옴표로도 가능하다'''\n",
      "    \n"
     ]
    }
   ],
   "source": [
    "#독스트링 확인 방법 2가지\n",
    "my_function()  #괄호 내에서 shift+tab+tab\n",
    "print(my_function.__doc__)"
   ]
  },
  {
   "cell_type": "code",
   "execution_count": 21,
   "id": "963fe429",
   "metadata": {},
   "outputs": [],
   "source": [
    "def fibonacci(n):\n",
    "    '''\n",
    "    매개변수로 들어온 n값 미만의 피보나치 수열을 출력하는 함수\n",
    "    ex. n=10 : 0, 1, 1, 2, 3, 5, 8 - 10 미만\n",
    "    ex. n=100 : 0, 1, 1, 2, 3, 5, 8, 13, 21, 34, 55, 89 - 100 미만\n",
    "        논리 : 0+1=1이라 0,1,1로 정렬 그 다음 1+1=2라서 0,1,1,2가 됨\n",
    "    '''\n",
    "    a, b = 0, 1 # 함수 내에 선언한 변수 : 지역변수 (반대말은 '전역변수')\n",
    "    while a < n:\n",
    "        print(a, end=' ')\n",
    "        a, b = b, a+b\n",
    "    print() # 개행"
   ]
  },
  {
   "cell_type": "code",
   "execution_count": 22,
   "id": "41895c80",
   "metadata": {},
   "outputs": [
    {
     "name": "stdout",
     "output_type": "stream",
     "text": [
      "0 1 1 2 3 5 8 13 21 34 55 89 144 233 377 610 987 1597 2584 4181 6765 \n"
     ]
    }
   ],
   "source": [
    "fibonacci(10000)"
   ]
  },
  {
   "cell_type": "code",
   "execution_count": 23,
   "id": "ecd32491",
   "metadata": {},
   "outputs": [],
   "source": [
    "# a, b #에러남. 지역변수는 함수 내에서만 사용가능"
   ]
  },
  {
   "cell_type": "markdown",
   "id": "3203d358",
   "metadata": {},
   "source": [
    "## 1.3 지역변수(local var)와 전역변수(global var)"
   ]
  },
  {
   "cell_type": "code",
   "execution_count": 24,
   "id": "dc7643d1",
   "metadata": {},
   "outputs": [
    {
     "name": "stdout",
     "output_type": "stream",
     "text": [
      "함수안 : 100\n",
      "함수밖 : 100\n"
     ]
    }
   ],
   "source": [
    "global_var = 100 #global_var = 100 은 함수 밖에 선언된 변수. 프로그램 전체에서 접근 가능. 함수 안에서도 읽을 수 있음.\n",
    "def func1():\n",
    "    print('함수안 :', global_var) #함수 안에서 global_var 값을 출력하는 것은 문제가 없어. 하지만 함수 안에서 전역변수를 수정하려면 global 키워드를 써야 해.\n",
    "func1()\n",
    "print('함수밖 :', global_var)"
   ]
  },
  {
   "cell_type": "code",
   "execution_count": 25,
   "id": "61c35edd",
   "metadata": {},
   "outputs": [
    {
     "name": "stdout",
     "output_type": "stream",
     "text": [
      "함수안 : 200\n"
     ]
    }
   ],
   "source": [
    "def func2():\n",
    "    local_var = 200 # 지역변수 (함수 안에서 선언되고, 함수 안에서만 사용되는 변수)\n",
    "    print('함수안 :', local_var)\n",
    "func2()"
   ]
  },
  {
   "cell_type": "code",
   "execution_count": 26,
   "id": "f65f79e1",
   "metadata": {},
   "outputs": [],
   "source": [
    "# print('함수 밖에서 지역변수 :', local_var) 로컬바가 없으니까 당연히 에러남"
   ]
  },
  {
   "cell_type": "code",
   "execution_count": 27,
   "id": "2adf66a4",
   "metadata": {},
   "outputs": [
    {
     "name": "stdout",
     "output_type": "stream",
     "text": [
      "g_var : 200\n",
      "g_var : 100\n"
     ]
    }
   ],
   "source": [
    "#예시\n",
    "g_var = 100 #전역변수\n",
    "def func3():\n",
    "    g_var = 200 #지역변수와 전역변수의 심볼테이블은 분리가 되어있기 때문에 상관없음\n",
    "    print('g_var :', g_var) #이건 지역변수 출력값임\n",
    "func3() #지역변수 출력했기에 지역변수값은 사라짐\n",
    "print('g_var :', g_var) #전역변수 출력함"
   ]
  },
  {
   "cell_type": "code",
   "execution_count": 28,
   "id": "e6adee96",
   "metadata": {},
   "outputs": [],
   "source": [
    "# #예시2 렉시컬 특성 : 변수가 어디서 선언되었는지에 따라 변수의 범위가 정해짐(지역vs전역)\n",
    "# g_var = 100 #전역변수\n",
    "# def func3():\n",
    "#     print('g_var :', g_var) #지역변수값을 넣기 전에 프린트하라 했기 때문에 에러남\n",
    "#     g_var = 200 #지역변수\n",
    "# func3()\n",
    "# print('g_var :', g_var) "
   ]
  },
  {
   "cell_type": "code",
   "execution_count": 29,
   "id": "7799a772",
   "metadata": {},
   "outputs": [
    {
     "name": "stdout",
     "output_type": "stream",
     "text": [
      "전역변수 g_var : 100\n",
      "전역변수 g_var : 200\n"
     ]
    }
   ],
   "source": [
    "#예시3 렉시컬 특성에 따라 변수에 영역이 지정된 상황\n",
    "g_var = 100 #전역변수\n",
    "def func3():\n",
    "    global g_var # 선언 \"함수 내에서의 g_var는 전역변수를 쓰겠다\" > 전역변수를 끌어옴\n",
    "    print('전역변수 g_var :', g_var)\n",
    "    g_var = 200 # 전역변수 g_var에 200할당하고 싶다!?\n",
    "func3()\n",
    "print('전역변수 g_var :', g_var) "
   ]
  },
  {
   "cell_type": "markdown",
   "id": "be35e547",
   "metadata": {},
   "source": [
    "## 1.4 값에 의한 호출 (call by value)\n",
    "- 함수에 인수로 전달되는 변수(매개변수)가 스칼라변수(문자, 숫자, 논리형)일 때\n",
    "    - 스칼라 변수는 새로운 변수가 오면 기존 거 지우고 새로운 거로 갈아탄다? GPT 확인 필수"
   ]
  },
  {
   "cell_type": "code",
   "execution_count": 30,
   "id": "0747e506",
   "metadata": {},
   "outputs": [
    {
     "data": {
      "text/plain": [
       "2522600007472"
      ]
     },
     "execution_count": 30,
     "metadata": {},
     "output_type": "execute_result"
    }
   ],
   "source": [
    "foo = 'a' #전역변수\n",
    "id(foo) #위치"
   ]
  },
  {
   "cell_type": "code",
   "execution_count": 31,
   "id": "47e3bd64",
   "metadata": {},
   "outputs": [
    {
     "name": "stdout",
     "output_type": "stream",
     "text": [
      "Before : a 의 주소는  2522600007472\n",
      "After : aaa 의 주소는  2522678387376\n"
     ]
    }
   ],
   "source": [
    "def func1(f): # 매개변수는 무조건 지역변수다.\n",
    "    print('Before :', f, '의 주소는 ', id(f))\n",
    "    f = f*3 \n",
    "    print('After :', f, '의 주소는 ', id(f))\n",
    "func1(foo)\n",
    "\n",
    "# foo = 'a' : 'a'라는 문자열 객체를 만들고 foo는 그 객체를 참조(가리킴)\n",
    "# func1(foo)\n",
    "# → 함수 호출 시 foo가 가리키는 객체의 **참조값(주소)**이 f에 값으로 복사됨\n",
    "# → f는 처음엔 foo와 같은 객체를 가리킴 (같은 id)\n",
    "\n",
    "# f = f * 3 : 'aaa'라는 새로운 문자열 객체가 만들어짐\n",
    "# → f는 이제 그 새 객체를 가리킴 (id가 다름)\n",
    "# → foo는 그대로 'a'\n",
    "\n",
    "# f는 foo의 객체 참조를 복사받은 것\n",
    "# 즉, foo와 f는 같은 객체를 참조하지만,\n",
    "# f가 새로운 객체를 가리키게 되면 둘은 연결이 끊김\n",
    "\n",
    "# 이건 **\"값에 의한 호출(call by value)\"**보다\n",
    "# 더 정확히는 \"참조의 값을 전달\"하는 방식"
   ]
  },
  {
   "cell_type": "code",
   "execution_count": 32,
   "id": "a7320869",
   "metadata": {},
   "outputs": [
    {
     "name": "stdout",
     "output_type": "stream",
     "text": [
      "foo =  a 의 주소는 2522600007472\n"
     ]
    }
   ],
   "source": [
    "print('foo = ', foo, '의 주소는', id(foo))"
   ]
  },
  {
   "cell_type": "code",
   "execution_count": 33,
   "id": "944c205c",
   "metadata": {},
   "outputs": [],
   "source": [
    "# 값에 의한 호출이 뭐라는건지 이해가 잘 안간다. 뭔소리여 !!!"
   ]
  },
  {
   "cell_type": "markdown",
   "id": "22a69973",
   "metadata": {},
   "source": [
    "## 1.5 참조에 의한 호출 (call by reference)\n",
    "- 함수에 인수로 전달되는 변수가 리스트,튜플,셋,딕셔너리,기타 객체일 경우"
   ]
  },
  {
   "cell_type": "code",
   "execution_count": 34,
   "id": "ab0f9ee4",
   "metadata": {},
   "outputs": [
    {
     "data": {
      "text/plain": [
       "2522678200448"
      ]
     },
     "execution_count": 34,
     "metadata": {},
     "output_type": "execute_result"
    }
   ],
   "source": [
    "L = [1, 2, 3, 4, 5] # L을 매개변수로 쓸 예정\n",
    "id(L)"
   ]
  },
  {
   "cell_type": "code",
   "execution_count": 35,
   "id": "ab158cf1",
   "metadata": {},
   "outputs": [
    {
     "name": "stdout",
     "output_type": "stream",
     "text": [
      "before : [1, 2, 3, 4, 5] 의 주소는  2522678200448\n",
      "After : [1, 2, 3, 4, 5, 6] 의 주소는  2522678200448\n"
     ]
    }
   ],
   "source": [
    "def func2(f): # 매개변수는 지역변수 \n",
    "    print('before :', f, '의 주소는 ', id(f))\n",
    "    f.append(6)\n",
    "    print('After :', f, '의 주소는 ', id(f))\n",
    "func2(L) #l과f 모두 윗 셀의 리스트를 가리킴 > 리스트에 어펜드로 6추가 시킨 후 주소 물어봄\n",
    "\n",
    "# func2라는 함수값을 이용하는 거고, 그 함수값에 매개변수인 L로 넣으니 당연히 이런 결과가 나오는거지. "
   ]
  },
  {
   "cell_type": "code",
   "execution_count": 36,
   "id": "8908e9c3",
   "metadata": {},
   "outputs": [
    {
     "name": "stdout",
     "output_type": "stream",
     "text": [
      "L [1, 2, 3, 4, 5, 6] 의 주소는 2522678200448\n"
     ]
    }
   ],
   "source": [
    "print('L', L, '의 주소는', id(L)) #L을 카피 받은 f로 인해 L의 주소가 바뀌지도 않았다."
   ]
  },
  {
   "cell_type": "markdown",
   "id": "86989c73",
   "metadata": {},
   "source": [
    "# 2절. 함수의 실행 결과를 반환하는 return"
   ]
  },
  {
   "cell_type": "code",
   "execution_count": 41,
   "id": "534faa17",
   "metadata": {},
   "outputs": [],
   "source": [
    "def fibonacci_print(n):\n",
    "    '''\n",
    "    매개변수로 들어온 n값 미만의 피보나치 수열을 출력하는 함수\n",
    "    ex. n=10 : 0, 1, 1, 2, 3, 5, 8 - 10 미만\n",
    "    ex. n=100 : 0, 1, 1, 2, 3, 5, 8, 13, 21, 34, 55, 89 - 100 미만\n",
    "        논리 : 0+1=1이라 0,1,1로 정렬 그 다음 1+1=2라서 0,1,1,2가 됨\n",
    "    '''\n",
    "    a, b = 0, 1 # 함수 내에 선언한 변수 : 지역변수 (반대말은 '전역변수')\n",
    "    while a < n:\n",
    "        print(a, end=' ')\n",
    "        a, b = b, a+b\n",
    "    print() # 개행\n",
    "def fibonacci(n):  #1.2절에서 만든 피보나치 함수에 덮어씌워져서 기존 함수는 이것으로 대체되어 사라짐..\n",
    "    \"n미만의 피보나치 수열을 리스트로 return\"\n",
    "    result = [] # 피보나치 수열을 append할 리스트\n",
    "    a, b = 0, 1\n",
    "    while a<n:\n",
    "        result.append(a) # 출력대신 비어진 리스트에 계속 append 해서 채워지는 개념\n",
    "        a, b = b, a+b\n",
    "    return result"
   ]
  },
  {
   "cell_type": "code",
   "execution_count": 38,
   "id": "fb42d49b",
   "metadata": {},
   "outputs": [
    {
     "name": "stdout",
     "output_type": "stream",
     "text": [
      "[0, 1, 1, 2, 3, 5, 8]\n",
      "<class 'list'>\n"
     ]
    }
   ],
   "source": [
    "x = fibonacci(10)\n",
    "print(x)\n",
    "print(type(x))"
   ]
  },
  {
   "cell_type": "code",
   "execution_count": 39,
   "id": "fa530926",
   "metadata": {},
   "outputs": [
    {
     "name": "stdout",
     "output_type": "stream",
     "text": [
      "0 1 1 2 3 5 8 \n",
      "None\n",
      "<class 'NoneType'>\n"
     ]
    }
   ],
   "source": [
    "x = fibonacci_print(10)\n",
    "print(x)\n",
    "print(type(x))\n",
    "\n",
    "# 함수 내부에서 print()는 출력만 할 뿐, 값 반환하지 않음.\n",
    "# 함수 fibonacci와 달리 fibonacci_print는 return이 없기에, 이런 경우에서 파이썬은 함수 끝에서 자동으로 None을 반환함.\n",
    "# 즉, fibonacci(10)을 실행 > 숫자들을 출력함 > but, 반환값이 없음 > 그래서 'None'으로 반환됨\n",
    "# 따라서 print(x) 하면 None, print(type(x)) 하면 <class 'NoneType'>이 되는 것."
   ]
  },
  {
   "cell_type": "markdown",
   "id": "330b688d",
   "metadata": {},
   "source": [
    "## 여러개 값 return\n",
    "- 사실 상, 여러 개 값 return이 아닌 \"여러 개 값을 갖는 튜플'이라는 1개의 데이터로 return\"이 되는거다."
   ]
  },
  {
   "cell_type": "code",
   "execution_count": 43,
   "id": "ee878c86",
   "metadata": {},
   "outputs": [],
   "source": [
    "def swap(a, b):\n",
    "    '매개변수의 순서를 바꿔서 return'\n",
    "    return (b, a) #return (b, a)"
   ]
  },
  {
   "cell_type": "code",
   "execution_count": 50,
   "id": "db79b715",
   "metadata": {},
   "outputs": [
    {
     "name": "stdout",
     "output_type": "stream",
     "text": [
      "함수 실행 전 x, y : 5 10\n",
      "함수 실행 후 x, y : 10 5\n"
     ]
    }
   ],
   "source": [
    "# x, y = 5, 10 # 많이 쓰는 방식\n",
    "x = 5; y = 10 #1줄에 두개의 명령어 칠 때만 세미콜론(;)사용. 1 줄에 한 개의 명령어면 필요 없음. 잘 안씀\n",
    "print('함수 실행 전 x, y :', x, y)\n",
    "x, y = swap(x, y) #스왑 변환\n",
    "print('함수 실행 후 x, y :', x, y) #진짜 바뀜"
   ]
  },
  {
   "cell_type": "markdown",
   "id": "826ffcb3",
   "metadata": {},
   "source": [
    "# 3절. 함수의 매개변수 ★\n",
    "## 3.1 기본값을 갖는 매개변수"
   ]
  },
  {
   "cell_type": "code",
   "execution_count": 51,
   "id": "767d9042",
   "metadata": {},
   "outputs": [],
   "source": [
    "def make_url(ip, port=80): #순서인수 > 기본값을 갖는 매개변수 순으로 만들 것. #기본값은 3가지를 가질 수 있으며, 상수(80)가 올 수도 변수(L)가 올 수도 있다. (ex. port=L)\n",
    "# def make_url(port, ip): 이렇게 모든 변수가 기본값을 안 가지면 순서 상관 없음\n",
    "# def make_url(port=80, ip): #ERROR : 기본값 갖는 매개변수가 작은데도 앞에 있기에\n",
    "    return \"http://{}:{}\".format(ip, port)"
   ]
  },
  {
   "cell_type": "code",
   "execution_count": 54,
   "id": "e39ce882",
   "metadata": {},
   "outputs": [
    {
     "name": "stdout",
     "output_type": "stream",
     "text": [
      "http://localhost:8090\n",
      "http://www.naver.com:80\n",
      "http://localhost:9090\n"
     ]
    }
   ],
   "source": [
    "print(make_url(\"localhost\", 8090)) #포맷대로 반환\n",
    "print(make_url(\"www.naver.com\")) #두번째 매개변수 안 넣었기에 기본값으로 반환\n",
    "print(make_url(port=9090, ip=\"localhost\")) #순서 바꿨지만 포맷대로 정렬되어 반환\n",
    "# print(make_url(port=9090) ip값을 안 넣음 > ip값은 기본값이 없기 때문에 에러남?"
   ]
  },
  {
   "cell_type": "markdown",
   "id": "529977a2",
   "metadata": {},
   "source": [
    "## 3.2 기본변수를 기본값으로 갖는 매개변수\n",
    " - 기본변수가 스칼라변수(문자, 숫자, 논리형)일 때\n",
    " - 기본변수가 리스트, 셋, 딕셔너리, 튜플, 기타 객체일 때"
   ]
  },
  {
   "cell_type": "code",
   "execution_count": 56,
   "id": "6d8bf198",
   "metadata": {},
   "outputs": [],
   "source": [
    "#예시1\n",
    "i = 80 \n",
    "# 기본변수가 스칼라변수일 때 : 함수가 정의되는 시점 기준으로 기본값이 셋팅됨.\n",
    "def make_url(ip, port=i):\n",
    "    return \"http://{}:{}\".format(ip, port)"
   ]
  },
  {
   "cell_type": "code",
   "execution_count": 58,
   "id": "91ef2ec4",
   "metadata": {},
   "outputs": [
    {
     "data": {
      "text/plain": [
       "'http://localhost:80'"
      ]
     },
     "execution_count": 58,
     "metadata": {},
     "output_type": "execute_result"
    }
   ],
   "source": [
    "i = 90 #스칼라변수라서 기본값이 80에서 바뀌지 않음\n",
    "make_url(\"localhost\")"
   ]
  },
  {
   "cell_type": "code",
   "execution_count": 59,
   "id": "0090d0b4",
   "metadata": {},
   "outputs": [
    {
     "name": "stdout",
     "output_type": "stream",
     "text": [
      "[10]\n"
     ]
    }
   ],
   "source": [
    "#예시2\n",
    "list_ = [] #이게 기본변수라는 가정\n",
    "# 기본변수가 리스트, 셋, 딕셔너리, 기타 객체일 때 : 함수가 실행되는 시점으로 기본값 셋팅\n",
    "def func3(a, L=list_): #여기서 L은 매개변수니까 지역변수다.\n",
    "    L.append(a)\n",
    "    return L\n",
    "print(func3(10)) #값을 1개만 넣었기 때문에 순서 상, 첫번째인 a 에만 10부여."
   ]
  },
  {
   "cell_type": "code",
   "execution_count": 60,
   "id": "b2dcce1c",
   "metadata": {},
   "outputs": [
    {
     "name": "stdout",
     "output_type": "stream",
     "text": [
      "[10, 20]\n"
     ]
    }
   ],
   "source": [
    "print(func3(20)) #return 되는 L값이 지속되기에 계속 추가가 됨"
   ]
  },
  {
   "cell_type": "code",
   "execution_count": 62,
   "id": "2df3a4e1",
   "metadata": {},
   "outputs": [
    {
     "name": "stdout",
     "output_type": "stream",
     "text": [
      "list_= [10, 20]\n"
     ]
    }
   ],
   "source": [
    "print(\"list_=\", list_)"
   ]
  },
  {
   "cell_type": "code",
   "execution_count": 63,
   "id": "1dd187c0",
   "metadata": {},
   "outputs": [
    {
     "name": "stdout",
     "output_type": "stream",
     "text": [
      "[10, 20, 50]\n"
     ]
    }
   ],
   "source": [
    "print(func3(50)) #return 되는 L값이 지속되기에 계속 추가가 됨"
   ]
  },
  {
   "cell_type": "code",
   "execution_count": 64,
   "id": "f910a3eb",
   "metadata": {},
   "outputs": [
    {
     "name": "stdout",
     "output_type": "stream",
     "text": [
      "[10, 20, 50, 80]\n"
     ]
    }
   ],
   "source": [
    "print(func3(80)) #return 되는 L값이 지속되기에 계속 추가가 됨"
   ]
  },
  {
   "cell_type": "code",
   "execution_count": 74,
   "id": "4cc76a76",
   "metadata": {},
   "outputs": [
    {
     "name": "stdout",
     "output_type": "stream",
     "text": [
      "[10]\n",
      "[1, 2, 3, 10]\n"
     ]
    }
   ],
   "source": [
    "# 실행할 때마다 L을 공유하는 게 싫으면\n",
    "def func3(a, L=None): #기본값인 L이 변수가 아닌 상수인 상태로 가정\n",
    "    if L is None:\n",
    "        L = []\n",
    "    L.append(a) \n",
    "    return L #return은 return값을 내보내라는 의미\n",
    "print(func3(10))\n",
    "print(func3(10, [1,2,3])) #L이 None이 아닌 1,2,3 리스트이기에 그 뒤에 append.10이 되는거라 1,2,3,10이 나오는 것"
   ]
  },
  {
   "cell_type": "markdown",
   "id": "c875c898",
   "metadata": {},
   "source": [
    "## 3.3 순서인수, 키워드인수\n",
    "- 순서인수 : 함수에 정의된 순서대로 전달하는 방식\n",
    "- 키워드인수 : 인수의 이름을 명시하여 전달하는 방식\n",
    "- 함수 정의 시 순서인수와 키워드인수가 같이 올 때는, 꼭 ! 순서인수 > 키워드인수 순으로.\n",
    "    > ERROR ex:) def func3(L=None, a):"
   ]
  },
  {
   "cell_type": "code",
   "execution_count": 76,
   "id": "b4331051",
   "metadata": {},
   "outputs": [],
   "source": [
    "def func3(a, L=None):\n",
    "    if L is None:\n",
    "        L = []\n",
    "    L.append(a) \n",
    "    return L"
   ]
  },
  {
   "cell_type": "code",
   "execution_count": 78,
   "id": "7b0072ae",
   "metadata": {},
   "outputs": [
    {
     "name": "stdout",
     "output_type": "stream",
     "text": [
      "[10]\n",
      "[10, 20]\n"
     ]
    }
   ],
   "source": [
    "lst = []\n",
    "print(func3(10, lst))     #순서인수\n",
    "print(func3(L=lst, a=20)) #키워드인수 a가 앞에 오든 L이 앞에 오든 상관 X"
   ]
  },
  {
   "cell_type": "markdown",
   "id": "1a799eb1",
   "metadata": {},
   "source": [
    "## 3.4 튜플 매개변수를 이용한 가변인수 설정\n",
    "- 가변인수 : 매개변수의 갯수가 가변"
   ]
  },
  {
   "cell_type": "code",
   "execution_count": 84,
   "id": "edec3e03",
   "metadata": {},
   "outputs": [],
   "source": [
    "# 파이썬은 함수의 중복정의(오버로딩)을 지원하지 않음\n",
    "def add(a, b):\n",
    "    return a+b\n",
    "def add(a, b, c): #이렇게 되면, 뒤에 만든 게 앞에 함수를 덮어씌우기에, 중복정의가 안됨 > 밑에서도 기존처럼 값을 2개 넣으면 ERROR\n",
    "    return a+b+c #이럴 때 처럼, 매개 변수가 2개일지 3개일지,개수를 예측할 수 없을 때 '가변인수'를 사용함"
   ]
  },
  {
   "cell_type": "code",
   "execution_count": 85,
   "id": "5a63e619",
   "metadata": {},
   "outputs": [
    {
     "data": {
      "text/plain": [
       "15"
      ]
     },
     "execution_count": 85,
     "metadata": {},
     "output_type": "execute_result"
    }
   ],
   "source": [
    "add(3, 5, 7)"
   ]
  },
  {
   "cell_type": "code",
   "execution_count": 88,
   "id": "d9a15014",
   "metadata": {},
   "outputs": [],
   "source": [
    "# args 앞에 * : \"args가 튜플로 패킹해서 전달받는다\"는 의미\n",
    "def add(*args):\n",
    "    print('args =', args)"
   ]
  },
  {
   "cell_type": "code",
   "execution_count": 94,
   "id": "ead3b4f5",
   "metadata": {},
   "outputs": [
    {
     "name": "stdout",
     "output_type": "stream",
     "text": [
      "args = ()\n",
      "args = (1,)\n",
      "args = (1, 4, 5, 6, 9, 141)\n"
     ]
    }
   ],
   "source": [
    "add()\n",
    "add(1)\n",
    "add(1, 4, 5, 6, 9, 141)"
   ]
  },
  {
   "cell_type": "code",
   "execution_count": 97,
   "id": "b7535744",
   "metadata": {},
   "outputs": [
    {
     "data": {
      "text/plain": [
       "55"
      ]
     },
     "execution_count": 97,
     "metadata": {},
     "output_type": "execute_result"
    }
   ],
   "source": [
    "def add(*args):\n",
    "    \"\"\"전달받은 매개변수들의 합을 return. 매개변수가 없는 경우 0을 return\"\"\"\n",
    "    sum = 0 # 누적변수\n",
    "    for num in args: \n",
    "        sum += num # sum = sum+num # sum 값에 누적값 들어감\n",
    "    return sum #sum값으로 반환"
   ]
  },
  {
   "cell_type": "code",
   "execution_count": 101,
   "id": "71b63e03",
   "metadata": {},
   "outputs": [
    {
     "name": "stdout",
     "output_type": "stream",
     "text": [
      "0\n",
      "1\n",
      "4\n",
      "55\n"
     ]
    }
   ],
   "source": [
    "print(add())\n",
    "print(add(1))\n",
    "print(add(1, 3))\n",
    "print(add(1, 2, 3, 4, 5, 6, 7, 8, 9, 10)) # 매개변수 갯수 제한을 돕기 위한 함수일 뿐이다."
   ]
  },
  {
   "cell_type": "code",
   "execution_count": 109,
   "id": "7bea5d5c",
   "metadata": {},
   "outputs": [
    {
     "data": {
      "text/plain": [
       "'Python-HTML/CSS-JavaScript-DBMS'"
      ]
     },
     "execution_count": 109,
     "metadata": {},
     "output_type": "execute_result"
    }
   ],
   "source": [
    "subject = ('Python', 'HTML/CSS', 'JavaScript', 'DBMS')\n",
    "'-'.join(subject)"
   ]
  },
  {
   "cell_type": "code",
   "execution_count": 79,
   "id": "b61c747c",
   "metadata": {},
   "outputs": [],
   "source": [
    "# 튜플 매개변수와 일반 매개변수가 같이 있을 때\n",
    "def concat(*subject, sep): #맨 마지막에 있는 것만 'sep'이라는 변수로 바꿔 #sep은 separate로 값을 지정한 것으로 나누라는 것 #좋은방법 아님\n",
    "    return sep.join(subject)"
   ]
  },
  {
   "cell_type": "code",
   "execution_count": 81,
   "id": "66b294ee",
   "metadata": {
    "collapsed": true
   },
   "outputs": [
    {
     "ename": "TypeError",
     "evalue": "concat() missing 1 required keyword-only argument: 'sep'",
     "output_type": "error",
     "traceback": [
      "\u001b[1;31m---------------------------------------------------------------------------\u001b[0m",
      "\u001b[1;31mTypeError\u001b[0m                                 Traceback (most recent call last)",
      "Cell \u001b[1;32mIn[81], line 2\u001b[0m\n\u001b[0;32m      1\u001b[0m \u001b[38;5;66;03m# ERROR 예시 : 맨 마지막에 있는 아이만 sep용으로 넣고, 나머지는 튜플로 만들어서 subject에 들어가도록\u001b[39;00m\n\u001b[1;32m----> 2\u001b[0m \u001b[43mconcat\u001b[49m\u001b[43m(\u001b[49m\u001b[38;5;124;43m'\u001b[39;49m\u001b[38;5;124;43mPython\u001b[39;49m\u001b[38;5;124;43m'\u001b[39;49m\u001b[43m,\u001b[49m\u001b[43m \u001b[49m\u001b[38;5;124;43m'\u001b[39;49m\u001b[38;5;124;43mHTML/CSS\u001b[39;49m\u001b[38;5;124;43m'\u001b[39;49m\u001b[43m,\u001b[49m\u001b[43m \u001b[49m\u001b[38;5;124;43m'\u001b[39;49m\u001b[38;5;124;43mJavaScript\u001b[39;49m\u001b[38;5;124;43m'\u001b[39;49m\u001b[43m,\u001b[49m\u001b[43m \u001b[49m\u001b[38;5;124;43m'\u001b[39;49m\u001b[38;5;124;43mDBMS\u001b[39;49m\u001b[38;5;124;43m'\u001b[39;49m\u001b[43m,\u001b[49m\u001b[43m \u001b[49m\u001b[38;5;124;43m'\u001b[39;49m\u001b[38;5;124;43m-\u001b[39;49m\u001b[38;5;124;43m'\u001b[39;49m\u001b[43m)\u001b[49m\n",
      "\u001b[1;31mTypeError\u001b[0m: concat() missing 1 required keyword-only argument: 'sep'"
     ]
    }
   ],
   "source": [
    "# ERROR 예시 : 맨 마지막에 있는 아이만 sep용으로 넣고, 나머지는 튜플로 만들어서 subject에 들어가도록\n",
    "concat('Python', 'HTML/CSS', 'JavaScript', 'DBMS', '-') # ERROR : 갯수제한이 없기에 sep값을 넣었어도 모든 게 다 subject로 들어가려함"
   ]
  },
  {
   "cell_type": "code",
   "execution_count": 114,
   "id": "97724215",
   "metadata": {},
   "outputs": [
    {
     "data": {
      "text/plain": [
       "'Python-HTML/CSS-JavaScript-DBMS'"
      ]
     },
     "execution_count": 114,
     "metadata": {},
     "output_type": "execute_result"
    }
   ],
   "source": [
    "# 해결책1 : sep을 키워드인수로 지정해버림\n",
    "concat('Python', 'HTML/CSS', 'JavaScript', 'DBMS', sep='-') "
   ]
  },
  {
   "cell_type": "code",
   "execution_count": 117,
   "id": "9c67a0b2",
   "metadata": {},
   "outputs": [
    {
     "name": "stdout",
     "output_type": "stream",
     "text": [
      "Python ~ Web ~ JS ~ DBMS\n",
      "Python-Web-JS-DBMS\n"
     ]
    }
   ],
   "source": [
    "# 해결책2 : 기본값을 갖는 키워드인수 사용\n",
    "def concat(*subject, sep=' ~ '): # 튜플매개변수 > 키워드인수\n",
    "    return sep.join(subject)\n",
    "print(concat('Python', 'Web', 'JS', 'DBMS'))\n",
    "print(concat('Python', 'Web', 'JS', 'DBMS', sep='-')) # sep이 물결인 게 싫어서 꼬장부릴 때"
   ]
  },
  {
   "cell_type": "code",
   "execution_count": 126,
   "id": "ffa55b62",
   "metadata": {},
   "outputs": [],
   "source": [
    "# 해결책3 : sep을 순서인수로 앞으로 함수를 수정 !!!추천\n",
    "def concat(sep, *subject):\n",
    "    return sep.join(subject)"
   ]
  },
  {
   "cell_type": "code",
   "execution_count": 127,
   "id": "0fbf3a54",
   "metadata": {},
   "outputs": [
    {
     "data": {
      "text/plain": [
       "'python~web~DB~MLDL'"
      ]
     },
     "execution_count": 127,
     "metadata": {},
     "output_type": "execute_result"
    }
   ],
   "source": [
    "concat('~', 'python', 'web', 'DB', 'MLDL') #이러면 절대 에러안남. 맨 앞에 있기 때문에"
   ]
  },
  {
   "cell_type": "markdown",
   "id": "98ead732",
   "metadata": {},
   "source": [
    "## 3.5 딕셔너리 매개변수\n",
    "- 딕셔너리 인수 : 여러 개의 키워드 인수를 딕셔너리 형태로 받아서 가변인수로 처리\n",
    "    > make_url(ip=\"localhost\", port=8080) -----> 여기서 port=8080 이 키워드 인수"
   ]
  },
  {
   "cell_type": "code",
   "execution_count": 44,
   "id": "b8bc8ffb",
   "metadata": {},
   "outputs": [],
   "source": [
    "def func5(**args):\n",
    "    print(args)\n",
    "    print(type(args))\n",
    "    for key, value in args. items():\n",
    "        print(\"{}:{}\".format(key, value))"
   ]
  },
  {
   "cell_type": "code",
   "execution_count": 45,
   "id": "52e71a67",
   "metadata": {},
   "outputs": [
    {
     "name": "stdout",
     "output_type": "stream",
     "text": [
      "{'name': '홍길동', 'age': 30, 'tel': '010-9999-9999', 'address': '서울시 관악구'}\n",
      "<class 'dict'>\n",
      "name:홍길동\n",
      "age:30\n",
      "tel:010-9999-9999\n",
      "address:서울시 관악구\n"
     ]
    }
   ],
   "source": [
    "func5(name='홍길동',\n",
    "      age=30,\n",
    "      tel='010-9999-9999',\n",
    "      address='서울시 관악구') #Enter쳐서 줄 바꿔서 넣어도 상관 X"
   ]
  },
  {
   "cell_type": "code",
   "execution_count": 67,
   "id": "8b72d70a",
   "metadata": {},
   "outputs": [],
   "source": [
    "#특정 Value값이 없다면 대체로 나올 것 feat. if not 활용\n",
    "def func5(**args):\n",
    "    print(args)\n",
    "    print(type(args))\n",
    "    if 'address' not in args: # args에 address키가 없으면 True\n",
    "        args['address'] = 'None'\n",
    "    for key, value in args. items():\n",
    "        print(\"{}:{}\".format(key, value))"
   ]
  },
  {
   "cell_type": "code",
   "execution_count": 68,
   "id": "92efe389",
   "metadata": {},
   "outputs": [
    {
     "name": "stdout",
     "output_type": "stream",
     "text": [
      "{'name': '홍길동', 'age': 30, 'tel': '010-9999-9999'}\n",
      "<class 'dict'>\n",
      "name:홍길동\n",
      "age:30\n",
      "tel:010-9999-9999\n",
      "address:None\n"
     ]
    }
   ],
   "source": [
    "func5(name='홍길동',\n",
    "      age=30,\n",
    "      tel='010-9999-9999',) #Enter쳐서 줄 바꿔서 넣어도 상관 X"
   ]
  },
  {
   "cell_type": "code",
   "execution_count": 69,
   "id": "14d31297",
   "metadata": {},
   "outputs": [],
   "source": [
    "#특정 Value값이 없다면 대체로 나올 것 feat. update 활용\n",
    "def func5(**args):\n",
    "    print(args)\n",
    "    print(type(args))\n",
    "    if 'tel' not in args: # args에 address키가 없으면 True\n",
    "        args.update(tel='None')\n",
    "    for key, value in args. items():\n",
    "        print(\"{}:{}\".format(key, value))"
   ]
  },
  {
   "cell_type": "code",
   "execution_count": 70,
   "id": "9f03bfe6",
   "metadata": {},
   "outputs": [
    {
     "name": "stdout",
     "output_type": "stream",
     "text": [
      "{'name': '홍길동', 'age': 30, 'address': '서울 관악구'}\n",
      "<class 'dict'>\n",
      "name:홍길동\n",
      "age:30\n",
      "address:서울 관악구\n",
      "tel:None\n"
     ]
    }
   ],
   "source": [
    "func5(name='홍길동', age=30, address='서울 관악구')"
   ]
  },
  {
   "cell_type": "markdown",
   "id": "49027c6d",
   "metadata": {},
   "source": [
    "## 3.6 함수 정의 시 매개변수 순서 ★★★★★\n",
    "- 순서인수 > 튜플인수(*) > 키워드 인수(기본값) > 딕셔너리인수(**) !!!!!!!!!!누가 더 크다 이거임"
   ]
  },
  {
   "cell_type": "code",
   "execution_count": 85,
   "id": "52d5cbbf",
   "metadata": {},
   "outputs": [],
   "source": [
    "#올바른 순서 사용법의 예시 (순서 : 순서인수 > 튜플인수 > 딕셔너리인수)\n",
    "def func6(a, b, *c, **d):\n",
    "    print('순서인수 a = ', a)\n",
    "    print('순서인수 b = ', b)\n",
    "    print('튜플인수 c = ', c)\n",
    "    print('딕셔너리인수 d = ', d)"
   ]
  },
  {
   "cell_type": "code",
   "execution_count": 86,
   "id": "848c2203",
   "metadata": {},
   "outputs": [
    {
     "name": "stdout",
     "output_type": "stream",
     "text": [
      "순서인수 a =  10\n",
      "순서인수 b =  20\n",
      "튜플인수 c =  (1, 2, 3, 4, 5, 6, 7, 8, 9, 'a', 'b', 'True')\n",
      "딕셔너리인수 d =  {'name': '홍', 'age': 30, 'address': '신림'}\n"
     ]
    }
   ],
   "source": [
    "func6(10, 20, 1,2,3,4,5,6,7,8,9,'a','b','True', name='홍', age=30, address='신림') #10=a 20=b 1~9=c lasts=d "
   ]
  },
  {
   "cell_type": "code",
   "execution_count": 89,
   "id": "4c9c39ac",
   "metadata": {},
   "outputs": [],
   "source": [
    "#올바른 순서 사용법의 예시 (순서 : 순서인수 > 튜플인수 > 키워드인수(기본값) > 딕셔너리인수)\n",
    "def func7(a, b, c, *d, e=10, **f):\n",
    "    print('순서인수 a = ', a)\n",
    "    print('순서인수 b = ', b)\n",
    "    print('순서인수 c = ', c)\n",
    "    print('튜플인수 d = ', d)\n",
    "    print('키워드인수(기본값 10) e = ', e)\n",
    "    print('딕셔너리인수 f = ', f)"
   ]
  },
  {
   "cell_type": "code",
   "execution_count": 95,
   "id": "dd7bf5f0",
   "metadata": {},
   "outputs": [
    {
     "name": "stdout",
     "output_type": "stream",
     "text": [
      "순서인수 a =  10\n",
      "순서인수 b =  20\n",
      "순서인수 c =  30\n",
      "튜플인수 d =  ()\n",
      "키워드인수(기본값 10) e =  100\n",
      "딕셔너리인수 f =  {}\n"
     ]
    }
   ],
   "source": [
    "#자료를 충분히 넣지 않은경우의 예\n",
    "func7(10, 20, 30, e=100) #나머지는 빈 튜플 + 빈 딕셔너리로 반환 # 키워드인수 공백 시, e의 기본값인 (e=10)으로 반환."
   ]
  },
  {
   "cell_type": "code",
   "execution_count": 96,
   "id": "86aed523",
   "metadata": {},
   "outputs": [
    {
     "name": "stdout",
     "output_type": "stream",
     "text": [
      "순서인수 a =  10\n",
      "순서인수 b =  20\n",
      "순서인수 c =  30\n",
      "튜플인수 d =  (1, 2, 3, 4, 5)\n",
      "키워드인수(기본값 10) e =  100\n",
      "딕셔너리인수 f =  {'shape': 'rect', 'width': 20, 'height': 30}\n"
     ]
    }
   ],
   "source": [
    "func7(10, 20, 30, 1,2,3,4,5, e=100, shape='rect', width=20, height=30,)"
   ]
  },
  {
   "cell_type": "markdown",
   "id": "1a695e42",
   "metadata": {},
   "source": [
    "## 3.7 인수의 언패킹\n",
    "### 튜플인수 언패킹\n",
    "- 언패킹 : 함수 호출 시, 매개변수 앞에 * 붙임\n",
    "- 패킹 : 함수 정의 시 매개변수 앞에 * 붙임(튜플매개변수)"
   ]
  },
  {
   "cell_type": "code",
   "execution_count": 99,
   "id": "301570ee",
   "metadata": {},
   "outputs": [
    {
     "name": "stdout",
     "output_type": "stream",
     "text": [
      "(1, 2, 3)\n"
     ]
    }
   ],
   "source": [
    "def add(*args):\n",
    "    print(args)\n",
    "add(1, 2, 3)"
   ]
  },
  {
   "cell_type": "code",
   "execution_count": 100,
   "id": "6b91eb95",
   "metadata": {},
   "outputs": [],
   "source": [
    "def add(*args): #args가 패킹됨.\n",
    "    sum = 0\n",
    "    for num in args:\n",
    "        sum += num\n",
    "    return sum"
   ]
  },
  {
   "cell_type": "code",
   "execution_count": 101,
   "id": "e4bd02c4",
   "metadata": {},
   "outputs": [
    {
     "data": {
      "text/plain": [
       "6"
      ]
     },
     "execution_count": 101,
     "metadata": {},
     "output_type": "execute_result"
    }
   ],
   "source": [
    "add(1, 2, 3)"
   ]
  },
  {
   "cell_type": "code",
   "execution_count": 105,
   "id": "0e948318",
   "metadata": {},
   "outputs": [
    {
     "data": {
      "text/plain": [
       "6"
      ]
     },
     "execution_count": 105,
     "metadata": {},
     "output_type": "execute_result"
    }
   ],
   "source": [
    "numbers = (1, 2, 3)\n",
    "add(*numbers)\n",
    "\n",
    "# #numbers는 튜플 (1, 2, 3)입니다.\n",
    "\n",
    "# *numbers는 이 튜플을 \"언패킹\"해서 함수에 전달합니다.\n",
    "\n",
    "# 즉, add(1, 2, 3)처럼 호출하는 것과 같아요.\n",
    "\n",
    "# 함수 내부에서 args는 (1, 2, 3)이라는 튜플이 됩니다.\n",
    "\n",
    "# 왜 언패킹이 필요한가요?\n",
    "\n",
    "# *args는 개수 제한 없이 여러 인자를 받기 때문에,"
   ]
  },
  {
   "cell_type": "markdown",
   "id": "3f7f52d9",
   "metadata": {},
   "source": [
    "### 딕셔너리 인수 언패킹"
   ]
  },
  {
   "cell_type": "code",
   "execution_count": 106,
   "id": "c7e568c6",
   "metadata": {},
   "outputs": [],
   "source": [
    "def func8(**data):\n",
    "    print(data)\n",
    "    for item in data.items():\n",
    "        print(item)"
   ]
  },
  {
   "cell_type": "code",
   "execution_count": 109,
   "id": "7a05b6e4",
   "metadata": {},
   "outputs": [
    {
     "name": "stdout",
     "output_type": "stream",
     "text": [
      "{'shape': 'rect', 'width': 40, 'height': 30}\n",
      "('shape', 'rect')\n",
      "('width', 40)\n",
      "('height', 30)\n"
     ]
    }
   ],
   "source": [
    "func8(shape='rect', width=40, height=30) #원래 펑크파일은 이렇게 실행시켜야 함."
   ]
  },
  {
   "cell_type": "code",
   "execution_count": 110,
   "id": "511edcd1",
   "metadata": {
    "collapsed": true
   },
   "outputs": [
    {
     "ename": "TypeError",
     "evalue": "func8() takes 0 positional arguments but 1 was given",
     "output_type": "error",
     "traceback": [
      "\u001b[1;31m---------------------------------------------------------------------------\u001b[0m",
      "\u001b[1;31mTypeError\u001b[0m                                 Traceback (most recent call last)",
      "Cell \u001b[1;32mIn[110], line 2\u001b[0m\n\u001b[0;32m      1\u001b[0m info \u001b[38;5;241m=\u001b[39m {\u001b[38;5;124m'\u001b[39m\u001b[38;5;124mshape\u001b[39m\u001b[38;5;124m'\u001b[39m:\u001b[38;5;124m'\u001b[39m\u001b[38;5;124mrect\u001b[39m\u001b[38;5;124m'\u001b[39m, \u001b[38;5;124m'\u001b[39m\u001b[38;5;124mwidth\u001b[39m\u001b[38;5;124m'\u001b[39m:\u001b[38;5;241m40\u001b[39m, \u001b[38;5;124m'\u001b[39m\u001b[38;5;124mheight\u001b[39m\u001b[38;5;124m'\u001b[39m:\u001b[38;5;241m30\u001b[39m} \u001b[38;5;66;03m#원래 딕셔너리임\u001b[39;00m\n\u001b[1;32m----> 2\u001b[0m \u001b[43mfunc8\u001b[49m\u001b[43m(\u001b[49m\u001b[43minfo\u001b[49m\u001b[43m)\u001b[49m\n",
      "\u001b[1;31mTypeError\u001b[0m: func8() takes 0 positional arguments but 1 was given"
     ]
    }
   ],
   "source": [
    "# 딕셔너리 언패킹이 필요한 ERROR의 예\n",
    "info = {'shape':'rect', 'width':40, 'height':30} #원래 딕셔너리임\n",
    "func8(info)"
   ]
  },
  {
   "cell_type": "code",
   "execution_count": 111,
   "id": "f6a88fc4",
   "metadata": {},
   "outputs": [
    {
     "name": "stdout",
     "output_type": "stream",
     "text": [
      "{'shape': 'rect', 'width': 40, 'height': 30}\n",
      "('shape', 'rect')\n",
      "('width', 40)\n",
      "('height', 30)\n"
     ]
    }
   ],
   "source": [
    "info = {'shape':'rect', 'width':40, 'height':30} #원래 딕셔너리임\n",
    "func8(**info)"
   ]
  },
  {
   "cell_type": "code",
   "execution_count": null,
   "id": "d904a639",
   "metadata": {},
   "outputs": [],
   "source": []
  },
  {
   "cell_type": "code",
   "execution_count": null,
   "id": "48d09e28",
   "metadata": {},
   "outputs": [],
   "source": []
  },
  {
   "cell_type": "code",
   "execution_count": null,
   "id": "5a64f5e1",
   "metadata": {},
   "outputs": [],
   "source": []
  },
  {
   "cell_type": "code",
   "execution_count": null,
   "id": "08e56cd3",
   "metadata": {},
   "outputs": [],
   "source": []
  },
  {
   "cell_type": "code",
   "execution_count": null,
   "id": "3d7609e7",
   "metadata": {},
   "outputs": [],
   "source": []
  },
  {
   "cell_type": "code",
   "execution_count": null,
   "id": "7e1ec962",
   "metadata": {},
   "outputs": [],
   "source": []
  }
 ],
 "metadata": {
  "kernelspec": {
   "display_name": "Python 3 (ipykernel)",
   "language": "python",
   "name": "python3"
  },
  "language_info": {
   "codemirror_mode": {
    "name": "ipython",
    "version": 3
   },
   "file_extension": ".py",
   "mimetype": "text/x-python",
   "name": "python",
   "nbconvert_exporter": "python",
   "pygments_lexer": "ipython3",
   "version": "3.10.9"
  },
  "toc": {
   "base_numbering": 1,
   "nav_menu": {},
   "number_sections": false,
   "sideBar": true,
   "skip_h1_title": false,
   "title_cell": "Table of Contents",
   "title_sidebar": "Contents",
   "toc_cell": false,
   "toc_position": {
    "height": "calc(100% - 180px)",
    "left": "10px",
    "top": "150px",
    "width": "349px"
   },
   "toc_section_display": true,
   "toc_window_display": true
  }
 },
 "nbformat": 4,
 "nbformat_minor": 5
}
