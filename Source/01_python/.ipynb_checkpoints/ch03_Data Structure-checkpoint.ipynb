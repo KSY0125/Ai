{
 "cells": [
  {
   "cell_type": "code",
   "execution_count": 69,
   "id": "aa99cdb4",
   "metadata": {},
   "outputs": [
    {
     "data": {
      "text/html": [
       "\n",
       "<style>\n",
       "div.container{width:90% !important;}\n",
       "div.cell.code_cell.rendered{width:100%;}\n",
       "div.input_prompt{padding:0px;}\n",
       "div.CodeMirror {font-family:Consolas; font-size:12pt;}\n",
       "div.text_cell_render.rendered_html{font-size:12pt;}\n",
       "div.output {font-size:12pt; font-weight:bold;}\n",
       "div.input {font-family:Consolas; font-size:12pt;}\n",
       "div.prompt {min-width:100px;}\n",
       "div#toc-wrapper{padding-top:120px;}\n",
       "div.text_cell_render ul li{font-size:12pt;padding:5px;}\n",
       "table.dataframe{font-size:12px;}\n",
       "</style>\n"
      ],
      "text/plain": [
       "<IPython.core.display.HTML object>"
      ]
     },
     "metadata": {},
     "output_type": "display_data"
    }
   ],
   "source": [
    "from IPython.display import display, HTML\n",
    "display(HTML(\"\"\"\n",
    "<style>\n",
    "div.container{width:90% !important;}\n",
    "div.cell.code_cell.rendered{width:100%;}\n",
    "div.input_prompt{padding:0px;}\n",
    "div.CodeMirror {font-family:Consolas; font-size:12pt;}\n",
    "div.text_cell_render.rendered_html{font-size:12pt;}\n",
    "div.output {font-size:12pt; font-weight:bold;}\n",
    "div.input {font-family:Consolas; font-size:12pt;}\n",
    "div.prompt {min-width:100px;}\n",
    "div#toc-wrapper{padding-top:120px;}\n",
    "div.text_cell_render ul li{font-size:12pt;padding:5px;}\n",
    "table.dataframe{font-size:12px;}\n",
    "</style>\n",
    "\"\"\"))"
   ]
  },
  {
   "cell_type": "markdown",
   "id": "ec7d185f",
   "metadata": {},
   "source": [
    "<b><font size=\"6\" Color=\"red\">ch03. Data Structure </font></b>\n",
    "- 리스트[80,20], 튜플(90,20), 딕셔너리{\"name\":\"홍\",\"score\":99}, 셋{10,20} \n",
    "\n",
    "# 1절 리스트\n",
    "## 1.1 리스트 만들기\n",
    "- []를 이용해서 만들며, 여러개 값(여러 타입)을 하나의 변수에 저장/관리할 수 있음 ex: 리스트[\"80\",20]\n",
    "- list()함수 이용도 가능\n",
    "- 인덱스 : 각 요소의 위치. 인덱스는 0부터 시작. 맨마지막 인덱스는 -1\n",
    "- 슬라이싱([from:to:step]) : 부분 데이터셋 추출\n",
    "- 인덱스와 슬라이싱을 이용해서 쓰기와 읽기 지원"
   ]
  },
  {
   "cell_type": "code",
   "execution_count": 4,
   "id": "a25ff0de",
   "metadata": {},
   "outputs": [
    {
     "data": {
      "text/plain": [
       "['apple', 'apple', 'orange', 'grape']"
      ]
     },
     "execution_count": 4,
     "metadata": {},
     "output_type": "execute_result"
    }
   ],
   "source": [
    "fruit = 'banana'\n",
    "fruits = ['banana', 'apple', 'orange', 'grape']\n",
    "fruits[0] = 'apple'\n",
    "fruits"
   ]
  },
  {
   "cell_type": "code",
   "execution_count": 1,
   "id": "da8af358",
   "metadata": {},
   "outputs": [
    {
     "data": {
      "text/plain": [
       "list"
      ]
     },
     "execution_count": 1,
     "metadata": {},
     "output_type": "execute_result"
    }
   ],
   "source": [
    "fruit = 'banana'\n",
    "fruits = ['banana', 'apple', 'orange', 'grape']\n",
    "type(fruits)"
   ]
  },
  {
   "cell_type": "code",
   "execution_count": 5,
   "id": "b84bd585",
   "metadata": {},
   "outputs": [
    {
     "name": "stdout",
     "output_type": "stream",
     "text": [
      "['banana', 'apple', 'orange', 'grape']\n",
      "banana\n",
      "grape\n"
     ]
    }
   ],
   "source": [
    "print(fruits)\n",
    "print(fruits[0]) #인덱싱을 이용한 읽기1 \n",
    "print(fruits[3]) #인덱싱을 이용한 읽기2 0방부터 3방까지가 최대이기 때문에\n",
    "# print(fruits[4])- 인덱싱은 없는 걸 가져오라 하면 에러가 난다"
   ]
  },
  {
   "cell_type": "code",
   "execution_count": 6,
   "id": "e26df4cf",
   "metadata": {},
   "outputs": [
    {
     "name": "stdout",
     "output_type": "stream",
     "text": [
      "['mango', 'apple', 'orange', 'grape']\n"
     ]
    }
   ],
   "source": [
    "fruits[0] = 'mango'\n",
    "print(fruits)"
   ]
  },
  {
   "cell_type": "code",
   "execution_count": 14,
   "id": "02f6f445",
   "metadata": {},
   "outputs": [
    {
     "name": "stdout",
     "output_type": "stream",
     "text": [
      "x=mango\n",
      "y=apple\n",
      "z=orange\n"
     ]
    }
   ],
   "source": [
    "fruits = ['mango', 'apple', 'orange']\n",
    "x, y, z = ['mango', 'apple', 'orange']\n",
    "print(\"x={}\".format(x))\n",
    "print(f\"y={y}\")\n",
    "print(f\"z={z}\")"
   ]
  },
  {
   "cell_type": "code",
   "execution_count": 18,
   "id": "35dbda10",
   "metadata": {},
   "outputs": [
    {
     "data": {
      "text/plain": [
       "range(0, 10)"
      ]
     },
     "execution_count": 18,
     "metadata": {},
     "output_type": "execute_result"
    }
   ],
   "source": [
    "# range(from, to, by) : from부터 to앞까지 by씩 증가하는 나열 가능한 자료를 만들어 줌.\n",
    "        # 숫자를 순차적으로 사용할 수 있게\n",
    "        # from 생략시 0, by생략시 1\n",
    "range(10) # 내부적으로 [0,1,2,3,4,5,6,7,8,9]를 안고 있다."
   ]
  },
  {
   "cell_type": "code",
   "execution_count": 20,
   "id": "5ee5c565",
   "metadata": {},
   "outputs": [
    {
     "data": {
      "text/plain": [
       "[0, 1, 2, 3, 4, 5, 6, 7, 8, 9]"
      ]
     },
     "execution_count": 20,
     "metadata": {},
     "output_type": "execute_result"
    }
   ],
   "source": [
    "list(range(10)) #range 함수도 생각보다 많이 쓰인다"
   ]
  },
  {
   "cell_type": "code",
   "execution_count": 23,
   "id": "651b1223",
   "metadata": {},
   "outputs": [
    {
     "data": {
      "text/plain": [
       "[10, 8, 6, 4, 2, 0]"
      ]
     },
     "execution_count": 23,
     "metadata": {},
     "output_type": "execute_result"
    }
   ],
   "source": [
    "list(range(10, -1, -2)) #10부터 -1까지 -2씩 단위로 반환해"
   ]
  },
  {
   "cell_type": "code",
   "execution_count": 46,
   "id": "3ebecf2d",
   "metadata": {},
   "outputs": [
    {
     "name": "stdout",
     "output_type": "stream",
     "text": [
      "0\n",
      "1\n",
      "2\n",
      "3\n",
      "4\n",
      "5\n",
      "6\n",
      "7\n",
      "8\n",
      "9\n"
     ]
    }
   ],
   "source": [
    "for i in [0,1,2,3,4,5,6,7,8,9]: # i 라는 변수에, 0,1,2,3,4,5,6,7,8,9를 각각 넣어서 실행 # 콜론(:)을무조건 넣어준다\n",
    "    print(i) #꼭 탭 들여쓰기 # 이건 range 함수와 가장 많이 쓰이는 'for 반복문'이다"
   ]
  },
  {
   "cell_type": "code",
   "execution_count": 44,
   "id": "9e18e43b",
   "metadata": {},
   "outputs": [
    {
     "name": "stdout",
     "output_type": "stream",
     "text": [
      "-5\n",
      "-3\n",
      "-1\n",
      "1\n"
     ]
    }
   ],
   "source": [
    "for i in range (-5, 2, 2): #까지가 2지만, 부터~까지이기 때문에 -5부터 1까지를 의미함\n",
    "    print(i)"
   ]
  },
  {
   "cell_type": "code",
   "execution_count": 56,
   "id": "f2ee960a",
   "metadata": {},
   "outputs": [
    {
     "name": "stdout",
     "output_type": "stream",
     "text": [
      "0번째 과일은 mango\n",
      "1번째 과일은 mango\n",
      "1번째 과일은 orange\n"
     ]
    }
   ],
   "source": [
    "#잘 안쓰는 방식\n",
    "fruits = ['mango', 'apple', 'orange']\n",
    "print(\"{}번째 과일은 {}\".format(0, fruits[0])) #함수식으로 correct\n",
    "print(\"{}번째 과일은 {}\".format(1, fruits[0])) #일반인의 시선으로 correct\n",
    "print(\"{}번째 과일은 {}\".format(1, fruits[2])) #이렇게 지정하기 나름\n",
    "#블럭처리하고 Ctrl + / 하면 주석처리 빠르게 가능"
   ]
  },
  {
   "cell_type": "code",
   "execution_count": 61,
   "id": "13750342",
   "metadata": {},
   "outputs": [
    {
     "name": "stdout",
     "output_type": "stream",
     "text": [
      "0번째 과일은 mango\n",
      "1번째 과일은 apple\n",
      "2번째 과일은 orange\n"
     ]
    }
   ],
   "source": [
    "#range를 활용한 방식 (변수 갯수 직접 입력) ****하드코딩이라 개발자들이 싫어하는 방식\n",
    "fruits = ['mango', 'apple', 'orange']\n",
    "for idx in range(3):\n",
    "    print(\"{}번째 과일은 {}\".format(idx, fruits[idx]))"
   ]
  },
  {
   "cell_type": "code",
   "execution_count": 78,
   "id": "2fbcdb74",
   "metadata": {},
   "outputs": [
    {
     "name": "stdout",
     "output_type": "stream",
     "text": [
      "0번째 과일은 mango\n",
      "1번째 과일은 apple\n",
      "2번째 과일은 orange\n"
     ]
    }
   ],
   "source": [
    "#range를 활용한 쉬운 방식 + len함수 활용 = 최종 제일 많이 씀\n",
    "fruits = ['mango', 'apple', 'orange']\n",
    "for idx in range(len(fruits)): #idx는 index의 약자다\n",
    "    print(\"{}번째 과일은 {}\".format(idx, fruits[idx]))"
   ]
  },
  {
   "cell_type": "code",
   "execution_count": 79,
   "id": "96b61fd3",
   "metadata": {},
   "outputs": [
    {
     "data": {
      "text/plain": [
       "[(0, 'mango'), (1, 'apple'), (2, 'orange')]"
      ]
     },
     "execution_count": 79,
     "metadata": {},
     "output_type": "execute_result"
    }
   ],
   "source": [
    "list(enumerate(fruits)) #보기쉽게 정렬시켜줌 대박이다"
   ]
  },
  {
   "cell_type": "code",
   "execution_count": 82,
   "id": "7a33cfa6",
   "metadata": {},
   "outputs": [
    {
     "name": "stdout",
     "output_type": "stream",
     "text": [
      "0번째 과일은 mango\n",
      "1번째 과일은 apple\n",
      "2번째 과일은 orange\n",
      "0번째 과일은 mango\n",
      "1번째 과일은 apple\n",
      "2번째 과일은 orange\n"
     ]
    }
   ],
   "source": [
    "for i, fruit in [(0, 'mango'), (1, 'apple'), (2, 'orange')]: #하드코딩방식\n",
    "    print(f\"{i}번째 과일은 {fruit}\") #포맷팅 \n",
    "\n",
    "#개선방식\n",
    "for i, fruit in enumerate(fruits): #Easy방식\n",
    "    print(f\"{i}번째 과일은 {fruit}\") #포맷팅 "
   ]
  },
  {
   "cell_type": "code",
   "execution_count": 87,
   "id": "7450a4b7",
   "metadata": {},
   "outputs": [
    {
     "name": "stdout",
     "output_type": "stream",
     "text": [
      "mango 획득\n",
      "apple 획득\n",
      "orange 획득\n"
     ]
    }
   ],
   "source": [
    "for item in fruits: #['mango','apple','orange'] 변수이름은 내 마음대로, item ~ x ~ whatever\n",
    "    print(f\"{item} 획득\")"
   ]
  },
  {
   "cell_type": "code",
   "execution_count": 103,
   "id": "69e92e12",
   "metadata": {},
   "outputs": [
    {
     "data": {
      "text/plain": [
       "('2', 5)"
      ]
     },
     "execution_count": 103,
     "metadata": {},
     "output_type": "execute_result"
    }
   ],
   "source": [
    "# 리스트는 여러 타입의 데이터를 담을 수 있음\n",
    "numbers = [0, True, \"2\", [2,3], [6,5], (4,2), {2,5}] #숫자, 논리, 문자, 리스트, 튜플, 딕셔너리까지 다 들어감 **리스트 안에 리스트까지 가능!!!\n",
    "numbers\n",
    "numbers[2], numbers[4][1] #인덱스는 0부터 시작하기에 0방부터해서 2번째 순서를 출력 #4와 1은 논리값이 더해져서 출력이 되는데 4와 5는 안됨. 이유확인 필요"
   ]
  },
  {
   "cell_type": "code",
   "execution_count": 107,
   "id": "5d5f24ae",
   "metadata": {},
   "outputs": [
    {
     "name": "stdout",
     "output_type": "stream",
     "text": [
      "[[1, 2, 3, 4, 5], [10, 20, 30, 40, 50], [1, 3, 5, 7, 9], [2, 4, 6, 8, 10]]\n"
     ]
    }
   ],
   "source": [
    "# 2차원 리스트\n",
    "numbers = [1,2,3,4,5]\n",
    "             # 0열/1열/2열/3열/4열               #가상의 엑셀을 만들어보면 쉽다\n",
    "numbers_2d = [[1,2,3,4,5],        #0행\n",
    "              [10,20,30,40,50],   #1행\n",
    "              [1,3,5,7,9],        #2행\n",
    "              [2,4,6,8,10]]       #3행\n",
    "print(numbers_2d)                            "
   ]
  },
  {
   "cell_type": "code",
   "execution_count": 109,
   "id": "b8c649a2",
   "metadata": {},
   "outputs": [
    {
     "data": {
      "text/plain": [
       "50"
      ]
     },
     "execution_count": 109,
     "metadata": {},
     "output_type": "execute_result"
    }
   ],
   "source": [
    "#특정행, 특정열 데이터 인덱싱\n",
    "numbers_2d[1][4] #그래서 1행(두번째 줄)의 4열 것(5번째 칸). "
   ]
  },
  {
   "cell_type": "code",
   "execution_count": 112,
   "id": "86e5b4f6",
   "metadata": {},
   "outputs": [
    {
     "name": "stdout",
     "output_type": "stream",
     "text": [
      "4\n"
     ]
    }
   ],
   "source": [
    "print(len(numbers_2d)) #numbers2d에는 데이터가 20개가 있는 게 아니라, 리스트로 묶어진 4개가 있는 것이다."
   ]
  },
  {
   "cell_type": "code",
   "execution_count": 115,
   "id": "21847945",
   "metadata": {},
   "outputs": [
    {
     "name": "stdout",
     "output_type": "stream",
     "text": [
      "5\n"
     ]
    }
   ],
   "source": [
    "print(len(numbers_2d[0])) #이게 왜 나온건지 이유확인 필수"
   ]
  },
  {
   "cell_type": "code",
   "execution_count": 123,
   "id": "4e435de7",
   "metadata": {},
   "outputs": [
    {
     "name": "stdout",
     "output_type": "stream",
     "text": [
      "1\t2\t3\t4\t5\t\n",
      "10\t20\t30\t40\t50\t\n",
      "1\t3\t5\t7\t9\t\n",
      "2\t4\t6\t8\t10\t\n"
     ]
    }
   ],
   "source": [
    "#중첩 for문\n",
    "for row in numbers_2d:\n",
    "    for item in row:\n",
    "        print(item, end='\\t') #end함수를 추가해 탭구분하여 하나씩 출력\n",
    "    print() #아무것도 안 넣어도 이렇게 되는 이유확인 필수"
   ]
  },
  {
   "cell_type": "code",
   "execution_count": 140,
   "id": "faf3bac6",
   "metadata": {},
   "outputs": [
    {
     "name": "stdout",
     "output_type": "stream",
     "text": [
      "0행0열:1\t0행1열:2\t0행2열:3\t0행3열:4\t0행4열:5\t\n",
      "1행0열:10\t1행1열:20\t1행2열:30\t1행3열:40\t1행4열:50\t\n",
      "2행0열:1\t2행1열:3\t2행2열:5\t2행3열:7\t2행4열:9\t\n",
      "3행0열:2\t3행1열:4\t3행2열:6\t3행3열:8\t3행4열:10\t\n"
     ]
    }
   ],
   "source": [
    "for i in range(len(numbers_2d)):    # i:행\n",
    "    for j in range(len(numbers_2d[i])):    # j:열\n",
    "        print(f\"{i}행{j}열:{numbers_2d[i][j]}\", end=\"\\t\")\n",
    "    print() #개행"
   ]
  },
  {
   "cell_type": "code",
   "execution_count": 139,
   "id": "dc302ffd",
   "metadata": {},
   "outputs": [
    {
     "data": {
      "text/plain": [
       "(4, 5, 5, 5)"
      ]
     },
     "execution_count": 139,
     "metadata": {},
     "output_type": "execute_result"
    }
   ],
   "source": [
    "len(numbers_2d), len(numbers_2d[0]), len(numbers_2d[1]), len(numbers_2d[2])"
   ]
  },
  {
   "cell_type": "code",
   "execution_count": 142,
   "id": "3ee56dc6",
   "metadata": {},
   "outputs": [
    {
     "data": {
      "text/plain": [
       "([(0, [1, 2, 3, 4, 5]),\n",
       "  (1, [10, 20, 30, 40, 50]),\n",
       "  (2, [1, 3, 5, 7, 9]),\n",
       "  (3, [2, 4, 6, 8, 10])],\n",
       " [(0, 1), (1, 2), (2, 3), (3, 4), (4, 5)])"
      ]
     },
     "execution_count": 142,
     "metadata": {},
     "output_type": "execute_result"
    }
   ],
   "source": [
    "list(enumerate(numbers_2d)), list(enumerate(numbers_2d[0]))"
   ]
  },
  {
   "cell_type": "code",
   "execution_count": 147,
   "id": "02d35b66",
   "metadata": {},
   "outputs": [
    {
     "name": "stdout",
     "output_type": "stream",
     "text": [
      "0행0열 : 1\t0행1열 : 2\t0행2열 : 3\t0행3열 : 4\t0행4열 : 5\t\n",
      "1행0열 : 10\t1행1열 : 20\t1행2열 : 30\t1행3열 : 40\t1행4열 : 50\t\n",
      "2행0열 : 1\t2행1열 : 3\t2행2열 : 5\t2행3열 : 7\t2행4열 : 9\t\n",
      "3행0열 : 2\t3행1열 : 4\t3행2열 : 6\t3행3열 : 8\t3행4열 : 10\t\n"
     ]
    }
   ],
   "source": [
    "for i, row in enumerate(numbers_2d):\n",
    "    for j, item in enumerate(numbers_2d[i]):\n",
    "        print(\"{}행{}열 : {}\".format(i, j, numbers_2d[i][j]), end=\"\\t\")\n",
    "    print() #개행"
   ]
  },
  {
   "cell_type": "markdown",
   "id": "94d340a1",
   "metadata": {},
   "source": [
    "## 1.2 기본정보 조회"
   ]
  },
  {
   "cell_type": "code",
   "execution_count": 156,
   "id": "3dd9a468",
   "metadata": {},
   "outputs": [],
   "source": [
    "numbers = [1,12,3,4,5]\n",
    "numbers_2d = [[100,0,1],\n",
    "              [9,100,100],\n",
    "              [59,100,130]]"
   ]
  },
  {
   "cell_type": "code",
   "execution_count": 157,
   "id": "fe4c9985",
   "metadata": {},
   "outputs": [
    {
     "data": {
      "text/plain": [
       "(5, 3)"
      ]
     },
     "execution_count": 157,
     "metadata": {},
     "output_type": "execute_result"
    }
   ],
   "source": [
    "# item 수\n",
    "len(numbers), len(numbers_2d)"
   ]
  },
  {
   "cell_type": "code",
   "execution_count": 160,
   "id": "70c0e445",
   "metadata": {},
   "outputs": [
    {
     "data": {
      "text/plain": [
       "(1, [9, 100, 100], 12, [100, 0, 1])"
      ]
     },
     "execution_count": 160,
     "metadata": {},
     "output_type": "execute_result"
    }
   ],
   "source": [
    "# 최소값과 최대값\n",
    "#numbers에서는 수들 중에서 최소값을 구함.\n",
    "#무조건 0번째 수만 보고 계산해서 2행을 최소값으로 구한 것.\n",
    "#2차원 list의 최소/최대값 : 부분리스트 중 첫 요소가 가장 작은 값/큰 값이 됨.\n",
    "min(numbers), min(numbers_2d), max(numbers), max(numbers_2d)   "
   ]
  },
  {
   "cell_type": "code",
   "execution_count": 161,
   "id": "0da4be4a",
   "metadata": {},
   "outputs": [
    {
     "data": {
      "text/plain": [
       "('apple', 'orange')"
      ]
     },
     "execution_count": 161,
     "metadata": {},
     "output_type": "execute_result"
    }
   ],
   "source": [
    "# list의 데이터가 문자일 경우, ASCII코드값으로 min과 max값 적용\n",
    "fruits = ['mango', 'apple', 'orange']\n",
    "min(fruits), max(fruits)"
   ]
  },
  {
   "cell_type": "code",
   "execution_count": 168,
   "id": "bd0023eb",
   "metadata": {},
   "outputs": [
    {
     "name": "stdout",
     "output_type": "stream",
     "text": [
      "오름차 순 정렬 : [1, 3, 4, 5, 12]\n",
      "내림차 순 정렬 : [12, 5, 4, 3, 1]\n",
      "합 : 25\n",
      "평균 : 5.0\n",
      "sorted 함수 사용 시 리스트의 내용이 바뀌지 않음 : [1, 12, 3, 4, 5]\n"
     ]
    }
   ],
   "source": [
    "# 정렬하기\n",
    "numbers = [1,12,3,4,5] #이 안에 문자값인 \"12\" 넣을 경우, sorted 당연히 적용불가\n",
    "print(\"오름차 순 정렬 :\", sorted(numbers))\n",
    "print(\"내림차 순 정렬 :\", sorted(numbers, reverse=True))\n",
    "print(\"합 :\", sum(numbers))\n",
    "print(\"평균 :\", sum(numbers)/len(numbers))\n",
    "print(\"sorted 함수 사용 시 리스트의 내용이 바뀌지 않음 :\", numbers)"
   ]
  },
  {
   "cell_type": "markdown",
   "id": "95bbf9e3",
   "metadata": {},
   "source": [
    "## 1.3 요소 추가\n",
    "- `+` : 두 리스트 연결\n",
    "- `*` : 리스트를 곱한 수만큼 반복\n",
    "- `append()` : 요소 맨 뒤에 추가\n",
    "- `extend(리스트)` : 리스트를 요소별로 맨 뒤에 추가\n",
    "- `insert(idx, 값)` : idx번째 인덱스 위치에 값 추가"
   ]
  },
  {
   "cell_type": "code",
   "execution_count": 172,
   "id": "7f900d9d",
   "metadata": {},
   "outputs": [
    {
     "data": {
      "text/plain": [
       "[1, 2, 3, 1, 2, 3]"
      ]
     },
     "execution_count": 172,
     "metadata": {},
     "output_type": "execute_result"
    }
   ],
   "source": [
    "numbers = [1, 2, 3]\n",
    "numbers = numbers + numbers # 리스트 연결\n",
    "numbers"
   ]
  },
  {
   "cell_type": "code",
   "execution_count": 173,
   "id": "9da996d7",
   "metadata": {},
   "outputs": [
    {
     "name": "stdout",
     "output_type": "stream",
     "text": [
      "[1, 2, 3, 1, 2, 3, 1, 2, 3]\n",
      "[1, 2, 3, 1, 2, 3, 1, 2, 3]\n"
     ]
    }
   ],
   "source": [
    "numbers = [1, 2, 3]\n",
    "print(numbers*3) # 곱한 수만큼 반복\n",
    "print(3*numbers)"
   ]
  },
  {
   "cell_type": "code",
   "execution_count": 174,
   "id": "c039bf8a",
   "metadata": {},
   "outputs": [
    {
     "data": {
      "text/plain": [
       "[1, 2, 3, 4]"
      ]
     },
     "execution_count": 174,
     "metadata": {},
     "output_type": "execute_result"
    }
   ],
   "source": [
    "numbers.append(4) # 맨 뒤에 4 추가\n",
    "numbers"
   ]
  },
  {
   "cell_type": "code",
   "execution_count": 179,
   "id": "58483c42",
   "metadata": {},
   "outputs": [
    {
     "data": {
      "text/plain": [
       "[1, 2, 3, 4, [5, 6, 7], [5, 6, 7], [5, 6, 7], [5, 6, 7]]"
      ]
     },
     "execution_count": 179,
     "metadata": {},
     "output_type": "execute_result"
    }
   ],
   "source": [
    "numbers.append([5,6,7]) # 리스트 안 내용 그대로 추가 #계속 입력하면 계속 추가됨.\n",
    "numbers"
   ]
  },
  {
   "cell_type": "code",
   "execution_count": 181,
   "id": "c4866484",
   "metadata": {},
   "outputs": [
    {
     "data": {
      "text/plain": [
       "[1, 2, 3, 5, 6, 7]"
      ]
     },
     "execution_count": 181,
     "metadata": {},
     "output_type": "execute_result"
    }
   ],
   "source": [
    "numbers = [1, 2, 3]\n",
    "numbers.extend([5,6,7]) #내용만 그대로 들어감\n",
    "numbers"
   ]
  },
  {
   "cell_type": "code",
   "execution_count": 182,
   "id": "02d76e51",
   "metadata": {},
   "outputs": [
    {
     "data": {
      "text/plain": [
       "['a', 'b', 'c', 'd']"
      ]
     },
     "execution_count": 182,
     "metadata": {},
     "output_type": "execute_result"
    }
   ],
   "source": [
    "lst = ['a','b','c']\n",
    "lst.append('d')\n",
    "lst"
   ]
  },
  {
   "cell_type": "code",
   "execution_count": 186,
   "id": "f4e6a8ba",
   "metadata": {},
   "outputs": [
    {
     "data": {
      "text/plain": [
       "['a', 'b', 'c', 'hello']"
      ]
     },
     "execution_count": 186,
     "metadata": {},
     "output_type": "execute_result"
    }
   ],
   "source": [
    "lst = ['a','b','c']\n",
    "lst.append('hello')\n",
    "lst"
   ]
  },
  {
   "cell_type": "code",
   "execution_count": 185,
   "id": "494c26fd",
   "metadata": {},
   "outputs": [
    {
     "data": {
      "text/plain": [
       "['a', 'b', 'c', 'h', 'e', 'l', 'l', 'o']"
      ]
     },
     "execution_count": 185,
     "metadata": {},
     "output_type": "execute_result"
    }
   ],
   "source": [
    "lst = ['a','b','c']\n",
    "lst.extend('hello') # extend는 리스트가 풀어져서 요소별로 들어감\n",
    "lst"
   ]
  },
  {
   "cell_type": "code",
   "execution_count": 193,
   "id": "701c7ea9",
   "metadata": {},
   "outputs": [
    {
     "data": {
      "text/plain": [
       "[1, 2, 'poop', 3, 4, 5]"
      ]
     },
     "execution_count": 193,
     "metadata": {},
     "output_type": "execute_result"
    }
   ],
   "source": [
    "numbers = [1,2,3,4,5]\n",
    "numbers.insert(2, 'poop') # (2)번째 인덱스에 'xx' 추가 # 기존 데이터 사이를 삐집고 들어가서 추가 > 차순 데이터가 밀림\n",
    "numbers"
   ]
  },
  {
   "cell_type": "markdown",
   "id": "e201c1f3",
   "metadata": {},
   "source": [
    "## 1.4 인덱싱과 요소 갯수\n",
    "- list변수[index] : 인덱스를 이용한 접근 \n",
    "- index(찾을데이터) : 해당 찾을 데이터가 있는 요소의 index를 반환 **없으면 에러 남.\n",
    "- 찾을데이터 in list변수 : 찾을데이터가 리스트변수의 요소인지 여부\n",
    "- count(찾을데이터) : 리스트에서 해당 찾을데이터의 갯수를 반환"
   ]
  },
  {
   "cell_type": "code",
   "execution_count": 199,
   "id": "2e7ae5a6",
   "metadata": {},
   "outputs": [
    {
     "name": "stdout",
     "output_type": "stream",
     "text": [
      "1\n",
      "2\n"
     ]
    }
   ],
   "source": [
    "numbers = [1, 2, 3, [1,2,3], 1, 2, 3] #데이터는 7개다.\n",
    "print(numbers.count([1,2,3]))\n",
    "print(numbers.count(2)) # 이렇게 쳐도 되지만, 콤마형식으로 여러개 물어도 된다. 아래처럼"
   ]
  },
  {
   "cell_type": "code",
   "execution_count": 202,
   "id": "b1f6ef93",
   "metadata": {},
   "outputs": [
    {
     "data": {
      "text/plain": [
       "(1, 0, 2)"
      ]
     },
     "execution_count": 202,
     "metadata": {},
     "output_type": "execute_result"
    }
   ],
   "source": [
    "numbers = [1, 2, 3, [1,2,3], 1, 2, 3] #데이터는 7개다.\n",
    "numbers.count([1,2,3]), numbers.count(6), numbers.count(2) #없는 걸 물어보면 0이라 대답함"
   ]
  },
  {
   "cell_type": "code",
   "execution_count": 204,
   "id": "d6f135b4",
   "metadata": {},
   "outputs": [
    {
     "name": "stdout",
     "output_type": "stream",
     "text": [
      "True\n",
      "False\n"
     ]
    }
   ],
   "source": [
    "print(2 in numbers) #numbers 안에 변수값이 존재하는지만 체크\n",
    "print(5 in numbers) #없으니 False"
   ]
  },
  {
   "cell_type": "code",
   "execution_count": 216,
   "id": "fe7388fb",
   "metadata": {},
   "outputs": [
    {
     "data": {
      "text/plain": [
       "0"
      ]
     },
     "execution_count": 216,
     "metadata": {},
     "output_type": "execute_result"
    }
   ],
   "source": [
    "numbers.index(2)\n",
    "numbers.index(1) #없으면 에러 남. 그래서 함부로 썼다간 셧다운됨."
   ]
  },
  {
   "cell_type": "code",
   "execution_count": 215,
   "id": "412c9bc5",
   "metadata": {
    "scrolled": true
   },
   "outputs": [
    {
     "name": "stdout",
     "output_type": "stream",
     "text": [
      "5가 요소에 포함되지 않습니다\n"
     ]
    }
   ],
   "source": [
    "if 5 in numbers:  #이렇게 많이 씀. 가독성 좋아서\n",
    "    print(numbers.index(5))\n",
    "else:\n",
    "    print('5가 요소에 포함되지 않습니다')"
   ]
  },
  {
   "cell_type": "code",
   "execution_count": 214,
   "id": "4cb54848",
   "metadata": {},
   "outputs": [
    {
     "name": "stdout",
     "output_type": "stream",
     "text": [
      "5가 요소에 포함되지 않습니다\n"
     ]
    }
   ],
   "source": [
    "if numbers.count(5):  #이렇게 쳐도 됨.\n",
    "    print(numbers.index(5))\n",
    "else:\n",
    "    print('5가 요소에 포함되지 않습니다')"
   ]
  },
  {
   "cell_type": "code",
   "execution_count": 251,
   "id": "6cc723a9",
   "metadata": {},
   "outputs": [],
   "source": [
    "def safe_index(lst, item): #여러줄일 경우 큰 따옴표\n",
    "    \"\"\"첫번째 매개변수 lst에서 item 요소가 있는 index를 반환. \n",
    "    item 요소가 없으면 -1 반환\"\"\"\n",
    "    if item in lst:\n",
    "        return lst.index(item) #있으면 인덱스를 리턴해라\n",
    "    return -1 #없으면 -1로 반환"
   ]
  },
  {
   "cell_type": "code",
   "execution_count": 1,
   "id": "cab01b3e",
   "metadata": {},
   "outputs": [
    {
     "data": {
      "text/plain": [
       "(1, -1)"
      ]
     },
     "execution_count": 1,
     "metadata": {},
     "output_type": "execute_result"
    }
   ],
   "source": [
    "from flist import safe_index # lst.py(모듈)안의 safe_index를 메모리에 load\n",
    "numbers = [1, 2, 3]\n",
    "safe_index(numbers, 2), safe_index(numbers, 5)"
   ]
  },
  {
   "cell_type": "code",
   "execution_count": 9,
   "id": "9645ef4a",
   "metadata": {
    "collapsed": true
   },
   "outputs": [
    {
     "ename": "IndexError",
     "evalue": "list index out of range",
     "output_type": "error",
     "traceback": [
      "\u001b[1;31m---------------------------------------------------------------------------\u001b[0m",
      "\u001b[1;31mIndexError\u001b[0m                                Traceback (most recent call last)",
      "Cell \u001b[1;32mIn[9], line 1\u001b[0m\n\u001b[1;32m----> 1\u001b[0m \u001b[43mnumbers\u001b[49m\u001b[43m[\u001b[49m\u001b[38;5;241;43m5\u001b[39;49m\u001b[43m]\u001b[49m\n",
      "\u001b[1;31mIndexError\u001b[0m: list index out of range"
     ]
    }
   ],
   "source": [
    "numbers[5] # 벗어난 인덱스로 인덱싱 시 에러"
   ]
  },
  {
   "cell_type": "code",
   "execution_count": 11,
   "id": "5736ec9e",
   "metadata": {},
   "outputs": [
    {
     "data": {
      "text/plain": [
       "[3]"
      ]
     },
     "execution_count": 11,
     "metadata": {},
     "output_type": "execute_result"
    }
   ],
   "source": [
    "numbers[2:5] # 벗어난 인덱스로 슬라이싱 시 에러가 안 남"
   ]
  },
  {
   "cell_type": "markdown",
   "id": "73d12213",
   "metadata": {},
   "source": [
    "## 1.5 원하는 요소 추출\n",
    "1. 리스트 슬라이싱\n",
    "    - [from:to:step] from번째부터 to앞까지 step씩 증가하는 index값을 추출\n",
    "      * from 생략 시 처음, to 생략 시 끝, step 생략 시 1\n",
    "    - 인덱스의 범위를 벗어난 값도 에러나지 않음\n",
    "    - 인덱스는 음수도 가능\n",
    "\n",
    "2. <font color=\"red\">**리스트컴프리헨션**</font> : 원하는 조건의 데이터 추출"
   ]
  },
  {
   "cell_type": "code",
   "execution_count": 9,
   "id": "0435d7d6",
   "metadata": {},
   "outputs": [
    {
     "name": "stdout",
     "output_type": "stream",
     "text": [
      "[20, 19, 18, 13, 12, 10, 9, 5, 3, 1]\n",
      "[1, 5, 10, 13, 19]\n",
      "[5, 9, 10, 12, 13, 18, 19, 20]\n",
      "[1, 5, 10]\n"
     ]
    }
   ],
   "source": [
    "numbers = [1, 3, 5, 9, 10, 12, 13, 18, 19, 20]\n",
    "print(numbers[::-1]) #거꾸로 출력\n",
    "print(numbers[0::2]) #짝수 순서의 인덱스 출력. to생략\n",
    "print(numbers[2:100]) #인덱스를 벗어난 슬라이싱 가능\n",
    "print(numbers[:5:2]) #from을 생략한 것"
   ]
  },
  {
   "cell_type": "code",
   "execution_count": 11,
   "id": "27d408da",
   "metadata": {},
   "outputs": [
    {
     "name": "stdout",
     "output_type": "stream",
     "text": [
      "1\t3\t5\t9\t10\t12\t13\t18\t19\t20\t"
     ]
    }
   ],
   "source": [
    "# 모든 데이터 추출\n",
    "numbers = [1, 3, 5, 9, 10, 12, 13, 18, 19, 20]\n",
    "for data in numbers:\n",
    "    print(data, end='\\t')\n"
   ]
  },
  {
   "cell_type": "code",
   "execution_count": 12,
   "id": "3c0beba1",
   "metadata": {},
   "outputs": [
    {
     "data": {
      "text/plain": [
       "[1, 3, 5, 9, 10, 12, 13, 18, 19, 20]"
      ]
     },
     "execution_count": 12,
     "metadata": {},
     "output_type": "execute_result"
    }
   ],
   "source": [
    "# 모든 데이터 추출2\n",
    "numbers = [1, 3, 5, 9, 10, 12, 13, 18, 19, 20]\n",
    "[data for data in numbers]"
   ]
  },
  {
   "cell_type": "code",
   "execution_count": 19,
   "id": "50bcde5d",
   "metadata": {},
   "outputs": [
    {
     "name": "stdout",
     "output_type": "stream",
     "text": [
      "10 12 18 20 "
     ]
    }
   ],
   "source": [
    "# 짝수 데이터 추출\n",
    "for data in numbers:\n",
    "    if data%2==0:\n",
    "        print(data, end=\" \") #데이터 출력하고 데이터마다끝에는 스페이스 하나 쳐라"
   ]
  },
  {
   "cell_type": "code",
   "execution_count": 17,
   "id": "7af3168e",
   "metadata": {},
   "outputs": [
    {
     "data": {
      "text/plain": [
       "[10, 12, 18, 20]"
      ]
     },
     "execution_count": 17,
     "metadata": {},
     "output_type": "execute_result"
    }
   ],
   "source": [
    "# 짝수 데이터 추출2\n",
    "[data for data in numbers if data%2==0]"
   ]
  },
  {
   "cell_type": "code",
   "execution_count": 20,
   "id": "69146a63",
   "metadata": {},
   "outputs": [
    {
     "data": {
      "text/plain": [
       "[10, 12, 13, 18, 19, 20]"
      ]
     },
     "execution_count": 20,
     "metadata": {},
     "output_type": "execute_result"
    }
   ],
   "source": [
    "#Quiz.1 numbers에서 10이상인 요소만 추출\n",
    "[data for data in numbers if data>=10]"
   ]
  },
  {
   "cell_type": "code",
   "execution_count": 47,
   "id": "a669f53d",
   "metadata": {},
   "outputs": [
    {
     "data": {
      "text/plain": [
       "['orange', 'apple', 'mango']"
      ]
     },
     "execution_count": 47,
     "metadata": {},
     "output_type": "execute_result"
    }
   ],
   "source": [
    "#Quiz.2 fruits에서 과일의 글자가 5글자 이상이 과일만 추출\n",
    "fruits = ['orange', 'apple', 'mango', 'kiwi']\n",
    "[fruit for fruit in fruits if len(fruit)>=5]"
   ]
  },
  {
   "cell_type": "code",
   "execution_count": 49,
   "id": "a710f3c5",
   "metadata": {},
   "outputs": [
    {
     "data": {
      "text/plain": [
       "[6, 5, 5, 4]"
      ]
     },
     "execution_count": 49,
     "metadata": {},
     "output_type": "execute_result"
    }
   ],
   "source": [
    "#Quiz.2-1 fruits 리스트의 과일 글자수\n",
    "fruits = ['orange', 'apple', 'mango', 'kiwi']\n",
    "[len(data) for data in fruits]"
   ]
  },
  {
   "cell_type": "code",
   "execution_count": 50,
   "id": "1534e31e",
   "metadata": {},
   "outputs": [
    {
     "data": {
      "text/plain": [
       "[9, 16, 25]"
      ]
     },
     "execution_count": 50,
     "metadata": {},
     "output_type": "execute_result"
    }
   ],
   "source": [
    "#Quiz.3 3이상인 요소들의 제곱을 추출 . A. 9 16 25\n",
    "L = [1,2,3,4,5]\n",
    "[data**2 for data in L if data>=3]"
   ]
  },
  {
   "cell_type": "code",
   "execution_count": 32,
   "id": "f0f6418e",
   "metadata": {},
   "outputs": [
    {
     "data": {
      "text/plain": [
       "[2, 4, 6, 8, 10]"
      ]
     },
     "execution_count": 32,
     "metadata": {},
     "output_type": "execute_result"
    }
   ],
   "source": [
    "#Quiz.4 리스트 요소의 값의 2배를 추출. 2, 4, 6, 8, 10\n",
    "[data*2 for data in L]"
   ]
  },
  {
   "cell_type": "markdown",
   "id": "5fb9cfbe",
   "metadata": {},
   "source": [
    "## 1.6 요소 수정하기\n",
    "- 인덱스, 슬라이싱을 이용해서 수정"
   ]
  },
  {
   "cell_type": "code",
   "execution_count": 66,
   "id": "4b3a178a",
   "metadata": {},
   "outputs": [
    {
     "data": {
      "text/plain": [
       "[0, 1, 222, 3, 4, 5, 6, 7, 8, 9]"
      ]
     },
     "execution_count": 66,
     "metadata": {},
     "output_type": "execute_result"
    }
   ],
   "source": [
    "numbers = [0,1,2,3,4,5,6,7,8,9]\n",
    "numbers[2] = 222\n",
    "numbers"
   ]
  },
  {
   "cell_type": "code",
   "execution_count": 67,
   "id": "b8e2797f",
   "metadata": {},
   "outputs": [
    {
     "name": "stdout",
     "output_type": "stream",
     "text": [
      "['xx', 'xx', 'xx', 'xx', 'xx', 'xx', 'xx', 222, 3, 4, 5, 6, 7, 8, 9] "
     ]
    }
   ],
   "source": [
    "# 슬라이싱(step 부분 미포함) - 슬라이싱을 이용해 부분 리스트를 통째로 수정\n",
    "numbers[0:2] = ['xx', 'xx', 'xx', 'xx', 'xx', 'xx', 'xx']\n",
    "print(numbers, end=\" \")"
   ]
  },
  {
   "cell_type": "code",
   "execution_count": 68,
   "id": "ebde6ee3",
   "metadata": {},
   "outputs": [
    {
     "name": "stdout",
     "output_type": "stream",
     "text": [
      "수정 전 : [1, 1, 1, 1, 1, 1, 1, 1, 1, 1]\n",
      "수정 후 : [9, 1, 9, 1, 9, 1, 9, 1, 9, 1]\n"
     ]
    }
   ],
   "source": [
    "# 슬라이싱(step 부분 포함)\n",
    "numbers = [1]*10\n",
    "print('수정 전 :', numbers)\n",
    "numbers[0::2] = [9, 9, 9, 9, 9]\n",
    "print('수정 후 :', numbers)"
   ]
  },
  {
   "cell_type": "code",
   "execution_count": 70,
   "id": "a138f446",
   "metadata": {},
   "outputs": [
    {
     "ename": "ValueError",
     "evalue": "attempt to assign sequence of size 2 to extended slice of size 5",
     "output_type": "error",
     "traceback": [
      "\u001b[1;31m---------------------------------------------------------------------------\u001b[0m",
      "\u001b[1;31mValueError\u001b[0m                                Traceback (most recent call last)",
      "Cell \u001b[1;32mIn[70], line 1\u001b[0m\n\u001b[1;32m----> 1\u001b[0m numbers[::\u001b[38;5;241m2\u001b[39m] \u001b[38;5;241m=\u001b[39m [\u001b[38;5;241m1\u001b[39m,\u001b[38;5;241m1\u001b[39m]\n",
      "\u001b[1;31mValueError\u001b[0m: attempt to assign sequence of size 2 to extended slice of size 5"
     ]
    }
   ],
   "source": [
    "numbers[::2] = [1,1]"
   ]
  },
  {
   "cell_type": "markdown",
   "id": "e4db3d01",
   "metadata": {},
   "source": [
    "## 1.7 요소삭제\n",
    "- pop() : 가장 마지막 인덱스의 요소가 반환되고 삭제됨.\n",
    "- pop(idx) : idx번째 요소가 반환되고 삭제됨.\n",
    "- remove(data) : list안의 data가 삭제됨.\n",
    "- del 리스트변수[idx] : idx번째 요소가 삭제됨."
   ]
  },
  {
   "cell_type": "code",
   "execution_count": 72,
   "id": "7196ee37",
   "metadata": {},
   "outputs": [
    {
     "name": "stdout",
     "output_type": "stream",
     "text": [
      "삭제한 데이터 : 5\n",
      "삭제 후 numbers : [1, 2, 3, 4]\n"
     ]
    }
   ],
   "source": [
    "numbers = [1,2,3,4,5]\n",
    "print(\"삭제한 데이터 :\", numbers.pop())\n",
    "print(\"삭제 후 numbers :\", numbers)"
   ]
  },
  {
   "cell_type": "code",
   "execution_count": 74,
   "id": "42ea5e5f",
   "metadata": {},
   "outputs": [
    {
     "name": "stdout",
     "output_type": "stream",
     "text": [
      "삭제한 n번째 데이터 : 2\n",
      "삭제 후 numbers : [1, 3, 4, 5]\n"
     ]
    }
   ],
   "source": [
    "numbers = [1,2,3,4,5]\n",
    "print(\"삭제한 n번째 데이터 :\", numbers.pop(1))\n",
    "print(\"삭제 후 numbers :\", numbers)"
   ]
  },
  {
   "cell_type": "code",
   "execution_count": 88,
   "id": "57525829",
   "metadata": {},
   "outputs": [
    {
     "name": "stdout",
     "output_type": "stream",
     "text": [
      "데이터 중 1을 삭제\n",
      "1 삭제 후 numbers : [2, 3, 4, 5]\n"
     ]
    }
   ],
   "source": [
    "numbers = [1,2,3,4,5]\n",
    "print(\"데이터 중 1을 삭제\")\n",
    "numbers.remove(1) #데이터 안에 없는 값 넣으면 에러 남.\n",
    "print(\"1 삭제 후 numbers :\", numbers)"
   ]
  },
  {
   "cell_type": "code",
   "execution_count": 89,
   "id": "d696186e",
   "metadata": {},
   "outputs": [
    {
     "name": "stdout",
     "output_type": "stream",
     "text": [
      "del numbers[1]\n",
      "[1, 3, 4, 5]\n"
     ]
    }
   ],
   "source": [
    "numbers = [1,2,3,4,5]\n",
    "print(\"del numbers[1]\")\n",
    "del numbers[1] #1번째 데이터를 삭제하라\n",
    "print(numbers)"
   ]
  },
  {
   "cell_type": "code",
   "execution_count": 91,
   "id": "542c119e",
   "metadata": {},
   "outputs": [
    {
     "name": "stdout",
     "output_type": "stream",
     "text": [
      "해당 데이터는 존재하지 않습니다.\n"
     ]
    }
   ],
   "source": [
    "numbers = [1,2,3,4,5]\n",
    "if 9 in numbers:\n",
    "    numbers.remove(9) #있으면 지워 없으면 아래알럿 띄워\n",
    "else:\n",
    "    print(\"해당 데이터는 존재하지 않습니다.\")"
   ]
  },
  {
   "cell_type": "code",
   "execution_count": 94,
   "id": "c8c7e34c",
   "metadata": {},
   "outputs": [
    {
     "data": {
      "text/plain": [
       "[]"
      ]
     },
     "execution_count": 94,
     "metadata": {},
     "output_type": "execute_result"
    }
   ],
   "source": [
    "numbers.clear() #리스트 내의 모든 데이터를 삭제\n",
    "numbers"
   ]
  },
  {
   "cell_type": "markdown",
   "id": "72605f02",
   "metadata": {},
   "source": [
    "## 1.8 정렬하기"
   ]
  },
  {
   "cell_type": "code",
   "execution_count": 101,
   "id": "3a304771",
   "metadata": {},
   "outputs": [
    {
     "name": "stdout",
     "output_type": "stream",
     "text": [
      "numbers는 변경하지 않고, 정렬 결과만 : [0, 5, 6, 8, 9]\n",
      "numbers : [9, 5, 0, 8, 6]\n"
     ]
    }
   ],
   "source": [
    "numbers = [9, 5, 0, 8, 6]\n",
    "print(\"numbers는 변경하지 않고, 정렬 결과만 :\", sorted(numbers))\n",
    "print(\"numbers :\", numbers)"
   ]
  },
  {
   "cell_type": "code",
   "execution_count": 103,
   "id": "7aa18456",
   "metadata": {},
   "outputs": [
    {
     "data": {
      "text/plain": [
       "[0, 5, 6, 8, 9]"
      ]
     },
     "execution_count": 103,
     "metadata": {},
     "output_type": "execute_result"
    }
   ],
   "source": [
    "numbers.sort() # Empty시, 기본은 오름차순으로 정렬됨. \n",
    "numbers"
   ]
  },
  {
   "cell_type": "code",
   "execution_count": 105,
   "id": "91aa1bb1",
   "metadata": {},
   "outputs": [
    {
     "data": {
      "text/plain": [
       "[9, 8, 6, 5, 0]"
      ]
     },
     "execution_count": 105,
     "metadata": {},
     "output_type": "execute_result"
    }
   ],
   "source": [
    "numbers.sort(reverse=True) #내림차순으로 정렬\n",
    "numbers"
   ]
  },
  {
   "cell_type": "code",
   "execution_count": 106,
   "id": "c99357f0",
   "metadata": {},
   "outputs": [
    {
     "data": {
      "text/plain": [
       "[0, 5, 6, 8, 9]"
      ]
     },
     "execution_count": 106,
     "metadata": {},
     "output_type": "execute_result"
    }
   ],
   "source": [
    "numbers.reverse() #리스트를 역순으로 변경\n",
    "# numbers = numbers[::-1] #위와 똑같은 지시임\n",
    "numbers"
   ]
  },
  {
   "cell_type": "markdown",
   "id": "717b3634",
   "metadata": {},
   "source": [
    "## 1.9 리스트 복제"
   ]
  },
  {
   "cell_type": "code",
   "execution_count": 1,
   "id": "16989ab0",
   "metadata": {},
   "outputs": [],
   "source": [
    "# 스칼라 데이터의 복제\n",
    "# i = 10\n",
    "# i = 'a' #이렇게 하면 새롭게 할당되고 이전 값인 10은 없어진다."
   ]
  },
  {
   "cell_type": "code",
   "execution_count": 3,
   "id": "cfe1e2ba",
   "metadata": {},
   "outputs": [
    {
     "name": "stdout",
     "output_type": "stream",
     "text": [
      "원본i = 10, 복사본cp_i=10 / 원본주소=1505275281936, 복사본주소=1505275281936\n",
      "원본i = 10, 복사본cp_i=99 / 원본주소=1505275281936, 복사본주소=1505275284784\n"
     ]
    }
   ],
   "source": [
    "i = 10\n",
    "cp_i = i\n",
    "print(f\"원본i = {i}, 복사본cp_i={cp_i} / 원본주소={id(i)}, 복사본주소={id(cp_i)}\")\n",
    "cp_i = 99\n",
    "print(f\"원본i = {i}, 복사본cp_i={cp_i} / 원본주소={id(i)}, 복사본주소={id(cp_i)}\")\n",
    "#이렇게 할당을 해 버리면, 원본데이터가 바뀌지 않는다."
   ]
  },
  {
   "cell_type": "code",
   "execution_count": 12,
   "id": "16f79e81",
   "metadata": {},
   "outputs": [
    {
     "name": "stdout",
     "output_type": "stream",
     "text": [
      "원본 주소 : 1505355832128\n",
      "복제본 주소 : 1505355832128\n",
      "원본 내용 : [99, 6, 1, 9]\n",
      "복제본 내용 : [99, 6, 1, 9]\n",
      "원본 주소 : 1505355832128\n",
      "복제본 주소 : 1505355832128\n"
     ]
    }
   ],
   "source": [
    "# 데이터 구조의 복제같지만 '할당'이다\n",
    "numbers = [5, 6, 1, 9]\n",
    "new_numbers = numbers \n",
    "print('원본 주소 :', id(numbers))\n",
    "print('복제본 주소 :', id(new_numbers))\n",
    "new_numbers[0] = 99\n",
    "print(\"원본 내용 :\", numbers)\n",
    "print(\"복제본 내용 :\", new_numbers)\n",
    "print('원본 주소 :', id(numbers))\n",
    "print('복제본 주소 :', id(new_numbers))\n",
    "# 결국 '할당'의 개념이다."
   ]
  },
  {
   "cell_type": "code",
   "execution_count": 26,
   "id": "4410dc4e",
   "metadata": {},
   "outputs": [
    {
     "name": "stdout",
     "output_type": "stream",
     "text": [
      "원본 : [1, 5, 6, 9]\n",
      "복제본 : [1, 5, 6, 9]\n",
      "원본 주소 : 1505355833472\n",
      "복제본 주소 : 1505355833472\n"
     ]
    }
   ],
   "source": [
    "# 할당되어버린 케이스2\n",
    "numbers = [5, 6, 1, 9]\n",
    "new_numbers = numbers\n",
    "new_numbers.sort()\n",
    "print(\"원본 :\", numbers)\n",
    "print(\"복제본 :\", new_numbers)\n",
    "print(\"원본 주소 :\", id(numbers))\n",
    "print(\"복제본 주소 :\", id(new_numbers))"
   ]
  },
  {
   "cell_type": "code",
   "execution_count": 27,
   "id": "5a33bc2c",
   "metadata": {},
   "outputs": [
    {
     "name": "stdout",
     "output_type": "stream",
     "text": [
      "원본 : [5, 6, 1, 9]\n",
      "복제본 : [9, 6, 5, 1]\n",
      "원본 주소 : 1505355399424\n",
      "복제본 주소 : 1505355826432\n"
     ]
    }
   ],
   "source": [
    "# 리스트 복제(깊은 복사) **찐짜뽂쪠**\n",
    "numbers = [5, 6, 1, 9]\n",
    "new_numbers = numbers.copy() #numbers를 복제(깊은 복사) #여기서 선변환을 했기에 이후 계산이 가능\n",
    "new_numbers.sort(reverse=True) #내림차순 정렬\n",
    "print(\"원본 :\", numbers)\n",
    "print(\"복제본 :\", new_numbers)\n",
    "print(\"원본 주소 :\", id(numbers))\n",
    "print(\"복제본 주소 :\", id(new_numbers))"
   ]
  },
  {
   "cell_type": "code",
   "execution_count": 28,
   "id": "0fe4c4ee",
   "metadata": {},
   "outputs": [
    {
     "name": "stdout",
     "output_type": "stream",
     "text": [
      "원본 : [5, 6, 1, 9]\n",
      "정렬본 : [1, 5, 6, 9]\n"
     ]
    }
   ],
   "source": [
    "numbers = [5, 6, 1, 9]\n",
    "new_numbers = sorted(numbers) #sorted함수는 속도가 느리다\n",
    "print(\"원본 :\", numbers)\n",
    "print(\"정렬본 :\", new_numbers)"
   ]
  },
  {
   "cell_type": "code",
   "execution_count": 29,
   "id": "0802204e",
   "metadata": {},
   "outputs": [
    {
     "name": "stdout",
     "output_type": "stream",
     "text": [
      "정렬 전 : ['서울', '대전', '대구', '부산', '하남', '수원', '제주']\n",
      "정렬 후 : ['대구', '대전', '부산', '서울', '수원', '제주', '하남']\n"
     ]
    }
   ],
   "source": [
    "city = ['서울', '대전', '대구', '부산', '하남', '수원', '제주']\n",
    "temp = city.copy()  #여기서 추가로 append pop remove등 적용가능\n",
    "temp.sort()\n",
    "print(\"정렬 전 :\", city)\n",
    "print(\"정렬 후 :\", temp)"
   ]
  },
  {
   "cell_type": "code",
   "execution_count": 31,
   "id": "da3ffe2e",
   "metadata": {},
   "outputs": [
    {
     "name": "stdout",
     "output_type": "stream",
     "text": [
      "정렬 전 : ['서울', '대전', '대구', '부산', '하남', '수원', '제주']\n",
      "정렬 후 : []\n"
     ]
    }
   ],
   "source": [
    "temp.clear()\n",
    "print(\"정렬 전 :\", city)\n",
    "print(\"정렬 후 :\", temp)"
   ]
  },
  {
   "cell_type": "markdown",
   "id": "631ecdd7",
   "metadata": {},
   "source": [
    "# 2절 튜플\n",
    "- 리스트([])와 유사하지만 읽기전용이라는 게 차이점. >> 수정이 필요없는 데이터에서 사용함.\n",
    "- 수정이 불가하므로, 튜플에서는 데이터 수정/추가/삭제 불가. 복제는 되지만 수정할 수 없기에 무의미함.\n",
    "- 제공되는 함수도 많지 않음\n",
    "- ()이용해서 생성\n",
    "- a, b = 10, 20 <<< 이렇게 해도 자동적으로 튜플생성됨."
   ]
  },
  {
   "cell_type": "code",
   "execution_count": 39,
   "id": "ce38eab1",
   "metadata": {},
   "outputs": [
    {
     "name": "stdout",
     "output_type": "stream",
     "text": [
      "<class 'tuple'>\n",
      "('서울', '대전', '대구', '부산', '하남')\n"
     ]
    }
   ],
   "source": [
    "# city = ('서울', '대전', '대구', '부산', '하남', '수원', '제주')\n",
    "# 파이썬은 여러개의 값이 전달될 때 튜플 타입으로 전달됨.\n",
    "city = '서울', '대전', '대구', '부산', '하남'\n",
    "print(type(city))\n",
    "print(city)"
   ]
  },
  {
   "cell_type": "code",
   "execution_count": 40,
   "id": "ae2648e3",
   "metadata": {},
   "outputs": [
    {
     "data": {
      "text/plain": [
       "'서울, 대전, 대구, 부산, 하남'"
      ]
     },
     "execution_count": 40,
     "metadata": {},
     "output_type": "execute_result"
    }
   ],
   "source": [
    "\", \".join(city) #매개변수로 list가 오는 함수는 tuple 매개변수로 함수 사용 가능."
   ]
  },
  {
   "cell_type": "code",
   "execution_count": 42,
   "id": "ad89e280",
   "metadata": {},
   "outputs": [
    {
     "data": {
      "text/plain": [
       "1"
      ]
     },
     "execution_count": 42,
     "metadata": {},
     "output_type": "execute_result"
    }
   ],
   "source": [
    "from flist import safe_index\n",
    "safe_index(city, '대전')"
   ]
  },
  {
   "cell_type": "code",
   "execution_count": 46,
   "id": "20304532",
   "metadata": {},
   "outputs": [
    {
     "name": "stdout",
     "output_type": "stream",
     "text": [
      "<class 'list'>\n",
      "['서울']\n",
      "1\n"
     ]
    }
   ],
   "source": [
    "l = ['서울'] #요소가 하나 있는 리스트의 경우\n",
    "print(type(l))\n",
    "print(l)\n",
    "print(len(l))"
   ]
  },
  {
   "cell_type": "code",
   "execution_count": 54,
   "id": "a3944f91",
   "metadata": {},
   "outputs": [
    {
     "name": "stdout",
     "output_type": "stream",
     "text": [
      "<class 'str'>\n",
      "서울\n",
      "2\n"
     ]
    }
   ],
   "source": [
    "city = ('서울') #요소가 1개인 튜플이라 하지 않음 -> 괄호가 자연적으로 사라지며 str로 인식되는 것.\n",
    "print(type(city)) #스트링으로 잡히는 이유?\n",
    "print(city)\n",
    "print(len(city)) #문자이기 때문에 문자의 개수가 나옴"
   ]
  },
  {
   "cell_type": "code",
   "execution_count": 57,
   "id": "7489fb76",
   "metadata": {},
   "outputs": [
    {
     "name": "stdout",
     "output_type": "stream",
     "text": [
      "<class 'tuple'>\n",
      "('서울',)\n",
      "1\n"
     ]
    }
   ],
   "source": [
    "city = ('서울',) #요소가 1개인 튜플 < 콤마(,)를 꼭 넣어야 함.\n",
    "print(type(city)) \n",
    "print(city)\n",
    "print(len(city))"
   ]
  },
  {
   "cell_type": "code",
   "execution_count": 59,
   "id": "b81ea0b4",
   "metadata": {},
   "outputs": [
    {
     "name": "stdout",
     "output_type": "stream",
     "text": [
      "<class 'tuple'>\n",
      "('서울', '하남')\n",
      "2\n"
     ]
    }
   ],
   "source": [
    "city = ('서울', '하남') #요소가 2개인 튜플의 경우\n",
    "print(type(city))\n",
    "print(city)\n",
    "print(len(city)) "
   ]
  },
  {
   "cell_type": "code",
   "execution_count": 63,
   "id": "3a26922b",
   "metadata": {},
   "outputs": [],
   "source": [
    "numbers = (1, 2, 3)\n",
    "# numbers.append(4) 수정하기 위한 함수는 제공되지 않음"
   ]
  },
  {
   "cell_type": "code",
   "execution_count": 64,
   "id": "edbe3094",
   "metadata": {},
   "outputs": [
    {
     "data": {
      "text/plain": [
       "(1, 3, 6)"
      ]
     },
     "execution_count": 64,
     "metadata": {},
     "output_type": "execute_result"
    }
   ],
   "source": [
    "min(numbers), max(numbers), sum(numbers)"
   ]
  },
  {
   "cell_type": "code",
   "execution_count": 65,
   "id": "ad386cb5",
   "metadata": {},
   "outputs": [
    {
     "data": {
      "text/plain": [
       "1"
      ]
     },
     "execution_count": 65,
     "metadata": {},
     "output_type": "execute_result"
    }
   ],
   "source": [
    "numbers.count(2)"
   ]
  },
  {
   "cell_type": "code",
   "execution_count": 66,
   "id": "c9c8e792",
   "metadata": {},
   "outputs": [
    {
     "data": {
      "text/plain": [
       "2"
      ]
     },
     "execution_count": 66,
     "metadata": {},
     "output_type": "execute_result"
    }
   ],
   "source": [
    "number.index(3)"
   ]
  },
  {
   "cell_type": "code",
   "execution_count": 67,
   "id": "b3839b91",
   "metadata": {},
   "outputs": [
    {
     "name": "stdout",
     "output_type": "stream",
     "text": [
      "해당 데이터 없당께\n"
     ]
    }
   ],
   "source": [
    "# numbers.index(4) >> 값 없으니 바로 에러\n",
    "if 4 in numbers:\n",
    "    numbers.index(4)\n",
    "else:\n",
    "    print('해당 데이터 없당께')"
   ]
  },
  {
   "cell_type": "code",
   "execution_count": 68,
   "id": "cc92829c",
   "metadata": {},
   "outputs": [
    {
     "data": {
      "text/plain": [
       "-1"
      ]
     },
     "execution_count": 68,
     "metadata": {},
     "output_type": "execute_result"
    }
   ],
   "source": [
    "safe_index(number,4)"
   ]
  },
  {
   "cell_type": "code",
   "execution_count": null,
   "id": "31a7194b",
   "metadata": {},
   "outputs": [],
   "source": []
  },
  {
   "cell_type": "code",
   "execution_count": null,
   "id": "56b8f666",
   "metadata": {},
   "outputs": [],
   "source": []
  },
  {
   "cell_type": "code",
   "execution_count": null,
   "id": "da0c182c",
   "metadata": {},
   "outputs": [],
   "source": []
  },
  {
   "cell_type": "code",
   "execution_count": null,
   "id": "87ed4374",
   "metadata": {},
   "outputs": [],
   "source": []
  }
 ],
 "metadata": {
  "kernelspec": {
   "display_name": "Python 3 (ipykernel)",
   "language": "python",
   "name": "python3"
  },
  "language_info": {
   "codemirror_mode": {
    "name": "ipython",
    "version": 3
   },
   "file_extension": ".py",
   "mimetype": "text/x-python",
   "name": "python",
   "nbconvert_exporter": "python",
   "pygments_lexer": "ipython3",
   "version": "3.10.9"
  },
  "toc": {
   "base_numbering": 1,
   "nav_menu": {},
   "number_sections": false,
   "sideBar": true,
   "skip_h1_title": false,
   "title_cell": "Table of Contents",
   "title_sidebar": "Contents",
   "toc_cell": false,
   "toc_position": {
    "height": "calc(100% - 180px)",
    "left": "10px",
    "top": "150px",
    "width": "178px"
   },
   "toc_section_display": true,
   "toc_window_display": true
  }
 },
 "nbformat": 4,
 "nbformat_minor": 5
}
