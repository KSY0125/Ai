{
 "cells": [
  {
   "cell_type": "code",
   "execution_count": 1,
   "id": "9af2e1a9",
   "metadata": {},
   "outputs": [
    {
     "data": {
      "text/html": [
       "\n",
       "<style>\n",
       "div.container{width:90% !important;}\n",
       "div.cell.code_cell.rendered{width:100%;}\n",
       "div.input_prompt{padding:0px;}\n",
       "div.CodeMirror {font-family:Consolas; font-size:12pt;}\n",
       "div.text_cell_render.rendered_html{font-size:12pt;}\n",
       "div.output {font-size:12pt; font-weight:bold;}\n",
       "div.input {font-family:Consolas; font-size:12pt;}\n",
       "div.prompt {min-width:100px;}\n",
       "div#toc-wrapper{padding-top:120px;}\n",
       "div.text_cell_render ul li{font-size:12pt;padding:5px;}\n",
       "table.dataframe{font-size:12px;}\n",
       "</style>\n"
      ],
      "text/plain": [
       "<IPython.core.display.HTML object>"
      ]
     },
     "metadata": {},
     "output_type": "display_data"
    }
   ],
   "source": [
    "from IPython.display import display, HTML\n",
    "display(HTML(\"\"\"\n",
    "<style>\n",
    "div.container{width:90% !important;}\n",
    "div.cell.code_cell.rendered{width:100%;}\n",
    "div.input_prompt{padding:0px;}\n",
    "div.CodeMirror {font-family:Consolas; font-size:12pt;}\n",
    "div.text_cell_render.rendered_html{font-size:12pt;}\n",
    "div.output {font-size:12pt; font-weight:bold;}\n",
    "div.input {font-family:Consolas; font-size:12pt;}\n",
    "div.prompt {min-width:100px;}\n",
    "div#toc-wrapper{padding-top:120px;}\n",
    "div.text_cell_render ul li{font-size:12pt;padding:5px;}\n",
    "table.dataframe{font-size:12px;}\n",
    "</style>\n",
    "\"\"\"))"
   ]
  },
  {
   "cell_type": "markdown",
   "id": "25a0a75b",
   "metadata": {},
   "source": [
    "<b><font size=\"6\" Color=\"red\">ch04. Control Statements </font></b>\n",
    "- 조건문 : 'if문' \n",
    "- 반복문 : for문(반복횟수), while(조건)\n",
    "- **위 질문들은 모두 중첩가능하다. \n",
    "\n",
    "# 1절. 조건문(if)\n",
    "```\n",
    "if 조건1: #오직True/False로 인식\n",
    "    조건1일 True일 경우 수행할 명령어들 #들여쓰기 중요/안하면 실행 안 됨 #if절 단독사용 가능\n",
    "elif 조건2:\n",
    "    #조건1이 False고, 조건2가 True일 경우 수행할 명령어들 #elif는 100개 천개 써도 됨.\n",
    "else:\n",
    "    모든 조건 False일 경우 수행할 명령어들. (elif나 else는 if가 있어야만 사용 가능. 즉 단독사용 불가)        \n",
    "```"
   ]
  },
  {
   "cell_type": "code",
   "execution_count": 3,
   "id": "09d91167",
   "metadata": {},
   "outputs": [
    {
     "name": "stdout",
     "output_type": "stream",
     "text": [
      "Enter your score >30\n",
      "재시험 응시하세요\n",
      "ㅎㅇㅌ\n"
     ]
    }
   ],
   "source": [
    "score = int(input('Enter your score >'))\n",
    "if score>=90:\n",
    "    print('참 잘했어요')\n",
    "    print('다음에도 기대할게요')\n",
    "else:\n",
    "    print('재시험 응시하세요')\n",
    "    print('ㅎㅇㅌ')"
   ]
  },
  {
   "cell_type": "code",
   "execution_count": 9,
   "id": "5786dbe6",
   "metadata": {},
   "outputs": [
    {
     "name": "stdout",
     "output_type": "stream",
     "text": [
      "Enter your score >90\n",
      "참 잘했어요\n",
      "다음에도 기대할게요\n"
     ]
    }
   ],
   "source": [
    "score = int(input('Enter your score >'))\n",
    "if score>=80:\n",
    "    print('참 잘했어요')\n",
    "    print('다음에도 기대할게요')\n",
    "elif score>=60:\n",
    "    print('분발하셈')\n",
    "    print('그래도 잘 했다 졌잘싸')\n",
    "    \n",
    "else:\n",
    "    print('공부를 아예 안했구만?')\n",
    "    print('재시험 치루셈')"
   ]
  },
  {
   "cell_type": "code",
   "execution_count": 10,
   "id": "13e3b76b",
   "metadata": {},
   "outputs": [],
   "source": [
    "# ex. 점수를 입력 받아 학점을 출력하시오 (A,B,C,D,F, 유효하지 않는 점수)"
   ]
  },
  {
   "cell_type": "code",
   "execution_count": 26,
   "id": "a32d296b",
   "metadata": {},
   "outputs": [
    {
     "name": "stdout",
     "output_type": "stream",
     "text": [
      "Enter your score >89\n",
      "B학점\n"
     ]
    }
   ],
   "source": [
    "# 내가 한 것\n",
    "\n",
    "score = int(input('Enter your score >'))\n",
    "if score > 100 or score < 0:\n",
    "    print('정확한 점수를 입력하세요.')\n",
    "elif score >=90:\n",
    "    print('A학점')\n",
    "elif score>=80:\n",
    "    print('B학점')\n",
    "elif score>=70:\n",
    "    print('C학점')\n",
    "elif score>=60:\n",
    "    print('D학점')\n",
    "else:\n",
    "    print('입력하신 점수를 기반하여 당신은 F학점이므로, 재수강하셔야 합니다.')"
   ]
  },
  {
   "cell_type": "code",
   "execution_count": 36,
   "id": "55621df6",
   "metadata": {},
   "outputs": [
    {
     "name": "stdout",
     "output_type": "stream",
     "text": [
      "Enter your score >30\n",
      "입력하신 점수는 30으로 F학점\n"
     ]
    }
   ],
   "source": [
    "#쌤 답안\n",
    "score = int(input('Enter your score >'))\n",
    "if 90 <= score <= 100:\n",
    "    grade = 'A학점'\n",
    "elif 80 <= score <= 90:\n",
    "    grade = 'B학점'    \n",
    "elif 70 <= score <= 80:\n",
    "    grade = 'C학점'   \n",
    "elif 60 <= score <= 70:\n",
    "    grade = 'D학점'   \n",
    "elif 0 <= score <= 60:\n",
    "    grade = 'F학점'   \n",
    "else:\n",
    "    grade = '유효하지 않습니다'\n",
    "print(f\"입력하신 점수는 {score}으로 {grade}\")"
   ]
  },
  {
   "cell_type": "markdown",
   "id": "473f5f40",
   "metadata": {},
   "source": [
    "# 2절 반복문\n",
    "## 2.1 for-in문\n",
    "\n",
    "<b><font size=\"3\" Color=\"red\">형태</font></b>\n",
    "```\n",
    "for 임시변수 in 나열 가능한 자료:  **나열 가능한 자료이기에 list, range, enumerate, tuple 다 가능\n",
    "    반복할 문장1\n",
    "    반복할 문장2\n",
    "else:\n",
    "    나열가능한자료를 다 소요하여 for블록을 다 수행한 후, 최종 한번 실행할 문장들\n",
    "    for문 안의 break를 수행할 경우, else블록을 수행하지 않음.\n",
    "```"
   ]
  },
  {
   "cell_type": "code",
   "execution_count": 40,
   "id": "3ad56c31",
   "metadata": {},
   "outputs": [
    {
     "name": "stdout",
     "output_type": "stream",
     "text": [
      "1\t3\t5\t7\t9\tDONE\n",
      "END\n"
     ]
    }
   ],
   "source": [
    "#break가 없어서 else가 무조건 수행되는 경우\n",
    "\n",
    "for i in range(1, 10, 2):\n",
    "    print(i, end=\"\\t\")\n",
    "else:                             #else를 사용하는 경우는 흔하지 않다.\n",
    "    print('DONE')\n",
    "print('END')\n",
    "    "
   ]
  },
  {
   "cell_type": "code",
   "execution_count": 42,
   "id": "066fc7eb",
   "metadata": {},
   "outputs": [
    {
     "name": "stdout",
     "output_type": "stream",
     "text": [
      "0\t1\t2\t3\t4\tEND\n"
     ]
    }
   ],
   "source": [
    "for i in range(10):   #0부터 9까지 반복이라는 뜻\n",
    "    if i==5:\n",
    "        break #현재 반복문을 빠져나가라는 의미\n",
    "    print(i, end=\"\\t\")\n",
    "else:\n",
    "    print(\"\\nDONE\")\n",
    "print('END')"
   ]
  },
  {
   "cell_type": "code",
   "execution_count": 43,
   "id": "89e98469",
   "metadata": {},
   "outputs": [
    {
     "name": "stdout",
     "output_type": "stream",
     "text": [
      "1~100까지 합은 5050\n"
     ]
    }
   ],
   "source": [
    "# 1~100까지 합을 계산하고 출력하시오(for문). 누적 로직은 반복문에 꼭 나옴 **여기서 왜 else가 쓰이는거지?\n",
    "sum = 0 # 누적변수\n",
    "for i in range(1, 101):\n",
    "    sum += i # sum = sum + i 이거진짜 이해안됨\n",
    "else:\n",
    "    print(\"1~100까지 합은\", sum)"
   ]
  },
  {
   "cell_type": "code",
   "execution_count": 46,
   "id": "d3114fdb",
   "metadata": {},
   "outputs": [
    {
     "name": "stdout",
     "output_type": "stream",
     "text": [
      "1~100까지 짝수들의 합은 2550\n"
     ]
    }
   ],
   "source": [
    "#내가한 것\n",
    "# 1~100까지 짝수들의 합을 계산하고 출력하시오(for문).\n",
    "sum = 0 # 누적변수\n",
    "for i in range(0, 101, 2):\n",
    "    sum += i # sum = sum + i 이거진짜 이해안됨\n",
    "else:\n",
    "    print(\"1~100까지 짝수들의 합은\", sum)"
   ]
  },
  {
   "cell_type": "code",
   "execution_count": 47,
   "id": "13895ebf",
   "metadata": {},
   "outputs": [
    {
     "name": "stdout",
     "output_type": "stream",
     "text": [
      "1~100까지 짝수들의 합은 2550\n"
     ]
    }
   ],
   "source": [
    "#쌤이한 것\n",
    "# 1~100까지 짝수들의 합을 계산하고 출력하시오(for문).\n",
    "sum = 0 # 누적변수\n",
    "for i in range(1, 101):\n",
    "    if i%2==0:\n",
    "        sum += i # sum = sum + i 이거진짜 이해안됨\n",
    "else:\n",
    "    print(\"1~100까지 짝수들의 합은\", sum)"
   ]
  },
  {
   "cell_type": "markdown",
   "id": "8baad7c6",
   "metadata": {},
   "source": [
    "## 2.2 while문\n",
    "DB나 외부로부터 불러들이는 것들에서는 while문을 씀. for문 XX\n",
    "``` **화일문에 괄호 안써야함 ex: while(): XXXXXXXX\n",
    "while 조건:\n",
    "    조건이 True일 경우 반복할 문장들  **하나여도 됨.\n",
    "else:\n",
    "    조건이 False일 경우 한번 실행할 문장들(else구문은 선택사항)\n",
    "    while문 내의 break 수행할 경우 else구문은 실행되지 않음\n",
    "```"
   ]
  },
  {
   "cell_type": "code",
   "execution_count": 48,
   "id": "2b8de47a",
   "metadata": {},
   "outputs": [
    {
     "name": "stdout",
     "output_type": "stream",
     "text": [
      "1~100까지 짝수의 합은 2550\n"
     ]
    }
   ],
   "source": [
    "# 1~100까지 짝수들의 합을 계산하고 출력하시오 (while문)\n",
    "sum = 0 # 누적변수\n",
    "i = 1 # i값 초기화 **초기화작업 필수\n",
    "while i<=100:\n",
    "    if i%2==0:\n",
    "        sum += i # sum = sum + i\n",
    "    i += 1\n",
    "else:\n",
    "    print('1~100까지 짝수의 합은', sum)"
   ]
  },
  {
   "cell_type": "code",
   "execution_count": 66,
   "id": "59ede855",
   "metadata": {},
   "outputs": [],
   "source": [
    "#랜덤 출력에 관해\n",
    "\n",
    "\n",
    "# random.seed(3)\n",
    "# (random.random()) # 0 이상 1 미만의 실수 난수\n",
    "# random.randint(1, 45) # 1~45의 정수 난수\n",
    "# random.choice([\"남자\", \"여자\"]) # 남자나 여자를 선택(가짓 수에 따른 동일한 확률 일치)\n",
    "# random.choices([\"사기꾼\", \"비사기꾼\"], weights=[0.1, 0.9])  #확률을 지정할 수 있음 "
   ]
  },
  {
   "cell_type": "code",
   "execution_count": 56,
   "id": "3f00129c",
   "metadata": {},
   "outputs": [
    {
     "data": {
      "text/plain": [
       "42"
      ]
     },
     "execution_count": 56,
     "metadata": {},
     "output_type": "execute_result"
    }
   ],
   "source": [
    "random.randint(1, 45)"
   ]
  },
  {
   "cell_type": "code",
   "execution_count": 57,
   "id": "ec32f76e",
   "metadata": {},
   "outputs": [
    {
     "data": {
      "text/plain": [
       "35"
      ]
     },
     "execution_count": 57,
     "metadata": {},
     "output_type": "execute_result"
    }
   ],
   "source": [
    "random.randint(1, 45)"
   ]
  },
  {
   "cell_type": "code",
   "execution_count": 88,
   "id": "ce562c93",
   "metadata": {},
   "outputs": [
    {
     "name": "stdout",
     "output_type": "stream",
     "text": [
      "첫번째 정수는?10\n",
      "두번째 정수는?0\n",
      "0~10까지 홀수들의 누적합은 25\n"
     ]
    }
   ],
   "source": [
    "# quiz.1 사용자에게 두 정수를 입력받아, 작은 수부터 큰 수까지 홀수의 합을 누적해서 출력\n",
    "# 두 정수를 입력해야만 한다.\n",
    "\n",
    "first = int(input('첫번째 정수는?'))\n",
    "second = int(input('두번째 정수는?'))\n",
    "# fitst가 더 큰 값일 경우, 계산을 위해 first에 작은 값이 오도록\n",
    "if first > second:\n",
    "    first, second = second, first #동시에 다중 변수 할당\n",
    "# 누적\n",
    "sum = 0\n",
    "for i in range (first, second+1): #3번째 매개변수 안 썼으니 1이 자동으로 들어간 것\n",
    "    if i%2: # (i%2==1) | *i%2==-1): 구식방식\n",
    "        sum += i\n",
    "print(\"{}~{}까지 홀수들의 누적합은 {}\".format(first, second, sum))"
   ]
  },
  {
   "cell_type": "code",
   "execution_count": 84,
   "id": "889a7c8d",
   "metadata": {},
   "outputs": [
    {
     "data": {
      "text/plain": [
       "[]"
      ]
     },
     "execution_count": 84,
     "metadata": {},
     "output_type": "execute_result"
    }
   ],
   "source": [
    "list(range(10, 3)) #큰 수부터 작은 수라서 값이 안 나옴"
   ]
  },
  {
   "cell_type": "code",
   "execution_count": 103,
   "id": "3d43af76",
   "metadata": {},
   "outputs": [
    {
     "name": "stdout",
     "output_type": "stream",
     "text": [
      "6번 로또번호 추출함 : [34, 28, 36, 12, 23, 35]\n",
      "정렬 후 : [12, 23, 28, 34, 35, 36]\n"
     ]
    }
   ],
   "source": [
    "# quiz.2 로또번호 6개를 추출 후, 정렬하여 출력\n",
    "\n",
    "import random #임폴트를 넣어야 하는 이유가 뭔가?\n",
    "lotto_lst = [] #추출된 로또번호를 담을 변수 생성\n",
    "cnt = 0 #임의의 수 발생 횟수 cnt는 카운트의 약자\n",
    "while len(lotto_lst) < 6:\n",
    "    temp = random.randint(1, 45) # 임의의 수를 temp로 변수\n",
    "    cnt += 1 #중복 수 여부 체크위해 함.\n",
    "    if temp not in lotto_lst: #not 붙힐경우, False면 True, True면 False로 반대화 됨.\n",
    "        lotto_lst.append(temp)\n",
    "# print(cnt, sorted(lotto_lst))\n",
    "print(\"{}번 로또번호 추출함 : {}\".format(cnt, lotto_lst))\n",
    "#정렬 알고리즘\n",
    "for i in range(len(lotto_lst)-1):\n",
    "    for j in range(i+1, len(lotto_lst)):\n",
    "        if lotto_lst[i] > lotto_lst[j]:\n",
    "            lotto_lst[i], lotto_lst[j] = lotto_lst[j], lotto_lst[i]\n",
    "print(\"정렬 후 :\", lotto_lst)"
   ]
  },
  {
   "cell_type": "code",
   "execution_count": 121,
   "id": "e8b9a5fd",
   "metadata": {},
   "outputs": [
    {
     "data": {
      "text/plain": [
       "[16, 22, 30, 33, 36, 44]"
      ]
     },
     "execution_count": 121,
     "metadata": {},
     "output_type": "execute_result"
    }
   ],
   "source": [
    "# quiz.2(set을 활용한 Easy 변형안)\n",
    "\n",
    "lotto_set = set() # 빈 셋 (빈 튜플을 넣었기에)\n",
    "while len(lotto_set)<6:\n",
    "    lotto_set.add(random.randint(1,45)) #리스트는 어펜드로 추가 셋은 애드로 추가\n",
    "sorted(list(lotto_set))"
   ]
  },
  {
   "cell_type": "code",
   "execution_count": 129,
   "id": "14590648",
   "metadata": {},
   "outputs": [
    {
     "data": {
      "text/plain": [
       "[4, 16, 35, 38, 39, 44]"
      ]
     },
     "execution_count": 129,
     "metadata": {},
     "output_type": "execute_result"
    }
   ],
   "source": [
    "# 1~45 중 6개 뽑아 정렬. 이게 BEST방법. 위에껀 개구림.\n",
    "sorted(random.sample(range(1, 46), 6) )"
   ]
  },
  {
   "cell_type": "markdown",
   "id": "d4710f61",
   "metadata": {},
   "source": [
    "## 2.3 break, continue\n",
    "- break : 현재 반복문 탈출\n",
    "- continue : 수행 중인 반복문을 멈추고 조건 절로 회귀"
   ]
  },
  {
   "cell_type": "code",
   "execution_count": 131,
   "id": "760f6da7",
   "metadata": {},
   "outputs": [
    {
     "name": "stdout",
     "output_type": "stream",
     "text": [
      "1 2 3 4 5 6 7 8 9 10 END\n"
     ]
    }
   ],
   "source": [
    "#일반적인 반복문\n",
    "num = 0\n",
    "while num<10:\n",
    "    num += 1\n",
    "    print(num, end=' ')\n",
    "print('END')"
   ]
  },
  {
   "cell_type": "code",
   "execution_count": 133,
   "id": "fedc8d76",
   "metadata": {},
   "outputs": [
    {
     "name": "stdout",
     "output_type": "stream",
     "text": [
      "1 2 3 4 END\n"
     ]
    }
   ],
   "source": [
    "#break 조건 반복문\n",
    "num = 0\n",
    "while num<10:\n",
    "    num += 1\n",
    "    if num == 5:\n",
    "        break\n",
    "    print(num, end=' ')\n",
    "print('END')"
   ]
  },
  {
   "cell_type": "code",
   "execution_count": 136,
   "id": "9ed2d71e",
   "metadata": {},
   "outputs": [
    {
     "name": "stdout",
     "output_type": "stream",
     "text": [
      "1 2 3 4 6 7 8 9 10 END\n"
     ]
    }
   ],
   "source": [
    "#continues 조건 반복문\n",
    "num = 0\n",
    "while num<10:\n",
    "    num += 1\n",
    "    if num == 5:\n",
    "        continue #num이 5된 상태에서 프린트하지 않음 > 다시 조건절로 돌아가서 5값으로 조건절 다시 진행 > 그러니 5만 없음\n",
    "    print(num, end=' ')\n",
    "print('END')"
   ]
  },
  {
   "cell_type": "code",
   "execution_count": null,
   "id": "aa56fdef",
   "metadata": {},
   "outputs": [],
   "source": [
    "# 숫자 찾기 게임 만들기\n",
    "'''\n",
    "1~100 사이의 정수 맞추기 프로그램\n",
    "(프로그램 안에서 random수가 만들어지고, 그 random수 맞추기)\n",
    "1단계 : 숫자를 못 맞추면 UP/DOWN을 출력하고, 맞추면 축하메세지 뿌리고 프로그램 종료\n",
    "2단계 : 숫자를 못 맞추면 min(0), max(100)를 조정하고, 맞추면 축하메세지 출력하고 종료\n",
    "3단계 : 2단계의 기회를 5회로 제한. 5회의 기회가 지나면 실패메세지 출력하고 종료.\n",
    "        5회 이내에 맞추면 축하메세지 출력하고 종료\n",
    "'''\n"
   ]
  },
  {
   "cell_type": "code",
   "execution_count": 161,
   "id": "16ecf094",
   "metadata": {},
   "outputs": [
    {
     "name": "stdout",
     "output_type": "stream",
     "text": [
      "컴퓨터가 발생한 random 수 : 70\n",
      "1~100 사이의 수를 맞춰 보세요 :20\n",
      "UP↑\n",
      "1~100 사이의 수를 맞춰 보세요 :70\n",
      "축하 축하 맞추셨습니다\n",
      "GOODBYE\n"
     ]
    }
   ],
   "source": [
    "#함께 만들어 본 1단계\n",
    "\n",
    "import random\n",
    "randomNum = random.randint(1,100)\n",
    "print(\"컴퓨터가 발생한 random 수 :\", randomNum)\n",
    "while True:\n",
    "    inputNum = int(input(\"1~100 사이의 수를 맞춰 보세요 :\"))\n",
    "    if (inputNum<1) | (inputNum>100):\n",
    "        print('수의 범위를 벗어났습니다')\n",
    "    elif randomNum < inputNum : \n",
    "        print('DOWN↓')\n",
    "    elif randomNum > inputNum : \n",
    "        print('UP↑')\n",
    "    else:\n",
    "        print(\"축하 축하 맞추셨습니다\")\n",
    "        break\n",
    "print(\"GOODBYE\")"
   ]
  },
  {
   "cell_type": "code",
   "execution_count": 162,
   "id": "d0f6c074",
   "metadata": {},
   "outputs": [
    {
     "name": "stdout",
     "output_type": "stream",
     "text": [
      "컴퓨터가 발생한 random 수 : 94\n",
      "1~100 사이의 수를 맞춰 보세요 :94\n",
      "축하 축하 맞추셨습니다\n",
      "GOODBYE\n"
     ]
    }
   ],
   "source": [
    "#함께 만들어 본 1단계 변형 (break 없이)\n",
    "\n",
    "import random\n",
    "randomNum = random.randint(1,100)\n",
    "print(\"컴퓨터가 발생한 random 수 :\", randomNum)\n",
    "inputNum = -1\n",
    "while randomNum != inputNum:\n",
    "    inputNum = int(input(\"1~100 사이의 수를 맞춰 보세요 :\"))\n",
    "    if (inputNum<1) | (inputNum>100):\n",
    "        print('수의 범위를 벗어났습니다')\n",
    "    elif randomNum < inputNum : \n",
    "        print('DOWN↓')\n",
    "    elif randomNum > inputNum : \n",
    "        print('UP↑')\n",
    "else:\n",
    "    print(\"축하 축하 맞추셨습니다\")\n",
    "print(\"GOODBYE\")"
   ]
  },
  {
   "cell_type": "code",
   "execution_count": 152,
   "id": "969bb476",
   "metadata": {},
   "outputs": [
    {
     "name": "stdout",
     "output_type": "stream",
     "text": [
      "숫자를 맞춰보세요80\n",
      "80보다 DOWN\n"
     ]
    }
   ],
   "source": [
    "a = random.randint(1, 100)\n",
    "first = int(input('숫자를 맞춰보세요'))\n",
    "if a == first:\n",
    "    print(\"정답입니다\")\n",
    "elif a > first:\n",
    "    print(f\"{first}보다 UP\")\n",
    "elif a < first:\n",
    "    print(f\"{first}보다 DOWN\")\n",
    "else:\n",
    "    print(\"땡\")"
   ]
  },
  {
   "cell_type": "markdown",
   "id": "deb469cc",
   "metadata": {},
   "source": [
    "# 3절 중첩루프문(loop = 반복문)\n",
    "(반복문 안의 반복문)"
   ]
  },
  {
   "cell_type": "code",
   "execution_count": 168,
   "id": "9823d062",
   "metadata": {},
   "outputs": [
    {
     "name": "stdout",
     "output_type": "stream",
     "text": [
      "  2단  \t  3단  \t  4단  \t  5단  \t  6단  \t  7단  \t  8단  \t  9단  \t\n",
      "2x1= 2\t3x1= 3\t4x1= 4\t5x1= 5\t6x1= 6\t7x1= 7\t8x1= 8\t9x1= 9\t\n",
      "2x2= 4\t3x2= 6\t4x2= 8\t5x2=10\t6x2=12\t7x2=14\t8x2=16\t9x2=18\t\n",
      "2x3= 6\t3x3= 9\t4x3=12\t5x3=15\t6x3=18\t7x3=21\t8x3=24\t9x3=27\t\n",
      "2x4= 8\t3x4=12\t4x4=16\t5x4=20\t6x4=24\t7x4=28\t8x4=32\t9x4=36\t\n",
      "2x5=10\t3x5=15\t4x5=20\t5x5=25\t6x5=30\t7x5=35\t8x5=40\t9x5=45\t\n",
      "2x6=12\t3x6=18\t4x6=24\t5x6=30\t6x6=36\t7x6=42\t8x6=48\t9x6=54\t\n",
      "2x7=14\t3x7=21\t4x7=28\t5x7=35\t6x7=42\t7x7=49\t8x7=56\t9x7=63\t\n",
      "2x8=16\t3x8=24\t4x8=32\t5x8=40\t6x8=48\t7x8=56\t8x8=64\t9x8=72\t\n",
      "2x9=18\t3x9=27\t4x9=36\t5x9=45\t6x9=54\t7x9=63\t8x9=72\t9x9=81\t\n"
     ]
    }
   ],
   "source": [
    "# 2~9단 구구단 출력\n",
    "for i in range(2, 10):\n",
    "    print(\"{:^6}\".format(str(i)+'단'), end=\"\\t\")\n",
    "print() # 개행\n",
    "for i in range(1, 10):\n",
    "    for j in range(2, 10):\n",
    "        print(\"{}x{}={:2}\".format(j, i, i*j), end=\"\\t\") # {:2} 2자리 기준으로 출력해줘라고 오더한 것.\n",
    "    print() #들여쓰기를 얼마나 하느냐에 따라 노출값이 다른 건 왜?"
   ]
  },
  {
   "cell_type": "code",
   "execution_count": 171,
   "id": "ab47a966",
   "metadata": {},
   "outputs": [
    {
     "name": "stdout",
     "output_type": "stream",
     "text": [
      "0행0열 : 1\t0행1열 : 2\t0행2열 : 3\t0행3열 : 4\t\n",
      "1행0열 : 5\t1행1열 : 6\t1행2열 : 7\t1행3열 : 8\t\n"
     ]
    }
   ],
   "source": [
    "lst_2d = [[1, 2, 3, 4],\n",
    "          [5, 6, 7, 8]]\n",
    "for i in range(len(lst_2d)): #행\n",
    "    for j in range(len(lst_2d[i])): # 열\n",
    "        print(\"{}행{}열 : {}\".format(i, j, lst_2d[i][j]), end=\"\\t\")\n",
    "    print() #개행"
   ]
  },
  {
   "cell_type": "markdown",
   "id": "e5efbdba",
   "metadata": {},
   "source": [
    "# 4절 중첩루프 탈출\n",
    "\n",
    "내부 for문 밖으로 빠져나오는 것"
   ]
  },
  {
   "cell_type": "code",
   "execution_count": 175,
   "id": "3eeff30c",
   "metadata": {},
   "outputs": [
    {
     "name": "stdout",
     "output_type": "stream",
     "text": [
      "0 1\n",
      "0 2\n",
      "a=1, b=1일때 break함\n",
      "2 1\n",
      "a=2, b=2일때 break함\n",
      "DONE\n"
     ]
    }
   ],
   "source": [
    "# 탈출 방법 1. flag 변수 이용\n",
    "for a in range(0, 3): # a=0이거나 1이거나 2일 때 수행\n",
    "    for b in range(1,3): # b=1이거나, b=2일 때 수행\n",
    "        if a==b:\n",
    "            print(\"a={}, b={}일때 break함\".format(a,b))\n",
    "            break\n",
    "        print(a,b)\n",
    "    # break를 만나면 오는 곳\n",
    "print('DONE')"
   ]
  },
  {
   "cell_type": "code",
   "execution_count": 176,
   "id": "b46c3bc0",
   "metadata": {},
   "outputs": [
    {
     "name": "stdout",
     "output_type": "stream",
     "text": [
      "0 1\n",
      "0 2\n",
      "DONE\n"
     ]
    }
   ],
   "source": [
    "flag = False #break를 만나면 True\n",
    "for a in range(0, 3): # a=0이거나 1이거나 2일 때 수행\n",
    "    for b in range(1,3): # b=1이거나, b=2일 때 수행\n",
    "        if a==b:\n",
    "            flag = True\n",
    "            break\n",
    "        print(a,b)\n",
    "    # break를 만나면 오는 곳\n",
    "    if flag:\n",
    "        break\n",
    "print('DONE')"
   ]
  },
  {
   "cell_type": "code",
   "execution_count": 177,
   "id": "a27c9725",
   "metadata": {},
   "outputs": [],
   "source": [
    "# 탈출 방법 2. 예외 처리(Exception) 이용 - 9.29 쯤 할 예정"
   ]
  },
  {
   "cell_type": "markdown",
   "id": "b3caf7e2",
   "metadata": {},
   "source": [
    "# 5절. 연습문제"
   ]
  },
  {
   "cell_type": "code",
   "execution_count": 184,
   "id": "a9ef2458",
   "metadata": {},
   "outputs": [
    {
     "name": "stdout",
     "output_type": "stream",
     "text": [
      "양의 정수를 입력하세요-5\n",
      "inputStr이 정수인지 여부 : False\n"
     ]
    }
   ],
   "source": [
    "inputStr = input('양의 정수를 입력하세요')\n",
    "print('inputStr이 정수인지 여부 :',inputStr.isdigit())"
   ]
  },
  {
   "cell_type": "code",
   "execution_count": 345,
   "id": "766aef3e",
   "metadata": {},
   "outputs": [
    {
     "name": "stdout",
     "output_type": "stream",
     "text": [
      "양의 정수를 입력하세요-2\n",
      "양의 정수를 입력하세요-2\n",
      "양의 정수를 입력하세요-44\n",
      "양의 정수를 입력하세요-1\n",
      "양의 정수를 입력하세요0\n",
      "양의 정수를 입력하세요1ㅣ2\n",
      "양의 정수를 입력하세요1.2\n",
      "양의 정수를 입력하세요4\n",
      "입력하신 양의 정수는 4이고 짝수입니다.\n"
     ]
    }
   ],
   "source": [
    "# Quiz.1 양의 정수를 입력 받아 홀수인지 짝수인지를 판별하는 프로그램을 작성하세요 . 양의 정수가 아니면 숫자를 다시 입력 받아야 합니다\n",
    "inputStr = ''\n",
    "while (inputStr.isdigit()==False) | (inputStr=='0') :\n",
    "    inputStr = input('양의 정수를 입력하세요')\n",
    "inputNum = int(inputStr)\n",
    "even_odd = '홀수' if inputNum%2 else '짝수' #이렇게 쳐야 파이썬 언어다운 깔끔함이다.\n",
    "print(f\"입력하신 양의 정수는 {inputNum}이고 {even_odd}입니다.\")"
   ]
  },
  {
   "cell_type": "code",
   "execution_count": 352,
   "id": "38a95ed5",
   "metadata": {},
   "outputs": [
    {
     "name": "stdout",
     "output_type": "stream",
     "text": [
      " (1) \t (2) \n",
      "*****\t*\n",
      "*****\t**\n",
      "*****\t***\n",
      "*****\t****\n",
      "*****\t*****\n"
     ]
    }
   ],
   "source": [
    "# Quiz.2 중첩 for 문을 이용하여 아래 패턴의 별을 출력하는 프로그램을 작성하세요\n",
    "print(\"{:^5}\\t{:^5}\".format(\"(1)\", \"(2)\"))\n",
    "for i in range(5):\n",
    "    print('*'*5, end='\\t')\n",
    "    for j in range(i+1):\n",
    "        print('*', end='')\n",
    "    print()    "
   ]
  },
  {
   "cell_type": "code",
   "execution_count": 358,
   "id": "1b828902",
   "metadata": {},
   "outputs": [
    {
     "name": "stdout",
     "output_type": "stream",
     "text": [
      "165\n"
     ]
    }
   ],
   "source": [
    "# Quiz.3 다음 코드는 1 부터 30 까지 (30 포함 ) 자연수 중에서 3 의 배수의 총 합을 출력하는 프로그램입니다 . 빈칸의 코드를 완성하시오\n",
    "sum = 0\n",
    "for i in range(1, 31):\n",
    "    if (i%3) == 0:\n",
    "        sum += i\n",
    "    else:\n",
    "        pass\n",
    "print(sum)"
   ]
  },
  {
   "cell_type": "code",
   "execution_count": 295,
   "id": "b529cfd2",
   "metadata": {},
   "outputs": [
    {
     "name": "stdout",
     "output_type": "stream",
     "text": [
      "1 3 5 7 "
     ]
    }
   ],
   "source": [
    "# Quiz.4 다음 코드의 실행결과가 “1 3 5 7 가 되도록 빈칸을 완성하시오\n",
    "num = 0\n",
    "while num <= 8:\n",
    "    if num%2 :\n",
    "        print(num, end=' ')\n",
    "    num += 1"
   ]
  },
  {
   "cell_type": "code",
   "execution_count": 311,
   "id": "1cfa8606",
   "metadata": {},
   "outputs": [
    {
     "name": "stdout",
     "output_type": "stream",
     "text": [
      "1 2 3 \n",
      "4 5 6 7 \n",
      "8 9 \n"
     ]
    }
   ],
   "source": [
    "# Quiz.5 다음 2 차원 리스트의 모든 값을 출력하는 코드입니다 . 빈칸을 완성하시오\n",
    "list2d = [[1, 2, 3], [4, 5, 6, 7], [8, 9]]\n",
    "for row in list2d:\n",
    "    for data in row:\n",
    "        print(data, end=' ')\n",
    "    print()"
   ]
  },
  {
   "cell_type": "code",
   "execution_count": 341,
   "id": "1e37ec00",
   "metadata": {},
   "outputs": [
    {
     "name": "stdout",
     "output_type": "stream",
     "text": [
      "0 apple \n",
      "1 banana\n"
     ]
    }
   ],
   "source": [
    "# Quiz.6 다음 빈칸에 들어갈 함수 이름은\n",
    "colors = {\"red\":'apple ', \"yellow\":'banana'}\n",
    "for i, v in enumerate(colors.values()): #이뉴머레이트로 순번 주고, 밸류값만 출력\n",
    "    print(i,v)"
   ]
  },
  {
   "cell_type": "code",
   "execution_count": 322,
   "id": "c0168e82",
   "metadata": {},
   "outputs": [
    {
     "name": "stdout",
     "output_type": "stream",
     "text": [
      "1 0\n"
     ]
    }
   ],
   "source": [
    "# Quiz.7 다음 코드의 실행결과는 ?  1 0\n",
    "for i in range(0, 2):\n",
    "    for j in range(0,2):\n",
    "        if i == j:\n",
    "            break      # 0 0 일 때 지우니 i가 1일 차례 > 1 0 기록 남기고, 1 1 이라 멈춤. 범주 내 계산 끝\n",
    "        print(i,j)"
   ]
  },
  {
   "cell_type": "code",
   "execution_count": 325,
   "id": "78bdbdcc",
   "metadata": {},
   "outputs": [
    {
     "name": "stdout",
     "output_type": "stream",
     "text": [
      "0 0\n",
      "1 0\n",
      "1 1\n"
     ]
    }
   ],
   "source": [
    "# Quiz.8 다음 코드의 실행 결과로 출력될 수 없는 것은? 2번 0 1\n",
    "for i in range(0, 2):\n",
    "    for j in range(0,2):\n",
    "        print(i, j)\n",
    "        if i == j:\n",
    "             break    \n",
    "\n",
    "# 풀이\n",
    "# 0 0 출력 > 참 종료.  1 0 출력 > 거짓 계속. 1 1 출력 > 참 계산 종료.\n",
    "# 0 1은 0 0 에서 이미 계산 끝으로 가지 않음."
   ]
  },
  {
   "cell_type": "code",
   "execution_count": 361,
   "id": "3b73e875",
   "metadata": {},
   "outputs": [
    {
     "name": "stdout",
     "output_type": "stream",
     "text": [
      "3579\n",
      "3579"
     ]
    }
   ],
   "source": [
    "# Quiz.9 다음 코드의 실행결과는?\n",
    "L = [3, 4, 5, 6, 7, 8, 9, 10]\n",
    "for i, data in enumerate(L):\n",
    "    if i%2 == 0:             #짝수 인덱스가 조건\n",
    "        print(data, end='')  #답마다 줄바꿈없이 띄워쓰기\n",
    "        \n",
    "#참고 print(L[0::2])\n",
    "print() #개행\n",
    "for data in L[0::2]:\n",
    "    print(data, end='')"
   ]
  },
  {
   "cell_type": "code",
   "execution_count": null,
   "id": "69cc0a8e",
   "metadata": {},
   "outputs": [],
   "source": []
  },
  {
   "cell_type": "code",
   "execution_count": null,
   "id": "3a42087a",
   "metadata": {},
   "outputs": [],
   "source": []
  },
  {
   "cell_type": "code",
   "execution_count": null,
   "id": "a91d9a99",
   "metadata": {},
   "outputs": [],
   "source": []
  },
  {
   "cell_type": "code",
   "execution_count": null,
   "id": "905001cb",
   "metadata": {},
   "outputs": [],
   "source": []
  },
  {
   "cell_type": "code",
   "execution_count": null,
   "id": "d2b8b019",
   "metadata": {},
   "outputs": [],
   "source": []
  },
  {
   "cell_type": "code",
   "execution_count": null,
   "id": "7353718b",
   "metadata": {},
   "outputs": [],
   "source": []
  },
  {
   "cell_type": "code",
   "execution_count": null,
   "id": "e7fd64d3",
   "metadata": {},
   "outputs": [],
   "source": []
  },
  {
   "cell_type": "code",
   "execution_count": null,
   "id": "c7716d84",
   "metadata": {},
   "outputs": [],
   "source": []
  }
 ],
 "metadata": {
  "kernelspec": {
   "display_name": "Python 3 (ipykernel)",
   "language": "python",
   "name": "python3"
  },
  "language_info": {
   "codemirror_mode": {
    "name": "ipython",
    "version": 3
   },
   "file_extension": ".py",
   "mimetype": "text/x-python",
   "name": "python",
   "nbconvert_exporter": "python",
   "pygments_lexer": "ipython3",
   "version": "3.10.9"
  },
  "toc": {
   "base_numbering": 1,
   "nav_menu": {},
   "number_sections": false,
   "sideBar": true,
   "skip_h1_title": false,
   "title_cell": "Table of Contents",
   "title_sidebar": "Contents",
   "toc_cell": false,
   "toc_position": {},
   "toc_section_display": true,
   "toc_window_display": true
  }
 },
 "nbformat": 4,
 "nbformat_minor": 5
}
