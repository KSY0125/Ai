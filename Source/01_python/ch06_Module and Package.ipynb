{
 "cells": [
  {
   "cell_type": "code",
   "execution_count": 2,
   "id": "b9a3529e",
   "metadata": {},
   "outputs": [
    {
     "data": {
      "text/html": [
       "\n",
       "<style>\n",
       "div.container{width:90% !important;}\n",
       "div.cell.code_cell.rendered{width:100%;}\n",
       "div.input_prompt{padding:0px;}\n",
       "div.CodeMirror {font-family:Consolas; font-size:12pt;}\n",
       "div.text_cell_render.rendered_html{font-size:12pt;}\n",
       "div.output {font-size:12pt; font-weight:bold;}\n",
       "div.input {font-family:Consolas; font-size:12pt;}\n",
       "div.prompt {min-width:100px;}\n",
       "div#toc-wrapper{padding-top:120px;}\n",
       "div.text_cell_render ul li{font-size:12pt;padding:5px;}\n",
       "table.dataframe{font-size:12px;}\n",
       "</style>\n"
      ],
      "text/plain": [
       "<IPython.core.display.HTML object>"
      ]
     },
     "metadata": {},
     "output_type": "display_data"
    }
   ],
   "source": [
    "from IPython.display import display, HTML\n",
    "display(HTML(\"\"\"\n",
    "<style>\n",
    "div.container{width:90% !important;}\n",
    "div.cell.code_cell.rendered{width:100%;}\n",
    "div.input_prompt{padding:0px;}\n",
    "div.CodeMirror {font-family:Consolas; font-size:12pt;}\n",
    "div.text_cell_render.rendered_html{font-size:12pt;}\n",
    "div.output {font-size:12pt; font-weight:bold;}\n",
    "div.input {font-family:Consolas; font-size:12pt;}\n",
    "div.prompt {min-width:100px;}\n",
    "div#toc-wrapper{padding-top:120px;}\n",
    "div.text_cell_render ul li{font-size:12pt;padding:5px;}\n",
    "table.dataframe{font-size:12px;}\n",
    "</style>\n",
    "\"\"\"))"
   ]
  },
  {
   "cell_type": "markdown",
   "id": "6048a07f",
   "metadata": {},
   "source": [
    "<b><font size=\"6\" Color=\"red\">ch06. \"Module and Package\"</font></b>\n",
    "# 1절. 파이썬 표준 모듈 사용\n",
    "- 모듈 : 함수, 변수, 클래스 등을 담고 있는 파이썬 코드 파일 (확장자는 .py)\n",
    "  > 람다식을 정의해도 함수다\n",
    "- 사이트(python.org)에서 '파이썬'을 설치하면, 표준 모듈 200여 개가 파이썬 인터프리터와 함께 install 됨.(ex: sys, re, datetime....)\n",
    "- miniconda(아나콘다에서 만듦)는 python.org 버전보다 조금 더 많은 모듈을 install\n",
    "- Anaconda는 1500여 개 이상의 패키지를 install. > 비기너에게는 아나콘다가 편하다. \"200명 이상 기업체에서는 라이센스 구매 필수\""
   ]
  },
  {
   "cell_type": "code",
   "execution_count": 3,
   "id": "9a2fc3bf",
   "metadata": {},
   "outputs": [
    {
     "name": "stdout",
     "output_type": "stream",
     "text": [
      "<class 'module'>\n",
      "Thu Sep 25 17:56:49 2025\n"
     ]
    }
   ],
   "source": [
    "# 모듈 사용법1 : import 모듈명\n",
    "import time\n",
    "print(type(time)) #모듈인지 함수인지 모르겠을 때 체크가능\n",
    "print(time.ctime())  #모듈 내 함수, 클래스, 변수를 \"모듈명.함수명()\"으로 사용. #ctime = 현재 시간 노출키"
   ]
  },
  {
   "cell_type": "code",
   "execution_count": 4,
   "id": "a7bf64af",
   "metadata": {},
   "outputs": [
    {
     "data": {
      "text/plain": [
       "1758790609.789412"
      ]
     },
     "execution_count": 4,
     "metadata": {},
     "output_type": "execute_result"
    }
   ],
   "source": [
    "time.time()\n",
    "#1970년 1월 1일이 기준값이고. 그 시점 부터 지금까지 경과 시간을 '초'기준으로 쟀을 때임. + 1970.1.1에 유닉스가 만들어짐. 유닉스타임이라고도 함."
   ]
  },
  {
   "cell_type": "code",
   "execution_count": 5,
   "id": "65100ccd",
   "metadata": {},
   "outputs": [],
   "source": [
    "starttime = time.time()"
   ]
  },
  {
   "cell_type": "code",
   "execution_count": 6,
   "id": "68232fc2",
   "metadata": {},
   "outputs": [],
   "source": [
    "del time #time 모듈을 메모리에서 unload 시킴."
   ]
  },
  {
   "cell_type": "code",
   "execution_count": 7,
   "id": "3fc6f3b3",
   "metadata": {},
   "outputs": [],
   "source": [
    "# 모듈 사용법2 : from 모듈(A) import 함수|클래스|변수(B) >> 모듈(A) 안의 (B)만 Load\n",
    "#              from 패키지(A) import 모듈(B) >> 패키지(A) 안의 모듈(B) Load\n",
    "#              from 패키지(A).모듈명(B) import 함수명(C) >> 패키지(A)안의.모듈(B)안의 C함수만 Load"
   ]
  },
  {
   "cell_type": "code",
   "execution_count": 8,
   "id": "5da9e63f",
   "metadata": {},
   "outputs": [
    {
     "data": {
      "text/plain": [
       "'Thu Sep 25 17:56:49 2025'"
      ]
     },
     "execution_count": 8,
     "metadata": {},
     "output_type": "execute_result"
    }
   ],
   "source": [
    "#사용법 예시\n",
    "from time import ctime, time #소환\n",
    "ctime()"
   ]
  },
  {
   "cell_type": "code",
   "execution_count": 9,
   "id": "ac10607c",
   "metadata": {},
   "outputs": [
    {
     "data": {
      "text/plain": [
       "1758790609.867382"
      ]
     },
     "execution_count": 9,
     "metadata": {},
     "output_type": "execute_result"
    }
   ],
   "source": [
    "time() #후사용"
   ]
  },
  {
   "cell_type": "code",
   "execution_count": 10,
   "id": "eafc3956",
   "metadata": {},
   "outputs": [],
   "source": [
    "del ctime, time #무필요 제거"
   ]
  },
  {
   "cell_type": "code",
   "execution_count": 11,
   "id": "869793ed",
   "metadata": {},
   "outputs": [
    {
     "name": "stdout",
     "output_type": "stream",
     "text": [
      "CPU times: total: 0 ns\n",
      "Wall time: 0 ns\n"
     ]
    },
    {
     "data": {
      "text/plain": [
       "()"
      ]
     },
     "execution_count": 11,
     "metadata": {},
     "output_type": "execute_result"
    }
   ],
   "source": [
    "time() #사라져서 안 나옴"
   ]
  },
  {
   "cell_type": "code",
   "execution_count": 12,
   "id": "828ccb7b",
   "metadata": {},
   "outputs": [],
   "source": [
    "# 모듈 사용법3 : import A as B - A모듈을 B이름으로 메모리 Load"
   ]
  },
  {
   "cell_type": "code",
   "execution_count": 13,
   "id": "2be38148",
   "metadata": {},
   "outputs": [
    {
     "data": {
      "text/plain": [
       "'Thu Sep 25 17:56:49 2025'"
      ]
     },
     "execution_count": 13,
     "metadata": {},
     "output_type": "execute_result"
    }
   ],
   "source": [
    "import time as t #별명 부여 !\n",
    "t.ctime()"
   ]
  },
  {
   "cell_type": "code",
   "execution_count": 14,
   "id": "f6e66ab0",
   "metadata": {},
   "outputs": [
    {
     "data": {
      "text/plain": [
       "1758790609.9458094"
      ]
     },
     "execution_count": 14,
     "metadata": {},
     "output_type": "execute_result"
    }
   ],
   "source": [
    "t.time()"
   ]
  },
  {
   "cell_type": "code",
   "execution_count": 15,
   "id": "01220342",
   "metadata": {},
   "outputs": [],
   "source": [
    "del t #무필요 제거"
   ]
  },
  {
   "cell_type": "code",
   "execution_count": 16,
   "id": "7cea14a0",
   "metadata": {},
   "outputs": [],
   "source": [
    "# 모듈 사용법4 : from A import B as C - A패키지 안의 B모듈을 C이름으로 Load\n",
    "#              from 모듈명 import 함수명 as 별칭 \n",
    "#              from 패키지명 import 모듈명 as 별칭 \n",
    "#              from 패키지명.모듈명 import 함수명 as 별칭 "
   ]
  },
  {
   "cell_type": "code",
   "execution_count": 17,
   "id": "0b2dfe89",
   "metadata": {},
   "outputs": [],
   "source": [
    "from time import ctime as ct, time as ti"
   ]
  },
  {
   "cell_type": "code",
   "execution_count": 18,
   "id": "87cd2612",
   "metadata": {},
   "outputs": [
    {
     "data": {
      "text/plain": [
       "1758790610.0051768"
      ]
     },
     "execution_count": 18,
     "metadata": {},
     "output_type": "execute_result"
    }
   ],
   "source": [
    "ti()"
   ]
  },
  {
   "cell_type": "code",
   "execution_count": 19,
   "id": "526dd69d",
   "metadata": {},
   "outputs": [
    {
     "data": {
      "text/plain": [
       "'Thu Sep 25 17:56:50 2025'"
      ]
     },
     "execution_count": 19,
     "metadata": {},
     "output_type": "execute_result"
    }
   ],
   "source": [
    "ct()"
   ]
  },
  {
   "cell_type": "code",
   "execution_count": 20,
   "id": "9c2ad9a5",
   "metadata": {},
   "outputs": [
    {
     "name": "stdout",
     "output_type": "stream",
     "text": [
      "['_STRUCT_TM_ITEMS', '__doc__', '__loader__', '__name__', '__package__', '__spec__', 'altzone', 'asctime', 'ctime', 'daylight', 'get_clock_info', 'gmtime', 'localtime', 'mktime', 'monotonic', 'monotonic_ns', 'perf_counter', 'perf_counter_ns', 'process_time', 'process_time_ns', 'sleep', 'strftime', 'strptime', 'struct_time', 'thread_time', 'thread_time_ns', 'time', 'time_ns', 'timezone', 'tzname']\n"
     ]
    }
   ],
   "source": [
    "import time\n",
    "print(dir(time)) # time내의 함수, 변스, 클래스 등이 list로 출력 > 사용가능한 것들 확인 가능 # 꼭 import하고 해야 함."
   ]
  },
  {
   "cell_type": "markdown",
   "id": "cf3e6dde",
   "metadata": {},
   "source": [
    "# 2절. 사용자 정의 모듈\n",
    "- 함수나 클래스 등을 파이썬 파일에 저장해서 모듈을 만들고 재사용할 수 있음\n",
    "- 모듈을 가져오는 순서 (1) 표준모듈 (2) sys.path변수에 저장된 경로"
   ]
  },
  {
   "cell_type": "code",
   "execution_count": 21,
   "id": "072d844b",
   "metadata": {},
   "outputs": [
    {
     "name": "stdout",
     "output_type": "stream",
     "text": [
      "['C:\\\\Ai\\\\Source\\\\01_python', 'C:\\\\Users\\\\Admin\\\\anaconda3\\\\python310.zip', 'C:\\\\Users\\\\Admin\\\\anaconda3\\\\DLLs', 'C:\\\\Users\\\\Admin\\\\anaconda3\\\\lib', 'C:\\\\Users\\\\Admin\\\\anaconda3', '', 'C:\\\\Users\\\\Admin\\\\anaconda3\\\\lib\\\\site-packages', 'C:\\\\Users\\\\Admin\\\\anaconda3\\\\lib\\\\site-packages\\\\win32', 'C:\\\\Users\\\\Admin\\\\anaconda3\\\\lib\\\\site-packages\\\\win32\\\\lib', 'C:\\\\Users\\\\Admin\\\\anaconda3\\\\lib\\\\site-packages\\\\Pythonwin', 'C:\\\\Ai\\\\Source\\\\pylib', 'C:\\\\Ai\\\\Source\\\\pylib']\n"
     ]
    }
   ],
   "source": [
    "#외부 py파일 불러오는 방법\n",
    "import sys\n",
    "# sys.path.pop() # 맨 끝 index 데이터 제거\n",
    "sys.path.append(r'C:\\Ai\\Source\\pylib')\n",
    "print(sys.path) #경로를 보여줌. #지정 폴더 내에 파이썬 파일이 있기에 임포트되는 거임."
   ]
  },
  {
   "cell_type": "code",
   "execution_count": 22,
   "id": "4a8862b1",
   "metadata": {},
   "outputs": [
    {
     "data": {
      "text/plain": [
       "[0, 1, 1, 2, 3, 5, 8]"
      ]
     },
     "execution_count": 22,
     "metadata": {},
     "output_type": "execute_result"
    }
   ],
   "source": [
    "import fibonacci\n",
    "fibonacci.fibonacci(10)"
   ]
  },
  {
   "cell_type": "code",
   "execution_count": 23,
   "id": "1bd7fd6a",
   "metadata": {},
   "outputs": [
    {
     "name": "stdout",
     "output_type": "stream",
     "text": [
      "0 1 1 2 3 5 8 13 \n"
     ]
    }
   ],
   "source": [
    "fibonacci.fibonacci_print(20)"
   ]
  },
  {
   "cell_type": "code",
   "execution_count": 24,
   "id": "02971cbd",
   "metadata": {},
   "outputs": [
    {
     "data": {
      "text/plain": [
       "[0, 1, 1, 2, 3, 5, 8]"
      ]
     },
     "execution_count": 24,
     "metadata": {},
     "output_type": "execute_result"
    }
   ],
   "source": [
    "del fibonacci\n",
    "import fibonacci as fi\n",
    "fi.fibonacci(10)"
   ]
  },
  {
   "cell_type": "code",
   "execution_count": 25,
   "id": "936eca53",
   "metadata": {},
   "outputs": [
    {
     "data": {
      "text/plain": [
       "[0, 1, 1, 2, 3, 5, 8]"
      ]
     },
     "execution_count": 25,
     "metadata": {},
     "output_type": "execute_result"
    }
   ],
   "source": [
    "from fibonacci import fibonacci as fibo, fibonacci_print as fibo_p\n",
    "# from fibonacci import fibonacci as fibo, \n",
    "# from fibonacci import fibonacci_print as fibo_p **위의 명령어는 2,3열의 명령어를 합친것과 같다.\n",
    "fibo(10)"
   ]
  },
  {
   "cell_type": "code",
   "execution_count": 26,
   "id": "c4658e4d",
   "metadata": {},
   "outputs": [
    {
     "name": "stdout",
     "output_type": "stream",
     "text": [
      "0 1 1 2 3 5 8 13 21 34 \n"
     ]
    }
   ],
   "source": [
    "fibo_p(50)"
   ]
  },
  {
   "cell_type": "markdown",
   "id": "6259a722",
   "metadata": {},
   "source": [
    "# 3절. 패키지\n",
    "- 모듈이 들어있는 폴더(`__init__.py`) > 이 파일은 항상 생긴다. 이게 있어야 패키지로 인식함 > 파일 이름 오류나면 import 에러남\n",
    "- 상위를 로드하면 하위패키지는 로드 안되지만, 하위를 로드하면 상위가 모두 로드된다."
   ]
  },
  {
   "cell_type": "code",
   "execution_count": 1,
   "id": "7ac99c10",
   "metadata": {},
   "outputs": [
    {
     "data": {
      "text/plain": [
       "['C:\\\\Ai\\\\Source\\\\01_python',\n",
       " 'C:\\\\Users\\\\Admin\\\\anaconda3\\\\python310.zip',\n",
       " 'C:\\\\Users\\\\Admin\\\\anaconda3\\\\DLLs',\n",
       " 'C:\\\\Users\\\\Admin\\\\anaconda3\\\\lib',\n",
       " 'C:\\\\Users\\\\Admin\\\\anaconda3',\n",
       " '',\n",
       " 'C:\\\\Users\\\\Admin\\\\anaconda3\\\\lib\\\\site-packages',\n",
       " 'C:\\\\Users\\\\Admin\\\\anaconda3\\\\lib\\\\site-packages\\\\win32',\n",
       " 'C:\\\\Users\\\\Admin\\\\anaconda3\\\\lib\\\\site-packages\\\\win32\\\\lib',\n",
       " 'C:\\\\Users\\\\Admin\\\\anaconda3\\\\lib\\\\site-packages\\\\Pythonwin',\n",
       " 'C:\\\\Ai\\\\Source\\\\pylib']"
      ]
     },
     "execution_count": 1,
     "metadata": {},
     "output_type": "execute_result"
    }
   ],
   "source": [
    "import sys\n",
    "sys.path.append(r'C:\\Ai\\Source\\pylib')\n",
    "sys.path #불러오는 경로 확인"
   ]
  },
  {
   "cell_type": "code",
   "execution_count": 28,
   "id": "84dadbb8",
   "metadata": {},
   "outputs": [
    {
     "name": "stdout",
     "output_type": "stream",
     "text": [
      "sample_pac 패키지를 로드했어요\n"
     ]
    }
   ],
   "source": [
    "# 상위패키지를 import한다고 하위패키지가 import되진 않음. 6장 16p 참조\n",
    "import sample_pac"
   ]
  },
  {
   "cell_type": "code",
   "execution_count": 29,
   "id": "e39ec16a",
   "metadata": {},
   "outputs": [
    {
     "name": "stdout",
     "output_type": "stream",
     "text": [
      "sample_pac안의 test()입니다\n"
     ]
    }
   ],
   "source": [
    "sample_pac.test()"
   ]
  },
  {
   "cell_type": "code",
   "execution_count": 30,
   "id": "e6cef128",
   "metadata": {},
   "outputs": [
    {
     "name": "stdout",
     "output_type": "stream",
     "text": [
      "sample_pac.ab 패키지 로드\n"
     ]
    }
   ],
   "source": [
    "import sample_pac.ab #ab/__init__.py 가 실행된 거임 / < 폴더경로 의미하는 거"
   ]
  },
  {
   "cell_type": "code",
   "execution_count": 3,
   "id": "1aa5e064",
   "metadata": {},
   "outputs": [
    {
     "ename": "ImportError",
     "evalue": "cannot import name 'hello' from 'sample_pac.ab' (C:\\Ai\\Source\\pylib\\sample_pac\\ab\\__init__.py)",
     "output_type": "error",
     "traceback": [
      "\u001b[1;31m---------------------------------------------------------------------------\u001b[0m",
      "\u001b[1;31mImportError\u001b[0m                               Traceback (most recent call last)",
      "Cell \u001b[1;32mIn[3], line 1\u001b[0m\n\u001b[1;32m----> 1\u001b[0m \u001b[38;5;28;01mfrom\u001b[39;00m \u001b[38;5;21;01msample_pac\u001b[39;00m\u001b[38;5;21;01m.\u001b[39;00m\u001b[38;5;21;01mab\u001b[39;00m \u001b[38;5;28;01mimport\u001b[39;00m hello \u001b[38;5;66;03m# __init__.py의  __all__ 속성만 load\u001b[39;00m\n\u001b[0;32m      2\u001b[0m hello()\n",
      "\u001b[1;31mImportError\u001b[0m: cannot import name 'hello' from 'sample_pac.ab' (C:\\Ai\\Source\\pylib\\sample_pac\\ab\\__init__.py)"
     ]
    }
   ],
   "source": [
    "from sample_pac.ab import hello # __init__.py의  __all__ 속성만 load\n",
    "hello()"
   ]
  },
  {
   "cell_type": "code",
   "execution_count": 4,
   "id": "4e1cdc8f",
   "metadata": {},
   "outputs": [
    {
     "ename": "NameError",
     "evalue": "name 'b' is not defined",
     "output_type": "error",
     "traceback": [
      "\u001b[1;31m---------------------------------------------------------------------------\u001b[0m",
      "\u001b[1;31mNameError\u001b[0m                                 Traceback (most recent call last)",
      "Cell \u001b[1;32mIn[4], line 1\u001b[0m\n\u001b[1;32m----> 1\u001b[0m \u001b[43mb\u001b[49m\u001b[38;5;241m.\u001b[39mworld()\n",
      "\u001b[1;31mNameError\u001b[0m: name 'b' is not defined"
     ]
    }
   ],
   "source": [
    "b.world()"
   ]
  },
  {
   "cell_type": "code",
   "execution_count": 7,
   "id": "43e0db8f",
   "metadata": {},
   "outputs": [
    {
     "ename": "NameError",
     "evalue": "name 'b' is not defined",
     "output_type": "error",
     "traceback": [
      "\u001b[1;31m---------------------------------------------------------------------------\u001b[0m",
      "\u001b[1;31mNameError\u001b[0m                                 Traceback (most recent call last)",
      "Cell \u001b[1;32mIn[7], line 2\u001b[0m\n\u001b[0;32m      1\u001b[0m \u001b[38;5;28;01mfrom\u001b[39;00m \u001b[38;5;21;01msample_pac\u001b[39;00m\u001b[38;5;21;01m.\u001b[39;00m\u001b[38;5;21;01mab\u001b[39;00m\u001b[38;5;21;01m.\u001b[39;00m\u001b[38;5;21;01mb\u001b[39;00m \u001b[38;5;28;01mimport\u001b[39;00m world\n\u001b[1;32m----> 2\u001b[0m \u001b[43mb\u001b[49m\u001b[38;5;241m.\u001b[39mworld()\n",
      "\u001b[1;31mNameError\u001b[0m: name 'b' is not defined"
     ]
    }
   ],
   "source": [
    "from sample_pac.ab.b import world\n",
    "b.world()"
   ]
  },
  {
   "cell_type": "code",
   "execution_count": 6,
   "id": "d0251986",
   "metadata": {},
   "outputs": [
    {
     "ename": "ImportError",
     "evalue": "cannot import name 'c' from 'sample_pac.ab' (C:\\Ai\\Source\\pylib\\sample_pac\\ab\\__init__.py)",
     "output_type": "error",
     "traceback": [
      "\u001b[1;31m---------------------------------------------------------------------------\u001b[0m",
      "\u001b[1;31mImportError\u001b[0m                               Traceback (most recent call last)",
      "Cell \u001b[1;32mIn[6], line 1\u001b[0m\n\u001b[1;32m----> 1\u001b[0m \u001b[38;5;28;01mfrom\u001b[39;00m \u001b[38;5;21;01msample_pac\u001b[39;00m\u001b[38;5;21;01m.\u001b[39;00m\u001b[38;5;21;01mab\u001b[39;00m \u001b[38;5;28;01mimport\u001b[39;00m c\n\u001b[0;32m      2\u001b[0m nice()\n",
      "\u001b[1;31mImportError\u001b[0m: cannot import name 'c' from 'sample_pac.ab' (C:\\Ai\\Source\\pylib\\sample_pac\\ab\\__init__.py)"
     ]
    }
   ],
   "source": [
    "from sample_pac.ab import c\n",
    "nice()"
   ]
  },
  {
   "cell_type": "code",
   "execution_count": null,
   "id": "eade6c20",
   "metadata": {},
   "outputs": [],
   "source": []
  },
  {
   "cell_type": "code",
   "execution_count": null,
   "id": "11765c72",
   "metadata": {},
   "outputs": [],
   "source": []
  },
  {
   "cell_type": "code",
   "execution_count": null,
   "id": "5c57473e",
   "metadata": {},
   "outputs": [],
   "source": []
  },
  {
   "cell_type": "code",
   "execution_count": null,
   "id": "ea5a543a",
   "metadata": {},
   "outputs": [],
   "source": []
  },
  {
   "cell_type": "code",
   "execution_count": null,
   "id": "024f242a",
   "metadata": {},
   "outputs": [],
   "source": []
  },
  {
   "cell_type": "code",
   "execution_count": null,
   "id": "d08dcb6c",
   "metadata": {},
   "outputs": [],
   "source": []
  },
  {
   "cell_type": "code",
   "execution_count": null,
   "id": "e75ede83",
   "metadata": {},
   "outputs": [],
   "source": []
  },
  {
   "cell_type": "code",
   "execution_count": null,
   "id": "aacee4de",
   "metadata": {},
   "outputs": [],
   "source": []
  },
  {
   "cell_type": "code",
   "execution_count": null,
   "id": "f1a78a8a",
   "metadata": {},
   "outputs": [],
   "source": []
  },
  {
   "cell_type": "code",
   "execution_count": null,
   "id": "60f42daa",
   "metadata": {},
   "outputs": [],
   "source": []
  },
  {
   "cell_type": "code",
   "execution_count": null,
   "id": "b96d83aa",
   "metadata": {},
   "outputs": [],
   "source": []
  },
  {
   "cell_type": "code",
   "execution_count": null,
   "id": "3e6ca419",
   "metadata": {},
   "outputs": [],
   "source": []
  },
  {
   "cell_type": "code",
   "execution_count": null,
   "id": "b87dc52d",
   "metadata": {},
   "outputs": [],
   "source": []
  }
 ],
 "metadata": {
  "kernelspec": {
   "display_name": "Python 3 (ipykernel)",
   "language": "python",
   "name": "python3"
  },
  "language_info": {
   "codemirror_mode": {
    "name": "ipython",
    "version": 3
   },
   "file_extension": ".py",
   "mimetype": "text/x-python",
   "name": "python",
   "nbconvert_exporter": "python",
   "pygments_lexer": "ipython3",
   "version": "3.10.9"
  },
  "toc": {
   "base_numbering": 1,
   "nav_menu": {},
   "number_sections": false,
   "sideBar": true,
   "skip_h1_title": false,
   "title_cell": "Table of Contents",
   "title_sidebar": "Contents",
   "toc_cell": false,
   "toc_position": {},
   "toc_section_display": true,
   "toc_window_display": false
  }
 },
 "nbformat": 4,
 "nbformat_minor": 5
}
